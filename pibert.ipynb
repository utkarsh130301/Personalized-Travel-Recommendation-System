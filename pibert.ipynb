{
 "cells": [
  {
   "cell_type": "code",
   "execution_count": null,
   "id": "0887e3ca-7ea1-4e9d-b6e5-3d8db543abb9",
   "metadata": {},
   "outputs": [],
   "source": [
    "import torch\n",
    "from transformers import BertTokenizer, BertModel\n",
    "import pandas as pd\n",
    "import os\n"
   ]
  },
  {
   "cell_type": "code",
   "execution_count": null,
   "id": "3984dc63-4ff5-4e35-adde-dfcfc705f161",
   "metadata": {},
   "outputs": [],
   "source": [
    "# Load pre-trained BERT model and tokenizer\n",
    "tokenizer = BertTokenizer.from_pretrained('bert-base-uncased')\n",
    "model = BertModel.from_pretrained('bert-base-uncased')\n"
   ]
  },
  {
   "cell_type": "code",
   "execution_count": 4,
   "id": "5565d616-5b05-466e-80a2-561e74ad3418",
   "metadata": {},
   "outputs": [
    {
     "name": "stdout",
     "output_type": "stream",
     "text": [
      "L53: reading poi file:  Data/POI-Delh.csv\n",
      "[[1, 21, 12, 11, 9], [18, 25, 16, 1, 11, 12], [9, 7, 18, 12, 11], [25, 1, 11, 12, 19], [18, 25, 7, 9], [6, 26, 5, 10], [7, 18, 25, 12, 11], [25, 5, 1, 21], [25, 16, 12, 11, 1], [16, 12, 1, 11], [25, 3, 23, 19], [18, 25, 1, 12, 11], [18, 25, 12, 11, 21]]\n",
      "{'Architectural': 0, 'Building': 1, 'Museum': 2, 'Park': 3, 'Precinct': 4, 'Religious': 5}\n",
      "{0: 'Architectural', 1: 'Building', 2: 'Museum', 3: 'Park', 4: 'Precinct', 5: 'Religious'}\n",
      "['Architectural', 'Building', 'Museum', 'Park', 'Precinct', 'Religious']\n",
      "\n",
      " theme2num :  {'Architectural': 0, 'Building': 1, 'Museum': 2, 'Park': 3, 'Precinct': 4, 'Religious': 5}\n",
      "\n",
      " num2theme :  {0: 'Architectural', 1: 'Building', 2: 'Museum', 3: 'Park', 4: 'Precinct', 5: 'Religious'}\n",
      "\n",
      " poi2theme :  {np.int64(1): 'Building', np.int64(2): 'Building', np.int64(3): 'Building', np.int64(4): 'Park', np.int64(5): 'Park', np.int64(6): 'Architectural', np.int64(7): 'Architectural', np.int64(8): 'Architectural', np.int64(9): 'Precinct', np.int64(10): 'Architectural', np.int64(11): 'Architectural', np.int64(12): 'Architectural', np.int64(13): 'Architectural', np.int64(14): 'Religious', np.int64(15): 'Religious', np.int64(16): 'Religious', np.int64(17): 'Religious', np.int64(18): 'Religious', np.int64(19): 'Religious', np.int64(20): 'Religious', np.int64(21): 'Museum', np.int64(22): 'Museum', np.int64(23): 'Architectural', np.int64(24): 'Religious', np.int64(25): 'Park', np.int64(26): 'Park'}\n",
      "[1, 21]\n",
      "[1, 21, 12]\n",
      "[1, 21, 12, 11]\n",
      "[1, 21, 12, 11, 9]\n",
      "[21, 12]\n",
      "[21, 12, 11]\n",
      "[21, 12, 11, 9]\n",
      "[12, 11]\n",
      "[12, 11, 9]\n",
      "[11, 9]\n",
      "[18, 25]\n",
      "[18, 25, 16]\n",
      "[18, 25, 16, 1]\n",
      "[18, 25, 16, 1, 11]\n",
      "[18, 25, 16, 1, 11, 12]\n",
      "[25, 16]\n",
      "[25, 16, 1]\n",
      "[25, 16, 1, 11]\n",
      "[25, 16, 1, 11, 12]\n",
      "[16, 1]\n",
      "[16, 1, 11]\n",
      "[16, 1, 11, 12]\n",
      "[1, 11]\n",
      "[1, 11, 12]\n",
      "[11, 12]\n",
      "[9, 7]\n",
      "[9, 7, 18]\n",
      "[9, 7, 18, 12]\n",
      "[9, 7, 18, 12, 11]\n",
      "[7, 18]\n",
      "[7, 18, 12]\n",
      "[7, 18, 12, 11]\n",
      "[18, 12]\n",
      "[18, 12, 11]\n",
      "[12, 11]\n",
      "[25, 1]\n",
      "[25, 1, 11]\n",
      "[25, 1, 11, 12]\n",
      "[25, 1, 11, 12, 19]\n",
      "[1, 11]\n",
      "[1, 11, 12]\n",
      "[1, 11, 12, 19]\n",
      "[11, 12]\n",
      "[11, 12, 19]\n",
      "[12, 19]\n",
      "[18, 25]\n",
      "[18, 25, 7]\n",
      "[18, 25, 7, 9]\n",
      "[25, 7]\n",
      "[25, 7, 9]\n",
      "[7, 9]\n",
      "[6, 26]\n",
      "[6, 26, 5]\n",
      "[6, 26, 5, 10]\n",
      "[26, 5]\n",
      "[26, 5, 10]\n",
      "[5, 10]\n",
      "[7, 18]\n",
      "[7, 18, 25]\n",
      "[7, 18, 25, 12]\n",
      "[7, 18, 25, 12, 11]\n",
      "[18, 25]\n",
      "[18, 25, 12]\n",
      "[18, 25, 12, 11]\n",
      "[25, 12]\n",
      "[25, 12, 11]\n",
      "[12, 11]\n",
      "[25, 5]\n",
      "[25, 5, 1]\n",
      "[25, 5, 1, 21]\n",
      "[5, 1]\n",
      "[5, 1, 21]\n",
      "[1, 21]\n",
      "[25, 16]\n",
      "[25, 16, 12]\n",
      "[25, 16, 12, 11]\n",
      "[25, 16, 12, 11, 1]\n",
      "[16, 12]\n",
      "[16, 12, 11]\n",
      "[16, 12, 11, 1]\n",
      "[12, 11]\n",
      "[12, 11, 1]\n",
      "[11, 1]\n",
      "[16, 12]\n",
      "[16, 12, 1]\n",
      "[16, 12, 1, 11]\n",
      "[12, 1]\n",
      "[12, 1, 11]\n",
      "[1, 11]\n",
      "[25, 3]\n",
      "[25, 3, 23]\n",
      "[25, 3, 23, 19]\n",
      "[3, 23]\n",
      "[3, 23, 19]\n",
      "[23, 19]\n",
      "[18, 25]\n",
      "[18, 25, 1]\n",
      "[18, 25, 1, 12]\n",
      "[18, 25, 1, 12, 11]\n",
      "[25, 1]\n",
      "[25, 1, 12]\n",
      "[25, 1, 12, 11]\n",
      "[1, 12]\n",
      "[1, 12, 11]\n",
      "[12, 11]\n",
      "[18, 25]\n",
      "[18, 25, 12]\n",
      "[18, 25, 12, 11]\n",
      "[18, 25, 12, 11, 21]\n",
      "[25, 12]\n",
      "[25, 12, 11]\n",
      "[25, 12, 11, 21]\n",
      "[12, 11]\n",
      "[12, 11, 21]\n",
      "[11, 21]\n",
      "items :  [1, 21]\n",
      "items :  2\n",
      "\n",
      " items:  [1, 21]\n",
      "   listA:  []\n",
      "  trainItem ,  1\n",
      "items :  [1, 21, 12]\n",
      "items :  3\n",
      "\n",
      " items:  [1, 21, 12]\n",
      "   listA:  [1]\n",
      "  trainItem ,  21\n",
      "items :  [1, 21, 12, 11]\n",
      "items :  4\n",
      "\n",
      " items:  [1, 21, 12, 11]\n",
      "   listA:  [1, 21]\n",
      "  trainItem ,  12\n",
      "items :  [1, 21, 12, 11, 9]\n",
      "items :  5\n",
      "\n",
      " items:  [1, 21, 12, 11, 9]\n",
      "   listA:  [1, 21, 12]\n",
      "  trainItem ,  11\n",
      "items :  [21, 12]\n",
      "items :  2\n",
      "\n",
      " items:  [21, 12]\n",
      "   listA:  []\n",
      "  trainItem ,  21\n",
      "items :  [21, 12, 11]\n",
      "items :  3\n",
      "\n",
      " items:  [21, 12, 11]\n",
      "   listA:  [21]\n",
      "  trainItem ,  12\n",
      "items :  [21, 12, 11, 9]\n",
      "items :  4\n",
      "\n",
      " items:  [21, 12, 11, 9]\n",
      "   listA:  [21, 12]\n",
      "  trainItem ,  11\n",
      "items :  [12, 11]\n",
      "items :  2\n",
      "\n",
      " items:  [12, 11]\n",
      "   listA:  []\n",
      "  trainItem ,  12\n",
      "items :  [12, 11, 9]\n",
      "items :  3\n",
      "\n",
      " items:  [12, 11, 9]\n",
      "   listA:  [12]\n",
      "  trainItem ,  11\n",
      "items :  [11, 9]\n",
      "items :  2\n",
      "\n",
      " items:  [11, 9]\n",
      "   listA:  []\n",
      "  trainItem ,  11\n",
      "items :  [18, 25]\n",
      "items :  2\n",
      "\n",
      " items:  [18, 25]\n",
      "   listA:  []\n",
      "  trainItem ,  18\n",
      "items :  [18, 25, 16]\n",
      "items :  3\n",
      "\n",
      " items:  [18, 25, 16]\n",
      "   listA:  [18]\n",
      "  trainItem ,  25\n",
      "items :  [18, 25, 16, 1]\n",
      "items :  4\n",
      "\n",
      " items:  [18, 25, 16, 1]\n",
      "   listA:  [18, 25]\n",
      "  trainItem ,  16\n",
      "items :  [18, 25, 16, 1, 11]\n",
      "items :  5\n",
      "\n",
      " items:  [18, 25, 16, 1, 11]\n",
      "   listA:  [18, 25, 16]\n",
      "  trainItem ,  1\n",
      "items :  [18, 25, 16, 1, 11, 12]\n",
      "items :  6\n",
      "\n",
      " items:  [18, 25, 16, 1, 11, 12]\n",
      "   listA:  [18, 25, 16, 1]\n",
      "  trainItem ,  11\n",
      "items :  [25, 16]\n",
      "items :  2\n",
      "\n",
      " items:  [25, 16]\n",
      "   listA:  []\n",
      "  trainItem ,  25\n",
      "items :  [25, 16, 1]\n",
      "items :  3\n",
      "\n",
      " items:  [25, 16, 1]\n",
      "   listA:  [25]\n",
      "  trainItem ,  16\n",
      "items :  [25, 16, 1, 11]\n",
      "items :  4\n",
      "\n",
      " items:  [25, 16, 1, 11]\n",
      "   listA:  [25, 16]\n",
      "  trainItem ,  1\n",
      "items :  [25, 16, 1, 11, 12]\n",
      "items :  5\n",
      "\n",
      " items:  [25, 16, 1, 11, 12]\n",
      "   listA:  [25, 16, 1]\n",
      "  trainItem ,  11\n",
      "items :  [16, 1]\n",
      "items :  2\n",
      "\n",
      " items:  [16, 1]\n",
      "   listA:  []\n",
      "  trainItem ,  16\n",
      "items :  [16, 1, 11]\n",
      "items :  3\n",
      "\n",
      " items:  [16, 1, 11]\n",
      "   listA:  [16]\n",
      "  trainItem ,  1\n",
      "items :  [16, 1, 11, 12]\n",
      "items :  4\n",
      "\n",
      " items:  [16, 1, 11, 12]\n",
      "   listA:  [16, 1]\n",
      "  trainItem ,  11\n",
      "items :  [1, 11]\n",
      "items :  2\n",
      "\n",
      " items:  [1, 11]\n",
      "   listA:  []\n",
      "  trainItem ,  1\n",
      "items :  [1, 11, 12]\n",
      "items :  3\n",
      "\n",
      " items:  [1, 11, 12]\n",
      "   listA:  [1]\n",
      "  trainItem ,  11\n",
      "items :  [11, 12]\n",
      "items :  2\n",
      "\n",
      " items:  [11, 12]\n",
      "   listA:  []\n",
      "  trainItem ,  11\n",
      "items :  [9, 7]\n",
      "items :  2\n",
      "\n",
      " items:  [9, 7]\n",
      "   listA:  []\n",
      "  trainItem ,  9\n",
      "items :  [9, 7, 18]\n",
      "items :  3\n",
      "\n",
      " items:  [9, 7, 18]\n",
      "   listA:  [9]\n",
      "  trainItem ,  7\n",
      "items :  [9, 7, 18, 12]\n",
      "items :  4\n",
      "\n",
      " items:  [9, 7, 18, 12]\n",
      "   listA:  [9, 7]\n",
      "  trainItem ,  18\n",
      "items :  [9, 7, 18, 12, 11]\n",
      "items :  5\n",
      "\n",
      " items:  [9, 7, 18, 12, 11]\n",
      "   listA:  [9, 7, 18]\n",
      "  trainItem ,  12\n",
      "items :  [7, 18]\n",
      "items :  2\n",
      "\n",
      " items:  [7, 18]\n",
      "   listA:  []\n",
      "  trainItem ,  7\n",
      "items :  [7, 18, 12]\n",
      "items :  3\n",
      "\n",
      " items:  [7, 18, 12]\n",
      "   listA:  [7]\n",
      "  trainItem ,  18\n",
      "items :  [7, 18, 12, 11]\n",
      "items :  4\n",
      "\n",
      " items:  [7, 18, 12, 11]\n",
      "   listA:  [7, 18]\n",
      "  trainItem ,  12\n",
      "items :  [18, 12]\n",
      "items :  2\n",
      "\n",
      " items:  [18, 12]\n",
      "   listA:  []\n",
      "  trainItem ,  18\n",
      "items :  [18, 12, 11]\n",
      "items :  3\n",
      "\n",
      " items:  [18, 12, 11]\n",
      "   listA:  [18]\n",
      "  trainItem ,  12\n",
      "items :  [12, 11]\n",
      "items :  2\n",
      "\n",
      " items:  [12, 11]\n",
      "   listA:  []\n",
      "  trainItem ,  12\n",
      "items :  [25, 1]\n",
      "items :  2\n",
      "\n",
      " items:  [25, 1]\n",
      "   listA:  []\n",
      "  trainItem ,  25\n",
      "items :  [25, 1, 11]\n",
      "items :  3\n",
      "\n",
      " items:  [25, 1, 11]\n",
      "   listA:  [25]\n",
      "  trainItem ,  1\n",
      "items :  [25, 1, 11, 12]\n",
      "items :  4\n",
      "\n",
      " items:  [25, 1, 11, 12]\n",
      "   listA:  [25, 1]\n",
      "  trainItem ,  11\n",
      "items :  [25, 1, 11, 12, 19]\n",
      "items :  5\n",
      "\n",
      " items:  [25, 1, 11, 12, 19]\n",
      "   listA:  [25, 1, 11]\n",
      "  trainItem ,  12\n",
      "items :  [1, 11]\n",
      "items :  2\n",
      "\n",
      " items:  [1, 11]\n",
      "   listA:  []\n",
      "  trainItem ,  1\n",
      "items :  [1, 11, 12]\n",
      "items :  3\n",
      "\n",
      " items:  [1, 11, 12]\n",
      "   listA:  [1]\n",
      "  trainItem ,  11\n",
      "items :  [1, 11, 12, 19]\n",
      "items :  4\n",
      "\n",
      " items:  [1, 11, 12, 19]\n",
      "   listA:  [1, 11]\n",
      "  trainItem ,  12\n",
      "items :  [11, 12]\n",
      "items :  2\n",
      "\n",
      " items:  [11, 12]\n",
      "   listA:  []\n",
      "  trainItem ,  11\n",
      "items :  [11, 12, 19]\n",
      "items :  3\n",
      "\n",
      " items:  [11, 12, 19]\n",
      "   listA:  [11]\n",
      "  trainItem ,  12\n",
      "items :  [12, 19]\n",
      "items :  2\n",
      "\n",
      " items:  [12, 19]\n",
      "   listA:  []\n",
      "  trainItem ,  12\n",
      "items :  [18, 25]\n",
      "items :  2\n",
      "\n",
      " items:  [18, 25]\n",
      "   listA:  []\n",
      "  trainItem ,  18\n",
      "items :  [18, 25, 7]\n",
      "items :  3\n",
      "\n",
      " items:  [18, 25, 7]\n",
      "   listA:  [18]\n",
      "  trainItem ,  25\n",
      "items :  [18, 25, 7, 9]\n",
      "items :  4\n",
      "\n",
      " items:  [18, 25, 7, 9]\n",
      "   listA:  [18, 25]\n",
      "  trainItem ,  7\n",
      "items :  [25, 7]\n",
      "items :  2\n",
      "\n",
      " items:  [25, 7]\n",
      "   listA:  []\n",
      "  trainItem ,  25\n",
      "items :  [25, 7, 9]\n",
      "items :  3\n",
      "\n",
      " items:  [25, 7, 9]\n",
      "   listA:  [25]\n",
      "  trainItem ,  7\n",
      "items :  [7, 9]\n",
      "items :  2\n",
      "\n",
      " items:  [7, 9]\n",
      "   listA:  []\n",
      "  trainItem ,  7\n",
      "items :  [6, 26]\n",
      "items :  2\n",
      "\n",
      " items:  [6, 26]\n",
      "   listA:  []\n",
      "  trainItem ,  6\n",
      "items :  [6, 26, 5]\n",
      "items :  3\n",
      "\n",
      " items:  [6, 26, 5]\n",
      "   listA:  [6]\n",
      "  trainItem ,  26\n",
      "items :  [6, 26, 5, 10]\n",
      "items :  4\n",
      "\n",
      " items:  [6, 26, 5, 10]\n",
      "   listA:  [6, 26]\n",
      "  trainItem ,  5\n",
      "items :  [26, 5]\n",
      "items :  2\n",
      "\n",
      " items:  [26, 5]\n",
      "   listA:  []\n",
      "  trainItem ,  26\n",
      "items :  [26, 5, 10]\n",
      "items :  3\n",
      "\n",
      " items:  [26, 5, 10]\n",
      "   listA:  [26]\n",
      "  trainItem ,  5\n",
      "items :  [5, 10]\n",
      "items :  2\n",
      "\n",
      " items:  [5, 10]\n",
      "   listA:  []\n",
      "  trainItem ,  5\n",
      "items :  [7, 18]\n",
      "items :  2\n",
      "\n",
      " items:  [7, 18]\n",
      "   listA:  []\n",
      "  trainItem ,  7\n",
      "items :  [7, 18, 25]\n",
      "items :  3\n",
      "\n",
      " items:  [7, 18, 25]\n",
      "   listA:  [7]\n",
      "  trainItem ,  18\n",
      "items :  [7, 18, 25, 12]\n",
      "items :  4\n",
      "\n",
      " items:  [7, 18, 25, 12]\n",
      "   listA:  [7, 18]\n",
      "  trainItem ,  25\n",
      "items :  [7, 18, 25, 12, 11]\n",
      "items :  5\n",
      "\n",
      " items:  [7, 18, 25, 12, 11]\n",
      "   listA:  [7, 18, 25]\n",
      "  trainItem ,  12\n",
      "items :  [18, 25]\n",
      "items :  2\n",
      "\n",
      " items:  [18, 25]\n",
      "   listA:  []\n",
      "  trainItem ,  18\n",
      "items :  [18, 25, 12]\n",
      "items :  3\n",
      "\n",
      " items:  [18, 25, 12]\n",
      "   listA:  [18]\n",
      "  trainItem ,  25\n",
      "items :  [18, 25, 12, 11]\n",
      "items :  4\n",
      "\n",
      " items:  [18, 25, 12, 11]\n",
      "   listA:  [18, 25]\n",
      "  trainItem ,  12\n",
      "items :  [25, 12]\n",
      "items :  2\n",
      "\n",
      " items:  [25, 12]\n",
      "   listA:  []\n",
      "  trainItem ,  25\n",
      "items :  [25, 12, 11]\n",
      "items :  3\n",
      "\n",
      " items:  [25, 12, 11]\n",
      "   listA:  [25]\n",
      "  trainItem ,  12\n",
      "items :  [12, 11]\n",
      "items :  2\n",
      "\n",
      " items:  [12, 11]\n",
      "   listA:  []\n",
      "  trainItem ,  12\n",
      "items :  [25, 5]\n",
      "items :  2\n",
      "\n",
      " items:  [25, 5]\n",
      "   listA:  []\n",
      "  trainItem ,  25\n",
      "items :  [25, 5, 1]\n",
      "items :  3\n",
      "\n",
      " items:  [25, 5, 1]\n",
      "   listA:  [25]\n",
      "  trainItem ,  5\n",
      "items :  [25, 5, 1, 21]\n",
      "items :  4\n",
      "\n",
      " items:  [25, 5, 1, 21]\n",
      "   listA:  [25, 5]\n",
      "  trainItem ,  1\n",
      "items :  [5, 1]\n",
      "items :  2\n",
      "\n",
      " items:  [5, 1]\n",
      "   listA:  []\n",
      "  trainItem ,  5\n",
      "items :  [5, 1, 21]\n",
      "items :  3\n",
      "\n",
      " items:  [5, 1, 21]\n",
      "   listA:  [5]\n",
      "  trainItem ,  1\n",
      "items :  [1, 21]\n",
      "items :  2\n",
      "\n",
      " items:  [1, 21]\n",
      "   listA:  []\n",
      "  trainItem ,  1\n",
      "items :  [25, 16]\n",
      "items :  2\n",
      "\n",
      " items:  [25, 16]\n",
      "   listA:  []\n",
      "  trainItem ,  25\n",
      "items :  [25, 16, 12]\n",
      "items :  3\n",
      "\n",
      " items:  [25, 16, 12]\n",
      "   listA:  [25]\n",
      "  trainItem ,  16\n",
      "items :  [25, 16, 12, 11]\n",
      "items :  4\n",
      "\n",
      " items:  [25, 16, 12, 11]\n",
      "   listA:  [25, 16]\n",
      "  trainItem ,  12\n",
      "items :  [25, 16, 12, 11, 1]\n",
      "items :  5\n",
      "\n",
      " items:  [25, 16, 12, 11, 1]\n",
      "   listA:  [25, 16, 12]\n",
      "  trainItem ,  11\n",
      "items :  [16, 12]\n",
      "items :  2\n",
      "\n",
      " items:  [16, 12]\n",
      "   listA:  []\n",
      "  trainItem ,  16\n",
      "items :  [16, 12, 11]\n",
      "items :  3\n",
      "\n",
      " items:  [16, 12, 11]\n",
      "   listA:  [16]\n",
      "  trainItem ,  12\n",
      "items :  [16, 12, 11, 1]\n",
      "items :  4\n",
      "\n",
      " items:  [16, 12, 11, 1]\n",
      "   listA:  [16, 12]\n",
      "  trainItem ,  11\n",
      "items :  [12, 11]\n",
      "items :  2\n",
      "\n",
      " items:  [12, 11]\n",
      "   listA:  []\n",
      "  trainItem ,  12\n",
      "items :  [12, 11, 1]\n",
      "items :  3\n",
      "\n",
      " items:  [12, 11, 1]\n",
      "   listA:  [12]\n",
      "  trainItem ,  11\n",
      "items :  [11, 1]\n",
      "items :  2\n",
      "\n",
      " items:  [11, 1]\n",
      "   listA:  []\n",
      "  trainItem ,  11\n",
      "items :  [16, 12]\n",
      "items :  2\n",
      "\n",
      " items:  [16, 12]\n",
      "   listA:  []\n",
      "  trainItem ,  16\n",
      "items :  [16, 12, 1]\n",
      "items :  3\n",
      "\n",
      " items:  [16, 12, 1]\n",
      "   listA:  [16]\n",
      "  trainItem ,  12\n",
      "items :  [16, 12, 1, 11]\n",
      "items :  4\n",
      "\n",
      " items:  [16, 12, 1, 11]\n",
      "   listA:  [16, 12]\n",
      "  trainItem ,  1\n",
      "items :  [12, 1]\n",
      "items :  2\n",
      "\n",
      " items:  [12, 1]\n",
      "   listA:  []\n",
      "  trainItem ,  12\n",
      "items :  [12, 1, 11]\n",
      "items :  3\n",
      "\n",
      " items:  [12, 1, 11]\n",
      "   listA:  [12]\n",
      "  trainItem ,  1\n",
      "items :  [1, 11]\n",
      "items :  2\n",
      "\n",
      " items:  [1, 11]\n",
      "   listA:  []\n",
      "  trainItem ,  1\n",
      "items :  [25, 3]\n",
      "items :  2\n",
      "\n",
      " items:  [25, 3]\n",
      "   listA:  []\n",
      "  trainItem ,  25\n",
      "items :  [25, 3, 23]\n",
      "items :  3\n",
      "\n",
      " items:  [25, 3, 23]\n",
      "   listA:  [25]\n",
      "  trainItem ,  3\n",
      "items :  [25, 3, 23, 19]\n",
      "items :  4\n",
      "\n",
      " items:  [25, 3, 23, 19]\n",
      "   listA:  [25, 3]\n",
      "  trainItem ,  23\n",
      "items :  [3, 23]\n",
      "items :  2\n",
      "\n",
      " items:  [3, 23]\n",
      "   listA:  []\n",
      "  trainItem ,  3\n",
      "items :  [3, 23, 19]\n",
      "items :  3\n",
      "\n",
      " items:  [3, 23, 19]\n",
      "   listA:  [3]\n",
      "  trainItem ,  23\n",
      "items :  [23, 19]\n",
      "items :  2\n",
      "\n",
      " items:  [23, 19]\n",
      "   listA:  []\n",
      "  trainItem ,  23\n",
      "items :  [18, 25]\n",
      "items :  2\n",
      "\n",
      " items:  [18, 25]\n",
      "   listA:  []\n",
      "  trainItem ,  18\n",
      "items :  [18, 25, 1]\n",
      "items :  3\n",
      "\n",
      " items:  [18, 25, 1]\n",
      "   listA:  [18]\n",
      "  trainItem ,  25\n",
      "items :  [18, 25, 1, 12]\n",
      "items :  4\n",
      "\n",
      " items:  [18, 25, 1, 12]\n",
      "   listA:  [18, 25]\n",
      "  trainItem ,  1\n",
      "items :  [18, 25, 1, 12, 11]\n",
      "items :  5\n",
      "\n",
      " items:  [18, 25, 1, 12, 11]\n",
      "   listA:  [18, 25, 1]\n",
      "  trainItem ,  12\n",
      "items :  [25, 1]\n",
      "items :  2\n",
      "\n",
      " items:  [25, 1]\n",
      "   listA:  []\n",
      "  trainItem ,  25\n",
      "items :  [25, 1, 12]\n",
      "items :  3\n",
      "\n",
      " items:  [25, 1, 12]\n",
      "   listA:  [25]\n",
      "  trainItem ,  1\n",
      "items :  [25, 1, 12, 11]\n",
      "items :  4\n",
      "\n",
      " items:  [25, 1, 12, 11]\n",
      "   listA:  [25, 1]\n",
      "  trainItem ,  12\n",
      "items :  [1, 12]\n",
      "items :  2\n",
      "\n",
      " items:  [1, 12]\n",
      "   listA:  []\n",
      "  trainItem ,  1\n",
      "items :  [1, 12, 11]\n",
      "items :  3\n",
      "\n",
      " items:  [1, 12, 11]\n",
      "   listA:  [1]\n",
      "  trainItem ,  12\n",
      "items :  [12, 11]\n",
      "items :  2\n",
      "\n",
      " items:  [12, 11]\n",
      "   listA:  []\n",
      "  trainItem ,  12\n",
      "items :  [18, 25]\n",
      "items :  2\n",
      "\n",
      " items:  [18, 25]\n",
      "   listA:  []\n",
      "  trainItem ,  18\n",
      "items :  [18, 25, 12]\n",
      "items :  3\n",
      "\n",
      " items:  [18, 25, 12]\n",
      "   listA:  [18]\n",
      "  trainItem ,  25\n",
      "items :  [18, 25, 12, 11]\n",
      "items :  4\n",
      "\n",
      " items:  [18, 25, 12, 11]\n",
      "   listA:  [18, 25]\n",
      "  trainItem ,  12\n",
      "items :  [18, 25, 12, 11, 21]\n",
      "items :  5\n",
      "\n",
      " items:  [18, 25, 12, 11, 21]\n",
      "   listA:  [18, 25, 12]\n",
      "  trainItem ,  11\n",
      "items :  [25, 12]\n",
      "items :  2\n",
      "\n",
      " items:  [25, 12]\n",
      "   listA:  []\n",
      "  trainItem ,  25\n",
      "items :  [25, 12, 11]\n",
      "items :  3\n",
      "\n",
      " items:  [25, 12, 11]\n",
      "   listA:  [25]\n",
      "  trainItem ,  12\n",
      "items :  [25, 12, 11, 21]\n",
      "items :  4\n",
      "\n",
      " items:  [25, 12, 11, 21]\n",
      "   listA:  [25, 12]\n",
      "  trainItem ,  11\n",
      "items :  [12, 11]\n",
      "items :  2\n",
      "\n",
      " items:  [12, 11]\n",
      "   listA:  []\n",
      "  trainItem ,  12\n",
      "items :  [12, 11, 21]\n",
      "items :  3\n",
      "\n",
      " items:  [12, 11, 21]\n",
      "   listA:  [12]\n",
      "  trainItem ,  11\n",
      "items :  [11, 21]\n",
      "items :  2\n",
      "\n",
      " items:  [11, 21]\n",
      "   listA:  []\n",
      "  trainItem ,  11\n",
      " debug: array            :  [[1, 21], [1, 21, 12], [1, 21, 12, 11], [1, 21, 12, 11, 9], [21, 12], [21, 12, 11], [21, 12, 11, 9], [12, 11], [12, 11, 9], [11, 9], [18, 25], [18, 25, 16], [18, 25, 16, 1], [18, 25, 16, 1, 11], [18, 25, 16, 1, 11, 12], [25, 16], [25, 16, 1], [25, 16, 1, 11], [25, 16, 1, 11, 12], [16, 1], [16, 1, 11], [16, 1, 11, 12], [1, 11], [1, 11, 12], [11, 12], [9, 7], [9, 7, 18], [9, 7, 18, 12], [9, 7, 18, 12, 11], [7, 18], [7, 18, 12], [7, 18, 12, 11], [18, 12], [18, 12, 11], [12, 11], [25, 1], [25, 1, 11], [25, 1, 11, 12], [25, 1, 11, 12, 19], [1, 11], [1, 11, 12], [1, 11, 12, 19], [11, 12], [11, 12, 19], [12, 19], [18, 25], [18, 25, 7], [18, 25, 7, 9], [25, 7], [25, 7, 9], [7, 9], [6, 26], [6, 26, 5], [6, 26, 5, 10], [26, 5], [26, 5, 10], [5, 10], [7, 18], [7, 18, 25], [7, 18, 25, 12], [7, 18, 25, 12, 11], [18, 25], [18, 25, 12], [18, 25, 12, 11], [25, 12], [25, 12, 11], [12, 11], [25, 5], [25, 5, 1], [25, 5, 1, 21], [5, 1], [5, 1, 21], [1, 21], [25, 16], [25, 16, 12], [25, 16, 12, 11], [25, 16, 12, 11, 1], [16, 12], [16, 12, 11], [16, 12, 11, 1], [12, 11], [12, 11, 1], [11, 1], [16, 12], [16, 12, 1], [16, 12, 1, 11], [12, 1], [12, 1, 11], [1, 11], [25, 3], [25, 3, 23], [25, 3, 23, 19], [3, 23], [3, 23, 19], [23, 19], [18, 25], [18, 25, 1], [18, 25, 1, 12], [18, 25, 1, 12, 11], [25, 1], [25, 1, 12], [25, 1, 12, 11], [1, 12], [1, 12, 11], [12, 11], [18, 25], [18, 25, 12], [18, 25, 12, 11], [18, 25, 12, 11, 21], [25, 12], [25, 12, 11], [25, 12, 11, 21], [12, 11], [12, 11, 21], [11, 21]]\n",
      " debug: train_data :  [['', 1], ['1', 21], ['1,21', 12], ['1,21,12', 11], ['', 21], ['21', 12], ['21,12', 11], ['', 12], ['12', 11], ['', 11], ['', 18], ['18', 25], ['18,25', 16], ['18,25,16', 1], ['18,25,16,1', 11], ['', 25], ['25', 16], ['25,16', 1], ['25,16,1', 11], ['', 16], ['16', 1], ['16,1', 11], ['', 1], ['1', 11], ['', 11], ['', 9], ['9', 7], ['9,7', 18], ['9,7,18', 12], ['', 7], ['7', 18], ['7,18', 12], ['', 18], ['18', 12], ['', 12], ['', 25], ['25', 1], ['25,1', 11], ['25,1,11', 12], ['', 1], ['1', 11], ['1,11', 12], ['', 11], ['11', 12], ['', 12], ['', 18], ['18', 25], ['18,25', 7], ['', 25], ['25', 7], ['', 7], ['', 6], ['6', 26], ['6,26', 5], ['', 26], ['26', 5], ['', 5], ['', 7], ['7', 18], ['7,18', 25], ['7,18,25', 12], ['', 18], ['18', 25], ['18,25', 12], ['', 25], ['25', 12], ['', 12], ['', 25], ['25', 5], ['25,5', 1], ['', 5], ['5', 1], ['', 1], ['', 25], ['25', 16], ['25,16', 12], ['25,16,12', 11], ['', 16], ['16', 12], ['16,12', 11], ['', 12], ['12', 11], ['', 11], ['', 16], ['16', 12], ['16,12', 1], ['', 12], ['12', 1], ['', 1], ['', 25], ['25', 3], ['25,3', 23], ['', 3], ['3', 23], ['', 23], ['', 18], ['18', 25], ['18,25', 1], ['18,25,1', 12], ['', 25], ['25', 1], ['25,1', 12], ['', 1], ['1', 12], ['', 12], ['', 18], ['18', 25], ['18,25', 12], ['18,25,12', 11], ['', 25], ['25', 12], ['25,12', 11], ['', 12], ['12', 11], ['', 11]]\n",
      "['', 1]\n",
      "['1', 21]\n",
      "['1,21', 12]\n",
      "['1,21,12', 11]\n",
      "['', 21]\n",
      "['21', 12]\n",
      "['21,12', 11]\n",
      "['', 12]\n",
      "['12', 11]\n",
      "['', 11]\n",
      "['', 18]\n",
      "['18', 25]\n",
      "['18,25', 16]\n",
      "['18,25,16', 1]\n",
      "['18,25,16,1', 11]\n",
      "['', 25]\n",
      "['25', 16]\n",
      "['25,16', 1]\n",
      "['25,16,1', 11]\n",
      "['', 16]\n",
      "['16', 1]\n",
      "['16,1', 11]\n",
      "['', 1]\n",
      "['1', 11]\n",
      "['', 11]\n",
      "['', 9]\n",
      "['9', 7]\n",
      "['9,7', 18]\n",
      "['9,7,18', 12]\n",
      "['', 7]\n",
      "['7', 18]\n",
      "['7,18', 12]\n",
      "['', 18]\n",
      "['18', 12]\n",
      "['', 12]\n",
      "['', 25]\n",
      "['25', 1]\n",
      "['25,1', 11]\n",
      "['25,1,11', 12]\n",
      "['', 1]\n",
      "['1', 11]\n",
      "['1,11', 12]\n",
      "['', 11]\n",
      "['11', 12]\n",
      "['', 12]\n",
      "['', 18]\n",
      "['18', 25]\n",
      "['18,25', 7]\n",
      "['', 25]\n",
      "['25', 7]\n",
      "['', 7]\n",
      "['', 6]\n",
      "['6', 26]\n",
      "['6,26', 5]\n",
      "['', 26]\n",
      "['26', 5]\n",
      "['', 5]\n",
      "['', 7]\n",
      "['7', 18]\n",
      "['7,18', 25]\n",
      "['7,18,25', 12]\n",
      "['', 18]\n",
      "['18', 25]\n",
      "['18,25', 12]\n",
      "['', 25]\n",
      "['25', 12]\n",
      "['', 12]\n",
      "['', 25]\n",
      "['25', 5]\n",
      "['25,5', 1]\n",
      "['', 5]\n",
      "['5', 1]\n",
      "['', 1]\n",
      "['', 25]\n",
      "['25', 16]\n",
      "['25,16', 12]\n",
      "['25,16,12', 11]\n",
      "['', 16]\n",
      "['16', 12]\n",
      "['16,12', 11]\n",
      "['', 12]\n",
      "['12', 11]\n",
      "['', 11]\n",
      "['', 16]\n",
      "['16', 12]\n",
      "['16,12', 1]\n",
      "['', 12]\n",
      "['12', 1]\n",
      "['', 1]\n",
      "['', 25]\n",
      "['25', 3]\n",
      "['25,3', 23]\n",
      "['', 3]\n",
      "['3', 23]\n",
      "['', 23]\n",
      "['', 18]\n",
      "['18', 25]\n",
      "['18,25', 1]\n",
      "['18,25,1', 12]\n",
      "['', 25]\n",
      "['25', 1]\n",
      "['25,1', 12]\n",
      "['', 1]\n",
      "['1', 12]\n",
      "['', 12]\n",
      "['', 18]\n",
      "['18', 25]\n",
      "['18,25', 12]\n",
      "['18,25,12', 11]\n",
      "['', 25]\n",
      "['25', 12]\n",
      "['25,12', 11]\n",
      "['', 12]\n",
      "['12', 11]\n",
      "['', 11]\n",
      "train_df:\n",
      "         pois  nextpoi\n",
      "0                   1\n",
      "1          1       21\n",
      "2       1,21       12\n",
      "3    1,21,12       11\n",
      "4                  21\n",
      "..       ...      ...\n",
      "110       25       12\n",
      "111    25,12       11\n",
      "112                12\n",
      "113       12       11\n",
      "114                11\n",
      "\n",
      "[115 rows x 2 columns]\n"
     ]
    },
    {
     "name": "stderr",
     "output_type": "stream",
     "text": [
      "Some weights of BertForSequenceClassification were not initialized from the model checkpoint at bert-base-uncased and are newly initialized: ['classifier.bias', 'classifier.weight']\n",
      "You should probably TRAIN this model on a down-stream task to be able to use it for predictions and inference.\n",
      "C:\\Users\\UTKARSH\\OneDrive\\Desktop\\Final year project\\POIBERT_IEEE_Bigdata22-main\\env\\Lib\\site-packages\\simpletransformers\\classification\\classification_model.py:610: UserWarning: Dataframe headers not specified. Falling back to using column 0 as text and column 1 as labels.\n",
      "  warnings.warn(\n"
     ]
    },
    {
     "data": {
      "application/vnd.jupyter.widget-view+json": {
       "model_id": "f83753f54e2546848ab40f77e5e3db62",
       "version_major": 2,
       "version_minor": 0
      },
      "text/plain": [
       "0it [00:00, ?it/s]"
      ]
     },
     "metadata": {},
     "output_type": "display_data"
    },
    {
     "data": {
      "application/vnd.jupyter.widget-view+json": {
       "model_id": "e5f27323e4a7465fb49c97fde218b675",
       "version_major": 2,
       "version_minor": 0
      },
      "text/plain": [
       "Epoch:   0%|          | 0/2 [00:00<?, ?it/s]"
      ]
     },
     "metadata": {},
     "output_type": "display_data"
    },
    {
     "data": {
      "application/vnd.jupyter.widget-view+json": {
       "model_id": "6e100b7d539d4f74a65d7cf6d37f285c",
       "version_major": 2,
       "version_minor": 0
      },
      "text/plain": [
       "Running Epoch 1 of 2:   0%|          | 0/15 [00:00<?, ?it/s]"
      ]
     },
     "metadata": {},
     "output_type": "display_data"
    },
    {
     "data": {
      "application/vnd.jupyter.widget-view+json": {
       "model_id": "3e43587679a0488cbab4bc3cb7bb53f7",
       "version_major": 2,
       "version_minor": 0
      },
      "text/plain": [
       "Running Epoch 2 of 2:   0%|          | 0/15 [00:00<?, ?it/s]"
      ]
     },
     "metadata": {},
     "output_type": "display_data"
    },
    {
     "name": "stdout",
     "output_type": "stream",
     "text": [
      "\n",
      "LINE 179, TRAINING MODEL: <simpletransformers.classification.classification_model.ClassificationModel object at 0x000001F51F360680>\n",
      "\n",
      "\n",
      "LINE 180, TRAINING ARGS: ClassificationArgs(adafactor_beta1=None, adafactor_clip_threshold=1.0, adafactor_decay_rate=-0.8, adafactor_eps=(1e-30, 0.001), adafactor_relative_step=True, adafactor_scale_parameter=True, adafactor_warmup_init=True, adam_betas=(0.9, 0.999), adam_epsilon=1e-08, best_model_dir='outputs/best_model', cache_dir='cache_dir/', config={}, cosine_schedule_num_cycles=0.5, custom_layer_parameters=[], custom_parameter_groups=[], dataloader_num_workers=0, do_lower_case=False, dynamic_quantize=False, early_stopping_consider_epochs=False, early_stopping_delta=0.0001, early_stopping_metric='mcc', early_stopping_metric_minimize=False, early_stopping_patience=5, encoding=None, eval_batch_size=100, evaluate_during_training=False, evaluate_during_training_silent=True, evaluate_during_training_steps=10000, evaluate_during_training_verbose=False, evaluate_each_epoch=True, fp16=False, gradient_accumulation_steps=1, learning_rate=4e-05, local_rank=-1, logging_steps=50, loss_type=None, loss_args={}, manual_seed=None, max_grad_norm=1.0, max_seq_length=128, model_name='bert-base-uncased', model_type='bert', multiprocessing_chunksize=-1, n_gpu=1, no_cache=False, no_save=False, not_saved_args=[], num_train_epochs=2, optimizer='AdamW', output_dir='/var/tmp/1004986/seq2seq_output/output_Delh_e2', overwrite_output_dir=True, polynomial_decay_schedule_lr_end=1e-07, polynomial_decay_schedule_power=1.0, process_count=14, quantized_model=False, reprocess_input_data=(True,), save_best_model=True, save_eval_checkpoints=True, save_model_every_epoch=False, save_optimizer_and_scheduler=True, save_steps=-1, scheduler='linear_schedule_with_warmup', silent=False, skip_special_tokens=True, tensorboard_dir=None, thread_count=None, tokenizer_name='bert-base-uncased', tokenizer_type=None, train_batch_size=8, train_custom_parameters_only=False, trust_remote_code=False, use_cached_eval_features=False, use_early_stopping=True, use_hf_datasets=False, use_multiprocessing=True, use_multiprocessing_for_evaluation=True, wandb_kwargs={}, wandb_project=None, warmup_ratio=0.06, warmup_steps=2, weight_decay=0.0, model_class='ClassificationModel', labels_list=[0, 1, 2, 3, 4, 5, 6, 7, 8, 9, 10, 11, 12, 13, 14, 15, 16, 17, 18, 19, 20, 21, 22, 23, 24, 25, 26, 27, 28, 29, 30, 31, 32], labels_map={}, lazy_delimiter='\\t', lazy_labels_column=1, lazy_loading=False, lazy_loading_start_line=1, lazy_text_a_column=None, lazy_text_b_column=None, lazy_text_column=0, onnx=False, regression=False, sliding_window=False, special_tokens_list=[], stride=0.8, tie_value=1)\n",
      "\n",
      "\n",
      "-----------------\n",
      "line 379 bert_test_city[ Delh ] (iter: 0) -- predict_ mask([model], '[19, 25]')\n",
      "LINE 309, model.predict( to_predict=[['19', '25']] ) \n",
      "LINE 315  predseq => [19, 25],  maskpos => 1\n",
      "-- predict_ mask_pos ( <model>, seq= [19, 25], maskpos= 1  )\n",
      "line 240 ... seq: [19, 25]\n",
      "      seq :  [19, 25]\n",
      "LINE 256 -- model.predict( to_predict=['19,[MASK],25'] )\n"
     ]
    },
    {
     "data": {
      "application/vnd.jupyter.widget-view+json": {
       "model_id": "3c535f1e611e413992f67cd8bf183c38",
       "version_major": 2,
       "version_minor": 0
      },
      "text/plain": [
       "0it [00:00, ?it/s]"
      ]
     },
     "metadata": {},
     "output_type": "display_data"
    },
    {
     "data": {
      "application/vnd.jupyter.widget-view+json": {
       "model_id": "8b7fe5e37d9444e09cef1693197e1741",
       "version_major": 2,
       "version_minor": 0
      },
      "text/plain": [
       "  0%|          | 0/1 [00:00<?, ?it/s]"
      ]
     },
     "metadata": {},
     "output_type": "display_data"
    },
    {
     "name": "stdout",
     "output_type": "stream",
     "text": [
      "  seq     -> [19, 25]\n",
      "  amax    -> 12\n",
      "  amaxval -> 0.9205260872840881\n",
      "maskpos   => 1\n",
      "--> predict_ mask_pos (model, '[19, 25]', 1 ) --- [19, 12, 25] \n",
      "LINE 317  result: nextpoi:12 nextval:0.9205260872840881 unmasked_seq:[19, 25]\n",
      "  POSSIBLE: 0.9205260872840881 -> [19, 25] [19, 25]\n",
      "line 381 bert_test_city[ Delh ] (iter: 0) -- predict_ mask([model], '[19, 25]')\n",
      "line 382 nextpoi:12, maskpos:1, nextval:0.9205260872840881, unmasked_seq:[19, 25]\n",
      "line 336... estimate_duration( pois ) : [19, 25] ) \n",
      "line 337... boot_times : {1: (np.float64(1447.3127599999998), np.float64(1509.4048599999999)), 3: (np.float64(644.0), np.float64(644.0)), 4: (np.float64(1710.11013), np.float64(1799.67295)), 5: (np.float64(4111.64443), np.float64(4452.76964)), 6: (np.float64(7485.125999999999), np.float64(7931.48429)), 7: (np.float64(2487.53043), np.float64(2568.7986600000004)), 9: (np.float64(4450.26771), np.float64(4663.99319)), 10: (np.float64(1302.45605), np.float64(1335.8737299999998)), 11: (np.float64(3576.4448500000003), np.float64(3821.34793)), 12: (np.float64(3329.4814300000003), np.float64(3554.3457799999996)), 14: (np.float64(24281.0), np.float64(24281.0)), 15: (900, 900), 16: (np.float64(2944.92384), np.float64(3125.91392)), 18: (np.float64(2677.94418), np.float64(2864.8084000000003)), 19: (np.float64(1529.4857), np.float64(1618.44008)), 21: (np.float64(4656.012790000001), np.float64(4756.08958)), 22: (np.float64(6052.0), np.float64(6052.0)), 23: (np.float64(2163.8071800000002), np.float64(2239.0955599999998)), 24: (np.float64(3589.75531), np.float64(3709.0717099999997)), 25: (np.float64(1717.97791), np.float64(1798.36825)), 26: (np.float64(4899.20767), np.float64(5089.546069999999))} ) \n",
      "boot_times :  {1: (np.float64(1447.3127599999998), np.float64(1509.4048599999999)), 3: (np.float64(644.0), np.float64(644.0)), 4: (np.float64(1710.11013), np.float64(1799.67295)), 5: (np.float64(4111.64443), np.float64(4452.76964)), 6: (np.float64(7485.125999999999), np.float64(7931.48429)), 7: (np.float64(2487.53043), np.float64(2568.7986600000004)), 9: (np.float64(4450.26771), np.float64(4663.99319)), 10: (np.float64(1302.45605), np.float64(1335.8737299999998)), 11: (np.float64(3576.4448500000003), np.float64(3821.34793)), 12: (np.float64(3329.4814300000003), np.float64(3554.3457799999996)), 14: (np.float64(24281.0), np.float64(24281.0)), 15: (900, 900), 16: (np.float64(2944.92384), np.float64(3125.91392)), 18: (np.float64(2677.94418), np.float64(2864.8084000000003)), 19: (np.float64(1529.4857), np.float64(1618.44008)), 21: (np.float64(4656.012790000001), np.float64(4756.08958)), 22: (np.float64(6052.0), np.float64(6052.0)), 23: (np.float64(2163.8071800000002), np.float64(2239.0955599999998)), 24: (np.float64(3589.75531), np.float64(3709.0717099999997)), 25: (np.float64(1717.97791), np.float64(1798.36825)), 26: (np.float64(4899.20767), np.float64(5089.546069999999))}\n",
      " intertimes :  (np.float64(1529.4857), np.float64(1618.44008))\n",
      " duration   :  1573\n",
      "line 351...  estimate_duration : 19 \t sec:  1573\n",
      "boot_times :  {1: (np.float64(1447.3127599999998), np.float64(1509.4048599999999)), 3: (np.float64(644.0), np.float64(644.0)), 4: (np.float64(1710.11013), np.float64(1799.67295)), 5: (np.float64(4111.64443), np.float64(4452.76964)), 6: (np.float64(7485.125999999999), np.float64(7931.48429)), 7: (np.float64(2487.53043), np.float64(2568.7986600000004)), 9: (np.float64(4450.26771), np.float64(4663.99319)), 10: (np.float64(1302.45605), np.float64(1335.8737299999998)), 11: (np.float64(3576.4448500000003), np.float64(3821.34793)), 12: (np.float64(3329.4814300000003), np.float64(3554.3457799999996)), 14: (np.float64(24281.0), np.float64(24281.0)), 15: (900, 900), 16: (np.float64(2944.92384), np.float64(3125.91392)), 18: (np.float64(2677.94418), np.float64(2864.8084000000003)), 19: (np.float64(1529.4857), np.float64(1618.44008)), 21: (np.float64(4656.012790000001), np.float64(4756.08958)), 22: (np.float64(6052.0), np.float64(6052.0)), 23: (np.float64(2163.8071800000002), np.float64(2239.0955599999998)), 24: (np.float64(3589.75531), np.float64(3709.0717099999997)), 25: (np.float64(1717.97791), np.float64(1798.36825)), 26: (np.float64(4899.20767), np.float64(5089.546069999999))}\n",
      " intertimes :  (np.float64(1717.97791), np.float64(1798.36825))\n",
      " duration   :  1758\n",
      "line 351...  estimate_duration : 25 \t sec:  1758\n",
      "line 352...  total duration [19, 25]  3331 / 55 min \n",
      "LINE:389 (iter: 0) -- predict_mask([model], '[19, 25]' ->  '3331 < 22724 sec' ?)\n",
      "\n",
      "\n",
      "-----------------\n",
      "line 379 bert_test_city[ Delh ] (iter: 1) -- predict_ mask([model], '[19, 25]')\n",
      "LINE 309, model.predict( to_predict=[['19', '25']] ) \n",
      "LINE 315  predseq => [19, 25],  maskpos => 1\n",
      "-- predict_ mask_pos ( <model>, seq= [19, 25], maskpos= 1  )\n",
      "line 240 ... seq: [19, 25]\n",
      "      seq :  [19, 25]\n",
      "LINE 256 -- model.predict( to_predict=['19,[MASK],25'] )\n"
     ]
    },
    {
     "data": {
      "application/vnd.jupyter.widget-view+json": {
       "model_id": "d1b8b6604bb84b2e82b9b61771c3419a",
       "version_major": 2,
       "version_minor": 0
      },
      "text/plain": [
       "0it [00:00, ?it/s]"
      ]
     },
     "metadata": {},
     "output_type": "display_data"
    },
    {
     "data": {
      "application/vnd.jupyter.widget-view+json": {
       "model_id": "828b35a4076d4294b50314f614912656",
       "version_major": 2,
       "version_minor": 0
      },
      "text/plain": [
       "  0%|          | 0/1 [00:00<?, ?it/s]"
      ]
     },
     "metadata": {},
     "output_type": "display_data"
    },
    {
     "name": "stdout",
     "output_type": "stream",
     "text": [
      "  seq     -> [19, 25]\n",
      "  amax    -> 12\n",
      "  amaxval -> 0.9205260872840881\n",
      "maskpos   => 1\n",
      "--> predict_ mask_pos (model, '[19, 25]', 1 ) --- [19, 12, 25] \n",
      "LINE 317  result: nextpoi:12 nextval:0.9205260872840881 unmasked_seq:[19, 25]\n",
      "  POSSIBLE: 0.9205260872840881 -> [19, 25] [19, 25]\n",
      "line 381 bert_test_city[ Delh ] (iter: 1) -- predict_ mask([model], '[19, 25]')\n",
      "line 382 nextpoi:12, maskpos:1, nextval:0.9205260872840881, unmasked_seq:[19, 25]\n",
      "line 336... estimate_duration( pois ) : [19, 25] ) \n",
      "line 337... boot_times : {1: (np.float64(1447.3127599999998), np.float64(1509.4048599999999)), 3: (np.float64(644.0), np.float64(644.0)), 4: (np.float64(1710.11013), np.float64(1799.67295)), 5: (np.float64(4111.64443), np.float64(4452.76964)), 6: (np.float64(7485.125999999999), np.float64(7931.48429)), 7: (np.float64(2487.53043), np.float64(2568.7986600000004)), 9: (np.float64(4450.26771), np.float64(4663.99319)), 10: (np.float64(1302.45605), np.float64(1335.8737299999998)), 11: (np.float64(3576.4448500000003), np.float64(3821.34793)), 12: (np.float64(3329.4814300000003), np.float64(3554.3457799999996)), 14: (np.float64(24281.0), np.float64(24281.0)), 15: (900, 900), 16: (np.float64(2944.92384), np.float64(3125.91392)), 18: (np.float64(2677.94418), np.float64(2864.8084000000003)), 19: (np.float64(1529.4857), np.float64(1618.44008)), 21: (np.float64(4656.012790000001), np.float64(4756.08958)), 22: (np.float64(6052.0), np.float64(6052.0)), 23: (np.float64(2163.8071800000002), np.float64(2239.0955599999998)), 24: (np.float64(3589.75531), np.float64(3709.0717099999997)), 25: (np.float64(1717.97791), np.float64(1798.36825)), 26: (np.float64(4899.20767), np.float64(5089.546069999999))} ) \n",
      "boot_times :  {1: (np.float64(1447.3127599999998), np.float64(1509.4048599999999)), 3: (np.float64(644.0), np.float64(644.0)), 4: (np.float64(1710.11013), np.float64(1799.67295)), 5: (np.float64(4111.64443), np.float64(4452.76964)), 6: (np.float64(7485.125999999999), np.float64(7931.48429)), 7: (np.float64(2487.53043), np.float64(2568.7986600000004)), 9: (np.float64(4450.26771), np.float64(4663.99319)), 10: (np.float64(1302.45605), np.float64(1335.8737299999998)), 11: (np.float64(3576.4448500000003), np.float64(3821.34793)), 12: (np.float64(3329.4814300000003), np.float64(3554.3457799999996)), 14: (np.float64(24281.0), np.float64(24281.0)), 15: (900, 900), 16: (np.float64(2944.92384), np.float64(3125.91392)), 18: (np.float64(2677.94418), np.float64(2864.8084000000003)), 19: (np.float64(1529.4857), np.float64(1618.44008)), 21: (np.float64(4656.012790000001), np.float64(4756.08958)), 22: (np.float64(6052.0), np.float64(6052.0)), 23: (np.float64(2163.8071800000002), np.float64(2239.0955599999998)), 24: (np.float64(3589.75531), np.float64(3709.0717099999997)), 25: (np.float64(1717.97791), np.float64(1798.36825)), 26: (np.float64(4899.20767), np.float64(5089.546069999999))}\n",
      " intertimes :  (np.float64(1529.4857), np.float64(1618.44008))\n",
      " duration   :  1573\n",
      "line 351...  estimate_duration : 19 \t sec:  1573\n",
      "boot_times :  {1: (np.float64(1447.3127599999998), np.float64(1509.4048599999999)), 3: (np.float64(644.0), np.float64(644.0)), 4: (np.float64(1710.11013), np.float64(1799.67295)), 5: (np.float64(4111.64443), np.float64(4452.76964)), 6: (np.float64(7485.125999999999), np.float64(7931.48429)), 7: (np.float64(2487.53043), np.float64(2568.7986600000004)), 9: (np.float64(4450.26771), np.float64(4663.99319)), 10: (np.float64(1302.45605), np.float64(1335.8737299999998)), 11: (np.float64(3576.4448500000003), np.float64(3821.34793)), 12: (np.float64(3329.4814300000003), np.float64(3554.3457799999996)), 14: (np.float64(24281.0), np.float64(24281.0)), 15: (900, 900), 16: (np.float64(2944.92384), np.float64(3125.91392)), 18: (np.float64(2677.94418), np.float64(2864.8084000000003)), 19: (np.float64(1529.4857), np.float64(1618.44008)), 21: (np.float64(4656.012790000001), np.float64(4756.08958)), 22: (np.float64(6052.0), np.float64(6052.0)), 23: (np.float64(2163.8071800000002), np.float64(2239.0955599999998)), 24: (np.float64(3589.75531), np.float64(3709.0717099999997)), 25: (np.float64(1717.97791), np.float64(1798.36825)), 26: (np.float64(4899.20767), np.float64(5089.546069999999))}\n",
      " intertimes :  (np.float64(1717.97791), np.float64(1798.36825))\n",
      " duration   :  1758\n",
      "line 351...  estimate_duration : 25 \t sec:  1758\n",
      "line 352...  total duration [19, 25]  3331 / 55 min \n",
      "LINE:389 (iter: 1) -- predict_mask([model], '[19, 25]' ->  '3331 < 22724 sec' ?)\n",
      "\n",
      "\n",
      "-----------------\n",
      "line 379 bert_test_city[ Delh ] (iter: 2) -- predict_ mask([model], '[19, 25]')\n",
      "LINE 309, model.predict( to_predict=[['19', '25']] ) \n",
      "LINE 315  predseq => [19, 25],  maskpos => 1\n",
      "-- predict_ mask_pos ( <model>, seq= [19, 25], maskpos= 1  )\n",
      "line 240 ... seq: [19, 25]\n",
      "      seq :  [19, 25]\n",
      "LINE 256 -- model.predict( to_predict=['19,[MASK],25'] )\n"
     ]
    },
    {
     "data": {
      "application/vnd.jupyter.widget-view+json": {
       "model_id": "4ea9ad090c9d482ca5ab2db051fe4bed",
       "version_major": 2,
       "version_minor": 0
      },
      "text/plain": [
       "0it [00:00, ?it/s]"
      ]
     },
     "metadata": {},
     "output_type": "display_data"
    },
    {
     "data": {
      "application/vnd.jupyter.widget-view+json": {
       "model_id": "396099d267d74d6b8a4c41adbb0c5790",
       "version_major": 2,
       "version_minor": 0
      },
      "text/plain": [
       "  0%|          | 0/1 [00:00<?, ?it/s]"
      ]
     },
     "metadata": {},
     "output_type": "display_data"
    },
    {
     "name": "stdout",
     "output_type": "stream",
     "text": [
      "  seq     -> [19, 25]\n",
      "  amax    -> 12\n",
      "  amaxval -> 0.9205260872840881\n",
      "maskpos   => 1\n",
      "--> predict_ mask_pos (model, '[19, 25]', 1 ) --- [19, 12, 25] \n",
      "LINE 317  result: nextpoi:12 nextval:0.9205260872840881 unmasked_seq:[19, 25]\n",
      "  POSSIBLE: 0.9205260872840881 -> [19, 25] [19, 25]\n",
      "line 381 bert_test_city[ Delh ] (iter: 2) -- predict_ mask([model], '[19, 25]')\n",
      "line 382 nextpoi:12, maskpos:1, nextval:0.9205260872840881, unmasked_seq:[19, 25]\n",
      "line 336... estimate_duration( pois ) : [19, 25] ) \n",
      "line 337... boot_times : {1: (np.float64(1447.3127599999998), np.float64(1509.4048599999999)), 3: (np.float64(644.0), np.float64(644.0)), 4: (np.float64(1710.11013), np.float64(1799.67295)), 5: (np.float64(4111.64443), np.float64(4452.76964)), 6: (np.float64(7485.125999999999), np.float64(7931.48429)), 7: (np.float64(2487.53043), np.float64(2568.7986600000004)), 9: (np.float64(4450.26771), np.float64(4663.99319)), 10: (np.float64(1302.45605), np.float64(1335.8737299999998)), 11: (np.float64(3576.4448500000003), np.float64(3821.34793)), 12: (np.float64(3329.4814300000003), np.float64(3554.3457799999996)), 14: (np.float64(24281.0), np.float64(24281.0)), 15: (900, 900), 16: (np.float64(2944.92384), np.float64(3125.91392)), 18: (np.float64(2677.94418), np.float64(2864.8084000000003)), 19: (np.float64(1529.4857), np.float64(1618.44008)), 21: (np.float64(4656.012790000001), np.float64(4756.08958)), 22: (np.float64(6052.0), np.float64(6052.0)), 23: (np.float64(2163.8071800000002), np.float64(2239.0955599999998)), 24: (np.float64(3589.75531), np.float64(3709.0717099999997)), 25: (np.float64(1717.97791), np.float64(1798.36825)), 26: (np.float64(4899.20767), np.float64(5089.546069999999))} ) \n",
      "boot_times :  {1: (np.float64(1447.3127599999998), np.float64(1509.4048599999999)), 3: (np.float64(644.0), np.float64(644.0)), 4: (np.float64(1710.11013), np.float64(1799.67295)), 5: (np.float64(4111.64443), np.float64(4452.76964)), 6: (np.float64(7485.125999999999), np.float64(7931.48429)), 7: (np.float64(2487.53043), np.float64(2568.7986600000004)), 9: (np.float64(4450.26771), np.float64(4663.99319)), 10: (np.float64(1302.45605), np.float64(1335.8737299999998)), 11: (np.float64(3576.4448500000003), np.float64(3821.34793)), 12: (np.float64(3329.4814300000003), np.float64(3554.3457799999996)), 14: (np.float64(24281.0), np.float64(24281.0)), 15: (900, 900), 16: (np.float64(2944.92384), np.float64(3125.91392)), 18: (np.float64(2677.94418), np.float64(2864.8084000000003)), 19: (np.float64(1529.4857), np.float64(1618.44008)), 21: (np.float64(4656.012790000001), np.float64(4756.08958)), 22: (np.float64(6052.0), np.float64(6052.0)), 23: (np.float64(2163.8071800000002), np.float64(2239.0955599999998)), 24: (np.float64(3589.75531), np.float64(3709.0717099999997)), 25: (np.float64(1717.97791), np.float64(1798.36825)), 26: (np.float64(4899.20767), np.float64(5089.546069999999))}\n",
      " intertimes :  (np.float64(1529.4857), np.float64(1618.44008))\n",
      " duration   :  1573\n",
      "line 351...  estimate_duration : 19 \t sec:  1573\n",
      "boot_times :  {1: (np.float64(1447.3127599999998), np.float64(1509.4048599999999)), 3: (np.float64(644.0), np.float64(644.0)), 4: (np.float64(1710.11013), np.float64(1799.67295)), 5: (np.float64(4111.64443), np.float64(4452.76964)), 6: (np.float64(7485.125999999999), np.float64(7931.48429)), 7: (np.float64(2487.53043), np.float64(2568.7986600000004)), 9: (np.float64(4450.26771), np.float64(4663.99319)), 10: (np.float64(1302.45605), np.float64(1335.8737299999998)), 11: (np.float64(3576.4448500000003), np.float64(3821.34793)), 12: (np.float64(3329.4814300000003), np.float64(3554.3457799999996)), 14: (np.float64(24281.0), np.float64(24281.0)), 15: (900, 900), 16: (np.float64(2944.92384), np.float64(3125.91392)), 18: (np.float64(2677.94418), np.float64(2864.8084000000003)), 19: (np.float64(1529.4857), np.float64(1618.44008)), 21: (np.float64(4656.012790000001), np.float64(4756.08958)), 22: (np.float64(6052.0), np.float64(6052.0)), 23: (np.float64(2163.8071800000002), np.float64(2239.0955599999998)), 24: (np.float64(3589.75531), np.float64(3709.0717099999997)), 25: (np.float64(1717.97791), np.float64(1798.36825)), 26: (np.float64(4899.20767), np.float64(5089.546069999999))}\n",
      " intertimes :  (np.float64(1717.97791), np.float64(1798.36825))\n",
      " duration   :  1758\n",
      "line 351...  estimate_duration : 25 \t sec:  1758\n",
      "line 352...  total duration [19, 25]  3331 / 55 min \n",
      "LINE:389 (iter: 2) -- predict_mask([model], '[19, 25]' ->  '3331 < 22724 sec' ?)\n",
      "\n",
      "\n",
      "-----------------\n",
      "line 379 bert_test_city[ Delh ] (iter: 3) -- predict_ mask([model], '[19, 25]')\n",
      "LINE 309, model.predict( to_predict=[['19', '25']] ) \n",
      "LINE 315  predseq => [19, 25],  maskpos => 1\n",
      "-- predict_ mask_pos ( <model>, seq= [19, 25], maskpos= 1  )\n",
      "line 240 ... seq: [19, 25]\n",
      "      seq :  [19, 25]\n",
      "LINE 256 -- model.predict( to_predict=['19,[MASK],25'] )\n"
     ]
    },
    {
     "data": {
      "application/vnd.jupyter.widget-view+json": {
       "model_id": "7ef16934d26846e4a98671541047522e",
       "version_major": 2,
       "version_minor": 0
      },
      "text/plain": [
       "0it [00:00, ?it/s]"
      ]
     },
     "metadata": {},
     "output_type": "display_data"
    },
    {
     "data": {
      "application/vnd.jupyter.widget-view+json": {
       "model_id": "b3f55ae5506d4a68a32bf7fc51ae8af0",
       "version_major": 2,
       "version_minor": 0
      },
      "text/plain": [
       "  0%|          | 0/1 [00:00<?, ?it/s]"
      ]
     },
     "metadata": {},
     "output_type": "display_data"
    },
    {
     "name": "stdout",
     "output_type": "stream",
     "text": [
      "  seq     -> [19, 25]\n",
      "  amax    -> 12\n",
      "  amaxval -> 0.9205260872840881\n",
      "maskpos   => 1\n",
      "--> predict_ mask_pos (model, '[19, 25]', 1 ) --- [19, 12, 25] \n",
      "LINE 317  result: nextpoi:12 nextval:0.9205260872840881 unmasked_seq:[19, 25]\n",
      "  POSSIBLE: 0.9205260872840881 -> [19, 25] [19, 25]\n",
      "line 381 bert_test_city[ Delh ] (iter: 3) -- predict_ mask([model], '[19, 25]')\n",
      "line 382 nextpoi:12, maskpos:1, nextval:0.9205260872840881, unmasked_seq:[19, 25]\n",
      "line 336... estimate_duration( pois ) : [19, 25] ) \n",
      "line 337... boot_times : {1: (np.float64(1447.3127599999998), np.float64(1509.4048599999999)), 3: (np.float64(644.0), np.float64(644.0)), 4: (np.float64(1710.11013), np.float64(1799.67295)), 5: (np.float64(4111.64443), np.float64(4452.76964)), 6: (np.float64(7485.125999999999), np.float64(7931.48429)), 7: (np.float64(2487.53043), np.float64(2568.7986600000004)), 9: (np.float64(4450.26771), np.float64(4663.99319)), 10: (np.float64(1302.45605), np.float64(1335.8737299999998)), 11: (np.float64(3576.4448500000003), np.float64(3821.34793)), 12: (np.float64(3329.4814300000003), np.float64(3554.3457799999996)), 14: (np.float64(24281.0), np.float64(24281.0)), 15: (900, 900), 16: (np.float64(2944.92384), np.float64(3125.91392)), 18: (np.float64(2677.94418), np.float64(2864.8084000000003)), 19: (np.float64(1529.4857), np.float64(1618.44008)), 21: (np.float64(4656.012790000001), np.float64(4756.08958)), 22: (np.float64(6052.0), np.float64(6052.0)), 23: (np.float64(2163.8071800000002), np.float64(2239.0955599999998)), 24: (np.float64(3589.75531), np.float64(3709.0717099999997)), 25: (np.float64(1717.97791), np.float64(1798.36825)), 26: (np.float64(4899.20767), np.float64(5089.546069999999))} ) \n",
      "boot_times :  {1: (np.float64(1447.3127599999998), np.float64(1509.4048599999999)), 3: (np.float64(644.0), np.float64(644.0)), 4: (np.float64(1710.11013), np.float64(1799.67295)), 5: (np.float64(4111.64443), np.float64(4452.76964)), 6: (np.float64(7485.125999999999), np.float64(7931.48429)), 7: (np.float64(2487.53043), np.float64(2568.7986600000004)), 9: (np.float64(4450.26771), np.float64(4663.99319)), 10: (np.float64(1302.45605), np.float64(1335.8737299999998)), 11: (np.float64(3576.4448500000003), np.float64(3821.34793)), 12: (np.float64(3329.4814300000003), np.float64(3554.3457799999996)), 14: (np.float64(24281.0), np.float64(24281.0)), 15: (900, 900), 16: (np.float64(2944.92384), np.float64(3125.91392)), 18: (np.float64(2677.94418), np.float64(2864.8084000000003)), 19: (np.float64(1529.4857), np.float64(1618.44008)), 21: (np.float64(4656.012790000001), np.float64(4756.08958)), 22: (np.float64(6052.0), np.float64(6052.0)), 23: (np.float64(2163.8071800000002), np.float64(2239.0955599999998)), 24: (np.float64(3589.75531), np.float64(3709.0717099999997)), 25: (np.float64(1717.97791), np.float64(1798.36825)), 26: (np.float64(4899.20767), np.float64(5089.546069999999))}\n",
      " intertimes :  (np.float64(1529.4857), np.float64(1618.44008))\n",
      " duration   :  1573\n",
      "line 351...  estimate_duration : 19 \t sec:  1573\n",
      "boot_times :  {1: (np.float64(1447.3127599999998), np.float64(1509.4048599999999)), 3: (np.float64(644.0), np.float64(644.0)), 4: (np.float64(1710.11013), np.float64(1799.67295)), 5: (np.float64(4111.64443), np.float64(4452.76964)), 6: (np.float64(7485.125999999999), np.float64(7931.48429)), 7: (np.float64(2487.53043), np.float64(2568.7986600000004)), 9: (np.float64(4450.26771), np.float64(4663.99319)), 10: (np.float64(1302.45605), np.float64(1335.8737299999998)), 11: (np.float64(3576.4448500000003), np.float64(3821.34793)), 12: (np.float64(3329.4814300000003), np.float64(3554.3457799999996)), 14: (np.float64(24281.0), np.float64(24281.0)), 15: (900, 900), 16: (np.float64(2944.92384), np.float64(3125.91392)), 18: (np.float64(2677.94418), np.float64(2864.8084000000003)), 19: (np.float64(1529.4857), np.float64(1618.44008)), 21: (np.float64(4656.012790000001), np.float64(4756.08958)), 22: (np.float64(6052.0), np.float64(6052.0)), 23: (np.float64(2163.8071800000002), np.float64(2239.0955599999998)), 24: (np.float64(3589.75531), np.float64(3709.0717099999997)), 25: (np.float64(1717.97791), np.float64(1798.36825)), 26: (np.float64(4899.20767), np.float64(5089.546069999999))}\n",
      " intertimes :  (np.float64(1717.97791), np.float64(1798.36825))\n",
      " duration   :  1758\n",
      "line 351...  estimate_duration : 25 \t sec:  1758\n",
      "line 352...  total duration [19, 25]  3331 / 55 min \n",
      "LINE:389 (iter: 3) -- predict_mask([model], '[19, 25]' ->  '3331 < 22724 sec' ?)\n",
      "\n",
      "\n",
      "-----------------\n",
      "line 379 bert_test_city[ Delh ] (iter: 4) -- predict_ mask([model], '[19, 25]')\n",
      "LINE 309, model.predict( to_predict=[['19', '25']] ) \n",
      "LINE 315  predseq => [19, 25],  maskpos => 1\n",
      "-- predict_ mask_pos ( <model>, seq= [19, 25], maskpos= 1  )\n",
      "line 240 ... seq: [19, 25]\n",
      "      seq :  [19, 25]\n",
      "LINE 256 -- model.predict( to_predict=['19,[MASK],25'] )\n"
     ]
    },
    {
     "data": {
      "application/vnd.jupyter.widget-view+json": {
       "model_id": "6c990907259b472ab49409eda19c4b12",
       "version_major": 2,
       "version_minor": 0
      },
      "text/plain": [
       "0it [00:00, ?it/s]"
      ]
     },
     "metadata": {},
     "output_type": "display_data"
    },
    {
     "data": {
      "application/vnd.jupyter.widget-view+json": {
       "model_id": "ba1f9c5bd8fa4d09bb84f2fa15400777",
       "version_major": 2,
       "version_minor": 0
      },
      "text/plain": [
       "  0%|          | 0/1 [00:00<?, ?it/s]"
      ]
     },
     "metadata": {},
     "output_type": "display_data"
    },
    {
     "name": "stdout",
     "output_type": "stream",
     "text": [
      "  seq     -> [19, 25]\n",
      "  amax    -> 12\n",
      "  amaxval -> 0.9205260872840881\n",
      "maskpos   => 1\n",
      "--> predict_ mask_pos (model, '[19, 25]', 1 ) --- [19, 12, 25] \n",
      "LINE 317  result: nextpoi:12 nextval:0.9205260872840881 unmasked_seq:[19, 25]\n",
      "  POSSIBLE: 0.9205260872840881 -> [19, 25] [19, 25]\n",
      "line 381 bert_test_city[ Delh ] (iter: 4) -- predict_ mask([model], '[19, 25]')\n",
      "line 382 nextpoi:12, maskpos:1, nextval:0.9205260872840881, unmasked_seq:[19, 25]\n",
      "line 336... estimate_duration( pois ) : [19, 25] ) \n",
      "line 337... boot_times : {1: (np.float64(1447.3127599999998), np.float64(1509.4048599999999)), 3: (np.float64(644.0), np.float64(644.0)), 4: (np.float64(1710.11013), np.float64(1799.67295)), 5: (np.float64(4111.64443), np.float64(4452.76964)), 6: (np.float64(7485.125999999999), np.float64(7931.48429)), 7: (np.float64(2487.53043), np.float64(2568.7986600000004)), 9: (np.float64(4450.26771), np.float64(4663.99319)), 10: (np.float64(1302.45605), np.float64(1335.8737299999998)), 11: (np.float64(3576.4448500000003), np.float64(3821.34793)), 12: (np.float64(3329.4814300000003), np.float64(3554.3457799999996)), 14: (np.float64(24281.0), np.float64(24281.0)), 15: (900, 900), 16: (np.float64(2944.92384), np.float64(3125.91392)), 18: (np.float64(2677.94418), np.float64(2864.8084000000003)), 19: (np.float64(1529.4857), np.float64(1618.44008)), 21: (np.float64(4656.012790000001), np.float64(4756.08958)), 22: (np.float64(6052.0), np.float64(6052.0)), 23: (np.float64(2163.8071800000002), np.float64(2239.0955599999998)), 24: (np.float64(3589.75531), np.float64(3709.0717099999997)), 25: (np.float64(1717.97791), np.float64(1798.36825)), 26: (np.float64(4899.20767), np.float64(5089.546069999999))} ) \n",
      "boot_times :  {1: (np.float64(1447.3127599999998), np.float64(1509.4048599999999)), 3: (np.float64(644.0), np.float64(644.0)), 4: (np.float64(1710.11013), np.float64(1799.67295)), 5: (np.float64(4111.64443), np.float64(4452.76964)), 6: (np.float64(7485.125999999999), np.float64(7931.48429)), 7: (np.float64(2487.53043), np.float64(2568.7986600000004)), 9: (np.float64(4450.26771), np.float64(4663.99319)), 10: (np.float64(1302.45605), np.float64(1335.8737299999998)), 11: (np.float64(3576.4448500000003), np.float64(3821.34793)), 12: (np.float64(3329.4814300000003), np.float64(3554.3457799999996)), 14: (np.float64(24281.0), np.float64(24281.0)), 15: (900, 900), 16: (np.float64(2944.92384), np.float64(3125.91392)), 18: (np.float64(2677.94418), np.float64(2864.8084000000003)), 19: (np.float64(1529.4857), np.float64(1618.44008)), 21: (np.float64(4656.012790000001), np.float64(4756.08958)), 22: (np.float64(6052.0), np.float64(6052.0)), 23: (np.float64(2163.8071800000002), np.float64(2239.0955599999998)), 24: (np.float64(3589.75531), np.float64(3709.0717099999997)), 25: (np.float64(1717.97791), np.float64(1798.36825)), 26: (np.float64(4899.20767), np.float64(5089.546069999999))}\n",
      " intertimes :  (np.float64(1529.4857), np.float64(1618.44008))\n",
      " duration   :  1573\n",
      "line 351...  estimate_duration : 19 \t sec:  1573\n",
      "boot_times :  {1: (np.float64(1447.3127599999998), np.float64(1509.4048599999999)), 3: (np.float64(644.0), np.float64(644.0)), 4: (np.float64(1710.11013), np.float64(1799.67295)), 5: (np.float64(4111.64443), np.float64(4452.76964)), 6: (np.float64(7485.125999999999), np.float64(7931.48429)), 7: (np.float64(2487.53043), np.float64(2568.7986600000004)), 9: (np.float64(4450.26771), np.float64(4663.99319)), 10: (np.float64(1302.45605), np.float64(1335.8737299999998)), 11: (np.float64(3576.4448500000003), np.float64(3821.34793)), 12: (np.float64(3329.4814300000003), np.float64(3554.3457799999996)), 14: (np.float64(24281.0), np.float64(24281.0)), 15: (900, 900), 16: (np.float64(2944.92384), np.float64(3125.91392)), 18: (np.float64(2677.94418), np.float64(2864.8084000000003)), 19: (np.float64(1529.4857), np.float64(1618.44008)), 21: (np.float64(4656.012790000001), np.float64(4756.08958)), 22: (np.float64(6052.0), np.float64(6052.0)), 23: (np.float64(2163.8071800000002), np.float64(2239.0955599999998)), 24: (np.float64(3589.75531), np.float64(3709.0717099999997)), 25: (np.float64(1717.97791), np.float64(1798.36825)), 26: (np.float64(4899.20767), np.float64(5089.546069999999))}\n",
      " intertimes :  (np.float64(1717.97791), np.float64(1798.36825))\n",
      " duration   :  1758\n",
      "line 351...  estimate_duration : 25 \t sec:  1758\n",
      "line 352...  total duration [19, 25]  3331 / 55 min \n",
      "LINE:389 (iter: 4) -- predict_mask([model], '[19, 25]' ->  '3331 < 22724 sec' ?)\n",
      "\n",
      "\n",
      "-----------------\n",
      "line 379 bert_test_city[ Delh ] (iter: 5) -- predict_ mask([model], '[19, 25]')\n",
      "LINE 309, model.predict( to_predict=[['19', '25']] ) \n",
      "LINE 315  predseq => [19, 25],  maskpos => 1\n",
      "-- predict_ mask_pos ( <model>, seq= [19, 25], maskpos= 1  )\n",
      "line 240 ... seq: [19, 25]\n",
      "      seq :  [19, 25]\n",
      "LINE 256 -- model.predict( to_predict=['19,[MASK],25'] )\n"
     ]
    },
    {
     "data": {
      "application/vnd.jupyter.widget-view+json": {
       "model_id": "7a2c5f9bb0b742208e53feb36e9fde5c",
       "version_major": 2,
       "version_minor": 0
      },
      "text/plain": [
       "0it [00:00, ?it/s]"
      ]
     },
     "metadata": {},
     "output_type": "display_data"
    },
    {
     "data": {
      "application/vnd.jupyter.widget-view+json": {
       "model_id": "472dd32f593047e59e685ad99ee10d1e",
       "version_major": 2,
       "version_minor": 0
      },
      "text/plain": [
       "  0%|          | 0/1 [00:00<?, ?it/s]"
      ]
     },
     "metadata": {},
     "output_type": "display_data"
    },
    {
     "name": "stdout",
     "output_type": "stream",
     "text": [
      "  seq     -> [19, 25]\n",
      "  amax    -> 12\n",
      "  amaxval -> 0.9205260872840881\n",
      "maskpos   => 1\n",
      "--> predict_ mask_pos (model, '[19, 25]', 1 ) --- [19, 12, 25] \n",
      "LINE 317  result: nextpoi:12 nextval:0.9205260872840881 unmasked_seq:[19, 25]\n",
      "  POSSIBLE: 0.9205260872840881 -> [19, 25] [19, 25]\n",
      "line 381 bert_test_city[ Delh ] (iter: 5) -- predict_ mask([model], '[19, 25]')\n",
      "line 382 nextpoi:12, maskpos:1, nextval:0.9205260872840881, unmasked_seq:[19, 25]\n",
      "line 336... estimate_duration( pois ) : [19, 25] ) \n",
      "line 337... boot_times : {1: (np.float64(1447.3127599999998), np.float64(1509.4048599999999)), 3: (np.float64(644.0), np.float64(644.0)), 4: (np.float64(1710.11013), np.float64(1799.67295)), 5: (np.float64(4111.64443), np.float64(4452.76964)), 6: (np.float64(7485.125999999999), np.float64(7931.48429)), 7: (np.float64(2487.53043), np.float64(2568.7986600000004)), 9: (np.float64(4450.26771), np.float64(4663.99319)), 10: (np.float64(1302.45605), np.float64(1335.8737299999998)), 11: (np.float64(3576.4448500000003), np.float64(3821.34793)), 12: (np.float64(3329.4814300000003), np.float64(3554.3457799999996)), 14: (np.float64(24281.0), np.float64(24281.0)), 15: (900, 900), 16: (np.float64(2944.92384), np.float64(3125.91392)), 18: (np.float64(2677.94418), np.float64(2864.8084000000003)), 19: (np.float64(1529.4857), np.float64(1618.44008)), 21: (np.float64(4656.012790000001), np.float64(4756.08958)), 22: (np.float64(6052.0), np.float64(6052.0)), 23: (np.float64(2163.8071800000002), np.float64(2239.0955599999998)), 24: (np.float64(3589.75531), np.float64(3709.0717099999997)), 25: (np.float64(1717.97791), np.float64(1798.36825)), 26: (np.float64(4899.20767), np.float64(5089.546069999999))} ) \n",
      "boot_times :  {1: (np.float64(1447.3127599999998), np.float64(1509.4048599999999)), 3: (np.float64(644.0), np.float64(644.0)), 4: (np.float64(1710.11013), np.float64(1799.67295)), 5: (np.float64(4111.64443), np.float64(4452.76964)), 6: (np.float64(7485.125999999999), np.float64(7931.48429)), 7: (np.float64(2487.53043), np.float64(2568.7986600000004)), 9: (np.float64(4450.26771), np.float64(4663.99319)), 10: (np.float64(1302.45605), np.float64(1335.8737299999998)), 11: (np.float64(3576.4448500000003), np.float64(3821.34793)), 12: (np.float64(3329.4814300000003), np.float64(3554.3457799999996)), 14: (np.float64(24281.0), np.float64(24281.0)), 15: (900, 900), 16: (np.float64(2944.92384), np.float64(3125.91392)), 18: (np.float64(2677.94418), np.float64(2864.8084000000003)), 19: (np.float64(1529.4857), np.float64(1618.44008)), 21: (np.float64(4656.012790000001), np.float64(4756.08958)), 22: (np.float64(6052.0), np.float64(6052.0)), 23: (np.float64(2163.8071800000002), np.float64(2239.0955599999998)), 24: (np.float64(3589.75531), np.float64(3709.0717099999997)), 25: (np.float64(1717.97791), np.float64(1798.36825)), 26: (np.float64(4899.20767), np.float64(5089.546069999999))}\n",
      " intertimes :  (np.float64(1529.4857), np.float64(1618.44008))\n",
      " duration   :  1573\n",
      "line 351...  estimate_duration : 19 \t sec:  1573\n",
      "boot_times :  {1: (np.float64(1447.3127599999998), np.float64(1509.4048599999999)), 3: (np.float64(644.0), np.float64(644.0)), 4: (np.float64(1710.11013), np.float64(1799.67295)), 5: (np.float64(4111.64443), np.float64(4452.76964)), 6: (np.float64(7485.125999999999), np.float64(7931.48429)), 7: (np.float64(2487.53043), np.float64(2568.7986600000004)), 9: (np.float64(4450.26771), np.float64(4663.99319)), 10: (np.float64(1302.45605), np.float64(1335.8737299999998)), 11: (np.float64(3576.4448500000003), np.float64(3821.34793)), 12: (np.float64(3329.4814300000003), np.float64(3554.3457799999996)), 14: (np.float64(24281.0), np.float64(24281.0)), 15: (900, 900), 16: (np.float64(2944.92384), np.float64(3125.91392)), 18: (np.float64(2677.94418), np.float64(2864.8084000000003)), 19: (np.float64(1529.4857), np.float64(1618.44008)), 21: (np.float64(4656.012790000001), np.float64(4756.08958)), 22: (np.float64(6052.0), np.float64(6052.0)), 23: (np.float64(2163.8071800000002), np.float64(2239.0955599999998)), 24: (np.float64(3589.75531), np.float64(3709.0717099999997)), 25: (np.float64(1717.97791), np.float64(1798.36825)), 26: (np.float64(4899.20767), np.float64(5089.546069999999))}\n",
      " intertimes :  (np.float64(1717.97791), np.float64(1798.36825))\n",
      " duration   :  1758\n",
      "line 351...  estimate_duration : 25 \t sec:  1758\n",
      "line 352...  total duration [19, 25]  3331 / 55 min \n",
      "LINE:389 (iter: 5) -- predict_mask([model], '[19, 25]' ->  '3331 < 22724 sec' ?)\n",
      "\n",
      "\n",
      "-----------------\n",
      "line 379 bert_test_city[ Delh ] (iter: 6) -- predict_ mask([model], '[19, 25]')\n",
      "LINE 309, model.predict( to_predict=[['19', '25']] ) \n",
      "LINE 315  predseq => [19, 25],  maskpos => 1\n",
      "-- predict_ mask_pos ( <model>, seq= [19, 25], maskpos= 1  )\n",
      "line 240 ... seq: [19, 25]\n",
      "      seq :  [19, 25]\n",
      "LINE 256 -- model.predict( to_predict=['19,[MASK],25'] )\n"
     ]
    },
    {
     "data": {
      "application/vnd.jupyter.widget-view+json": {
       "model_id": "84e1c32a7b294260983b64c01d84f78f",
       "version_major": 2,
       "version_minor": 0
      },
      "text/plain": [
       "0it [00:00, ?it/s]"
      ]
     },
     "metadata": {},
     "output_type": "display_data"
    },
    {
     "data": {
      "application/vnd.jupyter.widget-view+json": {
       "model_id": "e620fd87e9384f659593adbeebf167c0",
       "version_major": 2,
       "version_minor": 0
      },
      "text/plain": [
       "  0%|          | 0/1 [00:00<?, ?it/s]"
      ]
     },
     "metadata": {},
     "output_type": "display_data"
    },
    {
     "name": "stdout",
     "output_type": "stream",
     "text": [
      "  seq     -> [19, 25]\n",
      "  amax    -> 12\n",
      "  amaxval -> 0.9205260872840881\n",
      "maskpos   => 1\n",
      "--> predict_ mask_pos (model, '[19, 25]', 1 ) --- [19, 12, 25] \n",
      "LINE 317  result: nextpoi:12 nextval:0.9205260872840881 unmasked_seq:[19, 25]\n",
      "  POSSIBLE: 0.9205260872840881 -> [19, 25] [19, 25]\n",
      "line 381 bert_test_city[ Delh ] (iter: 6) -- predict_ mask([model], '[19, 25]')\n",
      "line 382 nextpoi:12, maskpos:1, nextval:0.9205260872840881, unmasked_seq:[19, 25]\n",
      "line 336... estimate_duration( pois ) : [19, 25] ) \n",
      "line 337... boot_times : {1: (np.float64(1447.3127599999998), np.float64(1509.4048599999999)), 3: (np.float64(644.0), np.float64(644.0)), 4: (np.float64(1710.11013), np.float64(1799.67295)), 5: (np.float64(4111.64443), np.float64(4452.76964)), 6: (np.float64(7485.125999999999), np.float64(7931.48429)), 7: (np.float64(2487.53043), np.float64(2568.7986600000004)), 9: (np.float64(4450.26771), np.float64(4663.99319)), 10: (np.float64(1302.45605), np.float64(1335.8737299999998)), 11: (np.float64(3576.4448500000003), np.float64(3821.34793)), 12: (np.float64(3329.4814300000003), np.float64(3554.3457799999996)), 14: (np.float64(24281.0), np.float64(24281.0)), 15: (900, 900), 16: (np.float64(2944.92384), np.float64(3125.91392)), 18: (np.float64(2677.94418), np.float64(2864.8084000000003)), 19: (np.float64(1529.4857), np.float64(1618.44008)), 21: (np.float64(4656.012790000001), np.float64(4756.08958)), 22: (np.float64(6052.0), np.float64(6052.0)), 23: (np.float64(2163.8071800000002), np.float64(2239.0955599999998)), 24: (np.float64(3589.75531), np.float64(3709.0717099999997)), 25: (np.float64(1717.97791), np.float64(1798.36825)), 26: (np.float64(4899.20767), np.float64(5089.546069999999))} ) \n",
      "boot_times :  {1: (np.float64(1447.3127599999998), np.float64(1509.4048599999999)), 3: (np.float64(644.0), np.float64(644.0)), 4: (np.float64(1710.11013), np.float64(1799.67295)), 5: (np.float64(4111.64443), np.float64(4452.76964)), 6: (np.float64(7485.125999999999), np.float64(7931.48429)), 7: (np.float64(2487.53043), np.float64(2568.7986600000004)), 9: (np.float64(4450.26771), np.float64(4663.99319)), 10: (np.float64(1302.45605), np.float64(1335.8737299999998)), 11: (np.float64(3576.4448500000003), np.float64(3821.34793)), 12: (np.float64(3329.4814300000003), np.float64(3554.3457799999996)), 14: (np.float64(24281.0), np.float64(24281.0)), 15: (900, 900), 16: (np.float64(2944.92384), np.float64(3125.91392)), 18: (np.float64(2677.94418), np.float64(2864.8084000000003)), 19: (np.float64(1529.4857), np.float64(1618.44008)), 21: (np.float64(4656.012790000001), np.float64(4756.08958)), 22: (np.float64(6052.0), np.float64(6052.0)), 23: (np.float64(2163.8071800000002), np.float64(2239.0955599999998)), 24: (np.float64(3589.75531), np.float64(3709.0717099999997)), 25: (np.float64(1717.97791), np.float64(1798.36825)), 26: (np.float64(4899.20767), np.float64(5089.546069999999))}\n",
      " intertimes :  (np.float64(1529.4857), np.float64(1618.44008))\n",
      " duration   :  1573\n",
      "line 351...  estimate_duration : 19 \t sec:  1573\n",
      "boot_times :  {1: (np.float64(1447.3127599999998), np.float64(1509.4048599999999)), 3: (np.float64(644.0), np.float64(644.0)), 4: (np.float64(1710.11013), np.float64(1799.67295)), 5: (np.float64(4111.64443), np.float64(4452.76964)), 6: (np.float64(7485.125999999999), np.float64(7931.48429)), 7: (np.float64(2487.53043), np.float64(2568.7986600000004)), 9: (np.float64(4450.26771), np.float64(4663.99319)), 10: (np.float64(1302.45605), np.float64(1335.8737299999998)), 11: (np.float64(3576.4448500000003), np.float64(3821.34793)), 12: (np.float64(3329.4814300000003), np.float64(3554.3457799999996)), 14: (np.float64(24281.0), np.float64(24281.0)), 15: (900, 900), 16: (np.float64(2944.92384), np.float64(3125.91392)), 18: (np.float64(2677.94418), np.float64(2864.8084000000003)), 19: (np.float64(1529.4857), np.float64(1618.44008)), 21: (np.float64(4656.012790000001), np.float64(4756.08958)), 22: (np.float64(6052.0), np.float64(6052.0)), 23: (np.float64(2163.8071800000002), np.float64(2239.0955599999998)), 24: (np.float64(3589.75531), np.float64(3709.0717099999997)), 25: (np.float64(1717.97791), np.float64(1798.36825)), 26: (np.float64(4899.20767), np.float64(5089.546069999999))}\n",
      " intertimes :  (np.float64(1717.97791), np.float64(1798.36825))\n",
      " duration   :  1758\n",
      "line 351...  estimate_duration : 25 \t sec:  1758\n",
      "line 352...  total duration [19, 25]  3331 / 55 min \n",
      "LINE:389 (iter: 6) -- predict_mask([model], '[19, 25]' ->  '3331 < 22724 sec' ?)\n",
      "\n",
      "\n",
      "-----------------\n",
      "line 379 bert_test_city[ Delh ] (iter: 7) -- predict_ mask([model], '[19, 25]')\n",
      "LINE 309, model.predict( to_predict=[['19', '25']] ) \n",
      "LINE 315  predseq => [19, 25],  maskpos => 1\n",
      "-- predict_ mask_pos ( <model>, seq= [19, 25], maskpos= 1  )\n",
      "line 240 ... seq: [19, 25]\n",
      "      seq :  [19, 25]\n",
      "LINE 256 -- model.predict( to_predict=['19,[MASK],25'] )\n"
     ]
    },
    {
     "data": {
      "application/vnd.jupyter.widget-view+json": {
       "model_id": "b0dd8e1ef7f34a3ba86dab5b4cf8db08",
       "version_major": 2,
       "version_minor": 0
      },
      "text/plain": [
       "0it [00:00, ?it/s]"
      ]
     },
     "metadata": {},
     "output_type": "display_data"
    },
    {
     "data": {
      "application/vnd.jupyter.widget-view+json": {
       "model_id": "773c44f256344931acdc10ee0e32845b",
       "version_major": 2,
       "version_minor": 0
      },
      "text/plain": [
       "  0%|          | 0/1 [00:00<?, ?it/s]"
      ]
     },
     "metadata": {},
     "output_type": "display_data"
    },
    {
     "name": "stdout",
     "output_type": "stream",
     "text": [
      "  seq     -> [19, 25]\n",
      "  amax    -> 12\n",
      "  amaxval -> 0.9205260872840881\n",
      "maskpos   => 1\n",
      "--> predict_ mask_pos (model, '[19, 25]', 1 ) --- [19, 12, 25] \n",
      "LINE 317  result: nextpoi:12 nextval:0.9205260872840881 unmasked_seq:[19, 25]\n",
      "  POSSIBLE: 0.9205260872840881 -> [19, 25] [19, 25]\n",
      "line 381 bert_test_city[ Delh ] (iter: 7) -- predict_ mask([model], '[19, 25]')\n",
      "line 382 nextpoi:12, maskpos:1, nextval:0.9205260872840881, unmasked_seq:[19, 25]\n",
      "line 336... estimate_duration( pois ) : [19, 25] ) \n",
      "line 337... boot_times : {1: (np.float64(1447.3127599999998), np.float64(1509.4048599999999)), 3: (np.float64(644.0), np.float64(644.0)), 4: (np.float64(1710.11013), np.float64(1799.67295)), 5: (np.float64(4111.64443), np.float64(4452.76964)), 6: (np.float64(7485.125999999999), np.float64(7931.48429)), 7: (np.float64(2487.53043), np.float64(2568.7986600000004)), 9: (np.float64(4450.26771), np.float64(4663.99319)), 10: (np.float64(1302.45605), np.float64(1335.8737299999998)), 11: (np.float64(3576.4448500000003), np.float64(3821.34793)), 12: (np.float64(3329.4814300000003), np.float64(3554.3457799999996)), 14: (np.float64(24281.0), np.float64(24281.0)), 15: (900, 900), 16: (np.float64(2944.92384), np.float64(3125.91392)), 18: (np.float64(2677.94418), np.float64(2864.8084000000003)), 19: (np.float64(1529.4857), np.float64(1618.44008)), 21: (np.float64(4656.012790000001), np.float64(4756.08958)), 22: (np.float64(6052.0), np.float64(6052.0)), 23: (np.float64(2163.8071800000002), np.float64(2239.0955599999998)), 24: (np.float64(3589.75531), np.float64(3709.0717099999997)), 25: (np.float64(1717.97791), np.float64(1798.36825)), 26: (np.float64(4899.20767), np.float64(5089.546069999999))} ) \n",
      "boot_times :  {1: (np.float64(1447.3127599999998), np.float64(1509.4048599999999)), 3: (np.float64(644.0), np.float64(644.0)), 4: (np.float64(1710.11013), np.float64(1799.67295)), 5: (np.float64(4111.64443), np.float64(4452.76964)), 6: (np.float64(7485.125999999999), np.float64(7931.48429)), 7: (np.float64(2487.53043), np.float64(2568.7986600000004)), 9: (np.float64(4450.26771), np.float64(4663.99319)), 10: (np.float64(1302.45605), np.float64(1335.8737299999998)), 11: (np.float64(3576.4448500000003), np.float64(3821.34793)), 12: (np.float64(3329.4814300000003), np.float64(3554.3457799999996)), 14: (np.float64(24281.0), np.float64(24281.0)), 15: (900, 900), 16: (np.float64(2944.92384), np.float64(3125.91392)), 18: (np.float64(2677.94418), np.float64(2864.8084000000003)), 19: (np.float64(1529.4857), np.float64(1618.44008)), 21: (np.float64(4656.012790000001), np.float64(4756.08958)), 22: (np.float64(6052.0), np.float64(6052.0)), 23: (np.float64(2163.8071800000002), np.float64(2239.0955599999998)), 24: (np.float64(3589.75531), np.float64(3709.0717099999997)), 25: (np.float64(1717.97791), np.float64(1798.36825)), 26: (np.float64(4899.20767), np.float64(5089.546069999999))}\n",
      " intertimes :  (np.float64(1529.4857), np.float64(1618.44008))\n",
      " duration   :  1573\n",
      "line 351...  estimate_duration : 19 \t sec:  1573\n",
      "boot_times :  {1: (np.float64(1447.3127599999998), np.float64(1509.4048599999999)), 3: (np.float64(644.0), np.float64(644.0)), 4: (np.float64(1710.11013), np.float64(1799.67295)), 5: (np.float64(4111.64443), np.float64(4452.76964)), 6: (np.float64(7485.125999999999), np.float64(7931.48429)), 7: (np.float64(2487.53043), np.float64(2568.7986600000004)), 9: (np.float64(4450.26771), np.float64(4663.99319)), 10: (np.float64(1302.45605), np.float64(1335.8737299999998)), 11: (np.float64(3576.4448500000003), np.float64(3821.34793)), 12: (np.float64(3329.4814300000003), np.float64(3554.3457799999996)), 14: (np.float64(24281.0), np.float64(24281.0)), 15: (900, 900), 16: (np.float64(2944.92384), np.float64(3125.91392)), 18: (np.float64(2677.94418), np.float64(2864.8084000000003)), 19: (np.float64(1529.4857), np.float64(1618.44008)), 21: (np.float64(4656.012790000001), np.float64(4756.08958)), 22: (np.float64(6052.0), np.float64(6052.0)), 23: (np.float64(2163.8071800000002), np.float64(2239.0955599999998)), 24: (np.float64(3589.75531), np.float64(3709.0717099999997)), 25: (np.float64(1717.97791), np.float64(1798.36825)), 26: (np.float64(4899.20767), np.float64(5089.546069999999))}\n",
      " intertimes :  (np.float64(1717.97791), np.float64(1798.36825))\n",
      " duration   :  1758\n",
      "line 351...  estimate_duration : 25 \t sec:  1758\n",
      "line 352...  total duration [19, 25]  3331 / 55 min \n",
      "LINE:389 (iter: 7) -- predict_mask([model], '[19, 25]' ->  '3331 < 22724 sec' ?)\n",
      "\n",
      "\n",
      "-----------------\n",
      "line 379 bert_test_city[ Delh ] (iter: 8) -- predict_ mask([model], '[19, 25]')\n",
      "LINE 309, model.predict( to_predict=[['19', '25']] ) \n",
      "LINE 315  predseq => [19, 25],  maskpos => 1\n",
      "-- predict_ mask_pos ( <model>, seq= [19, 25], maskpos= 1  )\n",
      "line 240 ... seq: [19, 25]\n",
      "      seq :  [19, 25]\n",
      "LINE 256 -- model.predict( to_predict=['19,[MASK],25'] )\n"
     ]
    },
    {
     "data": {
      "application/vnd.jupyter.widget-view+json": {
       "model_id": "7080f88b25314f108ed66aa3d8e5edb1",
       "version_major": 2,
       "version_minor": 0
      },
      "text/plain": [
       "0it [00:00, ?it/s]"
      ]
     },
     "metadata": {},
     "output_type": "display_data"
    },
    {
     "data": {
      "application/vnd.jupyter.widget-view+json": {
       "model_id": "26d75b97f0c54c90a629fb904cff5635",
       "version_major": 2,
       "version_minor": 0
      },
      "text/plain": [
       "  0%|          | 0/1 [00:00<?, ?it/s]"
      ]
     },
     "metadata": {},
     "output_type": "display_data"
    },
    {
     "name": "stdout",
     "output_type": "stream",
     "text": [
      "  seq     -> [19, 25]\n",
      "  amax    -> 12\n",
      "  amaxval -> 0.9205260872840881\n",
      "maskpos   => 1\n",
      "--> predict_ mask_pos (model, '[19, 25]', 1 ) --- [19, 12, 25] \n",
      "LINE 317  result: nextpoi:12 nextval:0.9205260872840881 unmasked_seq:[19, 25]\n",
      "  POSSIBLE: 0.9205260872840881 -> [19, 25] [19, 25]\n",
      "line 381 bert_test_city[ Delh ] (iter: 8) -- predict_ mask([model], '[19, 25]')\n",
      "line 382 nextpoi:12, maskpos:1, nextval:0.9205260872840881, unmasked_seq:[19, 25]\n",
      "line 336... estimate_duration( pois ) : [19, 25] ) \n",
      "line 337... boot_times : {1: (np.float64(1447.3127599999998), np.float64(1509.4048599999999)), 3: (np.float64(644.0), np.float64(644.0)), 4: (np.float64(1710.11013), np.float64(1799.67295)), 5: (np.float64(4111.64443), np.float64(4452.76964)), 6: (np.float64(7485.125999999999), np.float64(7931.48429)), 7: (np.float64(2487.53043), np.float64(2568.7986600000004)), 9: (np.float64(4450.26771), np.float64(4663.99319)), 10: (np.float64(1302.45605), np.float64(1335.8737299999998)), 11: (np.float64(3576.4448500000003), np.float64(3821.34793)), 12: (np.float64(3329.4814300000003), np.float64(3554.3457799999996)), 14: (np.float64(24281.0), np.float64(24281.0)), 15: (900, 900), 16: (np.float64(2944.92384), np.float64(3125.91392)), 18: (np.float64(2677.94418), np.float64(2864.8084000000003)), 19: (np.float64(1529.4857), np.float64(1618.44008)), 21: (np.float64(4656.012790000001), np.float64(4756.08958)), 22: (np.float64(6052.0), np.float64(6052.0)), 23: (np.float64(2163.8071800000002), np.float64(2239.0955599999998)), 24: (np.float64(3589.75531), np.float64(3709.0717099999997)), 25: (np.float64(1717.97791), np.float64(1798.36825)), 26: (np.float64(4899.20767), np.float64(5089.546069999999))} ) \n",
      "boot_times :  {1: (np.float64(1447.3127599999998), np.float64(1509.4048599999999)), 3: (np.float64(644.0), np.float64(644.0)), 4: (np.float64(1710.11013), np.float64(1799.67295)), 5: (np.float64(4111.64443), np.float64(4452.76964)), 6: (np.float64(7485.125999999999), np.float64(7931.48429)), 7: (np.float64(2487.53043), np.float64(2568.7986600000004)), 9: (np.float64(4450.26771), np.float64(4663.99319)), 10: (np.float64(1302.45605), np.float64(1335.8737299999998)), 11: (np.float64(3576.4448500000003), np.float64(3821.34793)), 12: (np.float64(3329.4814300000003), np.float64(3554.3457799999996)), 14: (np.float64(24281.0), np.float64(24281.0)), 15: (900, 900), 16: (np.float64(2944.92384), np.float64(3125.91392)), 18: (np.float64(2677.94418), np.float64(2864.8084000000003)), 19: (np.float64(1529.4857), np.float64(1618.44008)), 21: (np.float64(4656.012790000001), np.float64(4756.08958)), 22: (np.float64(6052.0), np.float64(6052.0)), 23: (np.float64(2163.8071800000002), np.float64(2239.0955599999998)), 24: (np.float64(3589.75531), np.float64(3709.0717099999997)), 25: (np.float64(1717.97791), np.float64(1798.36825)), 26: (np.float64(4899.20767), np.float64(5089.546069999999))}\n",
      " intertimes :  (np.float64(1529.4857), np.float64(1618.44008))\n",
      " duration   :  1573\n",
      "line 351...  estimate_duration : 19 \t sec:  1573\n",
      "boot_times :  {1: (np.float64(1447.3127599999998), np.float64(1509.4048599999999)), 3: (np.float64(644.0), np.float64(644.0)), 4: (np.float64(1710.11013), np.float64(1799.67295)), 5: (np.float64(4111.64443), np.float64(4452.76964)), 6: (np.float64(7485.125999999999), np.float64(7931.48429)), 7: (np.float64(2487.53043), np.float64(2568.7986600000004)), 9: (np.float64(4450.26771), np.float64(4663.99319)), 10: (np.float64(1302.45605), np.float64(1335.8737299999998)), 11: (np.float64(3576.4448500000003), np.float64(3821.34793)), 12: (np.float64(3329.4814300000003), np.float64(3554.3457799999996)), 14: (np.float64(24281.0), np.float64(24281.0)), 15: (900, 900), 16: (np.float64(2944.92384), np.float64(3125.91392)), 18: (np.float64(2677.94418), np.float64(2864.8084000000003)), 19: (np.float64(1529.4857), np.float64(1618.44008)), 21: (np.float64(4656.012790000001), np.float64(4756.08958)), 22: (np.float64(6052.0), np.float64(6052.0)), 23: (np.float64(2163.8071800000002), np.float64(2239.0955599999998)), 24: (np.float64(3589.75531), np.float64(3709.0717099999997)), 25: (np.float64(1717.97791), np.float64(1798.36825)), 26: (np.float64(4899.20767), np.float64(5089.546069999999))}\n",
      " intertimes :  (np.float64(1717.97791), np.float64(1798.36825))\n",
      " duration   :  1758\n",
      "line 351...  estimate_duration : 25 \t sec:  1758\n",
      "line 352...  total duration [19, 25]  3331 / 55 min \n",
      "LINE:389 (iter: 8) -- predict_mask([model], '[19, 25]' ->  '3331 < 22724 sec' ?)\n",
      "\n",
      "\n",
      "-----------------\n",
      "line 379 bert_test_city[ Delh ] (iter: 9) -- predict_ mask([model], '[19, 25]')\n",
      "LINE 309, model.predict( to_predict=[['19', '25']] ) \n",
      "LINE 315  predseq => [19, 25],  maskpos => 1\n",
      "-- predict_ mask_pos ( <model>, seq= [19, 25], maskpos= 1  )\n",
      "line 240 ... seq: [19, 25]\n",
      "      seq :  [19, 25]\n",
      "LINE 256 -- model.predict( to_predict=['19,[MASK],25'] )\n"
     ]
    },
    {
     "data": {
      "application/vnd.jupyter.widget-view+json": {
       "model_id": "100f8ce038404148bdbd3b0ba86c4fa4",
       "version_major": 2,
       "version_minor": 0
      },
      "text/plain": [
       "0it [00:00, ?it/s]"
      ]
     },
     "metadata": {},
     "output_type": "display_data"
    },
    {
     "data": {
      "application/vnd.jupyter.widget-view+json": {
       "model_id": "051f935f163845908d30e40eefa63d59",
       "version_major": 2,
       "version_minor": 0
      },
      "text/plain": [
       "  0%|          | 0/1 [00:00<?, ?it/s]"
      ]
     },
     "metadata": {},
     "output_type": "display_data"
    },
    {
     "name": "stdout",
     "output_type": "stream",
     "text": [
      "  seq     -> [19, 25]\n",
      "  amax    -> 12\n",
      "  amaxval -> 0.9205260872840881\n",
      "maskpos   => 1\n",
      "--> predict_ mask_pos (model, '[19, 25]', 1 ) --- [19, 12, 25] \n",
      "LINE 317  result: nextpoi:12 nextval:0.9205260872840881 unmasked_seq:[19, 25]\n",
      "  POSSIBLE: 0.9205260872840881 -> [19, 25] [19, 25]\n",
      "line 381 bert_test_city[ Delh ] (iter: 9) -- predict_ mask([model], '[19, 25]')\n",
      "line 382 nextpoi:12, maskpos:1, nextval:0.9205260872840881, unmasked_seq:[19, 25]\n",
      "line 336... estimate_duration( pois ) : [19, 25] ) \n",
      "line 337... boot_times : {1: (np.float64(1447.3127599999998), np.float64(1509.4048599999999)), 3: (np.float64(644.0), np.float64(644.0)), 4: (np.float64(1710.11013), np.float64(1799.67295)), 5: (np.float64(4111.64443), np.float64(4452.76964)), 6: (np.float64(7485.125999999999), np.float64(7931.48429)), 7: (np.float64(2487.53043), np.float64(2568.7986600000004)), 9: (np.float64(4450.26771), np.float64(4663.99319)), 10: (np.float64(1302.45605), np.float64(1335.8737299999998)), 11: (np.float64(3576.4448500000003), np.float64(3821.34793)), 12: (np.float64(3329.4814300000003), np.float64(3554.3457799999996)), 14: (np.float64(24281.0), np.float64(24281.0)), 15: (900, 900), 16: (np.float64(2944.92384), np.float64(3125.91392)), 18: (np.float64(2677.94418), np.float64(2864.8084000000003)), 19: (np.float64(1529.4857), np.float64(1618.44008)), 21: (np.float64(4656.012790000001), np.float64(4756.08958)), 22: (np.float64(6052.0), np.float64(6052.0)), 23: (np.float64(2163.8071800000002), np.float64(2239.0955599999998)), 24: (np.float64(3589.75531), np.float64(3709.0717099999997)), 25: (np.float64(1717.97791), np.float64(1798.36825)), 26: (np.float64(4899.20767), np.float64(5089.546069999999))} ) \n",
      "boot_times :  {1: (np.float64(1447.3127599999998), np.float64(1509.4048599999999)), 3: (np.float64(644.0), np.float64(644.0)), 4: (np.float64(1710.11013), np.float64(1799.67295)), 5: (np.float64(4111.64443), np.float64(4452.76964)), 6: (np.float64(7485.125999999999), np.float64(7931.48429)), 7: (np.float64(2487.53043), np.float64(2568.7986600000004)), 9: (np.float64(4450.26771), np.float64(4663.99319)), 10: (np.float64(1302.45605), np.float64(1335.8737299999998)), 11: (np.float64(3576.4448500000003), np.float64(3821.34793)), 12: (np.float64(3329.4814300000003), np.float64(3554.3457799999996)), 14: (np.float64(24281.0), np.float64(24281.0)), 15: (900, 900), 16: (np.float64(2944.92384), np.float64(3125.91392)), 18: (np.float64(2677.94418), np.float64(2864.8084000000003)), 19: (np.float64(1529.4857), np.float64(1618.44008)), 21: (np.float64(4656.012790000001), np.float64(4756.08958)), 22: (np.float64(6052.0), np.float64(6052.0)), 23: (np.float64(2163.8071800000002), np.float64(2239.0955599999998)), 24: (np.float64(3589.75531), np.float64(3709.0717099999997)), 25: (np.float64(1717.97791), np.float64(1798.36825)), 26: (np.float64(4899.20767), np.float64(5089.546069999999))}\n",
      " intertimes :  (np.float64(1529.4857), np.float64(1618.44008))\n",
      " duration   :  1573\n",
      "line 351...  estimate_duration : 19 \t sec:  1573\n",
      "boot_times :  {1: (np.float64(1447.3127599999998), np.float64(1509.4048599999999)), 3: (np.float64(644.0), np.float64(644.0)), 4: (np.float64(1710.11013), np.float64(1799.67295)), 5: (np.float64(4111.64443), np.float64(4452.76964)), 6: (np.float64(7485.125999999999), np.float64(7931.48429)), 7: (np.float64(2487.53043), np.float64(2568.7986600000004)), 9: (np.float64(4450.26771), np.float64(4663.99319)), 10: (np.float64(1302.45605), np.float64(1335.8737299999998)), 11: (np.float64(3576.4448500000003), np.float64(3821.34793)), 12: (np.float64(3329.4814300000003), np.float64(3554.3457799999996)), 14: (np.float64(24281.0), np.float64(24281.0)), 15: (900, 900), 16: (np.float64(2944.92384), np.float64(3125.91392)), 18: (np.float64(2677.94418), np.float64(2864.8084000000003)), 19: (np.float64(1529.4857), np.float64(1618.44008)), 21: (np.float64(4656.012790000001), np.float64(4756.08958)), 22: (np.float64(6052.0), np.float64(6052.0)), 23: (np.float64(2163.8071800000002), np.float64(2239.0955599999998)), 24: (np.float64(3589.75531), np.float64(3709.0717099999997)), 25: (np.float64(1717.97791), np.float64(1798.36825)), 26: (np.float64(4899.20767), np.float64(5089.546069999999))}\n",
      " intertimes :  (np.float64(1717.97791), np.float64(1798.36825))\n",
      " duration   :  1758\n",
      "line 351...  estimate_duration : 25 \t sec:  1758\n",
      "line 352...  total duration [19, 25]  3331 / 55 min \n",
      "LINE:389 (iter: 9) -- predict_mask([model], '[19, 25]' ->  '3331 < 22724 sec' ?)\n",
      "\n",
      "\n",
      "-----------------\n",
      "line 379 bert_test_city[ Delh ] (iter: 10) -- predict_ mask([model], '[19, 25]')\n",
      "LINE 309, model.predict( to_predict=[['19', '25']] ) \n",
      "LINE 315  predseq => [19, 25],  maskpos => 1\n",
      "-- predict_ mask_pos ( <model>, seq= [19, 25], maskpos= 1  )\n",
      "line 240 ... seq: [19, 25]\n",
      "      seq :  [19, 25]\n",
      "LINE 256 -- model.predict( to_predict=['19,[MASK],25'] )\n"
     ]
    },
    {
     "data": {
      "application/vnd.jupyter.widget-view+json": {
       "model_id": "fcb7c8f05de6484ab75310f5427539cb",
       "version_major": 2,
       "version_minor": 0
      },
      "text/plain": [
       "0it [00:00, ?it/s]"
      ]
     },
     "metadata": {},
     "output_type": "display_data"
    },
    {
     "data": {
      "application/vnd.jupyter.widget-view+json": {
       "model_id": "4596bd90feee4f8a8565dbdd89cab982",
       "version_major": 2,
       "version_minor": 0
      },
      "text/plain": [
       "  0%|          | 0/1 [00:00<?, ?it/s]"
      ]
     },
     "metadata": {},
     "output_type": "display_data"
    },
    {
     "name": "stdout",
     "output_type": "stream",
     "text": [
      "  seq     -> [19, 25]\n",
      "  amax    -> 12\n",
      "  amaxval -> 0.9205260872840881\n",
      "maskpos   => 1\n",
      "--> predict_ mask_pos (model, '[19, 25]', 1 ) --- [19, 12, 25] \n",
      "LINE 317  result: nextpoi:12 nextval:0.9205260872840881 unmasked_seq:[19, 25]\n",
      "  POSSIBLE: 0.9205260872840881 -> [19, 25] [19, 25]\n",
      "line 381 bert_test_city[ Delh ] (iter: 10) -- predict_ mask([model], '[19, 25]')\n",
      "line 382 nextpoi:12, maskpos:1, nextval:0.9205260872840881, unmasked_seq:[19, 25]\n",
      "line 336... estimate_duration( pois ) : [19, 25] ) \n",
      "line 337... boot_times : {1: (np.float64(1447.3127599999998), np.float64(1509.4048599999999)), 3: (np.float64(644.0), np.float64(644.0)), 4: (np.float64(1710.11013), np.float64(1799.67295)), 5: (np.float64(4111.64443), np.float64(4452.76964)), 6: (np.float64(7485.125999999999), np.float64(7931.48429)), 7: (np.float64(2487.53043), np.float64(2568.7986600000004)), 9: (np.float64(4450.26771), np.float64(4663.99319)), 10: (np.float64(1302.45605), np.float64(1335.8737299999998)), 11: (np.float64(3576.4448500000003), np.float64(3821.34793)), 12: (np.float64(3329.4814300000003), np.float64(3554.3457799999996)), 14: (np.float64(24281.0), np.float64(24281.0)), 15: (900, 900), 16: (np.float64(2944.92384), np.float64(3125.91392)), 18: (np.float64(2677.94418), np.float64(2864.8084000000003)), 19: (np.float64(1529.4857), np.float64(1618.44008)), 21: (np.float64(4656.012790000001), np.float64(4756.08958)), 22: (np.float64(6052.0), np.float64(6052.0)), 23: (np.float64(2163.8071800000002), np.float64(2239.0955599999998)), 24: (np.float64(3589.75531), np.float64(3709.0717099999997)), 25: (np.float64(1717.97791), np.float64(1798.36825)), 26: (np.float64(4899.20767), np.float64(5089.546069999999))} ) \n",
      "boot_times :  {1: (np.float64(1447.3127599999998), np.float64(1509.4048599999999)), 3: (np.float64(644.0), np.float64(644.0)), 4: (np.float64(1710.11013), np.float64(1799.67295)), 5: (np.float64(4111.64443), np.float64(4452.76964)), 6: (np.float64(7485.125999999999), np.float64(7931.48429)), 7: (np.float64(2487.53043), np.float64(2568.7986600000004)), 9: (np.float64(4450.26771), np.float64(4663.99319)), 10: (np.float64(1302.45605), np.float64(1335.8737299999998)), 11: (np.float64(3576.4448500000003), np.float64(3821.34793)), 12: (np.float64(3329.4814300000003), np.float64(3554.3457799999996)), 14: (np.float64(24281.0), np.float64(24281.0)), 15: (900, 900), 16: (np.float64(2944.92384), np.float64(3125.91392)), 18: (np.float64(2677.94418), np.float64(2864.8084000000003)), 19: (np.float64(1529.4857), np.float64(1618.44008)), 21: (np.float64(4656.012790000001), np.float64(4756.08958)), 22: (np.float64(6052.0), np.float64(6052.0)), 23: (np.float64(2163.8071800000002), np.float64(2239.0955599999998)), 24: (np.float64(3589.75531), np.float64(3709.0717099999997)), 25: (np.float64(1717.97791), np.float64(1798.36825)), 26: (np.float64(4899.20767), np.float64(5089.546069999999))}\n",
      " intertimes :  (np.float64(1529.4857), np.float64(1618.44008))\n",
      " duration   :  1573\n",
      "line 351...  estimate_duration : 19 \t sec:  1573\n",
      "boot_times :  {1: (np.float64(1447.3127599999998), np.float64(1509.4048599999999)), 3: (np.float64(644.0), np.float64(644.0)), 4: (np.float64(1710.11013), np.float64(1799.67295)), 5: (np.float64(4111.64443), np.float64(4452.76964)), 6: (np.float64(7485.125999999999), np.float64(7931.48429)), 7: (np.float64(2487.53043), np.float64(2568.7986600000004)), 9: (np.float64(4450.26771), np.float64(4663.99319)), 10: (np.float64(1302.45605), np.float64(1335.8737299999998)), 11: (np.float64(3576.4448500000003), np.float64(3821.34793)), 12: (np.float64(3329.4814300000003), np.float64(3554.3457799999996)), 14: (np.float64(24281.0), np.float64(24281.0)), 15: (900, 900), 16: (np.float64(2944.92384), np.float64(3125.91392)), 18: (np.float64(2677.94418), np.float64(2864.8084000000003)), 19: (np.float64(1529.4857), np.float64(1618.44008)), 21: (np.float64(4656.012790000001), np.float64(4756.08958)), 22: (np.float64(6052.0), np.float64(6052.0)), 23: (np.float64(2163.8071800000002), np.float64(2239.0955599999998)), 24: (np.float64(3589.75531), np.float64(3709.0717099999997)), 25: (np.float64(1717.97791), np.float64(1798.36825)), 26: (np.float64(4899.20767), np.float64(5089.546069999999))}\n",
      " intertimes :  (np.float64(1717.97791), np.float64(1798.36825))\n",
      " duration   :  1758\n",
      "line 351...  estimate_duration : 25 \t sec:  1758\n",
      "line 352...  total duration [19, 25]  3331 / 55 min \n",
      "LINE:389 (iter: 10) -- predict_mask([model], '[19, 25]' ->  '3331 < 22724 sec' ?)\n",
      "\n",
      "\n",
      "-----------------\n",
      "line 379 bert_test_city[ Delh ] (iter: 11) -- predict_ mask([model], '[19, 25]')\n",
      "LINE 309, model.predict( to_predict=[['19', '25']] ) \n",
      "LINE 315  predseq => [19, 25],  maskpos => 1\n",
      "-- predict_ mask_pos ( <model>, seq= [19, 25], maskpos= 1  )\n",
      "line 240 ... seq: [19, 25]\n",
      "      seq :  [19, 25]\n",
      "LINE 256 -- model.predict( to_predict=['19,[MASK],25'] )\n"
     ]
    },
    {
     "data": {
      "application/vnd.jupyter.widget-view+json": {
       "model_id": "259c6d1f767b4eb1af322dfecae6650b",
       "version_major": 2,
       "version_minor": 0
      },
      "text/plain": [
       "0it [00:00, ?it/s]"
      ]
     },
     "metadata": {},
     "output_type": "display_data"
    },
    {
     "data": {
      "application/vnd.jupyter.widget-view+json": {
       "model_id": "a597133c8c7f414ea66c884a1a706e77",
       "version_major": 2,
       "version_minor": 0
      },
      "text/plain": [
       "  0%|          | 0/1 [00:00<?, ?it/s]"
      ]
     },
     "metadata": {},
     "output_type": "display_data"
    },
    {
     "name": "stdout",
     "output_type": "stream",
     "text": [
      "  seq     -> [19, 25]\n",
      "  amax    -> 12\n",
      "  amaxval -> 0.9205260872840881\n",
      "maskpos   => 1\n",
      "--> predict_ mask_pos (model, '[19, 25]', 1 ) --- [19, 12, 25] \n",
      "LINE 317  result: nextpoi:12 nextval:0.9205260872840881 unmasked_seq:[19, 25]\n",
      "  POSSIBLE: 0.9205260872840881 -> [19, 25] [19, 25]\n",
      "line 381 bert_test_city[ Delh ] (iter: 11) -- predict_ mask([model], '[19, 25]')\n",
      "line 382 nextpoi:12, maskpos:1, nextval:0.9205260872840881, unmasked_seq:[19, 25]\n",
      "line 336... estimate_duration( pois ) : [19, 25] ) \n",
      "line 337... boot_times : {1: (np.float64(1447.3127599999998), np.float64(1509.4048599999999)), 3: (np.float64(644.0), np.float64(644.0)), 4: (np.float64(1710.11013), np.float64(1799.67295)), 5: (np.float64(4111.64443), np.float64(4452.76964)), 6: (np.float64(7485.125999999999), np.float64(7931.48429)), 7: (np.float64(2487.53043), np.float64(2568.7986600000004)), 9: (np.float64(4450.26771), np.float64(4663.99319)), 10: (np.float64(1302.45605), np.float64(1335.8737299999998)), 11: (np.float64(3576.4448500000003), np.float64(3821.34793)), 12: (np.float64(3329.4814300000003), np.float64(3554.3457799999996)), 14: (np.float64(24281.0), np.float64(24281.0)), 15: (900, 900), 16: (np.float64(2944.92384), np.float64(3125.91392)), 18: (np.float64(2677.94418), np.float64(2864.8084000000003)), 19: (np.float64(1529.4857), np.float64(1618.44008)), 21: (np.float64(4656.012790000001), np.float64(4756.08958)), 22: (np.float64(6052.0), np.float64(6052.0)), 23: (np.float64(2163.8071800000002), np.float64(2239.0955599999998)), 24: (np.float64(3589.75531), np.float64(3709.0717099999997)), 25: (np.float64(1717.97791), np.float64(1798.36825)), 26: (np.float64(4899.20767), np.float64(5089.546069999999))} ) \n",
      "boot_times :  {1: (np.float64(1447.3127599999998), np.float64(1509.4048599999999)), 3: (np.float64(644.0), np.float64(644.0)), 4: (np.float64(1710.11013), np.float64(1799.67295)), 5: (np.float64(4111.64443), np.float64(4452.76964)), 6: (np.float64(7485.125999999999), np.float64(7931.48429)), 7: (np.float64(2487.53043), np.float64(2568.7986600000004)), 9: (np.float64(4450.26771), np.float64(4663.99319)), 10: (np.float64(1302.45605), np.float64(1335.8737299999998)), 11: (np.float64(3576.4448500000003), np.float64(3821.34793)), 12: (np.float64(3329.4814300000003), np.float64(3554.3457799999996)), 14: (np.float64(24281.0), np.float64(24281.0)), 15: (900, 900), 16: (np.float64(2944.92384), np.float64(3125.91392)), 18: (np.float64(2677.94418), np.float64(2864.8084000000003)), 19: (np.float64(1529.4857), np.float64(1618.44008)), 21: (np.float64(4656.012790000001), np.float64(4756.08958)), 22: (np.float64(6052.0), np.float64(6052.0)), 23: (np.float64(2163.8071800000002), np.float64(2239.0955599999998)), 24: (np.float64(3589.75531), np.float64(3709.0717099999997)), 25: (np.float64(1717.97791), np.float64(1798.36825)), 26: (np.float64(4899.20767), np.float64(5089.546069999999))}\n",
      " intertimes :  (np.float64(1529.4857), np.float64(1618.44008))\n",
      " duration   :  1573\n",
      "line 351...  estimate_duration : 19 \t sec:  1573\n",
      "boot_times :  {1: (np.float64(1447.3127599999998), np.float64(1509.4048599999999)), 3: (np.float64(644.0), np.float64(644.0)), 4: (np.float64(1710.11013), np.float64(1799.67295)), 5: (np.float64(4111.64443), np.float64(4452.76964)), 6: (np.float64(7485.125999999999), np.float64(7931.48429)), 7: (np.float64(2487.53043), np.float64(2568.7986600000004)), 9: (np.float64(4450.26771), np.float64(4663.99319)), 10: (np.float64(1302.45605), np.float64(1335.8737299999998)), 11: (np.float64(3576.4448500000003), np.float64(3821.34793)), 12: (np.float64(3329.4814300000003), np.float64(3554.3457799999996)), 14: (np.float64(24281.0), np.float64(24281.0)), 15: (900, 900), 16: (np.float64(2944.92384), np.float64(3125.91392)), 18: (np.float64(2677.94418), np.float64(2864.8084000000003)), 19: (np.float64(1529.4857), np.float64(1618.44008)), 21: (np.float64(4656.012790000001), np.float64(4756.08958)), 22: (np.float64(6052.0), np.float64(6052.0)), 23: (np.float64(2163.8071800000002), np.float64(2239.0955599999998)), 24: (np.float64(3589.75531), np.float64(3709.0717099999997)), 25: (np.float64(1717.97791), np.float64(1798.36825)), 26: (np.float64(4899.20767), np.float64(5089.546069999999))}\n",
      " intertimes :  (np.float64(1717.97791), np.float64(1798.36825))\n",
      " duration   :  1758\n",
      "line 351...  estimate_duration : 25 \t sec:  1758\n",
      "line 352...  total duration [19, 25]  3331 / 55 min \n",
      "LINE:389 (iter: 11) -- predict_mask([model], '[19, 25]' ->  '3331 < 22724 sec' ?)\n",
      "\n",
      "\n",
      "-----------------\n",
      "line 379 bert_test_city[ Delh ] (iter: 12) -- predict_ mask([model], '[19, 25]')\n",
      "LINE 309, model.predict( to_predict=[['19', '25']] ) \n",
      "LINE 315  predseq => [19, 25],  maskpos => 1\n",
      "-- predict_ mask_pos ( <model>, seq= [19, 25], maskpos= 1  )\n",
      "line 240 ... seq: [19, 25]\n",
      "      seq :  [19, 25]\n",
      "LINE 256 -- model.predict( to_predict=['19,[MASK],25'] )\n"
     ]
    },
    {
     "data": {
      "application/vnd.jupyter.widget-view+json": {
       "model_id": "3cb50acac1874d5c9a9ad5785044c51d",
       "version_major": 2,
       "version_minor": 0
      },
      "text/plain": [
       "0it [00:00, ?it/s]"
      ]
     },
     "metadata": {},
     "output_type": "display_data"
    },
    {
     "data": {
      "application/vnd.jupyter.widget-view+json": {
       "model_id": "3cc6e8f1c8ec41acbce01492ed215c44",
       "version_major": 2,
       "version_minor": 0
      },
      "text/plain": [
       "  0%|          | 0/1 [00:00<?, ?it/s]"
      ]
     },
     "metadata": {},
     "output_type": "display_data"
    },
    {
     "name": "stdout",
     "output_type": "stream",
     "text": [
      "  seq     -> [19, 25]\n",
      "  amax    -> 12\n",
      "  amaxval -> 0.9205260872840881\n",
      "maskpos   => 1\n",
      "--> predict_ mask_pos (model, '[19, 25]', 1 ) --- [19, 12, 25] \n",
      "LINE 317  result: nextpoi:12 nextval:0.9205260872840881 unmasked_seq:[19, 25]\n",
      "  POSSIBLE: 0.9205260872840881 -> [19, 25] [19, 25]\n",
      "line 381 bert_test_city[ Delh ] (iter: 12) -- predict_ mask([model], '[19, 25]')\n",
      "line 382 nextpoi:12, maskpos:1, nextval:0.9205260872840881, unmasked_seq:[19, 25]\n",
      "line 336... estimate_duration( pois ) : [19, 25] ) \n",
      "line 337... boot_times : {1: (np.float64(1447.3127599999998), np.float64(1509.4048599999999)), 3: (np.float64(644.0), np.float64(644.0)), 4: (np.float64(1710.11013), np.float64(1799.67295)), 5: (np.float64(4111.64443), np.float64(4452.76964)), 6: (np.float64(7485.125999999999), np.float64(7931.48429)), 7: (np.float64(2487.53043), np.float64(2568.7986600000004)), 9: (np.float64(4450.26771), np.float64(4663.99319)), 10: (np.float64(1302.45605), np.float64(1335.8737299999998)), 11: (np.float64(3576.4448500000003), np.float64(3821.34793)), 12: (np.float64(3329.4814300000003), np.float64(3554.3457799999996)), 14: (np.float64(24281.0), np.float64(24281.0)), 15: (900, 900), 16: (np.float64(2944.92384), np.float64(3125.91392)), 18: (np.float64(2677.94418), np.float64(2864.8084000000003)), 19: (np.float64(1529.4857), np.float64(1618.44008)), 21: (np.float64(4656.012790000001), np.float64(4756.08958)), 22: (np.float64(6052.0), np.float64(6052.0)), 23: (np.float64(2163.8071800000002), np.float64(2239.0955599999998)), 24: (np.float64(3589.75531), np.float64(3709.0717099999997)), 25: (np.float64(1717.97791), np.float64(1798.36825)), 26: (np.float64(4899.20767), np.float64(5089.546069999999))} ) \n",
      "boot_times :  {1: (np.float64(1447.3127599999998), np.float64(1509.4048599999999)), 3: (np.float64(644.0), np.float64(644.0)), 4: (np.float64(1710.11013), np.float64(1799.67295)), 5: (np.float64(4111.64443), np.float64(4452.76964)), 6: (np.float64(7485.125999999999), np.float64(7931.48429)), 7: (np.float64(2487.53043), np.float64(2568.7986600000004)), 9: (np.float64(4450.26771), np.float64(4663.99319)), 10: (np.float64(1302.45605), np.float64(1335.8737299999998)), 11: (np.float64(3576.4448500000003), np.float64(3821.34793)), 12: (np.float64(3329.4814300000003), np.float64(3554.3457799999996)), 14: (np.float64(24281.0), np.float64(24281.0)), 15: (900, 900), 16: (np.float64(2944.92384), np.float64(3125.91392)), 18: (np.float64(2677.94418), np.float64(2864.8084000000003)), 19: (np.float64(1529.4857), np.float64(1618.44008)), 21: (np.float64(4656.012790000001), np.float64(4756.08958)), 22: (np.float64(6052.0), np.float64(6052.0)), 23: (np.float64(2163.8071800000002), np.float64(2239.0955599999998)), 24: (np.float64(3589.75531), np.float64(3709.0717099999997)), 25: (np.float64(1717.97791), np.float64(1798.36825)), 26: (np.float64(4899.20767), np.float64(5089.546069999999))}\n",
      " intertimes :  (np.float64(1529.4857), np.float64(1618.44008))\n",
      " duration   :  1573\n",
      "line 351...  estimate_duration : 19 \t sec:  1573\n",
      "boot_times :  {1: (np.float64(1447.3127599999998), np.float64(1509.4048599999999)), 3: (np.float64(644.0), np.float64(644.0)), 4: (np.float64(1710.11013), np.float64(1799.67295)), 5: (np.float64(4111.64443), np.float64(4452.76964)), 6: (np.float64(7485.125999999999), np.float64(7931.48429)), 7: (np.float64(2487.53043), np.float64(2568.7986600000004)), 9: (np.float64(4450.26771), np.float64(4663.99319)), 10: (np.float64(1302.45605), np.float64(1335.8737299999998)), 11: (np.float64(3576.4448500000003), np.float64(3821.34793)), 12: (np.float64(3329.4814300000003), np.float64(3554.3457799999996)), 14: (np.float64(24281.0), np.float64(24281.0)), 15: (900, 900), 16: (np.float64(2944.92384), np.float64(3125.91392)), 18: (np.float64(2677.94418), np.float64(2864.8084000000003)), 19: (np.float64(1529.4857), np.float64(1618.44008)), 21: (np.float64(4656.012790000001), np.float64(4756.08958)), 22: (np.float64(6052.0), np.float64(6052.0)), 23: (np.float64(2163.8071800000002), np.float64(2239.0955599999998)), 24: (np.float64(3589.75531), np.float64(3709.0717099999997)), 25: (np.float64(1717.97791), np.float64(1798.36825)), 26: (np.float64(4899.20767), np.float64(5089.546069999999))}\n",
      " intertimes :  (np.float64(1717.97791), np.float64(1798.36825))\n",
      " duration   :  1758\n",
      "line 351...  estimate_duration : 25 \t sec:  1758\n",
      "line 352...  total duration [19, 25]  3331 / 55 min \n",
      "LINE:389 (iter: 12) -- predict_mask([model], '[19, 25]' ->  '3331 < 22724 sec' ?)\n",
      "\n",
      "\n",
      "-----------------\n",
      "line 379 bert_test_city[ Delh ] (iter: 13) -- predict_ mask([model], '[19, 25]')\n",
      "LINE 309, model.predict( to_predict=[['19', '25']] ) \n",
      "LINE 315  predseq => [19, 25],  maskpos => 1\n",
      "-- predict_ mask_pos ( <model>, seq= [19, 25], maskpos= 1  )\n",
      "line 240 ... seq: [19, 25]\n",
      "      seq :  [19, 25]\n",
      "LINE 256 -- model.predict( to_predict=['19,[MASK],25'] )\n"
     ]
    },
    {
     "data": {
      "application/vnd.jupyter.widget-view+json": {
       "model_id": "c53e2eecbb5b4777b35840b4280629b9",
       "version_major": 2,
       "version_minor": 0
      },
      "text/plain": [
       "0it [00:00, ?it/s]"
      ]
     },
     "metadata": {},
     "output_type": "display_data"
    },
    {
     "data": {
      "application/vnd.jupyter.widget-view+json": {
       "model_id": "a23bbac0757b45a68ca6d1f12bbbc837",
       "version_major": 2,
       "version_minor": 0
      },
      "text/plain": [
       "  0%|          | 0/1 [00:00<?, ?it/s]"
      ]
     },
     "metadata": {},
     "output_type": "display_data"
    },
    {
     "name": "stdout",
     "output_type": "stream",
     "text": [
      "  seq     -> [19, 25]\n",
      "  amax    -> 12\n",
      "  amaxval -> 0.9205260872840881\n",
      "maskpos   => 1\n",
      "--> predict_ mask_pos (model, '[19, 25]', 1 ) --- [19, 12, 25] \n",
      "LINE 317  result: nextpoi:12 nextval:0.9205260872840881 unmasked_seq:[19, 25]\n",
      "  POSSIBLE: 0.9205260872840881 -> [19, 25] [19, 25]\n",
      "line 381 bert_test_city[ Delh ] (iter: 13) -- predict_ mask([model], '[19, 25]')\n",
      "line 382 nextpoi:12, maskpos:1, nextval:0.9205260872840881, unmasked_seq:[19, 25]\n",
      "line 336... estimate_duration( pois ) : [19, 25] ) \n",
      "line 337... boot_times : {1: (np.float64(1447.3127599999998), np.float64(1509.4048599999999)), 3: (np.float64(644.0), np.float64(644.0)), 4: (np.float64(1710.11013), np.float64(1799.67295)), 5: (np.float64(4111.64443), np.float64(4452.76964)), 6: (np.float64(7485.125999999999), np.float64(7931.48429)), 7: (np.float64(2487.53043), np.float64(2568.7986600000004)), 9: (np.float64(4450.26771), np.float64(4663.99319)), 10: (np.float64(1302.45605), np.float64(1335.8737299999998)), 11: (np.float64(3576.4448500000003), np.float64(3821.34793)), 12: (np.float64(3329.4814300000003), np.float64(3554.3457799999996)), 14: (np.float64(24281.0), np.float64(24281.0)), 15: (900, 900), 16: (np.float64(2944.92384), np.float64(3125.91392)), 18: (np.float64(2677.94418), np.float64(2864.8084000000003)), 19: (np.float64(1529.4857), np.float64(1618.44008)), 21: (np.float64(4656.012790000001), np.float64(4756.08958)), 22: (np.float64(6052.0), np.float64(6052.0)), 23: (np.float64(2163.8071800000002), np.float64(2239.0955599999998)), 24: (np.float64(3589.75531), np.float64(3709.0717099999997)), 25: (np.float64(1717.97791), np.float64(1798.36825)), 26: (np.float64(4899.20767), np.float64(5089.546069999999))} ) \n",
      "boot_times :  {1: (np.float64(1447.3127599999998), np.float64(1509.4048599999999)), 3: (np.float64(644.0), np.float64(644.0)), 4: (np.float64(1710.11013), np.float64(1799.67295)), 5: (np.float64(4111.64443), np.float64(4452.76964)), 6: (np.float64(7485.125999999999), np.float64(7931.48429)), 7: (np.float64(2487.53043), np.float64(2568.7986600000004)), 9: (np.float64(4450.26771), np.float64(4663.99319)), 10: (np.float64(1302.45605), np.float64(1335.8737299999998)), 11: (np.float64(3576.4448500000003), np.float64(3821.34793)), 12: (np.float64(3329.4814300000003), np.float64(3554.3457799999996)), 14: (np.float64(24281.0), np.float64(24281.0)), 15: (900, 900), 16: (np.float64(2944.92384), np.float64(3125.91392)), 18: (np.float64(2677.94418), np.float64(2864.8084000000003)), 19: (np.float64(1529.4857), np.float64(1618.44008)), 21: (np.float64(4656.012790000001), np.float64(4756.08958)), 22: (np.float64(6052.0), np.float64(6052.0)), 23: (np.float64(2163.8071800000002), np.float64(2239.0955599999998)), 24: (np.float64(3589.75531), np.float64(3709.0717099999997)), 25: (np.float64(1717.97791), np.float64(1798.36825)), 26: (np.float64(4899.20767), np.float64(5089.546069999999))}\n",
      " intertimes :  (np.float64(1529.4857), np.float64(1618.44008))\n",
      " duration   :  1573\n",
      "line 351...  estimate_duration : 19 \t sec:  1573\n",
      "boot_times :  {1: (np.float64(1447.3127599999998), np.float64(1509.4048599999999)), 3: (np.float64(644.0), np.float64(644.0)), 4: (np.float64(1710.11013), np.float64(1799.67295)), 5: (np.float64(4111.64443), np.float64(4452.76964)), 6: (np.float64(7485.125999999999), np.float64(7931.48429)), 7: (np.float64(2487.53043), np.float64(2568.7986600000004)), 9: (np.float64(4450.26771), np.float64(4663.99319)), 10: (np.float64(1302.45605), np.float64(1335.8737299999998)), 11: (np.float64(3576.4448500000003), np.float64(3821.34793)), 12: (np.float64(3329.4814300000003), np.float64(3554.3457799999996)), 14: (np.float64(24281.0), np.float64(24281.0)), 15: (900, 900), 16: (np.float64(2944.92384), np.float64(3125.91392)), 18: (np.float64(2677.94418), np.float64(2864.8084000000003)), 19: (np.float64(1529.4857), np.float64(1618.44008)), 21: (np.float64(4656.012790000001), np.float64(4756.08958)), 22: (np.float64(6052.0), np.float64(6052.0)), 23: (np.float64(2163.8071800000002), np.float64(2239.0955599999998)), 24: (np.float64(3589.75531), np.float64(3709.0717099999997)), 25: (np.float64(1717.97791), np.float64(1798.36825)), 26: (np.float64(4899.20767), np.float64(5089.546069999999))}\n",
      " intertimes :  (np.float64(1717.97791), np.float64(1798.36825))\n",
      " duration   :  1758\n",
      "line 351...  estimate_duration : 25 \t sec:  1758\n",
      "line 352...  total duration [19, 25]  3331 / 55 min \n",
      "LINE:389 (iter: 13) -- predict_mask([model], '[19, 25]' ->  '3331 < 22724 sec' ?)\n",
      "\n",
      "\n",
      "-----------------\n",
      "line 379 bert_test_city[ Delh ] (iter: 14) -- predict_ mask([model], '[19, 25]')\n",
      "LINE 309, model.predict( to_predict=[['19', '25']] ) \n",
      "LINE 315  predseq => [19, 25],  maskpos => 1\n",
      "-- predict_ mask_pos ( <model>, seq= [19, 25], maskpos= 1  )\n",
      "line 240 ... seq: [19, 25]\n",
      "      seq :  [19, 25]\n",
      "LINE 256 -- model.predict( to_predict=['19,[MASK],25'] )\n"
     ]
    },
    {
     "data": {
      "application/vnd.jupyter.widget-view+json": {
       "model_id": "61811e1cbc57498993cab5076bffe9c4",
       "version_major": 2,
       "version_minor": 0
      },
      "text/plain": [
       "0it [00:00, ?it/s]"
      ]
     },
     "metadata": {},
     "output_type": "display_data"
    },
    {
     "data": {
      "application/vnd.jupyter.widget-view+json": {
       "model_id": "ad78cd4c3eb740d2b84ece281c870b7a",
       "version_major": 2,
       "version_minor": 0
      },
      "text/plain": [
       "  0%|          | 0/1 [00:00<?, ?it/s]"
      ]
     },
     "metadata": {},
     "output_type": "display_data"
    },
    {
     "name": "stdout",
     "output_type": "stream",
     "text": [
      "  seq     -> [19, 25]\n",
      "  amax    -> 12\n",
      "  amaxval -> 0.9205260872840881\n",
      "maskpos   => 1\n",
      "--> predict_ mask_pos (model, '[19, 25]', 1 ) --- [19, 12, 25] \n",
      "LINE 317  result: nextpoi:12 nextval:0.9205260872840881 unmasked_seq:[19, 25]\n",
      "  POSSIBLE: 0.9205260872840881 -> [19, 25] [19, 25]\n",
      "line 381 bert_test_city[ Delh ] (iter: 14) -- predict_ mask([model], '[19, 25]')\n",
      "line 382 nextpoi:12, maskpos:1, nextval:0.9205260872840881, unmasked_seq:[19, 25]\n",
      "line 336... estimate_duration( pois ) : [19, 25] ) \n",
      "line 337... boot_times : {1: (np.float64(1447.3127599999998), np.float64(1509.4048599999999)), 3: (np.float64(644.0), np.float64(644.0)), 4: (np.float64(1710.11013), np.float64(1799.67295)), 5: (np.float64(4111.64443), np.float64(4452.76964)), 6: (np.float64(7485.125999999999), np.float64(7931.48429)), 7: (np.float64(2487.53043), np.float64(2568.7986600000004)), 9: (np.float64(4450.26771), np.float64(4663.99319)), 10: (np.float64(1302.45605), np.float64(1335.8737299999998)), 11: (np.float64(3576.4448500000003), np.float64(3821.34793)), 12: (np.float64(3329.4814300000003), np.float64(3554.3457799999996)), 14: (np.float64(24281.0), np.float64(24281.0)), 15: (900, 900), 16: (np.float64(2944.92384), np.float64(3125.91392)), 18: (np.float64(2677.94418), np.float64(2864.8084000000003)), 19: (np.float64(1529.4857), np.float64(1618.44008)), 21: (np.float64(4656.012790000001), np.float64(4756.08958)), 22: (np.float64(6052.0), np.float64(6052.0)), 23: (np.float64(2163.8071800000002), np.float64(2239.0955599999998)), 24: (np.float64(3589.75531), np.float64(3709.0717099999997)), 25: (np.float64(1717.97791), np.float64(1798.36825)), 26: (np.float64(4899.20767), np.float64(5089.546069999999))} ) \n",
      "boot_times :  {1: (np.float64(1447.3127599999998), np.float64(1509.4048599999999)), 3: (np.float64(644.0), np.float64(644.0)), 4: (np.float64(1710.11013), np.float64(1799.67295)), 5: (np.float64(4111.64443), np.float64(4452.76964)), 6: (np.float64(7485.125999999999), np.float64(7931.48429)), 7: (np.float64(2487.53043), np.float64(2568.7986600000004)), 9: (np.float64(4450.26771), np.float64(4663.99319)), 10: (np.float64(1302.45605), np.float64(1335.8737299999998)), 11: (np.float64(3576.4448500000003), np.float64(3821.34793)), 12: (np.float64(3329.4814300000003), np.float64(3554.3457799999996)), 14: (np.float64(24281.0), np.float64(24281.0)), 15: (900, 900), 16: (np.float64(2944.92384), np.float64(3125.91392)), 18: (np.float64(2677.94418), np.float64(2864.8084000000003)), 19: (np.float64(1529.4857), np.float64(1618.44008)), 21: (np.float64(4656.012790000001), np.float64(4756.08958)), 22: (np.float64(6052.0), np.float64(6052.0)), 23: (np.float64(2163.8071800000002), np.float64(2239.0955599999998)), 24: (np.float64(3589.75531), np.float64(3709.0717099999997)), 25: (np.float64(1717.97791), np.float64(1798.36825)), 26: (np.float64(4899.20767), np.float64(5089.546069999999))}\n",
      " intertimes :  (np.float64(1529.4857), np.float64(1618.44008))\n",
      " duration   :  1573\n",
      "line 351...  estimate_duration : 19 \t sec:  1573\n",
      "boot_times :  {1: (np.float64(1447.3127599999998), np.float64(1509.4048599999999)), 3: (np.float64(644.0), np.float64(644.0)), 4: (np.float64(1710.11013), np.float64(1799.67295)), 5: (np.float64(4111.64443), np.float64(4452.76964)), 6: (np.float64(7485.125999999999), np.float64(7931.48429)), 7: (np.float64(2487.53043), np.float64(2568.7986600000004)), 9: (np.float64(4450.26771), np.float64(4663.99319)), 10: (np.float64(1302.45605), np.float64(1335.8737299999998)), 11: (np.float64(3576.4448500000003), np.float64(3821.34793)), 12: (np.float64(3329.4814300000003), np.float64(3554.3457799999996)), 14: (np.float64(24281.0), np.float64(24281.0)), 15: (900, 900), 16: (np.float64(2944.92384), np.float64(3125.91392)), 18: (np.float64(2677.94418), np.float64(2864.8084000000003)), 19: (np.float64(1529.4857), np.float64(1618.44008)), 21: (np.float64(4656.012790000001), np.float64(4756.08958)), 22: (np.float64(6052.0), np.float64(6052.0)), 23: (np.float64(2163.8071800000002), np.float64(2239.0955599999998)), 24: (np.float64(3589.75531), np.float64(3709.0717099999997)), 25: (np.float64(1717.97791), np.float64(1798.36825)), 26: (np.float64(4899.20767), np.float64(5089.546069999999))}\n",
      " intertimes :  (np.float64(1717.97791), np.float64(1798.36825))\n",
      " duration   :  1758\n",
      "line 351...  estimate_duration : 25 \t sec:  1758\n",
      "line 352...  total duration [19, 25]  3331 / 55 min \n",
      "LINE:389 (iter: 14) -- predict_mask([model], '[19, 25]' ->  '3331 < 22724 sec' ?)\n",
      "\n",
      "\n",
      "-----------------\n",
      "line 379 bert_test_city[ Delh ] (iter: 15) -- predict_ mask([model], '[19, 25]')\n",
      "LINE 309, model.predict( to_predict=[['19', '25']] ) \n",
      "LINE 315  predseq => [19, 25],  maskpos => 1\n",
      "-- predict_ mask_pos ( <model>, seq= [19, 25], maskpos= 1  )\n",
      "line 240 ... seq: [19, 25]\n",
      "      seq :  [19, 25]\n",
      "LINE 256 -- model.predict( to_predict=['19,[MASK],25'] )\n"
     ]
    },
    {
     "data": {
      "application/vnd.jupyter.widget-view+json": {
       "model_id": "c73fc0b5da764692b042198a789b3e13",
       "version_major": 2,
       "version_minor": 0
      },
      "text/plain": [
       "0it [00:00, ?it/s]"
      ]
     },
     "metadata": {},
     "output_type": "display_data"
    },
    {
     "data": {
      "application/vnd.jupyter.widget-view+json": {
       "model_id": "71939656cc924379aab2213d26125a77",
       "version_major": 2,
       "version_minor": 0
      },
      "text/plain": [
       "  0%|          | 0/1 [00:00<?, ?it/s]"
      ]
     },
     "metadata": {},
     "output_type": "display_data"
    },
    {
     "name": "stdout",
     "output_type": "stream",
     "text": [
      "  seq     -> [19, 25]\n",
      "  amax    -> 12\n",
      "  amaxval -> 0.9205260872840881\n",
      "maskpos   => 1\n",
      "--> predict_ mask_pos (model, '[19, 25]', 1 ) --- [19, 12, 25] \n",
      "LINE 317  result: nextpoi:12 nextval:0.9205260872840881 unmasked_seq:[19, 25]\n",
      "  POSSIBLE: 0.9205260872840881 -> [19, 25] [19, 25]\n",
      "line 381 bert_test_city[ Delh ] (iter: 15) -- predict_ mask([model], '[19, 25]')\n",
      "line 382 nextpoi:12, maskpos:1, nextval:0.9205260872840881, unmasked_seq:[19, 25]\n",
      "line 336... estimate_duration( pois ) : [19, 25] ) \n",
      "line 337... boot_times : {1: (np.float64(1447.3127599999998), np.float64(1509.4048599999999)), 3: (np.float64(644.0), np.float64(644.0)), 4: (np.float64(1710.11013), np.float64(1799.67295)), 5: (np.float64(4111.64443), np.float64(4452.76964)), 6: (np.float64(7485.125999999999), np.float64(7931.48429)), 7: (np.float64(2487.53043), np.float64(2568.7986600000004)), 9: (np.float64(4450.26771), np.float64(4663.99319)), 10: (np.float64(1302.45605), np.float64(1335.8737299999998)), 11: (np.float64(3576.4448500000003), np.float64(3821.34793)), 12: (np.float64(3329.4814300000003), np.float64(3554.3457799999996)), 14: (np.float64(24281.0), np.float64(24281.0)), 15: (900, 900), 16: (np.float64(2944.92384), np.float64(3125.91392)), 18: (np.float64(2677.94418), np.float64(2864.8084000000003)), 19: (np.float64(1529.4857), np.float64(1618.44008)), 21: (np.float64(4656.012790000001), np.float64(4756.08958)), 22: (np.float64(6052.0), np.float64(6052.0)), 23: (np.float64(2163.8071800000002), np.float64(2239.0955599999998)), 24: (np.float64(3589.75531), np.float64(3709.0717099999997)), 25: (np.float64(1717.97791), np.float64(1798.36825)), 26: (np.float64(4899.20767), np.float64(5089.546069999999))} ) \n",
      "boot_times :  {1: (np.float64(1447.3127599999998), np.float64(1509.4048599999999)), 3: (np.float64(644.0), np.float64(644.0)), 4: (np.float64(1710.11013), np.float64(1799.67295)), 5: (np.float64(4111.64443), np.float64(4452.76964)), 6: (np.float64(7485.125999999999), np.float64(7931.48429)), 7: (np.float64(2487.53043), np.float64(2568.7986600000004)), 9: (np.float64(4450.26771), np.float64(4663.99319)), 10: (np.float64(1302.45605), np.float64(1335.8737299999998)), 11: (np.float64(3576.4448500000003), np.float64(3821.34793)), 12: (np.float64(3329.4814300000003), np.float64(3554.3457799999996)), 14: (np.float64(24281.0), np.float64(24281.0)), 15: (900, 900), 16: (np.float64(2944.92384), np.float64(3125.91392)), 18: (np.float64(2677.94418), np.float64(2864.8084000000003)), 19: (np.float64(1529.4857), np.float64(1618.44008)), 21: (np.float64(4656.012790000001), np.float64(4756.08958)), 22: (np.float64(6052.0), np.float64(6052.0)), 23: (np.float64(2163.8071800000002), np.float64(2239.0955599999998)), 24: (np.float64(3589.75531), np.float64(3709.0717099999997)), 25: (np.float64(1717.97791), np.float64(1798.36825)), 26: (np.float64(4899.20767), np.float64(5089.546069999999))}\n",
      " intertimes :  (np.float64(1529.4857), np.float64(1618.44008))\n",
      " duration   :  1573\n",
      "line 351...  estimate_duration : 19 \t sec:  1573\n",
      "boot_times :  {1: (np.float64(1447.3127599999998), np.float64(1509.4048599999999)), 3: (np.float64(644.0), np.float64(644.0)), 4: (np.float64(1710.11013), np.float64(1799.67295)), 5: (np.float64(4111.64443), np.float64(4452.76964)), 6: (np.float64(7485.125999999999), np.float64(7931.48429)), 7: (np.float64(2487.53043), np.float64(2568.7986600000004)), 9: (np.float64(4450.26771), np.float64(4663.99319)), 10: (np.float64(1302.45605), np.float64(1335.8737299999998)), 11: (np.float64(3576.4448500000003), np.float64(3821.34793)), 12: (np.float64(3329.4814300000003), np.float64(3554.3457799999996)), 14: (np.float64(24281.0), np.float64(24281.0)), 15: (900, 900), 16: (np.float64(2944.92384), np.float64(3125.91392)), 18: (np.float64(2677.94418), np.float64(2864.8084000000003)), 19: (np.float64(1529.4857), np.float64(1618.44008)), 21: (np.float64(4656.012790000001), np.float64(4756.08958)), 22: (np.float64(6052.0), np.float64(6052.0)), 23: (np.float64(2163.8071800000002), np.float64(2239.0955599999998)), 24: (np.float64(3589.75531), np.float64(3709.0717099999997)), 25: (np.float64(1717.97791), np.float64(1798.36825)), 26: (np.float64(4899.20767), np.float64(5089.546069999999))}\n",
      " intertimes :  (np.float64(1717.97791), np.float64(1798.36825))\n",
      " duration   :  1758\n",
      "line 351...  estimate_duration : 25 \t sec:  1758\n",
      "line 352...  total duration [19, 25]  3331 / 55 min \n",
      "LINE:389 (iter: 15) -- predict_mask([model], '[19, 25]' ->  '3331 < 22724 sec' ?)\n",
      "\n",
      "\n",
      "-----------------\n",
      "line 379 bert_test_city[ Delh ] (iter: 16) -- predict_ mask([model], '[19, 25]')\n",
      "LINE 309, model.predict( to_predict=[['19', '25']] ) \n",
      "LINE 315  predseq => [19, 25],  maskpos => 1\n",
      "-- predict_ mask_pos ( <model>, seq= [19, 25], maskpos= 1  )\n",
      "line 240 ... seq: [19, 25]\n",
      "      seq :  [19, 25]\n",
      "LINE 256 -- model.predict( to_predict=['19,[MASK],25'] )\n"
     ]
    },
    {
     "data": {
      "application/vnd.jupyter.widget-view+json": {
       "model_id": "600a68f6270d4fb6ab438c5504c8acdd",
       "version_major": 2,
       "version_minor": 0
      },
      "text/plain": [
       "0it [00:00, ?it/s]"
      ]
     },
     "metadata": {},
     "output_type": "display_data"
    },
    {
     "data": {
      "application/vnd.jupyter.widget-view+json": {
       "model_id": "2f1366d3068a4196a4ec0e1c51a26585",
       "version_major": 2,
       "version_minor": 0
      },
      "text/plain": [
       "  0%|          | 0/1 [00:00<?, ?it/s]"
      ]
     },
     "metadata": {},
     "output_type": "display_data"
    },
    {
     "name": "stdout",
     "output_type": "stream",
     "text": [
      "  seq     -> [19, 25]\n",
      "  amax    -> 12\n",
      "  amaxval -> 0.9205260872840881\n",
      "maskpos   => 1\n",
      "--> predict_ mask_pos (model, '[19, 25]', 1 ) --- [19, 12, 25] \n",
      "LINE 317  result: nextpoi:12 nextval:0.9205260872840881 unmasked_seq:[19, 25]\n",
      "  POSSIBLE: 0.9205260872840881 -> [19, 25] [19, 25]\n",
      "line 381 bert_test_city[ Delh ] (iter: 16) -- predict_ mask([model], '[19, 25]')\n",
      "line 382 nextpoi:12, maskpos:1, nextval:0.9205260872840881, unmasked_seq:[19, 25]\n",
      "line 336... estimate_duration( pois ) : [19, 25] ) \n",
      "line 337... boot_times : {1: (np.float64(1447.3127599999998), np.float64(1509.4048599999999)), 3: (np.float64(644.0), np.float64(644.0)), 4: (np.float64(1710.11013), np.float64(1799.67295)), 5: (np.float64(4111.64443), np.float64(4452.76964)), 6: (np.float64(7485.125999999999), np.float64(7931.48429)), 7: (np.float64(2487.53043), np.float64(2568.7986600000004)), 9: (np.float64(4450.26771), np.float64(4663.99319)), 10: (np.float64(1302.45605), np.float64(1335.8737299999998)), 11: (np.float64(3576.4448500000003), np.float64(3821.34793)), 12: (np.float64(3329.4814300000003), np.float64(3554.3457799999996)), 14: (np.float64(24281.0), np.float64(24281.0)), 15: (900, 900), 16: (np.float64(2944.92384), np.float64(3125.91392)), 18: (np.float64(2677.94418), np.float64(2864.8084000000003)), 19: (np.float64(1529.4857), np.float64(1618.44008)), 21: (np.float64(4656.012790000001), np.float64(4756.08958)), 22: (np.float64(6052.0), np.float64(6052.0)), 23: (np.float64(2163.8071800000002), np.float64(2239.0955599999998)), 24: (np.float64(3589.75531), np.float64(3709.0717099999997)), 25: (np.float64(1717.97791), np.float64(1798.36825)), 26: (np.float64(4899.20767), np.float64(5089.546069999999))} ) \n",
      "boot_times :  {1: (np.float64(1447.3127599999998), np.float64(1509.4048599999999)), 3: (np.float64(644.0), np.float64(644.0)), 4: (np.float64(1710.11013), np.float64(1799.67295)), 5: (np.float64(4111.64443), np.float64(4452.76964)), 6: (np.float64(7485.125999999999), np.float64(7931.48429)), 7: (np.float64(2487.53043), np.float64(2568.7986600000004)), 9: (np.float64(4450.26771), np.float64(4663.99319)), 10: (np.float64(1302.45605), np.float64(1335.8737299999998)), 11: (np.float64(3576.4448500000003), np.float64(3821.34793)), 12: (np.float64(3329.4814300000003), np.float64(3554.3457799999996)), 14: (np.float64(24281.0), np.float64(24281.0)), 15: (900, 900), 16: (np.float64(2944.92384), np.float64(3125.91392)), 18: (np.float64(2677.94418), np.float64(2864.8084000000003)), 19: (np.float64(1529.4857), np.float64(1618.44008)), 21: (np.float64(4656.012790000001), np.float64(4756.08958)), 22: (np.float64(6052.0), np.float64(6052.0)), 23: (np.float64(2163.8071800000002), np.float64(2239.0955599999998)), 24: (np.float64(3589.75531), np.float64(3709.0717099999997)), 25: (np.float64(1717.97791), np.float64(1798.36825)), 26: (np.float64(4899.20767), np.float64(5089.546069999999))}\n",
      " intertimes :  (np.float64(1529.4857), np.float64(1618.44008))\n",
      " duration   :  1573\n",
      "line 351...  estimate_duration : 19 \t sec:  1573\n",
      "boot_times :  {1: (np.float64(1447.3127599999998), np.float64(1509.4048599999999)), 3: (np.float64(644.0), np.float64(644.0)), 4: (np.float64(1710.11013), np.float64(1799.67295)), 5: (np.float64(4111.64443), np.float64(4452.76964)), 6: (np.float64(7485.125999999999), np.float64(7931.48429)), 7: (np.float64(2487.53043), np.float64(2568.7986600000004)), 9: (np.float64(4450.26771), np.float64(4663.99319)), 10: (np.float64(1302.45605), np.float64(1335.8737299999998)), 11: (np.float64(3576.4448500000003), np.float64(3821.34793)), 12: (np.float64(3329.4814300000003), np.float64(3554.3457799999996)), 14: (np.float64(24281.0), np.float64(24281.0)), 15: (900, 900), 16: (np.float64(2944.92384), np.float64(3125.91392)), 18: (np.float64(2677.94418), np.float64(2864.8084000000003)), 19: (np.float64(1529.4857), np.float64(1618.44008)), 21: (np.float64(4656.012790000001), np.float64(4756.08958)), 22: (np.float64(6052.0), np.float64(6052.0)), 23: (np.float64(2163.8071800000002), np.float64(2239.0955599999998)), 24: (np.float64(3589.75531), np.float64(3709.0717099999997)), 25: (np.float64(1717.97791), np.float64(1798.36825)), 26: (np.float64(4899.20767), np.float64(5089.546069999999))}\n",
      " intertimes :  (np.float64(1717.97791), np.float64(1798.36825))\n",
      " duration   :  1758\n",
      "line 351...  estimate_duration : 25 \t sec:  1758\n",
      "line 352...  total duration [19, 25]  3331 / 55 min \n",
      "LINE:389 (iter: 16) -- predict_mask([model], '[19, 25]' ->  '3331 < 22724 sec' ?)\n",
      "\n",
      "\n",
      "-----------------\n",
      "line 379 bert_test_city[ Delh ] (iter: 17) -- predict_ mask([model], '[19, 25]')\n",
      "LINE 309, model.predict( to_predict=[['19', '25']] ) \n",
      "LINE 315  predseq => [19, 25],  maskpos => 1\n",
      "-- predict_ mask_pos ( <model>, seq= [19, 25], maskpos= 1  )\n",
      "line 240 ... seq: [19, 25]\n",
      "      seq :  [19, 25]\n",
      "LINE 256 -- model.predict( to_predict=['19,[MASK],25'] )\n"
     ]
    },
    {
     "data": {
      "application/vnd.jupyter.widget-view+json": {
       "model_id": "cea7df32e5cd499685483e909bb2f410",
       "version_major": 2,
       "version_minor": 0
      },
      "text/plain": [
       "0it [00:00, ?it/s]"
      ]
     },
     "metadata": {},
     "output_type": "display_data"
    },
    {
     "data": {
      "application/vnd.jupyter.widget-view+json": {
       "model_id": "f5bc9a1c0c574ce481ebe0ddc1677a61",
       "version_major": 2,
       "version_minor": 0
      },
      "text/plain": [
       "  0%|          | 0/1 [00:00<?, ?it/s]"
      ]
     },
     "metadata": {},
     "output_type": "display_data"
    },
    {
     "name": "stdout",
     "output_type": "stream",
     "text": [
      "  seq     -> [19, 25]\n",
      "  amax    -> 12\n",
      "  amaxval -> 0.9205260872840881\n",
      "maskpos   => 1\n",
      "--> predict_ mask_pos (model, '[19, 25]', 1 ) --- [19, 12, 25] \n",
      "LINE 317  result: nextpoi:12 nextval:0.9205260872840881 unmasked_seq:[19, 25]\n",
      "  POSSIBLE: 0.9205260872840881 -> [19, 25] [19, 25]\n",
      "line 381 bert_test_city[ Delh ] (iter: 17) -- predict_ mask([model], '[19, 25]')\n",
      "line 382 nextpoi:12, maskpos:1, nextval:0.9205260872840881, unmasked_seq:[19, 25]\n",
      "line 336... estimate_duration( pois ) : [19, 25] ) \n",
      "line 337... boot_times : {1: (np.float64(1447.3127599999998), np.float64(1509.4048599999999)), 3: (np.float64(644.0), np.float64(644.0)), 4: (np.float64(1710.11013), np.float64(1799.67295)), 5: (np.float64(4111.64443), np.float64(4452.76964)), 6: (np.float64(7485.125999999999), np.float64(7931.48429)), 7: (np.float64(2487.53043), np.float64(2568.7986600000004)), 9: (np.float64(4450.26771), np.float64(4663.99319)), 10: (np.float64(1302.45605), np.float64(1335.8737299999998)), 11: (np.float64(3576.4448500000003), np.float64(3821.34793)), 12: (np.float64(3329.4814300000003), np.float64(3554.3457799999996)), 14: (np.float64(24281.0), np.float64(24281.0)), 15: (900, 900), 16: (np.float64(2944.92384), np.float64(3125.91392)), 18: (np.float64(2677.94418), np.float64(2864.8084000000003)), 19: (np.float64(1529.4857), np.float64(1618.44008)), 21: (np.float64(4656.012790000001), np.float64(4756.08958)), 22: (np.float64(6052.0), np.float64(6052.0)), 23: (np.float64(2163.8071800000002), np.float64(2239.0955599999998)), 24: (np.float64(3589.75531), np.float64(3709.0717099999997)), 25: (np.float64(1717.97791), np.float64(1798.36825)), 26: (np.float64(4899.20767), np.float64(5089.546069999999))} ) \n",
      "boot_times :  {1: (np.float64(1447.3127599999998), np.float64(1509.4048599999999)), 3: (np.float64(644.0), np.float64(644.0)), 4: (np.float64(1710.11013), np.float64(1799.67295)), 5: (np.float64(4111.64443), np.float64(4452.76964)), 6: (np.float64(7485.125999999999), np.float64(7931.48429)), 7: (np.float64(2487.53043), np.float64(2568.7986600000004)), 9: (np.float64(4450.26771), np.float64(4663.99319)), 10: (np.float64(1302.45605), np.float64(1335.8737299999998)), 11: (np.float64(3576.4448500000003), np.float64(3821.34793)), 12: (np.float64(3329.4814300000003), np.float64(3554.3457799999996)), 14: (np.float64(24281.0), np.float64(24281.0)), 15: (900, 900), 16: (np.float64(2944.92384), np.float64(3125.91392)), 18: (np.float64(2677.94418), np.float64(2864.8084000000003)), 19: (np.float64(1529.4857), np.float64(1618.44008)), 21: (np.float64(4656.012790000001), np.float64(4756.08958)), 22: (np.float64(6052.0), np.float64(6052.0)), 23: (np.float64(2163.8071800000002), np.float64(2239.0955599999998)), 24: (np.float64(3589.75531), np.float64(3709.0717099999997)), 25: (np.float64(1717.97791), np.float64(1798.36825)), 26: (np.float64(4899.20767), np.float64(5089.546069999999))}\n",
      " intertimes :  (np.float64(1529.4857), np.float64(1618.44008))\n",
      " duration   :  1573\n",
      "line 351...  estimate_duration : 19 \t sec:  1573\n",
      "boot_times :  {1: (np.float64(1447.3127599999998), np.float64(1509.4048599999999)), 3: (np.float64(644.0), np.float64(644.0)), 4: (np.float64(1710.11013), np.float64(1799.67295)), 5: (np.float64(4111.64443), np.float64(4452.76964)), 6: (np.float64(7485.125999999999), np.float64(7931.48429)), 7: (np.float64(2487.53043), np.float64(2568.7986600000004)), 9: (np.float64(4450.26771), np.float64(4663.99319)), 10: (np.float64(1302.45605), np.float64(1335.8737299999998)), 11: (np.float64(3576.4448500000003), np.float64(3821.34793)), 12: (np.float64(3329.4814300000003), np.float64(3554.3457799999996)), 14: (np.float64(24281.0), np.float64(24281.0)), 15: (900, 900), 16: (np.float64(2944.92384), np.float64(3125.91392)), 18: (np.float64(2677.94418), np.float64(2864.8084000000003)), 19: (np.float64(1529.4857), np.float64(1618.44008)), 21: (np.float64(4656.012790000001), np.float64(4756.08958)), 22: (np.float64(6052.0), np.float64(6052.0)), 23: (np.float64(2163.8071800000002), np.float64(2239.0955599999998)), 24: (np.float64(3589.75531), np.float64(3709.0717099999997)), 25: (np.float64(1717.97791), np.float64(1798.36825)), 26: (np.float64(4899.20767), np.float64(5089.546069999999))}\n",
      " intertimes :  (np.float64(1717.97791), np.float64(1798.36825))\n",
      " duration   :  1758\n",
      "line 351...  estimate_duration : 25 \t sec:  1758\n",
      "line 352...  total duration [19, 25]  3331 / 55 min \n",
      "LINE:389 (iter: 17) -- predict_mask([model], '[19, 25]' ->  '3331 < 22724 sec' ?)\n",
      "\n",
      "\n",
      "-----------------\n",
      "line 379 bert_test_city[ Delh ] (iter: 18) -- predict_ mask([model], '[19, 25]')\n",
      "LINE 309, model.predict( to_predict=[['19', '25']] ) \n",
      "LINE 315  predseq => [19, 25],  maskpos => 1\n",
      "-- predict_ mask_pos ( <model>, seq= [19, 25], maskpos= 1  )\n",
      "line 240 ... seq: [19, 25]\n",
      "      seq :  [19, 25]\n",
      "LINE 256 -- model.predict( to_predict=['19,[MASK],25'] )\n"
     ]
    },
    {
     "data": {
      "application/vnd.jupyter.widget-view+json": {
       "model_id": "6299f535356f4cb4abd20c96f8e7fa86",
       "version_major": 2,
       "version_minor": 0
      },
      "text/plain": [
       "0it [00:00, ?it/s]"
      ]
     },
     "metadata": {},
     "output_type": "display_data"
    },
    {
     "data": {
      "application/vnd.jupyter.widget-view+json": {
       "model_id": "f4d3851401a84ab38d24cf67afc9c243",
       "version_major": 2,
       "version_minor": 0
      },
      "text/plain": [
       "  0%|          | 0/1 [00:00<?, ?it/s]"
      ]
     },
     "metadata": {},
     "output_type": "display_data"
    },
    {
     "name": "stdout",
     "output_type": "stream",
     "text": [
      "  seq     -> [19, 25]\n",
      "  amax    -> 12\n",
      "  amaxval -> 0.9205260872840881\n",
      "maskpos   => 1\n",
      "--> predict_ mask_pos (model, '[19, 25]', 1 ) --- [19, 12, 25] \n",
      "LINE 317  result: nextpoi:12 nextval:0.9205260872840881 unmasked_seq:[19, 25]\n",
      "  POSSIBLE: 0.9205260872840881 -> [19, 25] [19, 25]\n",
      "line 381 bert_test_city[ Delh ] (iter: 18) -- predict_ mask([model], '[19, 25]')\n",
      "line 382 nextpoi:12, maskpos:1, nextval:0.9205260872840881, unmasked_seq:[19, 25]\n",
      "line 336... estimate_duration( pois ) : [19, 25] ) \n",
      "line 337... boot_times : {1: (np.float64(1447.3127599999998), np.float64(1509.4048599999999)), 3: (np.float64(644.0), np.float64(644.0)), 4: (np.float64(1710.11013), np.float64(1799.67295)), 5: (np.float64(4111.64443), np.float64(4452.76964)), 6: (np.float64(7485.125999999999), np.float64(7931.48429)), 7: (np.float64(2487.53043), np.float64(2568.7986600000004)), 9: (np.float64(4450.26771), np.float64(4663.99319)), 10: (np.float64(1302.45605), np.float64(1335.8737299999998)), 11: (np.float64(3576.4448500000003), np.float64(3821.34793)), 12: (np.float64(3329.4814300000003), np.float64(3554.3457799999996)), 14: (np.float64(24281.0), np.float64(24281.0)), 15: (900, 900), 16: (np.float64(2944.92384), np.float64(3125.91392)), 18: (np.float64(2677.94418), np.float64(2864.8084000000003)), 19: (np.float64(1529.4857), np.float64(1618.44008)), 21: (np.float64(4656.012790000001), np.float64(4756.08958)), 22: (np.float64(6052.0), np.float64(6052.0)), 23: (np.float64(2163.8071800000002), np.float64(2239.0955599999998)), 24: (np.float64(3589.75531), np.float64(3709.0717099999997)), 25: (np.float64(1717.97791), np.float64(1798.36825)), 26: (np.float64(4899.20767), np.float64(5089.546069999999))} ) \n",
      "boot_times :  {1: (np.float64(1447.3127599999998), np.float64(1509.4048599999999)), 3: (np.float64(644.0), np.float64(644.0)), 4: (np.float64(1710.11013), np.float64(1799.67295)), 5: (np.float64(4111.64443), np.float64(4452.76964)), 6: (np.float64(7485.125999999999), np.float64(7931.48429)), 7: (np.float64(2487.53043), np.float64(2568.7986600000004)), 9: (np.float64(4450.26771), np.float64(4663.99319)), 10: (np.float64(1302.45605), np.float64(1335.8737299999998)), 11: (np.float64(3576.4448500000003), np.float64(3821.34793)), 12: (np.float64(3329.4814300000003), np.float64(3554.3457799999996)), 14: (np.float64(24281.0), np.float64(24281.0)), 15: (900, 900), 16: (np.float64(2944.92384), np.float64(3125.91392)), 18: (np.float64(2677.94418), np.float64(2864.8084000000003)), 19: (np.float64(1529.4857), np.float64(1618.44008)), 21: (np.float64(4656.012790000001), np.float64(4756.08958)), 22: (np.float64(6052.0), np.float64(6052.0)), 23: (np.float64(2163.8071800000002), np.float64(2239.0955599999998)), 24: (np.float64(3589.75531), np.float64(3709.0717099999997)), 25: (np.float64(1717.97791), np.float64(1798.36825)), 26: (np.float64(4899.20767), np.float64(5089.546069999999))}\n",
      " intertimes :  (np.float64(1529.4857), np.float64(1618.44008))\n",
      " duration   :  1573\n",
      "line 351...  estimate_duration : 19 \t sec:  1573\n",
      "boot_times :  {1: (np.float64(1447.3127599999998), np.float64(1509.4048599999999)), 3: (np.float64(644.0), np.float64(644.0)), 4: (np.float64(1710.11013), np.float64(1799.67295)), 5: (np.float64(4111.64443), np.float64(4452.76964)), 6: (np.float64(7485.125999999999), np.float64(7931.48429)), 7: (np.float64(2487.53043), np.float64(2568.7986600000004)), 9: (np.float64(4450.26771), np.float64(4663.99319)), 10: (np.float64(1302.45605), np.float64(1335.8737299999998)), 11: (np.float64(3576.4448500000003), np.float64(3821.34793)), 12: (np.float64(3329.4814300000003), np.float64(3554.3457799999996)), 14: (np.float64(24281.0), np.float64(24281.0)), 15: (900, 900), 16: (np.float64(2944.92384), np.float64(3125.91392)), 18: (np.float64(2677.94418), np.float64(2864.8084000000003)), 19: (np.float64(1529.4857), np.float64(1618.44008)), 21: (np.float64(4656.012790000001), np.float64(4756.08958)), 22: (np.float64(6052.0), np.float64(6052.0)), 23: (np.float64(2163.8071800000002), np.float64(2239.0955599999998)), 24: (np.float64(3589.75531), np.float64(3709.0717099999997)), 25: (np.float64(1717.97791), np.float64(1798.36825)), 26: (np.float64(4899.20767), np.float64(5089.546069999999))}\n",
      " intertimes :  (np.float64(1717.97791), np.float64(1798.36825))\n",
      " duration   :  1758\n",
      "line 351...  estimate_duration : 25 \t sec:  1758\n",
      "line 352...  total duration [19, 25]  3331 / 55 min \n",
      "LINE:389 (iter: 18) -- predict_mask([model], '[19, 25]' ->  '3331 < 22724 sec' ?)\n",
      "\n",
      "\n",
      "-----------------\n",
      "line 379 bert_test_city[ Delh ] (iter: 19) -- predict_ mask([model], '[19, 25]')\n",
      "LINE 309, model.predict( to_predict=[['19', '25']] ) \n",
      "LINE 315  predseq => [19, 25],  maskpos => 1\n",
      "-- predict_ mask_pos ( <model>, seq= [19, 25], maskpos= 1  )\n",
      "line 240 ... seq: [19, 25]\n",
      "      seq :  [19, 25]\n",
      "LINE 256 -- model.predict( to_predict=['19,[MASK],25'] )\n"
     ]
    },
    {
     "data": {
      "application/vnd.jupyter.widget-view+json": {
       "model_id": "dd5fcf29449044e7bf440a2257fdda81",
       "version_major": 2,
       "version_minor": 0
      },
      "text/plain": [
       "0it [00:00, ?it/s]"
      ]
     },
     "metadata": {},
     "output_type": "display_data"
    },
    {
     "data": {
      "application/vnd.jupyter.widget-view+json": {
       "model_id": "161fb034adc14ce8bbc9c1c589d6911e",
       "version_major": 2,
       "version_minor": 0
      },
      "text/plain": [
       "  0%|          | 0/1 [00:00<?, ?it/s]"
      ]
     },
     "metadata": {},
     "output_type": "display_data"
    },
    {
     "name": "stdout",
     "output_type": "stream",
     "text": [
      "  seq     -> [19, 25]\n",
      "  amax    -> 12\n",
      "  amaxval -> 0.9205260872840881\n",
      "maskpos   => 1\n",
      "--> predict_ mask_pos (model, '[19, 25]', 1 ) --- [19, 12, 25] \n",
      "LINE 317  result: nextpoi:12 nextval:0.9205260872840881 unmasked_seq:[19, 25]\n",
      "  POSSIBLE: 0.9205260872840881 -> [19, 25] [19, 25]\n",
      "line 381 bert_test_city[ Delh ] (iter: 19) -- predict_ mask([model], '[19, 25]')\n",
      "line 382 nextpoi:12, maskpos:1, nextval:0.9205260872840881, unmasked_seq:[19, 25]\n",
      "line 336... estimate_duration( pois ) : [19, 25] ) \n",
      "line 337... boot_times : {1: (np.float64(1447.3127599999998), np.float64(1509.4048599999999)), 3: (np.float64(644.0), np.float64(644.0)), 4: (np.float64(1710.11013), np.float64(1799.67295)), 5: (np.float64(4111.64443), np.float64(4452.76964)), 6: (np.float64(7485.125999999999), np.float64(7931.48429)), 7: (np.float64(2487.53043), np.float64(2568.7986600000004)), 9: (np.float64(4450.26771), np.float64(4663.99319)), 10: (np.float64(1302.45605), np.float64(1335.8737299999998)), 11: (np.float64(3576.4448500000003), np.float64(3821.34793)), 12: (np.float64(3329.4814300000003), np.float64(3554.3457799999996)), 14: (np.float64(24281.0), np.float64(24281.0)), 15: (900, 900), 16: (np.float64(2944.92384), np.float64(3125.91392)), 18: (np.float64(2677.94418), np.float64(2864.8084000000003)), 19: (np.float64(1529.4857), np.float64(1618.44008)), 21: (np.float64(4656.012790000001), np.float64(4756.08958)), 22: (np.float64(6052.0), np.float64(6052.0)), 23: (np.float64(2163.8071800000002), np.float64(2239.0955599999998)), 24: (np.float64(3589.75531), np.float64(3709.0717099999997)), 25: (np.float64(1717.97791), np.float64(1798.36825)), 26: (np.float64(4899.20767), np.float64(5089.546069999999))} ) \n",
      "boot_times :  {1: (np.float64(1447.3127599999998), np.float64(1509.4048599999999)), 3: (np.float64(644.0), np.float64(644.0)), 4: (np.float64(1710.11013), np.float64(1799.67295)), 5: (np.float64(4111.64443), np.float64(4452.76964)), 6: (np.float64(7485.125999999999), np.float64(7931.48429)), 7: (np.float64(2487.53043), np.float64(2568.7986600000004)), 9: (np.float64(4450.26771), np.float64(4663.99319)), 10: (np.float64(1302.45605), np.float64(1335.8737299999998)), 11: (np.float64(3576.4448500000003), np.float64(3821.34793)), 12: (np.float64(3329.4814300000003), np.float64(3554.3457799999996)), 14: (np.float64(24281.0), np.float64(24281.0)), 15: (900, 900), 16: (np.float64(2944.92384), np.float64(3125.91392)), 18: (np.float64(2677.94418), np.float64(2864.8084000000003)), 19: (np.float64(1529.4857), np.float64(1618.44008)), 21: (np.float64(4656.012790000001), np.float64(4756.08958)), 22: (np.float64(6052.0), np.float64(6052.0)), 23: (np.float64(2163.8071800000002), np.float64(2239.0955599999998)), 24: (np.float64(3589.75531), np.float64(3709.0717099999997)), 25: (np.float64(1717.97791), np.float64(1798.36825)), 26: (np.float64(4899.20767), np.float64(5089.546069999999))}\n",
      " intertimes :  (np.float64(1529.4857), np.float64(1618.44008))\n",
      " duration   :  1573\n",
      "line 351...  estimate_duration : 19 \t sec:  1573\n",
      "boot_times :  {1: (np.float64(1447.3127599999998), np.float64(1509.4048599999999)), 3: (np.float64(644.0), np.float64(644.0)), 4: (np.float64(1710.11013), np.float64(1799.67295)), 5: (np.float64(4111.64443), np.float64(4452.76964)), 6: (np.float64(7485.125999999999), np.float64(7931.48429)), 7: (np.float64(2487.53043), np.float64(2568.7986600000004)), 9: (np.float64(4450.26771), np.float64(4663.99319)), 10: (np.float64(1302.45605), np.float64(1335.8737299999998)), 11: (np.float64(3576.4448500000003), np.float64(3821.34793)), 12: (np.float64(3329.4814300000003), np.float64(3554.3457799999996)), 14: (np.float64(24281.0), np.float64(24281.0)), 15: (900, 900), 16: (np.float64(2944.92384), np.float64(3125.91392)), 18: (np.float64(2677.94418), np.float64(2864.8084000000003)), 19: (np.float64(1529.4857), np.float64(1618.44008)), 21: (np.float64(4656.012790000001), np.float64(4756.08958)), 22: (np.float64(6052.0), np.float64(6052.0)), 23: (np.float64(2163.8071800000002), np.float64(2239.0955599999998)), 24: (np.float64(3589.75531), np.float64(3709.0717099999997)), 25: (np.float64(1717.97791), np.float64(1798.36825)), 26: (np.float64(4899.20767), np.float64(5089.546069999999))}\n",
      " intertimes :  (np.float64(1717.97791), np.float64(1798.36825))\n",
      " duration   :  1758\n",
      "line 351...  estimate_duration : 25 \t sec:  1758\n",
      "line 352...  total duration [19, 25]  3331 / 55 min \n",
      "LINE:389 (iter: 19) -- predict_mask([model], '[19, 25]' ->  '3331 < 22724 sec' ?)\n",
      "\n",
      "\n",
      "-----------------\n",
      "line 379 bert_test_city[ Delh ] (iter: 20) -- predict_ mask([model], '[19, 25]')\n",
      "LINE 309, model.predict( to_predict=[['19', '25']] ) \n",
      "LINE 315  predseq => [19, 25],  maskpos => 1\n",
      "-- predict_ mask_pos ( <model>, seq= [19, 25], maskpos= 1  )\n",
      "line 240 ... seq: [19, 25]\n",
      "      seq :  [19, 25]\n",
      "LINE 256 -- model.predict( to_predict=['19,[MASK],25'] )\n"
     ]
    },
    {
     "data": {
      "application/vnd.jupyter.widget-view+json": {
       "model_id": "3fa51c59506a4b60afec9b2a9e9251f0",
       "version_major": 2,
       "version_minor": 0
      },
      "text/plain": [
       "0it [00:00, ?it/s]"
      ]
     },
     "metadata": {},
     "output_type": "display_data"
    },
    {
     "data": {
      "application/vnd.jupyter.widget-view+json": {
       "model_id": "86d08d4433c442fd93b0288df4bf7872",
       "version_major": 2,
       "version_minor": 0
      },
      "text/plain": [
       "  0%|          | 0/1 [00:00<?, ?it/s]"
      ]
     },
     "metadata": {},
     "output_type": "display_data"
    },
    {
     "name": "stdout",
     "output_type": "stream",
     "text": [
      "  seq     -> [19, 25]\n",
      "  amax    -> 12\n",
      "  amaxval -> 0.9205260872840881\n",
      "maskpos   => 1\n",
      "--> predict_ mask_pos (model, '[19, 25]', 1 ) --- [19, 12, 25] \n",
      "LINE 317  result: nextpoi:12 nextval:0.9205260872840881 unmasked_seq:[19, 25]\n",
      "  POSSIBLE: 0.9205260872840881 -> [19, 25] [19, 25]\n",
      "line 381 bert_test_city[ Delh ] (iter: 20) -- predict_ mask([model], '[19, 25]')\n",
      "line 382 nextpoi:12, maskpos:1, nextval:0.9205260872840881, unmasked_seq:[19, 25]\n",
      "line 336... estimate_duration( pois ) : [19, 25] ) \n",
      "line 337... boot_times : {1: (np.float64(1447.3127599999998), np.float64(1509.4048599999999)), 3: (np.float64(644.0), np.float64(644.0)), 4: (np.float64(1710.11013), np.float64(1799.67295)), 5: (np.float64(4111.64443), np.float64(4452.76964)), 6: (np.float64(7485.125999999999), np.float64(7931.48429)), 7: (np.float64(2487.53043), np.float64(2568.7986600000004)), 9: (np.float64(4450.26771), np.float64(4663.99319)), 10: (np.float64(1302.45605), np.float64(1335.8737299999998)), 11: (np.float64(3576.4448500000003), np.float64(3821.34793)), 12: (np.float64(3329.4814300000003), np.float64(3554.3457799999996)), 14: (np.float64(24281.0), np.float64(24281.0)), 15: (900, 900), 16: (np.float64(2944.92384), np.float64(3125.91392)), 18: (np.float64(2677.94418), np.float64(2864.8084000000003)), 19: (np.float64(1529.4857), np.float64(1618.44008)), 21: (np.float64(4656.012790000001), np.float64(4756.08958)), 22: (np.float64(6052.0), np.float64(6052.0)), 23: (np.float64(2163.8071800000002), np.float64(2239.0955599999998)), 24: (np.float64(3589.75531), np.float64(3709.0717099999997)), 25: (np.float64(1717.97791), np.float64(1798.36825)), 26: (np.float64(4899.20767), np.float64(5089.546069999999))} ) \n",
      "boot_times :  {1: (np.float64(1447.3127599999998), np.float64(1509.4048599999999)), 3: (np.float64(644.0), np.float64(644.0)), 4: (np.float64(1710.11013), np.float64(1799.67295)), 5: (np.float64(4111.64443), np.float64(4452.76964)), 6: (np.float64(7485.125999999999), np.float64(7931.48429)), 7: (np.float64(2487.53043), np.float64(2568.7986600000004)), 9: (np.float64(4450.26771), np.float64(4663.99319)), 10: (np.float64(1302.45605), np.float64(1335.8737299999998)), 11: (np.float64(3576.4448500000003), np.float64(3821.34793)), 12: (np.float64(3329.4814300000003), np.float64(3554.3457799999996)), 14: (np.float64(24281.0), np.float64(24281.0)), 15: (900, 900), 16: (np.float64(2944.92384), np.float64(3125.91392)), 18: (np.float64(2677.94418), np.float64(2864.8084000000003)), 19: (np.float64(1529.4857), np.float64(1618.44008)), 21: (np.float64(4656.012790000001), np.float64(4756.08958)), 22: (np.float64(6052.0), np.float64(6052.0)), 23: (np.float64(2163.8071800000002), np.float64(2239.0955599999998)), 24: (np.float64(3589.75531), np.float64(3709.0717099999997)), 25: (np.float64(1717.97791), np.float64(1798.36825)), 26: (np.float64(4899.20767), np.float64(5089.546069999999))}\n",
      " intertimes :  (np.float64(1529.4857), np.float64(1618.44008))\n",
      " duration   :  1573\n",
      "line 351...  estimate_duration : 19 \t sec:  1573\n",
      "boot_times :  {1: (np.float64(1447.3127599999998), np.float64(1509.4048599999999)), 3: (np.float64(644.0), np.float64(644.0)), 4: (np.float64(1710.11013), np.float64(1799.67295)), 5: (np.float64(4111.64443), np.float64(4452.76964)), 6: (np.float64(7485.125999999999), np.float64(7931.48429)), 7: (np.float64(2487.53043), np.float64(2568.7986600000004)), 9: (np.float64(4450.26771), np.float64(4663.99319)), 10: (np.float64(1302.45605), np.float64(1335.8737299999998)), 11: (np.float64(3576.4448500000003), np.float64(3821.34793)), 12: (np.float64(3329.4814300000003), np.float64(3554.3457799999996)), 14: (np.float64(24281.0), np.float64(24281.0)), 15: (900, 900), 16: (np.float64(2944.92384), np.float64(3125.91392)), 18: (np.float64(2677.94418), np.float64(2864.8084000000003)), 19: (np.float64(1529.4857), np.float64(1618.44008)), 21: (np.float64(4656.012790000001), np.float64(4756.08958)), 22: (np.float64(6052.0), np.float64(6052.0)), 23: (np.float64(2163.8071800000002), np.float64(2239.0955599999998)), 24: (np.float64(3589.75531), np.float64(3709.0717099999997)), 25: (np.float64(1717.97791), np.float64(1798.36825)), 26: (np.float64(4899.20767), np.float64(5089.546069999999))}\n",
      " intertimes :  (np.float64(1717.97791), np.float64(1798.36825))\n",
      " duration   :  1758\n",
      "line 351...  estimate_duration : 25 \t sec:  1758\n",
      "line 352...  total duration [19, 25]  3331 / 55 min \n",
      "LINE:389 (iter: 20) -- predict_mask([model], '[19, 25]' ->  '3331 < 22724 sec' ?)\n",
      "\n",
      "\n",
      "-----------------\n",
      "line 379 bert_test_city[ Delh ] (iter: 21) -- predict_ mask([model], '[19, 25]')\n",
      "LINE 309, model.predict( to_predict=[['19', '25']] ) \n",
      "LINE 315  predseq => [19, 25],  maskpos => 1\n",
      "-- predict_ mask_pos ( <model>, seq= [19, 25], maskpos= 1  )\n",
      "line 240 ... seq: [19, 25]\n",
      "      seq :  [19, 25]\n",
      "LINE 256 -- model.predict( to_predict=['19,[MASK],25'] )\n"
     ]
    },
    {
     "data": {
      "application/vnd.jupyter.widget-view+json": {
       "model_id": "7aaaa557fb434936bc7cacacfdd515c2",
       "version_major": 2,
       "version_minor": 0
      },
      "text/plain": [
       "0it [00:00, ?it/s]"
      ]
     },
     "metadata": {},
     "output_type": "display_data"
    },
    {
     "data": {
      "application/vnd.jupyter.widget-view+json": {
       "model_id": "9d1b67321d874b4386a03b85f18294a3",
       "version_major": 2,
       "version_minor": 0
      },
      "text/plain": [
       "  0%|          | 0/1 [00:00<?, ?it/s]"
      ]
     },
     "metadata": {},
     "output_type": "display_data"
    },
    {
     "name": "stdout",
     "output_type": "stream",
     "text": [
      "  seq     -> [19, 25]\n",
      "  amax    -> 12\n",
      "  amaxval -> 0.9205260872840881\n",
      "maskpos   => 1\n",
      "--> predict_ mask_pos (model, '[19, 25]', 1 ) --- [19, 12, 25] \n",
      "LINE 317  result: nextpoi:12 nextval:0.9205260872840881 unmasked_seq:[19, 25]\n",
      "  POSSIBLE: 0.9205260872840881 -> [19, 25] [19, 25]\n",
      "line 381 bert_test_city[ Delh ] (iter: 21) -- predict_ mask([model], '[19, 25]')\n",
      "line 382 nextpoi:12, maskpos:1, nextval:0.9205260872840881, unmasked_seq:[19, 25]\n",
      "line 336... estimate_duration( pois ) : [19, 25] ) \n",
      "line 337... boot_times : {1: (np.float64(1447.3127599999998), np.float64(1509.4048599999999)), 3: (np.float64(644.0), np.float64(644.0)), 4: (np.float64(1710.11013), np.float64(1799.67295)), 5: (np.float64(4111.64443), np.float64(4452.76964)), 6: (np.float64(7485.125999999999), np.float64(7931.48429)), 7: (np.float64(2487.53043), np.float64(2568.7986600000004)), 9: (np.float64(4450.26771), np.float64(4663.99319)), 10: (np.float64(1302.45605), np.float64(1335.8737299999998)), 11: (np.float64(3576.4448500000003), np.float64(3821.34793)), 12: (np.float64(3329.4814300000003), np.float64(3554.3457799999996)), 14: (np.float64(24281.0), np.float64(24281.0)), 15: (900, 900), 16: (np.float64(2944.92384), np.float64(3125.91392)), 18: (np.float64(2677.94418), np.float64(2864.8084000000003)), 19: (np.float64(1529.4857), np.float64(1618.44008)), 21: (np.float64(4656.012790000001), np.float64(4756.08958)), 22: (np.float64(6052.0), np.float64(6052.0)), 23: (np.float64(2163.8071800000002), np.float64(2239.0955599999998)), 24: (np.float64(3589.75531), np.float64(3709.0717099999997)), 25: (np.float64(1717.97791), np.float64(1798.36825)), 26: (np.float64(4899.20767), np.float64(5089.546069999999))} ) \n",
      "boot_times :  {1: (np.float64(1447.3127599999998), np.float64(1509.4048599999999)), 3: (np.float64(644.0), np.float64(644.0)), 4: (np.float64(1710.11013), np.float64(1799.67295)), 5: (np.float64(4111.64443), np.float64(4452.76964)), 6: (np.float64(7485.125999999999), np.float64(7931.48429)), 7: (np.float64(2487.53043), np.float64(2568.7986600000004)), 9: (np.float64(4450.26771), np.float64(4663.99319)), 10: (np.float64(1302.45605), np.float64(1335.8737299999998)), 11: (np.float64(3576.4448500000003), np.float64(3821.34793)), 12: (np.float64(3329.4814300000003), np.float64(3554.3457799999996)), 14: (np.float64(24281.0), np.float64(24281.0)), 15: (900, 900), 16: (np.float64(2944.92384), np.float64(3125.91392)), 18: (np.float64(2677.94418), np.float64(2864.8084000000003)), 19: (np.float64(1529.4857), np.float64(1618.44008)), 21: (np.float64(4656.012790000001), np.float64(4756.08958)), 22: (np.float64(6052.0), np.float64(6052.0)), 23: (np.float64(2163.8071800000002), np.float64(2239.0955599999998)), 24: (np.float64(3589.75531), np.float64(3709.0717099999997)), 25: (np.float64(1717.97791), np.float64(1798.36825)), 26: (np.float64(4899.20767), np.float64(5089.546069999999))}\n",
      " intertimes :  (np.float64(1529.4857), np.float64(1618.44008))\n",
      " duration   :  1573\n",
      "line 351...  estimate_duration : 19 \t sec:  1573\n",
      "boot_times :  {1: (np.float64(1447.3127599999998), np.float64(1509.4048599999999)), 3: (np.float64(644.0), np.float64(644.0)), 4: (np.float64(1710.11013), np.float64(1799.67295)), 5: (np.float64(4111.64443), np.float64(4452.76964)), 6: (np.float64(7485.125999999999), np.float64(7931.48429)), 7: (np.float64(2487.53043), np.float64(2568.7986600000004)), 9: (np.float64(4450.26771), np.float64(4663.99319)), 10: (np.float64(1302.45605), np.float64(1335.8737299999998)), 11: (np.float64(3576.4448500000003), np.float64(3821.34793)), 12: (np.float64(3329.4814300000003), np.float64(3554.3457799999996)), 14: (np.float64(24281.0), np.float64(24281.0)), 15: (900, 900), 16: (np.float64(2944.92384), np.float64(3125.91392)), 18: (np.float64(2677.94418), np.float64(2864.8084000000003)), 19: (np.float64(1529.4857), np.float64(1618.44008)), 21: (np.float64(4656.012790000001), np.float64(4756.08958)), 22: (np.float64(6052.0), np.float64(6052.0)), 23: (np.float64(2163.8071800000002), np.float64(2239.0955599999998)), 24: (np.float64(3589.75531), np.float64(3709.0717099999997)), 25: (np.float64(1717.97791), np.float64(1798.36825)), 26: (np.float64(4899.20767), np.float64(5089.546069999999))}\n",
      " intertimes :  (np.float64(1717.97791), np.float64(1798.36825))\n",
      " duration   :  1758\n",
      "line 351...  estimate_duration : 25 \t sec:  1758\n",
      "line 352...  total duration [19, 25]  3331 / 55 min \n",
      "LINE:389 (iter: 21) -- predict_mask([model], '[19, 25]' ->  '3331 < 22724 sec' ?)\n",
      "\n",
      "\n",
      "-----------------\n",
      "line 379 bert_test_city[ Delh ] (iter: 22) -- predict_ mask([model], '[19, 25]')\n",
      "LINE 309, model.predict( to_predict=[['19', '25']] ) \n",
      "LINE 315  predseq => [19, 25],  maskpos => 1\n",
      "-- predict_ mask_pos ( <model>, seq= [19, 25], maskpos= 1  )\n",
      "line 240 ... seq: [19, 25]\n",
      "      seq :  [19, 25]\n",
      "LINE 256 -- model.predict( to_predict=['19,[MASK],25'] )\n"
     ]
    },
    {
     "data": {
      "application/vnd.jupyter.widget-view+json": {
       "model_id": "b318aa7484dd4c95b70430aea4db938a",
       "version_major": 2,
       "version_minor": 0
      },
      "text/plain": [
       "0it [00:00, ?it/s]"
      ]
     },
     "metadata": {},
     "output_type": "display_data"
    },
    {
     "data": {
      "application/vnd.jupyter.widget-view+json": {
       "model_id": "b4606590615341d6ac2e4dc2178d62f8",
       "version_major": 2,
       "version_minor": 0
      },
      "text/plain": [
       "  0%|          | 0/1 [00:00<?, ?it/s]"
      ]
     },
     "metadata": {},
     "output_type": "display_data"
    },
    {
     "name": "stdout",
     "output_type": "stream",
     "text": [
      "  seq     -> [19, 25]\n",
      "  amax    -> 12\n",
      "  amaxval -> 0.9205260872840881\n",
      "maskpos   => 1\n",
      "--> predict_ mask_pos (model, '[19, 25]', 1 ) --- [19, 12, 25] \n",
      "LINE 317  result: nextpoi:12 nextval:0.9205260872840881 unmasked_seq:[19, 25]\n",
      "  POSSIBLE: 0.9205260872840881 -> [19, 25] [19, 25]\n",
      "line 381 bert_test_city[ Delh ] (iter: 22) -- predict_ mask([model], '[19, 25]')\n",
      "line 382 nextpoi:12, maskpos:1, nextval:0.9205260872840881, unmasked_seq:[19, 25]\n",
      "line 336... estimate_duration( pois ) : [19, 25] ) \n",
      "line 337... boot_times : {1: (np.float64(1447.3127599999998), np.float64(1509.4048599999999)), 3: (np.float64(644.0), np.float64(644.0)), 4: (np.float64(1710.11013), np.float64(1799.67295)), 5: (np.float64(4111.64443), np.float64(4452.76964)), 6: (np.float64(7485.125999999999), np.float64(7931.48429)), 7: (np.float64(2487.53043), np.float64(2568.7986600000004)), 9: (np.float64(4450.26771), np.float64(4663.99319)), 10: (np.float64(1302.45605), np.float64(1335.8737299999998)), 11: (np.float64(3576.4448500000003), np.float64(3821.34793)), 12: (np.float64(3329.4814300000003), np.float64(3554.3457799999996)), 14: (np.float64(24281.0), np.float64(24281.0)), 15: (900, 900), 16: (np.float64(2944.92384), np.float64(3125.91392)), 18: (np.float64(2677.94418), np.float64(2864.8084000000003)), 19: (np.float64(1529.4857), np.float64(1618.44008)), 21: (np.float64(4656.012790000001), np.float64(4756.08958)), 22: (np.float64(6052.0), np.float64(6052.0)), 23: (np.float64(2163.8071800000002), np.float64(2239.0955599999998)), 24: (np.float64(3589.75531), np.float64(3709.0717099999997)), 25: (np.float64(1717.97791), np.float64(1798.36825)), 26: (np.float64(4899.20767), np.float64(5089.546069999999))} ) \n",
      "boot_times :  {1: (np.float64(1447.3127599999998), np.float64(1509.4048599999999)), 3: (np.float64(644.0), np.float64(644.0)), 4: (np.float64(1710.11013), np.float64(1799.67295)), 5: (np.float64(4111.64443), np.float64(4452.76964)), 6: (np.float64(7485.125999999999), np.float64(7931.48429)), 7: (np.float64(2487.53043), np.float64(2568.7986600000004)), 9: (np.float64(4450.26771), np.float64(4663.99319)), 10: (np.float64(1302.45605), np.float64(1335.8737299999998)), 11: (np.float64(3576.4448500000003), np.float64(3821.34793)), 12: (np.float64(3329.4814300000003), np.float64(3554.3457799999996)), 14: (np.float64(24281.0), np.float64(24281.0)), 15: (900, 900), 16: (np.float64(2944.92384), np.float64(3125.91392)), 18: (np.float64(2677.94418), np.float64(2864.8084000000003)), 19: (np.float64(1529.4857), np.float64(1618.44008)), 21: (np.float64(4656.012790000001), np.float64(4756.08958)), 22: (np.float64(6052.0), np.float64(6052.0)), 23: (np.float64(2163.8071800000002), np.float64(2239.0955599999998)), 24: (np.float64(3589.75531), np.float64(3709.0717099999997)), 25: (np.float64(1717.97791), np.float64(1798.36825)), 26: (np.float64(4899.20767), np.float64(5089.546069999999))}\n",
      " intertimes :  (np.float64(1529.4857), np.float64(1618.44008))\n",
      " duration   :  1573\n",
      "line 351...  estimate_duration : 19 \t sec:  1573\n",
      "boot_times :  {1: (np.float64(1447.3127599999998), np.float64(1509.4048599999999)), 3: (np.float64(644.0), np.float64(644.0)), 4: (np.float64(1710.11013), np.float64(1799.67295)), 5: (np.float64(4111.64443), np.float64(4452.76964)), 6: (np.float64(7485.125999999999), np.float64(7931.48429)), 7: (np.float64(2487.53043), np.float64(2568.7986600000004)), 9: (np.float64(4450.26771), np.float64(4663.99319)), 10: (np.float64(1302.45605), np.float64(1335.8737299999998)), 11: (np.float64(3576.4448500000003), np.float64(3821.34793)), 12: (np.float64(3329.4814300000003), np.float64(3554.3457799999996)), 14: (np.float64(24281.0), np.float64(24281.0)), 15: (900, 900), 16: (np.float64(2944.92384), np.float64(3125.91392)), 18: (np.float64(2677.94418), np.float64(2864.8084000000003)), 19: (np.float64(1529.4857), np.float64(1618.44008)), 21: (np.float64(4656.012790000001), np.float64(4756.08958)), 22: (np.float64(6052.0), np.float64(6052.0)), 23: (np.float64(2163.8071800000002), np.float64(2239.0955599999998)), 24: (np.float64(3589.75531), np.float64(3709.0717099999997)), 25: (np.float64(1717.97791), np.float64(1798.36825)), 26: (np.float64(4899.20767), np.float64(5089.546069999999))}\n",
      " intertimes :  (np.float64(1717.97791), np.float64(1798.36825))\n",
      " duration   :  1758\n",
      "line 351...  estimate_duration : 25 \t sec:  1758\n",
      "line 352...  total duration [19, 25]  3331 / 55 min \n",
      "LINE:389 (iter: 22) -- predict_mask([model], '[19, 25]' ->  '3331 < 22724 sec' ?)\n",
      "\n",
      "\n",
      "-----------------\n",
      "line 379 bert_test_city[ Delh ] (iter: 23) -- predict_ mask([model], '[19, 25]')\n",
      "LINE 309, model.predict( to_predict=[['19', '25']] ) \n",
      "LINE 315  predseq => [19, 25],  maskpos => 1\n",
      "-- predict_ mask_pos ( <model>, seq= [19, 25], maskpos= 1  )\n",
      "line 240 ... seq: [19, 25]\n",
      "      seq :  [19, 25]\n",
      "LINE 256 -- model.predict( to_predict=['19,[MASK],25'] )\n"
     ]
    },
    {
     "data": {
      "application/vnd.jupyter.widget-view+json": {
       "model_id": "0100ee886f824d50a5a0e658b56df206",
       "version_major": 2,
       "version_minor": 0
      },
      "text/plain": [
       "0it [00:00, ?it/s]"
      ]
     },
     "metadata": {},
     "output_type": "display_data"
    },
    {
     "data": {
      "application/vnd.jupyter.widget-view+json": {
       "model_id": "73154b70f8a04c9b999c509828d861b1",
       "version_major": 2,
       "version_minor": 0
      },
      "text/plain": [
       "  0%|          | 0/1 [00:00<?, ?it/s]"
      ]
     },
     "metadata": {},
     "output_type": "display_data"
    },
    {
     "name": "stdout",
     "output_type": "stream",
     "text": [
      "  seq     -> [19, 25]\n",
      "  amax    -> 12\n",
      "  amaxval -> 0.9205260872840881\n",
      "maskpos   => 1\n",
      "--> predict_ mask_pos (model, '[19, 25]', 1 ) --- [19, 12, 25] \n",
      "LINE 317  result: nextpoi:12 nextval:0.9205260872840881 unmasked_seq:[19, 25]\n",
      "  POSSIBLE: 0.9205260872840881 -> [19, 25] [19, 25]\n",
      "line 381 bert_test_city[ Delh ] (iter: 23) -- predict_ mask([model], '[19, 25]')\n",
      "line 382 nextpoi:12, maskpos:1, nextval:0.9205260872840881, unmasked_seq:[19, 25]\n",
      "line 336... estimate_duration( pois ) : [19, 25] ) \n",
      "line 337... boot_times : {1: (np.float64(1447.3127599999998), np.float64(1509.4048599999999)), 3: (np.float64(644.0), np.float64(644.0)), 4: (np.float64(1710.11013), np.float64(1799.67295)), 5: (np.float64(4111.64443), np.float64(4452.76964)), 6: (np.float64(7485.125999999999), np.float64(7931.48429)), 7: (np.float64(2487.53043), np.float64(2568.7986600000004)), 9: (np.float64(4450.26771), np.float64(4663.99319)), 10: (np.float64(1302.45605), np.float64(1335.8737299999998)), 11: (np.float64(3576.4448500000003), np.float64(3821.34793)), 12: (np.float64(3329.4814300000003), np.float64(3554.3457799999996)), 14: (np.float64(24281.0), np.float64(24281.0)), 15: (900, 900), 16: (np.float64(2944.92384), np.float64(3125.91392)), 18: (np.float64(2677.94418), np.float64(2864.8084000000003)), 19: (np.float64(1529.4857), np.float64(1618.44008)), 21: (np.float64(4656.012790000001), np.float64(4756.08958)), 22: (np.float64(6052.0), np.float64(6052.0)), 23: (np.float64(2163.8071800000002), np.float64(2239.0955599999998)), 24: (np.float64(3589.75531), np.float64(3709.0717099999997)), 25: (np.float64(1717.97791), np.float64(1798.36825)), 26: (np.float64(4899.20767), np.float64(5089.546069999999))} ) \n",
      "boot_times :  {1: (np.float64(1447.3127599999998), np.float64(1509.4048599999999)), 3: (np.float64(644.0), np.float64(644.0)), 4: (np.float64(1710.11013), np.float64(1799.67295)), 5: (np.float64(4111.64443), np.float64(4452.76964)), 6: (np.float64(7485.125999999999), np.float64(7931.48429)), 7: (np.float64(2487.53043), np.float64(2568.7986600000004)), 9: (np.float64(4450.26771), np.float64(4663.99319)), 10: (np.float64(1302.45605), np.float64(1335.8737299999998)), 11: (np.float64(3576.4448500000003), np.float64(3821.34793)), 12: (np.float64(3329.4814300000003), np.float64(3554.3457799999996)), 14: (np.float64(24281.0), np.float64(24281.0)), 15: (900, 900), 16: (np.float64(2944.92384), np.float64(3125.91392)), 18: (np.float64(2677.94418), np.float64(2864.8084000000003)), 19: (np.float64(1529.4857), np.float64(1618.44008)), 21: (np.float64(4656.012790000001), np.float64(4756.08958)), 22: (np.float64(6052.0), np.float64(6052.0)), 23: (np.float64(2163.8071800000002), np.float64(2239.0955599999998)), 24: (np.float64(3589.75531), np.float64(3709.0717099999997)), 25: (np.float64(1717.97791), np.float64(1798.36825)), 26: (np.float64(4899.20767), np.float64(5089.546069999999))}\n",
      " intertimes :  (np.float64(1529.4857), np.float64(1618.44008))\n",
      " duration   :  1573\n",
      "line 351...  estimate_duration : 19 \t sec:  1573\n",
      "boot_times :  {1: (np.float64(1447.3127599999998), np.float64(1509.4048599999999)), 3: (np.float64(644.0), np.float64(644.0)), 4: (np.float64(1710.11013), np.float64(1799.67295)), 5: (np.float64(4111.64443), np.float64(4452.76964)), 6: (np.float64(7485.125999999999), np.float64(7931.48429)), 7: (np.float64(2487.53043), np.float64(2568.7986600000004)), 9: (np.float64(4450.26771), np.float64(4663.99319)), 10: (np.float64(1302.45605), np.float64(1335.8737299999998)), 11: (np.float64(3576.4448500000003), np.float64(3821.34793)), 12: (np.float64(3329.4814300000003), np.float64(3554.3457799999996)), 14: (np.float64(24281.0), np.float64(24281.0)), 15: (900, 900), 16: (np.float64(2944.92384), np.float64(3125.91392)), 18: (np.float64(2677.94418), np.float64(2864.8084000000003)), 19: (np.float64(1529.4857), np.float64(1618.44008)), 21: (np.float64(4656.012790000001), np.float64(4756.08958)), 22: (np.float64(6052.0), np.float64(6052.0)), 23: (np.float64(2163.8071800000002), np.float64(2239.0955599999998)), 24: (np.float64(3589.75531), np.float64(3709.0717099999997)), 25: (np.float64(1717.97791), np.float64(1798.36825)), 26: (np.float64(4899.20767), np.float64(5089.546069999999))}\n",
      " intertimes :  (np.float64(1717.97791), np.float64(1798.36825))\n",
      " duration   :  1758\n",
      "line 351...  estimate_duration : 25 \t sec:  1758\n",
      "line 352...  total duration [19, 25]  3331 / 55 min \n",
      "LINE:389 (iter: 23) -- predict_mask([model], '[19, 25]' ->  '3331 < 22724 sec' ?)\n",
      "\n",
      "\n",
      "-----------------\n",
      "line 379 bert_test_city[ Delh ] (iter: 24) -- predict_ mask([model], '[19, 25]')\n",
      "LINE 309, model.predict( to_predict=[['19', '25']] ) \n",
      "LINE 315  predseq => [19, 25],  maskpos => 1\n",
      "-- predict_ mask_pos ( <model>, seq= [19, 25], maskpos= 1  )\n",
      "line 240 ... seq: [19, 25]\n",
      "      seq :  [19, 25]\n",
      "LINE 256 -- model.predict( to_predict=['19,[MASK],25'] )\n"
     ]
    },
    {
     "data": {
      "application/vnd.jupyter.widget-view+json": {
       "model_id": "570a26776bd749b2bb0a5f63ee03465b",
       "version_major": 2,
       "version_minor": 0
      },
      "text/plain": [
       "0it [00:00, ?it/s]"
      ]
     },
     "metadata": {},
     "output_type": "display_data"
    },
    {
     "data": {
      "application/vnd.jupyter.widget-view+json": {
       "model_id": "21f95eec8ee0408883069dde86f9d458",
       "version_major": 2,
       "version_minor": 0
      },
      "text/plain": [
       "  0%|          | 0/1 [00:00<?, ?it/s]"
      ]
     },
     "metadata": {},
     "output_type": "display_data"
    },
    {
     "name": "stdout",
     "output_type": "stream",
     "text": [
      "  seq     -> [19, 25]\n",
      "  amax    -> 12\n",
      "  amaxval -> 0.9205260872840881\n",
      "maskpos   => 1\n",
      "--> predict_ mask_pos (model, '[19, 25]', 1 ) --- [19, 12, 25] \n",
      "LINE 317  result: nextpoi:12 nextval:0.9205260872840881 unmasked_seq:[19, 25]\n",
      "  POSSIBLE: 0.9205260872840881 -> [19, 25] [19, 25]\n",
      "line 381 bert_test_city[ Delh ] (iter: 24) -- predict_ mask([model], '[19, 25]')\n",
      "line 382 nextpoi:12, maskpos:1, nextval:0.9205260872840881, unmasked_seq:[19, 25]\n",
      "line 336... estimate_duration( pois ) : [19, 25] ) \n",
      "line 337... boot_times : {1: (np.float64(1447.3127599999998), np.float64(1509.4048599999999)), 3: (np.float64(644.0), np.float64(644.0)), 4: (np.float64(1710.11013), np.float64(1799.67295)), 5: (np.float64(4111.64443), np.float64(4452.76964)), 6: (np.float64(7485.125999999999), np.float64(7931.48429)), 7: (np.float64(2487.53043), np.float64(2568.7986600000004)), 9: (np.float64(4450.26771), np.float64(4663.99319)), 10: (np.float64(1302.45605), np.float64(1335.8737299999998)), 11: (np.float64(3576.4448500000003), np.float64(3821.34793)), 12: (np.float64(3329.4814300000003), np.float64(3554.3457799999996)), 14: (np.float64(24281.0), np.float64(24281.0)), 15: (900, 900), 16: (np.float64(2944.92384), np.float64(3125.91392)), 18: (np.float64(2677.94418), np.float64(2864.8084000000003)), 19: (np.float64(1529.4857), np.float64(1618.44008)), 21: (np.float64(4656.012790000001), np.float64(4756.08958)), 22: (np.float64(6052.0), np.float64(6052.0)), 23: (np.float64(2163.8071800000002), np.float64(2239.0955599999998)), 24: (np.float64(3589.75531), np.float64(3709.0717099999997)), 25: (np.float64(1717.97791), np.float64(1798.36825)), 26: (np.float64(4899.20767), np.float64(5089.546069999999))} ) \n",
      "boot_times :  {1: (np.float64(1447.3127599999998), np.float64(1509.4048599999999)), 3: (np.float64(644.0), np.float64(644.0)), 4: (np.float64(1710.11013), np.float64(1799.67295)), 5: (np.float64(4111.64443), np.float64(4452.76964)), 6: (np.float64(7485.125999999999), np.float64(7931.48429)), 7: (np.float64(2487.53043), np.float64(2568.7986600000004)), 9: (np.float64(4450.26771), np.float64(4663.99319)), 10: (np.float64(1302.45605), np.float64(1335.8737299999998)), 11: (np.float64(3576.4448500000003), np.float64(3821.34793)), 12: (np.float64(3329.4814300000003), np.float64(3554.3457799999996)), 14: (np.float64(24281.0), np.float64(24281.0)), 15: (900, 900), 16: (np.float64(2944.92384), np.float64(3125.91392)), 18: (np.float64(2677.94418), np.float64(2864.8084000000003)), 19: (np.float64(1529.4857), np.float64(1618.44008)), 21: (np.float64(4656.012790000001), np.float64(4756.08958)), 22: (np.float64(6052.0), np.float64(6052.0)), 23: (np.float64(2163.8071800000002), np.float64(2239.0955599999998)), 24: (np.float64(3589.75531), np.float64(3709.0717099999997)), 25: (np.float64(1717.97791), np.float64(1798.36825)), 26: (np.float64(4899.20767), np.float64(5089.546069999999))}\n",
      " intertimes :  (np.float64(1529.4857), np.float64(1618.44008))\n",
      " duration   :  1573\n",
      "line 351...  estimate_duration : 19 \t sec:  1573\n",
      "boot_times :  {1: (np.float64(1447.3127599999998), np.float64(1509.4048599999999)), 3: (np.float64(644.0), np.float64(644.0)), 4: (np.float64(1710.11013), np.float64(1799.67295)), 5: (np.float64(4111.64443), np.float64(4452.76964)), 6: (np.float64(7485.125999999999), np.float64(7931.48429)), 7: (np.float64(2487.53043), np.float64(2568.7986600000004)), 9: (np.float64(4450.26771), np.float64(4663.99319)), 10: (np.float64(1302.45605), np.float64(1335.8737299999998)), 11: (np.float64(3576.4448500000003), np.float64(3821.34793)), 12: (np.float64(3329.4814300000003), np.float64(3554.3457799999996)), 14: (np.float64(24281.0), np.float64(24281.0)), 15: (900, 900), 16: (np.float64(2944.92384), np.float64(3125.91392)), 18: (np.float64(2677.94418), np.float64(2864.8084000000003)), 19: (np.float64(1529.4857), np.float64(1618.44008)), 21: (np.float64(4656.012790000001), np.float64(4756.08958)), 22: (np.float64(6052.0), np.float64(6052.0)), 23: (np.float64(2163.8071800000002), np.float64(2239.0955599999998)), 24: (np.float64(3589.75531), np.float64(3709.0717099999997)), 25: (np.float64(1717.97791), np.float64(1798.36825)), 26: (np.float64(4899.20767), np.float64(5089.546069999999))}\n",
      " intertimes :  (np.float64(1717.97791), np.float64(1798.36825))\n",
      " duration   :  1758\n",
      "line 351...  estimate_duration : 25 \t sec:  1758\n",
      "line 352...  total duration [19, 25]  3331 / 55 min \n",
      "LINE:389 (iter: 24) -- predict_mask([model], '[19, 25]' ->  '3331 < 22724 sec' ?)\n",
      "\n",
      "\n",
      "-----------------\n",
      "line 379 bert_test_city[ Delh ] (iter: 25) -- predict_ mask([model], '[19, 25]')\n",
      "LINE 309, model.predict( to_predict=[['19', '25']] ) \n",
      "LINE 315  predseq => [19, 25],  maskpos => 1\n",
      "-- predict_ mask_pos ( <model>, seq= [19, 25], maskpos= 1  )\n",
      "line 240 ... seq: [19, 25]\n",
      "      seq :  [19, 25]\n",
      "LINE 256 -- model.predict( to_predict=['19,[MASK],25'] )\n"
     ]
    },
    {
     "data": {
      "application/vnd.jupyter.widget-view+json": {
       "model_id": "2adf1f6d174041baa6bb3cb04be7dc72",
       "version_major": 2,
       "version_minor": 0
      },
      "text/plain": [
       "0it [00:00, ?it/s]"
      ]
     },
     "metadata": {},
     "output_type": "display_data"
    },
    {
     "data": {
      "application/vnd.jupyter.widget-view+json": {
       "model_id": "f1cb620d26f74c6fa656cabf2a139fe6",
       "version_major": 2,
       "version_minor": 0
      },
      "text/plain": [
       "  0%|          | 0/1 [00:00<?, ?it/s]"
      ]
     },
     "metadata": {},
     "output_type": "display_data"
    },
    {
     "name": "stdout",
     "output_type": "stream",
     "text": [
      "  seq     -> [19, 25]\n",
      "  amax    -> 12\n",
      "  amaxval -> 0.9205260872840881\n",
      "maskpos   => 1\n",
      "--> predict_ mask_pos (model, '[19, 25]', 1 ) --- [19, 12, 25] \n",
      "LINE 317  result: nextpoi:12 nextval:0.9205260872840881 unmasked_seq:[19, 25]\n",
      "  POSSIBLE: 0.9205260872840881 -> [19, 25] [19, 25]\n",
      "line 381 bert_test_city[ Delh ] (iter: 25) -- predict_ mask([model], '[19, 25]')\n",
      "line 382 nextpoi:12, maskpos:1, nextval:0.9205260872840881, unmasked_seq:[19, 25]\n",
      "line 336... estimate_duration( pois ) : [19, 25] ) \n",
      "line 337... boot_times : {1: (np.float64(1447.3127599999998), np.float64(1509.4048599999999)), 3: (np.float64(644.0), np.float64(644.0)), 4: (np.float64(1710.11013), np.float64(1799.67295)), 5: (np.float64(4111.64443), np.float64(4452.76964)), 6: (np.float64(7485.125999999999), np.float64(7931.48429)), 7: (np.float64(2487.53043), np.float64(2568.7986600000004)), 9: (np.float64(4450.26771), np.float64(4663.99319)), 10: (np.float64(1302.45605), np.float64(1335.8737299999998)), 11: (np.float64(3576.4448500000003), np.float64(3821.34793)), 12: (np.float64(3329.4814300000003), np.float64(3554.3457799999996)), 14: (np.float64(24281.0), np.float64(24281.0)), 15: (900, 900), 16: (np.float64(2944.92384), np.float64(3125.91392)), 18: (np.float64(2677.94418), np.float64(2864.8084000000003)), 19: (np.float64(1529.4857), np.float64(1618.44008)), 21: (np.float64(4656.012790000001), np.float64(4756.08958)), 22: (np.float64(6052.0), np.float64(6052.0)), 23: (np.float64(2163.8071800000002), np.float64(2239.0955599999998)), 24: (np.float64(3589.75531), np.float64(3709.0717099999997)), 25: (np.float64(1717.97791), np.float64(1798.36825)), 26: (np.float64(4899.20767), np.float64(5089.546069999999))} ) \n",
      "boot_times :  {1: (np.float64(1447.3127599999998), np.float64(1509.4048599999999)), 3: (np.float64(644.0), np.float64(644.0)), 4: (np.float64(1710.11013), np.float64(1799.67295)), 5: (np.float64(4111.64443), np.float64(4452.76964)), 6: (np.float64(7485.125999999999), np.float64(7931.48429)), 7: (np.float64(2487.53043), np.float64(2568.7986600000004)), 9: (np.float64(4450.26771), np.float64(4663.99319)), 10: (np.float64(1302.45605), np.float64(1335.8737299999998)), 11: (np.float64(3576.4448500000003), np.float64(3821.34793)), 12: (np.float64(3329.4814300000003), np.float64(3554.3457799999996)), 14: (np.float64(24281.0), np.float64(24281.0)), 15: (900, 900), 16: (np.float64(2944.92384), np.float64(3125.91392)), 18: (np.float64(2677.94418), np.float64(2864.8084000000003)), 19: (np.float64(1529.4857), np.float64(1618.44008)), 21: (np.float64(4656.012790000001), np.float64(4756.08958)), 22: (np.float64(6052.0), np.float64(6052.0)), 23: (np.float64(2163.8071800000002), np.float64(2239.0955599999998)), 24: (np.float64(3589.75531), np.float64(3709.0717099999997)), 25: (np.float64(1717.97791), np.float64(1798.36825)), 26: (np.float64(4899.20767), np.float64(5089.546069999999))}\n",
      " intertimes :  (np.float64(1529.4857), np.float64(1618.44008))\n",
      " duration   :  1573\n",
      "line 351...  estimate_duration : 19 \t sec:  1573\n",
      "boot_times :  {1: (np.float64(1447.3127599999998), np.float64(1509.4048599999999)), 3: (np.float64(644.0), np.float64(644.0)), 4: (np.float64(1710.11013), np.float64(1799.67295)), 5: (np.float64(4111.64443), np.float64(4452.76964)), 6: (np.float64(7485.125999999999), np.float64(7931.48429)), 7: (np.float64(2487.53043), np.float64(2568.7986600000004)), 9: (np.float64(4450.26771), np.float64(4663.99319)), 10: (np.float64(1302.45605), np.float64(1335.8737299999998)), 11: (np.float64(3576.4448500000003), np.float64(3821.34793)), 12: (np.float64(3329.4814300000003), np.float64(3554.3457799999996)), 14: (np.float64(24281.0), np.float64(24281.0)), 15: (900, 900), 16: (np.float64(2944.92384), np.float64(3125.91392)), 18: (np.float64(2677.94418), np.float64(2864.8084000000003)), 19: (np.float64(1529.4857), np.float64(1618.44008)), 21: (np.float64(4656.012790000001), np.float64(4756.08958)), 22: (np.float64(6052.0), np.float64(6052.0)), 23: (np.float64(2163.8071800000002), np.float64(2239.0955599999998)), 24: (np.float64(3589.75531), np.float64(3709.0717099999997)), 25: (np.float64(1717.97791), np.float64(1798.36825)), 26: (np.float64(4899.20767), np.float64(5089.546069999999))}\n",
      " intertimes :  (np.float64(1717.97791), np.float64(1798.36825))\n",
      " duration   :  1758\n",
      "line 351...  estimate_duration : 25 \t sec:  1758\n",
      "line 352...  total duration [19, 25]  3331 / 55 min \n",
      "LINE:389 (iter: 25) -- predict_mask([model], '[19, 25]' ->  '3331 < 22724 sec' ?)\n",
      " (seqID:144) ->  history : [19 12 11 25]\n",
      " (seqID:144) ->  predseq : [19, 25]\n",
      " (seqID:144) => recall:    50.0 %\n",
      " (seqID:144) => precision: 100.0 %\n",
      " (seqID:144) => f1: 66.66666666666666 %\t recall: 50.0 \t precision: 100.0\n",
      "\n",
      "\n",
      "-----------------\n",
      "line 379 bert_test_city[ Delh ] (iter: 0) -- predict_ mask([model], '[18, 11]')\n",
      "LINE 309, model.predict( to_predict=[['18', '11']] ) \n",
      "LINE 315  predseq => [18, 11],  maskpos => 1\n",
      "-- predict_ mask_pos ( <model>, seq= [18, 11], maskpos= 1  )\n",
      "line 240 ... seq: [18, 11]\n",
      "      seq :  [18, 11]\n",
      "LINE 256 -- model.predict( to_predict=['18,[MASK],11'] )\n"
     ]
    },
    {
     "data": {
      "application/vnd.jupyter.widget-view+json": {
       "model_id": "3db7071e1db942d292408fbfd3323883",
       "version_major": 2,
       "version_minor": 0
      },
      "text/plain": [
       "0it [00:00, ?it/s]"
      ]
     },
     "metadata": {},
     "output_type": "display_data"
    },
    {
     "data": {
      "application/vnd.jupyter.widget-view+json": {
       "model_id": "93b6d90385114d4c9346a92084b2ee0e",
       "version_major": 2,
       "version_minor": 0
      },
      "text/plain": [
       "  0%|          | 0/1 [00:00<?, ?it/s]"
      ]
     },
     "metadata": {},
     "output_type": "display_data"
    },
    {
     "name": "stdout",
     "output_type": "stream",
     "text": [
      "  seq     -> [18, 11]\n",
      "  amax    -> 12\n",
      "  amaxval -> 0.797331690788269\n",
      "maskpos   => 1\n",
      "--> predict_ mask_pos (model, '[18, 11]', 1 ) --- [18, 12, 11] \n",
      "LINE 317  result: nextpoi:12 nextval:0.797331690788269 unmasked_seq:[18, 11]\n",
      "  POSSIBLE: 0.797331690788269 -> [18, 11] [18, 11]\n",
      "line 381 bert_test_city[ Delh ] (iter: 0) -- predict_ mask([model], '[18, 11]')\n",
      "line 382 nextpoi:12, maskpos:1, nextval:0.797331690788269, unmasked_seq:[18, 11]\n",
      "line 336... estimate_duration( pois ) : [18, 11] ) \n",
      "line 337... boot_times : {1: (np.float64(1447.3127599999998), np.float64(1509.4048599999999)), 3: (np.float64(644.0), np.float64(644.0)), 4: (np.float64(1710.11013), np.float64(1799.67295)), 5: (np.float64(4111.64443), np.float64(4452.76964)), 6: (np.float64(7485.125999999999), np.float64(7931.48429)), 7: (np.float64(2487.53043), np.float64(2568.7986600000004)), 9: (np.float64(4450.26771), np.float64(4663.99319)), 10: (np.float64(1302.45605), np.float64(1335.8737299999998)), 11: (np.float64(3576.4448500000003), np.float64(3821.34793)), 12: (np.float64(3329.4814300000003), np.float64(3554.3457799999996)), 14: (np.float64(24281.0), np.float64(24281.0)), 15: (900, 900), 16: (np.float64(2944.92384), np.float64(3125.91392)), 18: (np.float64(2677.94418), np.float64(2864.8084000000003)), 19: (np.float64(1529.4857), np.float64(1618.44008)), 21: (np.float64(4656.012790000001), np.float64(4756.08958)), 22: (np.float64(6052.0), np.float64(6052.0)), 23: (np.float64(2163.8071800000002), np.float64(2239.0955599999998)), 24: (np.float64(3589.75531), np.float64(3709.0717099999997)), 25: (np.float64(1717.97791), np.float64(1798.36825)), 26: (np.float64(4899.20767), np.float64(5089.546069999999))} ) \n",
      "boot_times :  {1: (np.float64(1447.3127599999998), np.float64(1509.4048599999999)), 3: (np.float64(644.0), np.float64(644.0)), 4: (np.float64(1710.11013), np.float64(1799.67295)), 5: (np.float64(4111.64443), np.float64(4452.76964)), 6: (np.float64(7485.125999999999), np.float64(7931.48429)), 7: (np.float64(2487.53043), np.float64(2568.7986600000004)), 9: (np.float64(4450.26771), np.float64(4663.99319)), 10: (np.float64(1302.45605), np.float64(1335.8737299999998)), 11: (np.float64(3576.4448500000003), np.float64(3821.34793)), 12: (np.float64(3329.4814300000003), np.float64(3554.3457799999996)), 14: (np.float64(24281.0), np.float64(24281.0)), 15: (900, 900), 16: (np.float64(2944.92384), np.float64(3125.91392)), 18: (np.float64(2677.94418), np.float64(2864.8084000000003)), 19: (np.float64(1529.4857), np.float64(1618.44008)), 21: (np.float64(4656.012790000001), np.float64(4756.08958)), 22: (np.float64(6052.0), np.float64(6052.0)), 23: (np.float64(2163.8071800000002), np.float64(2239.0955599999998)), 24: (np.float64(3589.75531), np.float64(3709.0717099999997)), 25: (np.float64(1717.97791), np.float64(1798.36825)), 26: (np.float64(4899.20767), np.float64(5089.546069999999))}\n",
      " intertimes :  (np.float64(2677.94418), np.float64(2864.8084000000003))\n",
      " duration   :  2771\n",
      "line 351...  estimate_duration : 18 \t sec:  2771\n",
      "boot_times :  {1: (np.float64(1447.3127599999998), np.float64(1509.4048599999999)), 3: (np.float64(644.0), np.float64(644.0)), 4: (np.float64(1710.11013), np.float64(1799.67295)), 5: (np.float64(4111.64443), np.float64(4452.76964)), 6: (np.float64(7485.125999999999), np.float64(7931.48429)), 7: (np.float64(2487.53043), np.float64(2568.7986600000004)), 9: (np.float64(4450.26771), np.float64(4663.99319)), 10: (np.float64(1302.45605), np.float64(1335.8737299999998)), 11: (np.float64(3576.4448500000003), np.float64(3821.34793)), 12: (np.float64(3329.4814300000003), np.float64(3554.3457799999996)), 14: (np.float64(24281.0), np.float64(24281.0)), 15: (900, 900), 16: (np.float64(2944.92384), np.float64(3125.91392)), 18: (np.float64(2677.94418), np.float64(2864.8084000000003)), 19: (np.float64(1529.4857), np.float64(1618.44008)), 21: (np.float64(4656.012790000001), np.float64(4756.08958)), 22: (np.float64(6052.0), np.float64(6052.0)), 23: (np.float64(2163.8071800000002), np.float64(2239.0955599999998)), 24: (np.float64(3589.75531), np.float64(3709.0717099999997)), 25: (np.float64(1717.97791), np.float64(1798.36825)), 26: (np.float64(4899.20767), np.float64(5089.546069999999))}\n",
      " intertimes :  (np.float64(3576.4448500000003), np.float64(3821.34793))\n",
      " duration   :  3698\n",
      "line 351...  estimate_duration : 11 \t sec:  3698\n",
      "line 352...  total duration [18, 11]  6469 / 107 min \n",
      "LINE:389 (iter: 0) -- predict_mask([model], '[18, 11]' ->  '6469 < 19960 sec' ?)\n",
      "\n",
      "\n",
      "-----------------\n",
      "line 379 bert_test_city[ Delh ] (iter: 1) -- predict_ mask([model], '[18, 11]')\n",
      "LINE 309, model.predict( to_predict=[['18', '11']] ) \n",
      "LINE 315  predseq => [18, 11],  maskpos => 1\n",
      "-- predict_ mask_pos ( <model>, seq= [18, 11], maskpos= 1  )\n",
      "line 240 ... seq: [18, 11]\n",
      "      seq :  [18, 11]\n",
      "LINE 256 -- model.predict( to_predict=['18,[MASK],11'] )\n"
     ]
    },
    {
     "data": {
      "application/vnd.jupyter.widget-view+json": {
       "model_id": "5ee93ffbcd994b63af31d46f1f21957e",
       "version_major": 2,
       "version_minor": 0
      },
      "text/plain": [
       "0it [00:00, ?it/s]"
      ]
     },
     "metadata": {},
     "output_type": "display_data"
    },
    {
     "data": {
      "application/vnd.jupyter.widget-view+json": {
       "model_id": "d629bce234014f1dae5383027cc27221",
       "version_major": 2,
       "version_minor": 0
      },
      "text/plain": [
       "  0%|          | 0/1 [00:00<?, ?it/s]"
      ]
     },
     "metadata": {},
     "output_type": "display_data"
    },
    {
     "name": "stdout",
     "output_type": "stream",
     "text": [
      "  seq     -> [18, 11]\n",
      "  amax    -> 12\n",
      "  amaxval -> 0.797331690788269\n",
      "maskpos   => 1\n",
      "--> predict_ mask_pos (model, '[18, 11]', 1 ) --- [18, 12, 11] \n",
      "LINE 317  result: nextpoi:12 nextval:0.797331690788269 unmasked_seq:[18, 11]\n",
      "  POSSIBLE: 0.797331690788269 -> [18, 11] [18, 11]\n",
      "line 381 bert_test_city[ Delh ] (iter: 1) -- predict_ mask([model], '[18, 11]')\n",
      "line 382 nextpoi:12, maskpos:1, nextval:0.797331690788269, unmasked_seq:[18, 11]\n",
      "line 336... estimate_duration( pois ) : [18, 11] ) \n",
      "line 337... boot_times : {1: (np.float64(1447.3127599999998), np.float64(1509.4048599999999)), 3: (np.float64(644.0), np.float64(644.0)), 4: (np.float64(1710.11013), np.float64(1799.67295)), 5: (np.float64(4111.64443), np.float64(4452.76964)), 6: (np.float64(7485.125999999999), np.float64(7931.48429)), 7: (np.float64(2487.53043), np.float64(2568.7986600000004)), 9: (np.float64(4450.26771), np.float64(4663.99319)), 10: (np.float64(1302.45605), np.float64(1335.8737299999998)), 11: (np.float64(3576.4448500000003), np.float64(3821.34793)), 12: (np.float64(3329.4814300000003), np.float64(3554.3457799999996)), 14: (np.float64(24281.0), np.float64(24281.0)), 15: (900, 900), 16: (np.float64(2944.92384), np.float64(3125.91392)), 18: (np.float64(2677.94418), np.float64(2864.8084000000003)), 19: (np.float64(1529.4857), np.float64(1618.44008)), 21: (np.float64(4656.012790000001), np.float64(4756.08958)), 22: (np.float64(6052.0), np.float64(6052.0)), 23: (np.float64(2163.8071800000002), np.float64(2239.0955599999998)), 24: (np.float64(3589.75531), np.float64(3709.0717099999997)), 25: (np.float64(1717.97791), np.float64(1798.36825)), 26: (np.float64(4899.20767), np.float64(5089.546069999999))} ) \n",
      "boot_times :  {1: (np.float64(1447.3127599999998), np.float64(1509.4048599999999)), 3: (np.float64(644.0), np.float64(644.0)), 4: (np.float64(1710.11013), np.float64(1799.67295)), 5: (np.float64(4111.64443), np.float64(4452.76964)), 6: (np.float64(7485.125999999999), np.float64(7931.48429)), 7: (np.float64(2487.53043), np.float64(2568.7986600000004)), 9: (np.float64(4450.26771), np.float64(4663.99319)), 10: (np.float64(1302.45605), np.float64(1335.8737299999998)), 11: (np.float64(3576.4448500000003), np.float64(3821.34793)), 12: (np.float64(3329.4814300000003), np.float64(3554.3457799999996)), 14: (np.float64(24281.0), np.float64(24281.0)), 15: (900, 900), 16: (np.float64(2944.92384), np.float64(3125.91392)), 18: (np.float64(2677.94418), np.float64(2864.8084000000003)), 19: (np.float64(1529.4857), np.float64(1618.44008)), 21: (np.float64(4656.012790000001), np.float64(4756.08958)), 22: (np.float64(6052.0), np.float64(6052.0)), 23: (np.float64(2163.8071800000002), np.float64(2239.0955599999998)), 24: (np.float64(3589.75531), np.float64(3709.0717099999997)), 25: (np.float64(1717.97791), np.float64(1798.36825)), 26: (np.float64(4899.20767), np.float64(5089.546069999999))}\n",
      " intertimes :  (np.float64(2677.94418), np.float64(2864.8084000000003))\n",
      " duration   :  2771\n",
      "line 351...  estimate_duration : 18 \t sec:  2771\n",
      "boot_times :  {1: (np.float64(1447.3127599999998), np.float64(1509.4048599999999)), 3: (np.float64(644.0), np.float64(644.0)), 4: (np.float64(1710.11013), np.float64(1799.67295)), 5: (np.float64(4111.64443), np.float64(4452.76964)), 6: (np.float64(7485.125999999999), np.float64(7931.48429)), 7: (np.float64(2487.53043), np.float64(2568.7986600000004)), 9: (np.float64(4450.26771), np.float64(4663.99319)), 10: (np.float64(1302.45605), np.float64(1335.8737299999998)), 11: (np.float64(3576.4448500000003), np.float64(3821.34793)), 12: (np.float64(3329.4814300000003), np.float64(3554.3457799999996)), 14: (np.float64(24281.0), np.float64(24281.0)), 15: (900, 900), 16: (np.float64(2944.92384), np.float64(3125.91392)), 18: (np.float64(2677.94418), np.float64(2864.8084000000003)), 19: (np.float64(1529.4857), np.float64(1618.44008)), 21: (np.float64(4656.012790000001), np.float64(4756.08958)), 22: (np.float64(6052.0), np.float64(6052.0)), 23: (np.float64(2163.8071800000002), np.float64(2239.0955599999998)), 24: (np.float64(3589.75531), np.float64(3709.0717099999997)), 25: (np.float64(1717.97791), np.float64(1798.36825)), 26: (np.float64(4899.20767), np.float64(5089.546069999999))}\n",
      " intertimes :  (np.float64(3576.4448500000003), np.float64(3821.34793))\n",
      " duration   :  3698\n",
      "line 351...  estimate_duration : 11 \t sec:  3698\n",
      "line 352...  total duration [18, 11]  6469 / 107 min \n",
      "LINE:389 (iter: 1) -- predict_mask([model], '[18, 11]' ->  '6469 < 19960 sec' ?)\n",
      "\n",
      "\n",
      "-----------------\n",
      "line 379 bert_test_city[ Delh ] (iter: 2) -- predict_ mask([model], '[18, 11]')\n",
      "LINE 309, model.predict( to_predict=[['18', '11']] ) \n",
      "LINE 315  predseq => [18, 11],  maskpos => 1\n",
      "-- predict_ mask_pos ( <model>, seq= [18, 11], maskpos= 1  )\n",
      "line 240 ... seq: [18, 11]\n",
      "      seq :  [18, 11]\n",
      "LINE 256 -- model.predict( to_predict=['18,[MASK],11'] )\n"
     ]
    },
    {
     "data": {
      "application/vnd.jupyter.widget-view+json": {
       "model_id": "523f1ec9eb4e4dc8a4b61dc4c3783ea9",
       "version_major": 2,
       "version_minor": 0
      },
      "text/plain": [
       "0it [00:00, ?it/s]"
      ]
     },
     "metadata": {},
     "output_type": "display_data"
    },
    {
     "data": {
      "application/vnd.jupyter.widget-view+json": {
       "model_id": "70cc985f84674fe68a22e39e965cf87f",
       "version_major": 2,
       "version_minor": 0
      },
      "text/plain": [
       "  0%|          | 0/1 [00:00<?, ?it/s]"
      ]
     },
     "metadata": {},
     "output_type": "display_data"
    },
    {
     "name": "stdout",
     "output_type": "stream",
     "text": [
      "  seq     -> [18, 11]\n",
      "  amax    -> 12\n",
      "  amaxval -> 0.797331690788269\n",
      "maskpos   => 1\n",
      "--> predict_ mask_pos (model, '[18, 11]', 1 ) --- [18, 12, 11] \n",
      "LINE 317  result: nextpoi:12 nextval:0.797331690788269 unmasked_seq:[18, 11]\n",
      "  POSSIBLE: 0.797331690788269 -> [18, 11] [18, 11]\n",
      "line 381 bert_test_city[ Delh ] (iter: 2) -- predict_ mask([model], '[18, 11]')\n",
      "line 382 nextpoi:12, maskpos:1, nextval:0.797331690788269, unmasked_seq:[18, 11]\n",
      "line 336... estimate_duration( pois ) : [18, 11] ) \n",
      "line 337... boot_times : {1: (np.float64(1447.3127599999998), np.float64(1509.4048599999999)), 3: (np.float64(644.0), np.float64(644.0)), 4: (np.float64(1710.11013), np.float64(1799.67295)), 5: (np.float64(4111.64443), np.float64(4452.76964)), 6: (np.float64(7485.125999999999), np.float64(7931.48429)), 7: (np.float64(2487.53043), np.float64(2568.7986600000004)), 9: (np.float64(4450.26771), np.float64(4663.99319)), 10: (np.float64(1302.45605), np.float64(1335.8737299999998)), 11: (np.float64(3576.4448500000003), np.float64(3821.34793)), 12: (np.float64(3329.4814300000003), np.float64(3554.3457799999996)), 14: (np.float64(24281.0), np.float64(24281.0)), 15: (900, 900), 16: (np.float64(2944.92384), np.float64(3125.91392)), 18: (np.float64(2677.94418), np.float64(2864.8084000000003)), 19: (np.float64(1529.4857), np.float64(1618.44008)), 21: (np.float64(4656.012790000001), np.float64(4756.08958)), 22: (np.float64(6052.0), np.float64(6052.0)), 23: (np.float64(2163.8071800000002), np.float64(2239.0955599999998)), 24: (np.float64(3589.75531), np.float64(3709.0717099999997)), 25: (np.float64(1717.97791), np.float64(1798.36825)), 26: (np.float64(4899.20767), np.float64(5089.546069999999))} ) \n",
      "boot_times :  {1: (np.float64(1447.3127599999998), np.float64(1509.4048599999999)), 3: (np.float64(644.0), np.float64(644.0)), 4: (np.float64(1710.11013), np.float64(1799.67295)), 5: (np.float64(4111.64443), np.float64(4452.76964)), 6: (np.float64(7485.125999999999), np.float64(7931.48429)), 7: (np.float64(2487.53043), np.float64(2568.7986600000004)), 9: (np.float64(4450.26771), np.float64(4663.99319)), 10: (np.float64(1302.45605), np.float64(1335.8737299999998)), 11: (np.float64(3576.4448500000003), np.float64(3821.34793)), 12: (np.float64(3329.4814300000003), np.float64(3554.3457799999996)), 14: (np.float64(24281.0), np.float64(24281.0)), 15: (900, 900), 16: (np.float64(2944.92384), np.float64(3125.91392)), 18: (np.float64(2677.94418), np.float64(2864.8084000000003)), 19: (np.float64(1529.4857), np.float64(1618.44008)), 21: (np.float64(4656.012790000001), np.float64(4756.08958)), 22: (np.float64(6052.0), np.float64(6052.0)), 23: (np.float64(2163.8071800000002), np.float64(2239.0955599999998)), 24: (np.float64(3589.75531), np.float64(3709.0717099999997)), 25: (np.float64(1717.97791), np.float64(1798.36825)), 26: (np.float64(4899.20767), np.float64(5089.546069999999))}\n",
      " intertimes :  (np.float64(2677.94418), np.float64(2864.8084000000003))\n",
      " duration   :  2771\n",
      "line 351...  estimate_duration : 18 \t sec:  2771\n",
      "boot_times :  {1: (np.float64(1447.3127599999998), np.float64(1509.4048599999999)), 3: (np.float64(644.0), np.float64(644.0)), 4: (np.float64(1710.11013), np.float64(1799.67295)), 5: (np.float64(4111.64443), np.float64(4452.76964)), 6: (np.float64(7485.125999999999), np.float64(7931.48429)), 7: (np.float64(2487.53043), np.float64(2568.7986600000004)), 9: (np.float64(4450.26771), np.float64(4663.99319)), 10: (np.float64(1302.45605), np.float64(1335.8737299999998)), 11: (np.float64(3576.4448500000003), np.float64(3821.34793)), 12: (np.float64(3329.4814300000003), np.float64(3554.3457799999996)), 14: (np.float64(24281.0), np.float64(24281.0)), 15: (900, 900), 16: (np.float64(2944.92384), np.float64(3125.91392)), 18: (np.float64(2677.94418), np.float64(2864.8084000000003)), 19: (np.float64(1529.4857), np.float64(1618.44008)), 21: (np.float64(4656.012790000001), np.float64(4756.08958)), 22: (np.float64(6052.0), np.float64(6052.0)), 23: (np.float64(2163.8071800000002), np.float64(2239.0955599999998)), 24: (np.float64(3589.75531), np.float64(3709.0717099999997)), 25: (np.float64(1717.97791), np.float64(1798.36825)), 26: (np.float64(4899.20767), np.float64(5089.546069999999))}\n",
      " intertimes :  (np.float64(3576.4448500000003), np.float64(3821.34793))\n",
      " duration   :  3698\n",
      "line 351...  estimate_duration : 11 \t sec:  3698\n",
      "line 352...  total duration [18, 11]  6469 / 107 min \n",
      "LINE:389 (iter: 2) -- predict_mask([model], '[18, 11]' ->  '6469 < 19960 sec' ?)\n",
      "\n",
      "\n",
      "-----------------\n",
      "line 379 bert_test_city[ Delh ] (iter: 3) -- predict_ mask([model], '[18, 11]')\n",
      "LINE 309, model.predict( to_predict=[['18', '11']] ) \n",
      "LINE 315  predseq => [18, 11],  maskpos => 1\n",
      "-- predict_ mask_pos ( <model>, seq= [18, 11], maskpos= 1  )\n",
      "line 240 ... seq: [18, 11]\n",
      "      seq :  [18, 11]\n",
      "LINE 256 -- model.predict( to_predict=['18,[MASK],11'] )\n"
     ]
    },
    {
     "data": {
      "application/vnd.jupyter.widget-view+json": {
       "model_id": "69087e11fa2d413c96ce7d7d503796bf",
       "version_major": 2,
       "version_minor": 0
      },
      "text/plain": [
       "0it [00:00, ?it/s]"
      ]
     },
     "metadata": {},
     "output_type": "display_data"
    },
    {
     "data": {
      "application/vnd.jupyter.widget-view+json": {
       "model_id": "d541337684714b5ba6c4415b53311e82",
       "version_major": 2,
       "version_minor": 0
      },
      "text/plain": [
       "  0%|          | 0/1 [00:00<?, ?it/s]"
      ]
     },
     "metadata": {},
     "output_type": "display_data"
    },
    {
     "name": "stdout",
     "output_type": "stream",
     "text": [
      "  seq     -> [18, 11]\n",
      "  amax    -> 12\n",
      "  amaxval -> 0.797331690788269\n",
      "maskpos   => 1\n",
      "--> predict_ mask_pos (model, '[18, 11]', 1 ) --- [18, 12, 11] \n",
      "LINE 317  result: nextpoi:12 nextval:0.797331690788269 unmasked_seq:[18, 11]\n",
      "  POSSIBLE: 0.797331690788269 -> [18, 11] [18, 11]\n",
      "line 381 bert_test_city[ Delh ] (iter: 3) -- predict_ mask([model], '[18, 11]')\n",
      "line 382 nextpoi:12, maskpos:1, nextval:0.797331690788269, unmasked_seq:[18, 11]\n",
      "line 336... estimate_duration( pois ) : [18, 11] ) \n",
      "line 337... boot_times : {1: (np.float64(1447.3127599999998), np.float64(1509.4048599999999)), 3: (np.float64(644.0), np.float64(644.0)), 4: (np.float64(1710.11013), np.float64(1799.67295)), 5: (np.float64(4111.64443), np.float64(4452.76964)), 6: (np.float64(7485.125999999999), np.float64(7931.48429)), 7: (np.float64(2487.53043), np.float64(2568.7986600000004)), 9: (np.float64(4450.26771), np.float64(4663.99319)), 10: (np.float64(1302.45605), np.float64(1335.8737299999998)), 11: (np.float64(3576.4448500000003), np.float64(3821.34793)), 12: (np.float64(3329.4814300000003), np.float64(3554.3457799999996)), 14: (np.float64(24281.0), np.float64(24281.0)), 15: (900, 900), 16: (np.float64(2944.92384), np.float64(3125.91392)), 18: (np.float64(2677.94418), np.float64(2864.8084000000003)), 19: (np.float64(1529.4857), np.float64(1618.44008)), 21: (np.float64(4656.012790000001), np.float64(4756.08958)), 22: (np.float64(6052.0), np.float64(6052.0)), 23: (np.float64(2163.8071800000002), np.float64(2239.0955599999998)), 24: (np.float64(3589.75531), np.float64(3709.0717099999997)), 25: (np.float64(1717.97791), np.float64(1798.36825)), 26: (np.float64(4899.20767), np.float64(5089.546069999999))} ) \n",
      "boot_times :  {1: (np.float64(1447.3127599999998), np.float64(1509.4048599999999)), 3: (np.float64(644.0), np.float64(644.0)), 4: (np.float64(1710.11013), np.float64(1799.67295)), 5: (np.float64(4111.64443), np.float64(4452.76964)), 6: (np.float64(7485.125999999999), np.float64(7931.48429)), 7: (np.float64(2487.53043), np.float64(2568.7986600000004)), 9: (np.float64(4450.26771), np.float64(4663.99319)), 10: (np.float64(1302.45605), np.float64(1335.8737299999998)), 11: (np.float64(3576.4448500000003), np.float64(3821.34793)), 12: (np.float64(3329.4814300000003), np.float64(3554.3457799999996)), 14: (np.float64(24281.0), np.float64(24281.0)), 15: (900, 900), 16: (np.float64(2944.92384), np.float64(3125.91392)), 18: (np.float64(2677.94418), np.float64(2864.8084000000003)), 19: (np.float64(1529.4857), np.float64(1618.44008)), 21: (np.float64(4656.012790000001), np.float64(4756.08958)), 22: (np.float64(6052.0), np.float64(6052.0)), 23: (np.float64(2163.8071800000002), np.float64(2239.0955599999998)), 24: (np.float64(3589.75531), np.float64(3709.0717099999997)), 25: (np.float64(1717.97791), np.float64(1798.36825)), 26: (np.float64(4899.20767), np.float64(5089.546069999999))}\n",
      " intertimes :  (np.float64(2677.94418), np.float64(2864.8084000000003))\n",
      " duration   :  2771\n",
      "line 351...  estimate_duration : 18 \t sec:  2771\n",
      "boot_times :  {1: (np.float64(1447.3127599999998), np.float64(1509.4048599999999)), 3: (np.float64(644.0), np.float64(644.0)), 4: (np.float64(1710.11013), np.float64(1799.67295)), 5: (np.float64(4111.64443), np.float64(4452.76964)), 6: (np.float64(7485.125999999999), np.float64(7931.48429)), 7: (np.float64(2487.53043), np.float64(2568.7986600000004)), 9: (np.float64(4450.26771), np.float64(4663.99319)), 10: (np.float64(1302.45605), np.float64(1335.8737299999998)), 11: (np.float64(3576.4448500000003), np.float64(3821.34793)), 12: (np.float64(3329.4814300000003), np.float64(3554.3457799999996)), 14: (np.float64(24281.0), np.float64(24281.0)), 15: (900, 900), 16: (np.float64(2944.92384), np.float64(3125.91392)), 18: (np.float64(2677.94418), np.float64(2864.8084000000003)), 19: (np.float64(1529.4857), np.float64(1618.44008)), 21: (np.float64(4656.012790000001), np.float64(4756.08958)), 22: (np.float64(6052.0), np.float64(6052.0)), 23: (np.float64(2163.8071800000002), np.float64(2239.0955599999998)), 24: (np.float64(3589.75531), np.float64(3709.0717099999997)), 25: (np.float64(1717.97791), np.float64(1798.36825)), 26: (np.float64(4899.20767), np.float64(5089.546069999999))}\n",
      " intertimes :  (np.float64(3576.4448500000003), np.float64(3821.34793))\n",
      " duration   :  3698\n",
      "line 351...  estimate_duration : 11 \t sec:  3698\n",
      "line 352...  total duration [18, 11]  6469 / 107 min \n",
      "LINE:389 (iter: 3) -- predict_mask([model], '[18, 11]' ->  '6469 < 19960 sec' ?)\n",
      "\n",
      "\n",
      "-----------------\n",
      "line 379 bert_test_city[ Delh ] (iter: 4) -- predict_ mask([model], '[18, 11]')\n",
      "LINE 309, model.predict( to_predict=[['18', '11']] ) \n",
      "LINE 315  predseq => [18, 11],  maskpos => 1\n",
      "-- predict_ mask_pos ( <model>, seq= [18, 11], maskpos= 1  )\n",
      "line 240 ... seq: [18, 11]\n",
      "      seq :  [18, 11]\n",
      "LINE 256 -- model.predict( to_predict=['18,[MASK],11'] )\n"
     ]
    },
    {
     "data": {
      "application/vnd.jupyter.widget-view+json": {
       "model_id": "86608186979c44c98185abf7b387f2ae",
       "version_major": 2,
       "version_minor": 0
      },
      "text/plain": [
       "0it [00:00, ?it/s]"
      ]
     },
     "metadata": {},
     "output_type": "display_data"
    },
    {
     "data": {
      "application/vnd.jupyter.widget-view+json": {
       "model_id": "79a9fa263b254f388f5e044f902a0a2c",
       "version_major": 2,
       "version_minor": 0
      },
      "text/plain": [
       "  0%|          | 0/1 [00:00<?, ?it/s]"
      ]
     },
     "metadata": {},
     "output_type": "display_data"
    },
    {
     "name": "stdout",
     "output_type": "stream",
     "text": [
      "  seq     -> [18, 11]\n",
      "  amax    -> 12\n",
      "  amaxval -> 0.797331690788269\n",
      "maskpos   => 1\n",
      "--> predict_ mask_pos (model, '[18, 11]', 1 ) --- [18, 12, 11] \n",
      "LINE 317  result: nextpoi:12 nextval:0.797331690788269 unmasked_seq:[18, 11]\n",
      "  POSSIBLE: 0.797331690788269 -> [18, 11] [18, 11]\n",
      "line 381 bert_test_city[ Delh ] (iter: 4) -- predict_ mask([model], '[18, 11]')\n",
      "line 382 nextpoi:12, maskpos:1, nextval:0.797331690788269, unmasked_seq:[18, 11]\n",
      "line 336... estimate_duration( pois ) : [18, 11] ) \n",
      "line 337... boot_times : {1: (np.float64(1447.3127599999998), np.float64(1509.4048599999999)), 3: (np.float64(644.0), np.float64(644.0)), 4: (np.float64(1710.11013), np.float64(1799.67295)), 5: (np.float64(4111.64443), np.float64(4452.76964)), 6: (np.float64(7485.125999999999), np.float64(7931.48429)), 7: (np.float64(2487.53043), np.float64(2568.7986600000004)), 9: (np.float64(4450.26771), np.float64(4663.99319)), 10: (np.float64(1302.45605), np.float64(1335.8737299999998)), 11: (np.float64(3576.4448500000003), np.float64(3821.34793)), 12: (np.float64(3329.4814300000003), np.float64(3554.3457799999996)), 14: (np.float64(24281.0), np.float64(24281.0)), 15: (900, 900), 16: (np.float64(2944.92384), np.float64(3125.91392)), 18: (np.float64(2677.94418), np.float64(2864.8084000000003)), 19: (np.float64(1529.4857), np.float64(1618.44008)), 21: (np.float64(4656.012790000001), np.float64(4756.08958)), 22: (np.float64(6052.0), np.float64(6052.0)), 23: (np.float64(2163.8071800000002), np.float64(2239.0955599999998)), 24: (np.float64(3589.75531), np.float64(3709.0717099999997)), 25: (np.float64(1717.97791), np.float64(1798.36825)), 26: (np.float64(4899.20767), np.float64(5089.546069999999))} ) \n",
      "boot_times :  {1: (np.float64(1447.3127599999998), np.float64(1509.4048599999999)), 3: (np.float64(644.0), np.float64(644.0)), 4: (np.float64(1710.11013), np.float64(1799.67295)), 5: (np.float64(4111.64443), np.float64(4452.76964)), 6: (np.float64(7485.125999999999), np.float64(7931.48429)), 7: (np.float64(2487.53043), np.float64(2568.7986600000004)), 9: (np.float64(4450.26771), np.float64(4663.99319)), 10: (np.float64(1302.45605), np.float64(1335.8737299999998)), 11: (np.float64(3576.4448500000003), np.float64(3821.34793)), 12: (np.float64(3329.4814300000003), np.float64(3554.3457799999996)), 14: (np.float64(24281.0), np.float64(24281.0)), 15: (900, 900), 16: (np.float64(2944.92384), np.float64(3125.91392)), 18: (np.float64(2677.94418), np.float64(2864.8084000000003)), 19: (np.float64(1529.4857), np.float64(1618.44008)), 21: (np.float64(4656.012790000001), np.float64(4756.08958)), 22: (np.float64(6052.0), np.float64(6052.0)), 23: (np.float64(2163.8071800000002), np.float64(2239.0955599999998)), 24: (np.float64(3589.75531), np.float64(3709.0717099999997)), 25: (np.float64(1717.97791), np.float64(1798.36825)), 26: (np.float64(4899.20767), np.float64(5089.546069999999))}\n",
      " intertimes :  (np.float64(2677.94418), np.float64(2864.8084000000003))\n",
      " duration   :  2771\n",
      "line 351...  estimate_duration : 18 \t sec:  2771\n",
      "boot_times :  {1: (np.float64(1447.3127599999998), np.float64(1509.4048599999999)), 3: (np.float64(644.0), np.float64(644.0)), 4: (np.float64(1710.11013), np.float64(1799.67295)), 5: (np.float64(4111.64443), np.float64(4452.76964)), 6: (np.float64(7485.125999999999), np.float64(7931.48429)), 7: (np.float64(2487.53043), np.float64(2568.7986600000004)), 9: (np.float64(4450.26771), np.float64(4663.99319)), 10: (np.float64(1302.45605), np.float64(1335.8737299999998)), 11: (np.float64(3576.4448500000003), np.float64(3821.34793)), 12: (np.float64(3329.4814300000003), np.float64(3554.3457799999996)), 14: (np.float64(24281.0), np.float64(24281.0)), 15: (900, 900), 16: (np.float64(2944.92384), np.float64(3125.91392)), 18: (np.float64(2677.94418), np.float64(2864.8084000000003)), 19: (np.float64(1529.4857), np.float64(1618.44008)), 21: (np.float64(4656.012790000001), np.float64(4756.08958)), 22: (np.float64(6052.0), np.float64(6052.0)), 23: (np.float64(2163.8071800000002), np.float64(2239.0955599999998)), 24: (np.float64(3589.75531), np.float64(3709.0717099999997)), 25: (np.float64(1717.97791), np.float64(1798.36825)), 26: (np.float64(4899.20767), np.float64(5089.546069999999))}\n",
      " intertimes :  (np.float64(3576.4448500000003), np.float64(3821.34793))\n",
      " duration   :  3698\n",
      "line 351...  estimate_duration : 11 \t sec:  3698\n",
      "line 352...  total duration [18, 11]  6469 / 107 min \n",
      "LINE:389 (iter: 4) -- predict_mask([model], '[18, 11]' ->  '6469 < 19960 sec' ?)\n",
      "\n",
      "\n",
      "-----------------\n",
      "line 379 bert_test_city[ Delh ] (iter: 5) -- predict_ mask([model], '[18, 11]')\n",
      "LINE 309, model.predict( to_predict=[['18', '11']] ) \n",
      "LINE 315  predseq => [18, 11],  maskpos => 1\n",
      "-- predict_ mask_pos ( <model>, seq= [18, 11], maskpos= 1  )\n",
      "line 240 ... seq: [18, 11]\n",
      "      seq :  [18, 11]\n",
      "LINE 256 -- model.predict( to_predict=['18,[MASK],11'] )\n"
     ]
    },
    {
     "data": {
      "application/vnd.jupyter.widget-view+json": {
       "model_id": "cc5aa77a9203443fb03966f0a3d37d3b",
       "version_major": 2,
       "version_minor": 0
      },
      "text/plain": [
       "0it [00:00, ?it/s]"
      ]
     },
     "metadata": {},
     "output_type": "display_data"
    },
    {
     "data": {
      "application/vnd.jupyter.widget-view+json": {
       "model_id": "338f0acb3cad48e9811d74c021c90b3a",
       "version_major": 2,
       "version_minor": 0
      },
      "text/plain": [
       "  0%|          | 0/1 [00:00<?, ?it/s]"
      ]
     },
     "metadata": {},
     "output_type": "display_data"
    },
    {
     "name": "stdout",
     "output_type": "stream",
     "text": [
      "  seq     -> [18, 11]\n",
      "  amax    -> 12\n",
      "  amaxval -> 0.797331690788269\n",
      "maskpos   => 1\n",
      "--> predict_ mask_pos (model, '[18, 11]', 1 ) --- [18, 12, 11] \n",
      "LINE 317  result: nextpoi:12 nextval:0.797331690788269 unmasked_seq:[18, 11]\n",
      "  POSSIBLE: 0.797331690788269 -> [18, 11] [18, 11]\n",
      "line 381 bert_test_city[ Delh ] (iter: 5) -- predict_ mask([model], '[18, 11]')\n",
      "line 382 nextpoi:12, maskpos:1, nextval:0.797331690788269, unmasked_seq:[18, 11]\n",
      "line 336... estimate_duration( pois ) : [18, 11] ) \n",
      "line 337... boot_times : {1: (np.float64(1447.3127599999998), np.float64(1509.4048599999999)), 3: (np.float64(644.0), np.float64(644.0)), 4: (np.float64(1710.11013), np.float64(1799.67295)), 5: (np.float64(4111.64443), np.float64(4452.76964)), 6: (np.float64(7485.125999999999), np.float64(7931.48429)), 7: (np.float64(2487.53043), np.float64(2568.7986600000004)), 9: (np.float64(4450.26771), np.float64(4663.99319)), 10: (np.float64(1302.45605), np.float64(1335.8737299999998)), 11: (np.float64(3576.4448500000003), np.float64(3821.34793)), 12: (np.float64(3329.4814300000003), np.float64(3554.3457799999996)), 14: (np.float64(24281.0), np.float64(24281.0)), 15: (900, 900), 16: (np.float64(2944.92384), np.float64(3125.91392)), 18: (np.float64(2677.94418), np.float64(2864.8084000000003)), 19: (np.float64(1529.4857), np.float64(1618.44008)), 21: (np.float64(4656.012790000001), np.float64(4756.08958)), 22: (np.float64(6052.0), np.float64(6052.0)), 23: (np.float64(2163.8071800000002), np.float64(2239.0955599999998)), 24: (np.float64(3589.75531), np.float64(3709.0717099999997)), 25: (np.float64(1717.97791), np.float64(1798.36825)), 26: (np.float64(4899.20767), np.float64(5089.546069999999))} ) \n",
      "boot_times :  {1: (np.float64(1447.3127599999998), np.float64(1509.4048599999999)), 3: (np.float64(644.0), np.float64(644.0)), 4: (np.float64(1710.11013), np.float64(1799.67295)), 5: (np.float64(4111.64443), np.float64(4452.76964)), 6: (np.float64(7485.125999999999), np.float64(7931.48429)), 7: (np.float64(2487.53043), np.float64(2568.7986600000004)), 9: (np.float64(4450.26771), np.float64(4663.99319)), 10: (np.float64(1302.45605), np.float64(1335.8737299999998)), 11: (np.float64(3576.4448500000003), np.float64(3821.34793)), 12: (np.float64(3329.4814300000003), np.float64(3554.3457799999996)), 14: (np.float64(24281.0), np.float64(24281.0)), 15: (900, 900), 16: (np.float64(2944.92384), np.float64(3125.91392)), 18: (np.float64(2677.94418), np.float64(2864.8084000000003)), 19: (np.float64(1529.4857), np.float64(1618.44008)), 21: (np.float64(4656.012790000001), np.float64(4756.08958)), 22: (np.float64(6052.0), np.float64(6052.0)), 23: (np.float64(2163.8071800000002), np.float64(2239.0955599999998)), 24: (np.float64(3589.75531), np.float64(3709.0717099999997)), 25: (np.float64(1717.97791), np.float64(1798.36825)), 26: (np.float64(4899.20767), np.float64(5089.546069999999))}\n",
      " intertimes :  (np.float64(2677.94418), np.float64(2864.8084000000003))\n",
      " duration   :  2771\n",
      "line 351...  estimate_duration : 18 \t sec:  2771\n",
      "boot_times :  {1: (np.float64(1447.3127599999998), np.float64(1509.4048599999999)), 3: (np.float64(644.0), np.float64(644.0)), 4: (np.float64(1710.11013), np.float64(1799.67295)), 5: (np.float64(4111.64443), np.float64(4452.76964)), 6: (np.float64(7485.125999999999), np.float64(7931.48429)), 7: (np.float64(2487.53043), np.float64(2568.7986600000004)), 9: (np.float64(4450.26771), np.float64(4663.99319)), 10: (np.float64(1302.45605), np.float64(1335.8737299999998)), 11: (np.float64(3576.4448500000003), np.float64(3821.34793)), 12: (np.float64(3329.4814300000003), np.float64(3554.3457799999996)), 14: (np.float64(24281.0), np.float64(24281.0)), 15: (900, 900), 16: (np.float64(2944.92384), np.float64(3125.91392)), 18: (np.float64(2677.94418), np.float64(2864.8084000000003)), 19: (np.float64(1529.4857), np.float64(1618.44008)), 21: (np.float64(4656.012790000001), np.float64(4756.08958)), 22: (np.float64(6052.0), np.float64(6052.0)), 23: (np.float64(2163.8071800000002), np.float64(2239.0955599999998)), 24: (np.float64(3589.75531), np.float64(3709.0717099999997)), 25: (np.float64(1717.97791), np.float64(1798.36825)), 26: (np.float64(4899.20767), np.float64(5089.546069999999))}\n",
      " intertimes :  (np.float64(3576.4448500000003), np.float64(3821.34793))\n",
      " duration   :  3698\n",
      "line 351...  estimate_duration : 11 \t sec:  3698\n",
      "line 352...  total duration [18, 11]  6469 / 107 min \n",
      "LINE:389 (iter: 5) -- predict_mask([model], '[18, 11]' ->  '6469 < 19960 sec' ?)\n",
      "\n",
      "\n",
      "-----------------\n",
      "line 379 bert_test_city[ Delh ] (iter: 6) -- predict_ mask([model], '[18, 11]')\n",
      "LINE 309, model.predict( to_predict=[['18', '11']] ) \n",
      "LINE 315  predseq => [18, 11],  maskpos => 1\n",
      "-- predict_ mask_pos ( <model>, seq= [18, 11], maskpos= 1  )\n",
      "line 240 ... seq: [18, 11]\n",
      "      seq :  [18, 11]\n",
      "LINE 256 -- model.predict( to_predict=['18,[MASK],11'] )\n"
     ]
    },
    {
     "data": {
      "application/vnd.jupyter.widget-view+json": {
       "model_id": "124d08cd9b784f7999935d9653646932",
       "version_major": 2,
       "version_minor": 0
      },
      "text/plain": [
       "0it [00:00, ?it/s]"
      ]
     },
     "metadata": {},
     "output_type": "display_data"
    },
    {
     "data": {
      "application/vnd.jupyter.widget-view+json": {
       "model_id": "21b26cc23b514f5aac6db26139283381",
       "version_major": 2,
       "version_minor": 0
      },
      "text/plain": [
       "  0%|          | 0/1 [00:00<?, ?it/s]"
      ]
     },
     "metadata": {},
     "output_type": "display_data"
    },
    {
     "name": "stdout",
     "output_type": "stream",
     "text": [
      "  seq     -> [18, 11]\n",
      "  amax    -> 12\n",
      "  amaxval -> 0.797331690788269\n",
      "maskpos   => 1\n",
      "--> predict_ mask_pos (model, '[18, 11]', 1 ) --- [18, 12, 11] \n",
      "LINE 317  result: nextpoi:12 nextval:0.797331690788269 unmasked_seq:[18, 11]\n",
      "  POSSIBLE: 0.797331690788269 -> [18, 11] [18, 11]\n",
      "line 381 bert_test_city[ Delh ] (iter: 6) -- predict_ mask([model], '[18, 11]')\n",
      "line 382 nextpoi:12, maskpos:1, nextval:0.797331690788269, unmasked_seq:[18, 11]\n",
      "line 336... estimate_duration( pois ) : [18, 11] ) \n",
      "line 337... boot_times : {1: (np.float64(1447.3127599999998), np.float64(1509.4048599999999)), 3: (np.float64(644.0), np.float64(644.0)), 4: (np.float64(1710.11013), np.float64(1799.67295)), 5: (np.float64(4111.64443), np.float64(4452.76964)), 6: (np.float64(7485.125999999999), np.float64(7931.48429)), 7: (np.float64(2487.53043), np.float64(2568.7986600000004)), 9: (np.float64(4450.26771), np.float64(4663.99319)), 10: (np.float64(1302.45605), np.float64(1335.8737299999998)), 11: (np.float64(3576.4448500000003), np.float64(3821.34793)), 12: (np.float64(3329.4814300000003), np.float64(3554.3457799999996)), 14: (np.float64(24281.0), np.float64(24281.0)), 15: (900, 900), 16: (np.float64(2944.92384), np.float64(3125.91392)), 18: (np.float64(2677.94418), np.float64(2864.8084000000003)), 19: (np.float64(1529.4857), np.float64(1618.44008)), 21: (np.float64(4656.012790000001), np.float64(4756.08958)), 22: (np.float64(6052.0), np.float64(6052.0)), 23: (np.float64(2163.8071800000002), np.float64(2239.0955599999998)), 24: (np.float64(3589.75531), np.float64(3709.0717099999997)), 25: (np.float64(1717.97791), np.float64(1798.36825)), 26: (np.float64(4899.20767), np.float64(5089.546069999999))} ) \n",
      "boot_times :  {1: (np.float64(1447.3127599999998), np.float64(1509.4048599999999)), 3: (np.float64(644.0), np.float64(644.0)), 4: (np.float64(1710.11013), np.float64(1799.67295)), 5: (np.float64(4111.64443), np.float64(4452.76964)), 6: (np.float64(7485.125999999999), np.float64(7931.48429)), 7: (np.float64(2487.53043), np.float64(2568.7986600000004)), 9: (np.float64(4450.26771), np.float64(4663.99319)), 10: (np.float64(1302.45605), np.float64(1335.8737299999998)), 11: (np.float64(3576.4448500000003), np.float64(3821.34793)), 12: (np.float64(3329.4814300000003), np.float64(3554.3457799999996)), 14: (np.float64(24281.0), np.float64(24281.0)), 15: (900, 900), 16: (np.float64(2944.92384), np.float64(3125.91392)), 18: (np.float64(2677.94418), np.float64(2864.8084000000003)), 19: (np.float64(1529.4857), np.float64(1618.44008)), 21: (np.float64(4656.012790000001), np.float64(4756.08958)), 22: (np.float64(6052.0), np.float64(6052.0)), 23: (np.float64(2163.8071800000002), np.float64(2239.0955599999998)), 24: (np.float64(3589.75531), np.float64(3709.0717099999997)), 25: (np.float64(1717.97791), np.float64(1798.36825)), 26: (np.float64(4899.20767), np.float64(5089.546069999999))}\n",
      " intertimes :  (np.float64(2677.94418), np.float64(2864.8084000000003))\n",
      " duration   :  2771\n",
      "line 351...  estimate_duration : 18 \t sec:  2771\n",
      "boot_times :  {1: (np.float64(1447.3127599999998), np.float64(1509.4048599999999)), 3: (np.float64(644.0), np.float64(644.0)), 4: (np.float64(1710.11013), np.float64(1799.67295)), 5: (np.float64(4111.64443), np.float64(4452.76964)), 6: (np.float64(7485.125999999999), np.float64(7931.48429)), 7: (np.float64(2487.53043), np.float64(2568.7986600000004)), 9: (np.float64(4450.26771), np.float64(4663.99319)), 10: (np.float64(1302.45605), np.float64(1335.8737299999998)), 11: (np.float64(3576.4448500000003), np.float64(3821.34793)), 12: (np.float64(3329.4814300000003), np.float64(3554.3457799999996)), 14: (np.float64(24281.0), np.float64(24281.0)), 15: (900, 900), 16: (np.float64(2944.92384), np.float64(3125.91392)), 18: (np.float64(2677.94418), np.float64(2864.8084000000003)), 19: (np.float64(1529.4857), np.float64(1618.44008)), 21: (np.float64(4656.012790000001), np.float64(4756.08958)), 22: (np.float64(6052.0), np.float64(6052.0)), 23: (np.float64(2163.8071800000002), np.float64(2239.0955599999998)), 24: (np.float64(3589.75531), np.float64(3709.0717099999997)), 25: (np.float64(1717.97791), np.float64(1798.36825)), 26: (np.float64(4899.20767), np.float64(5089.546069999999))}\n",
      " intertimes :  (np.float64(3576.4448500000003), np.float64(3821.34793))\n",
      " duration   :  3698\n",
      "line 351...  estimate_duration : 11 \t sec:  3698\n",
      "line 352...  total duration [18, 11]  6469 / 107 min \n",
      "LINE:389 (iter: 6) -- predict_mask([model], '[18, 11]' ->  '6469 < 19960 sec' ?)\n",
      "\n",
      "\n",
      "-----------------\n",
      "line 379 bert_test_city[ Delh ] (iter: 7) -- predict_ mask([model], '[18, 11]')\n",
      "LINE 309, model.predict( to_predict=[['18', '11']] ) \n",
      "LINE 315  predseq => [18, 11],  maskpos => 1\n",
      "-- predict_ mask_pos ( <model>, seq= [18, 11], maskpos= 1  )\n",
      "line 240 ... seq: [18, 11]\n",
      "      seq :  [18, 11]\n",
      "LINE 256 -- model.predict( to_predict=['18,[MASK],11'] )\n"
     ]
    },
    {
     "data": {
      "application/vnd.jupyter.widget-view+json": {
       "model_id": "8425291feb694e46b22627534121036d",
       "version_major": 2,
       "version_minor": 0
      },
      "text/plain": [
       "0it [00:00, ?it/s]"
      ]
     },
     "metadata": {},
     "output_type": "display_data"
    },
    {
     "data": {
      "application/vnd.jupyter.widget-view+json": {
       "model_id": "8a335f259b2b43f999d5b6584d01a1b7",
       "version_major": 2,
       "version_minor": 0
      },
      "text/plain": [
       "  0%|          | 0/1 [00:00<?, ?it/s]"
      ]
     },
     "metadata": {},
     "output_type": "display_data"
    },
    {
     "name": "stdout",
     "output_type": "stream",
     "text": [
      "  seq     -> [18, 11]\n",
      "  amax    -> 12\n",
      "  amaxval -> 0.797331690788269\n",
      "maskpos   => 1\n",
      "--> predict_ mask_pos (model, '[18, 11]', 1 ) --- [18, 12, 11] \n",
      "LINE 317  result: nextpoi:12 nextval:0.797331690788269 unmasked_seq:[18, 11]\n",
      "  POSSIBLE: 0.797331690788269 -> [18, 11] [18, 11]\n",
      "line 381 bert_test_city[ Delh ] (iter: 7) -- predict_ mask([model], '[18, 11]')\n",
      "line 382 nextpoi:12, maskpos:1, nextval:0.797331690788269, unmasked_seq:[18, 11]\n",
      "line 336... estimate_duration( pois ) : [18, 11] ) \n",
      "line 337... boot_times : {1: (np.float64(1447.3127599999998), np.float64(1509.4048599999999)), 3: (np.float64(644.0), np.float64(644.0)), 4: (np.float64(1710.11013), np.float64(1799.67295)), 5: (np.float64(4111.64443), np.float64(4452.76964)), 6: (np.float64(7485.125999999999), np.float64(7931.48429)), 7: (np.float64(2487.53043), np.float64(2568.7986600000004)), 9: (np.float64(4450.26771), np.float64(4663.99319)), 10: (np.float64(1302.45605), np.float64(1335.8737299999998)), 11: (np.float64(3576.4448500000003), np.float64(3821.34793)), 12: (np.float64(3329.4814300000003), np.float64(3554.3457799999996)), 14: (np.float64(24281.0), np.float64(24281.0)), 15: (900, 900), 16: (np.float64(2944.92384), np.float64(3125.91392)), 18: (np.float64(2677.94418), np.float64(2864.8084000000003)), 19: (np.float64(1529.4857), np.float64(1618.44008)), 21: (np.float64(4656.012790000001), np.float64(4756.08958)), 22: (np.float64(6052.0), np.float64(6052.0)), 23: (np.float64(2163.8071800000002), np.float64(2239.0955599999998)), 24: (np.float64(3589.75531), np.float64(3709.0717099999997)), 25: (np.float64(1717.97791), np.float64(1798.36825)), 26: (np.float64(4899.20767), np.float64(5089.546069999999))} ) \n",
      "boot_times :  {1: (np.float64(1447.3127599999998), np.float64(1509.4048599999999)), 3: (np.float64(644.0), np.float64(644.0)), 4: (np.float64(1710.11013), np.float64(1799.67295)), 5: (np.float64(4111.64443), np.float64(4452.76964)), 6: (np.float64(7485.125999999999), np.float64(7931.48429)), 7: (np.float64(2487.53043), np.float64(2568.7986600000004)), 9: (np.float64(4450.26771), np.float64(4663.99319)), 10: (np.float64(1302.45605), np.float64(1335.8737299999998)), 11: (np.float64(3576.4448500000003), np.float64(3821.34793)), 12: (np.float64(3329.4814300000003), np.float64(3554.3457799999996)), 14: (np.float64(24281.0), np.float64(24281.0)), 15: (900, 900), 16: (np.float64(2944.92384), np.float64(3125.91392)), 18: (np.float64(2677.94418), np.float64(2864.8084000000003)), 19: (np.float64(1529.4857), np.float64(1618.44008)), 21: (np.float64(4656.012790000001), np.float64(4756.08958)), 22: (np.float64(6052.0), np.float64(6052.0)), 23: (np.float64(2163.8071800000002), np.float64(2239.0955599999998)), 24: (np.float64(3589.75531), np.float64(3709.0717099999997)), 25: (np.float64(1717.97791), np.float64(1798.36825)), 26: (np.float64(4899.20767), np.float64(5089.546069999999))}\n",
      " intertimes :  (np.float64(2677.94418), np.float64(2864.8084000000003))\n",
      " duration   :  2771\n",
      "line 351...  estimate_duration : 18 \t sec:  2771\n",
      "boot_times :  {1: (np.float64(1447.3127599999998), np.float64(1509.4048599999999)), 3: (np.float64(644.0), np.float64(644.0)), 4: (np.float64(1710.11013), np.float64(1799.67295)), 5: (np.float64(4111.64443), np.float64(4452.76964)), 6: (np.float64(7485.125999999999), np.float64(7931.48429)), 7: (np.float64(2487.53043), np.float64(2568.7986600000004)), 9: (np.float64(4450.26771), np.float64(4663.99319)), 10: (np.float64(1302.45605), np.float64(1335.8737299999998)), 11: (np.float64(3576.4448500000003), np.float64(3821.34793)), 12: (np.float64(3329.4814300000003), np.float64(3554.3457799999996)), 14: (np.float64(24281.0), np.float64(24281.0)), 15: (900, 900), 16: (np.float64(2944.92384), np.float64(3125.91392)), 18: (np.float64(2677.94418), np.float64(2864.8084000000003)), 19: (np.float64(1529.4857), np.float64(1618.44008)), 21: (np.float64(4656.012790000001), np.float64(4756.08958)), 22: (np.float64(6052.0), np.float64(6052.0)), 23: (np.float64(2163.8071800000002), np.float64(2239.0955599999998)), 24: (np.float64(3589.75531), np.float64(3709.0717099999997)), 25: (np.float64(1717.97791), np.float64(1798.36825)), 26: (np.float64(4899.20767), np.float64(5089.546069999999))}\n",
      " intertimes :  (np.float64(3576.4448500000003), np.float64(3821.34793))\n",
      " duration   :  3698\n",
      "line 351...  estimate_duration : 11 \t sec:  3698\n",
      "line 352...  total duration [18, 11]  6469 / 107 min \n",
      "LINE:389 (iter: 7) -- predict_mask([model], '[18, 11]' ->  '6469 < 19960 sec' ?)\n",
      "\n",
      "\n",
      "-----------------\n",
      "line 379 bert_test_city[ Delh ] (iter: 8) -- predict_ mask([model], '[18, 11]')\n",
      "LINE 309, model.predict( to_predict=[['18', '11']] ) \n",
      "LINE 315  predseq => [18, 11],  maskpos => 1\n",
      "-- predict_ mask_pos ( <model>, seq= [18, 11], maskpos= 1  )\n",
      "line 240 ... seq: [18, 11]\n",
      "      seq :  [18, 11]\n",
      "LINE 256 -- model.predict( to_predict=['18,[MASK],11'] )\n"
     ]
    },
    {
     "data": {
      "application/vnd.jupyter.widget-view+json": {
       "model_id": "4f3cb49bff8141818743df189221cd6b",
       "version_major": 2,
       "version_minor": 0
      },
      "text/plain": [
       "0it [00:00, ?it/s]"
      ]
     },
     "metadata": {},
     "output_type": "display_data"
    },
    {
     "data": {
      "application/vnd.jupyter.widget-view+json": {
       "model_id": "668a81474de04b0a9f58df3f8c1a7908",
       "version_major": 2,
       "version_minor": 0
      },
      "text/plain": [
       "  0%|          | 0/1 [00:00<?, ?it/s]"
      ]
     },
     "metadata": {},
     "output_type": "display_data"
    },
    {
     "name": "stdout",
     "output_type": "stream",
     "text": [
      "  seq     -> [18, 11]\n",
      "  amax    -> 12\n",
      "  amaxval -> 0.797331690788269\n",
      "maskpos   => 1\n",
      "--> predict_ mask_pos (model, '[18, 11]', 1 ) --- [18, 12, 11] \n",
      "LINE 317  result: nextpoi:12 nextval:0.797331690788269 unmasked_seq:[18, 11]\n",
      "  POSSIBLE: 0.797331690788269 -> [18, 11] [18, 11]\n",
      "line 381 bert_test_city[ Delh ] (iter: 8) -- predict_ mask([model], '[18, 11]')\n",
      "line 382 nextpoi:12, maskpos:1, nextval:0.797331690788269, unmasked_seq:[18, 11]\n",
      "line 336... estimate_duration( pois ) : [18, 11] ) \n",
      "line 337... boot_times : {1: (np.float64(1447.3127599999998), np.float64(1509.4048599999999)), 3: (np.float64(644.0), np.float64(644.0)), 4: (np.float64(1710.11013), np.float64(1799.67295)), 5: (np.float64(4111.64443), np.float64(4452.76964)), 6: (np.float64(7485.125999999999), np.float64(7931.48429)), 7: (np.float64(2487.53043), np.float64(2568.7986600000004)), 9: (np.float64(4450.26771), np.float64(4663.99319)), 10: (np.float64(1302.45605), np.float64(1335.8737299999998)), 11: (np.float64(3576.4448500000003), np.float64(3821.34793)), 12: (np.float64(3329.4814300000003), np.float64(3554.3457799999996)), 14: (np.float64(24281.0), np.float64(24281.0)), 15: (900, 900), 16: (np.float64(2944.92384), np.float64(3125.91392)), 18: (np.float64(2677.94418), np.float64(2864.8084000000003)), 19: (np.float64(1529.4857), np.float64(1618.44008)), 21: (np.float64(4656.012790000001), np.float64(4756.08958)), 22: (np.float64(6052.0), np.float64(6052.0)), 23: (np.float64(2163.8071800000002), np.float64(2239.0955599999998)), 24: (np.float64(3589.75531), np.float64(3709.0717099999997)), 25: (np.float64(1717.97791), np.float64(1798.36825)), 26: (np.float64(4899.20767), np.float64(5089.546069999999))} ) \n",
      "boot_times :  {1: (np.float64(1447.3127599999998), np.float64(1509.4048599999999)), 3: (np.float64(644.0), np.float64(644.0)), 4: (np.float64(1710.11013), np.float64(1799.67295)), 5: (np.float64(4111.64443), np.float64(4452.76964)), 6: (np.float64(7485.125999999999), np.float64(7931.48429)), 7: (np.float64(2487.53043), np.float64(2568.7986600000004)), 9: (np.float64(4450.26771), np.float64(4663.99319)), 10: (np.float64(1302.45605), np.float64(1335.8737299999998)), 11: (np.float64(3576.4448500000003), np.float64(3821.34793)), 12: (np.float64(3329.4814300000003), np.float64(3554.3457799999996)), 14: (np.float64(24281.0), np.float64(24281.0)), 15: (900, 900), 16: (np.float64(2944.92384), np.float64(3125.91392)), 18: (np.float64(2677.94418), np.float64(2864.8084000000003)), 19: (np.float64(1529.4857), np.float64(1618.44008)), 21: (np.float64(4656.012790000001), np.float64(4756.08958)), 22: (np.float64(6052.0), np.float64(6052.0)), 23: (np.float64(2163.8071800000002), np.float64(2239.0955599999998)), 24: (np.float64(3589.75531), np.float64(3709.0717099999997)), 25: (np.float64(1717.97791), np.float64(1798.36825)), 26: (np.float64(4899.20767), np.float64(5089.546069999999))}\n",
      " intertimes :  (np.float64(2677.94418), np.float64(2864.8084000000003))\n",
      " duration   :  2771\n",
      "line 351...  estimate_duration : 18 \t sec:  2771\n",
      "boot_times :  {1: (np.float64(1447.3127599999998), np.float64(1509.4048599999999)), 3: (np.float64(644.0), np.float64(644.0)), 4: (np.float64(1710.11013), np.float64(1799.67295)), 5: (np.float64(4111.64443), np.float64(4452.76964)), 6: (np.float64(7485.125999999999), np.float64(7931.48429)), 7: (np.float64(2487.53043), np.float64(2568.7986600000004)), 9: (np.float64(4450.26771), np.float64(4663.99319)), 10: (np.float64(1302.45605), np.float64(1335.8737299999998)), 11: (np.float64(3576.4448500000003), np.float64(3821.34793)), 12: (np.float64(3329.4814300000003), np.float64(3554.3457799999996)), 14: (np.float64(24281.0), np.float64(24281.0)), 15: (900, 900), 16: (np.float64(2944.92384), np.float64(3125.91392)), 18: (np.float64(2677.94418), np.float64(2864.8084000000003)), 19: (np.float64(1529.4857), np.float64(1618.44008)), 21: (np.float64(4656.012790000001), np.float64(4756.08958)), 22: (np.float64(6052.0), np.float64(6052.0)), 23: (np.float64(2163.8071800000002), np.float64(2239.0955599999998)), 24: (np.float64(3589.75531), np.float64(3709.0717099999997)), 25: (np.float64(1717.97791), np.float64(1798.36825)), 26: (np.float64(4899.20767), np.float64(5089.546069999999))}\n",
      " intertimes :  (np.float64(3576.4448500000003), np.float64(3821.34793))\n",
      " duration   :  3698\n",
      "line 351...  estimate_duration : 11 \t sec:  3698\n",
      "line 352...  total duration [18, 11]  6469 / 107 min \n",
      "LINE:389 (iter: 8) -- predict_mask([model], '[18, 11]' ->  '6469 < 19960 sec' ?)\n",
      "\n",
      "\n",
      "-----------------\n",
      "line 379 bert_test_city[ Delh ] (iter: 9) -- predict_ mask([model], '[18, 11]')\n",
      "LINE 309, model.predict( to_predict=[['18', '11']] ) \n",
      "LINE 315  predseq => [18, 11],  maskpos => 1\n",
      "-- predict_ mask_pos ( <model>, seq= [18, 11], maskpos= 1  )\n",
      "line 240 ... seq: [18, 11]\n",
      "      seq :  [18, 11]\n",
      "LINE 256 -- model.predict( to_predict=['18,[MASK],11'] )\n"
     ]
    },
    {
     "data": {
      "application/vnd.jupyter.widget-view+json": {
       "model_id": "48fb22362bfa4814804715be36910e3c",
       "version_major": 2,
       "version_minor": 0
      },
      "text/plain": [
       "0it [00:00, ?it/s]"
      ]
     },
     "metadata": {},
     "output_type": "display_data"
    },
    {
     "data": {
      "application/vnd.jupyter.widget-view+json": {
       "model_id": "49f12d9987ea48aba68dab44d9b1c111",
       "version_major": 2,
       "version_minor": 0
      },
      "text/plain": [
       "  0%|          | 0/1 [00:00<?, ?it/s]"
      ]
     },
     "metadata": {},
     "output_type": "display_data"
    },
    {
     "name": "stdout",
     "output_type": "stream",
     "text": [
      "  seq     -> [18, 11]\n",
      "  amax    -> 12\n",
      "  amaxval -> 0.797331690788269\n",
      "maskpos   => 1\n",
      "--> predict_ mask_pos (model, '[18, 11]', 1 ) --- [18, 12, 11] \n",
      "LINE 317  result: nextpoi:12 nextval:0.797331690788269 unmasked_seq:[18, 11]\n",
      "  POSSIBLE: 0.797331690788269 -> [18, 11] [18, 11]\n",
      "line 381 bert_test_city[ Delh ] (iter: 9) -- predict_ mask([model], '[18, 11]')\n",
      "line 382 nextpoi:12, maskpos:1, nextval:0.797331690788269, unmasked_seq:[18, 11]\n",
      "line 336... estimate_duration( pois ) : [18, 11] ) \n",
      "line 337... boot_times : {1: (np.float64(1447.3127599999998), np.float64(1509.4048599999999)), 3: (np.float64(644.0), np.float64(644.0)), 4: (np.float64(1710.11013), np.float64(1799.67295)), 5: (np.float64(4111.64443), np.float64(4452.76964)), 6: (np.float64(7485.125999999999), np.float64(7931.48429)), 7: (np.float64(2487.53043), np.float64(2568.7986600000004)), 9: (np.float64(4450.26771), np.float64(4663.99319)), 10: (np.float64(1302.45605), np.float64(1335.8737299999998)), 11: (np.float64(3576.4448500000003), np.float64(3821.34793)), 12: (np.float64(3329.4814300000003), np.float64(3554.3457799999996)), 14: (np.float64(24281.0), np.float64(24281.0)), 15: (900, 900), 16: (np.float64(2944.92384), np.float64(3125.91392)), 18: (np.float64(2677.94418), np.float64(2864.8084000000003)), 19: (np.float64(1529.4857), np.float64(1618.44008)), 21: (np.float64(4656.012790000001), np.float64(4756.08958)), 22: (np.float64(6052.0), np.float64(6052.0)), 23: (np.float64(2163.8071800000002), np.float64(2239.0955599999998)), 24: (np.float64(3589.75531), np.float64(3709.0717099999997)), 25: (np.float64(1717.97791), np.float64(1798.36825)), 26: (np.float64(4899.20767), np.float64(5089.546069999999))} ) \n",
      "boot_times :  {1: (np.float64(1447.3127599999998), np.float64(1509.4048599999999)), 3: (np.float64(644.0), np.float64(644.0)), 4: (np.float64(1710.11013), np.float64(1799.67295)), 5: (np.float64(4111.64443), np.float64(4452.76964)), 6: (np.float64(7485.125999999999), np.float64(7931.48429)), 7: (np.float64(2487.53043), np.float64(2568.7986600000004)), 9: (np.float64(4450.26771), np.float64(4663.99319)), 10: (np.float64(1302.45605), np.float64(1335.8737299999998)), 11: (np.float64(3576.4448500000003), np.float64(3821.34793)), 12: (np.float64(3329.4814300000003), np.float64(3554.3457799999996)), 14: (np.float64(24281.0), np.float64(24281.0)), 15: (900, 900), 16: (np.float64(2944.92384), np.float64(3125.91392)), 18: (np.float64(2677.94418), np.float64(2864.8084000000003)), 19: (np.float64(1529.4857), np.float64(1618.44008)), 21: (np.float64(4656.012790000001), np.float64(4756.08958)), 22: (np.float64(6052.0), np.float64(6052.0)), 23: (np.float64(2163.8071800000002), np.float64(2239.0955599999998)), 24: (np.float64(3589.75531), np.float64(3709.0717099999997)), 25: (np.float64(1717.97791), np.float64(1798.36825)), 26: (np.float64(4899.20767), np.float64(5089.546069999999))}\n",
      " intertimes :  (np.float64(2677.94418), np.float64(2864.8084000000003))\n",
      " duration   :  2771\n",
      "line 351...  estimate_duration : 18 \t sec:  2771\n",
      "boot_times :  {1: (np.float64(1447.3127599999998), np.float64(1509.4048599999999)), 3: (np.float64(644.0), np.float64(644.0)), 4: (np.float64(1710.11013), np.float64(1799.67295)), 5: (np.float64(4111.64443), np.float64(4452.76964)), 6: (np.float64(7485.125999999999), np.float64(7931.48429)), 7: (np.float64(2487.53043), np.float64(2568.7986600000004)), 9: (np.float64(4450.26771), np.float64(4663.99319)), 10: (np.float64(1302.45605), np.float64(1335.8737299999998)), 11: (np.float64(3576.4448500000003), np.float64(3821.34793)), 12: (np.float64(3329.4814300000003), np.float64(3554.3457799999996)), 14: (np.float64(24281.0), np.float64(24281.0)), 15: (900, 900), 16: (np.float64(2944.92384), np.float64(3125.91392)), 18: (np.float64(2677.94418), np.float64(2864.8084000000003)), 19: (np.float64(1529.4857), np.float64(1618.44008)), 21: (np.float64(4656.012790000001), np.float64(4756.08958)), 22: (np.float64(6052.0), np.float64(6052.0)), 23: (np.float64(2163.8071800000002), np.float64(2239.0955599999998)), 24: (np.float64(3589.75531), np.float64(3709.0717099999997)), 25: (np.float64(1717.97791), np.float64(1798.36825)), 26: (np.float64(4899.20767), np.float64(5089.546069999999))}\n",
      " intertimes :  (np.float64(3576.4448500000003), np.float64(3821.34793))\n",
      " duration   :  3698\n",
      "line 351...  estimate_duration : 11 \t sec:  3698\n",
      "line 352...  total duration [18, 11]  6469 / 107 min \n",
      "LINE:389 (iter: 9) -- predict_mask([model], '[18, 11]' ->  '6469 < 19960 sec' ?)\n",
      "\n",
      "\n",
      "-----------------\n",
      "line 379 bert_test_city[ Delh ] (iter: 10) -- predict_ mask([model], '[18, 11]')\n",
      "LINE 309, model.predict( to_predict=[['18', '11']] ) \n",
      "LINE 315  predseq => [18, 11],  maskpos => 1\n",
      "-- predict_ mask_pos ( <model>, seq= [18, 11], maskpos= 1  )\n",
      "line 240 ... seq: [18, 11]\n",
      "      seq :  [18, 11]\n",
      "LINE 256 -- model.predict( to_predict=['18,[MASK],11'] )\n"
     ]
    },
    {
     "data": {
      "application/vnd.jupyter.widget-view+json": {
       "model_id": "6ae0085409c74c42a79cdca24b8f4432",
       "version_major": 2,
       "version_minor": 0
      },
      "text/plain": [
       "0it [00:00, ?it/s]"
      ]
     },
     "metadata": {},
     "output_type": "display_data"
    },
    {
     "data": {
      "application/vnd.jupyter.widget-view+json": {
       "model_id": "5efc621f6499465aa3ba785783cb7eb6",
       "version_major": 2,
       "version_minor": 0
      },
      "text/plain": [
       "  0%|          | 0/1 [00:00<?, ?it/s]"
      ]
     },
     "metadata": {},
     "output_type": "display_data"
    },
    {
     "name": "stdout",
     "output_type": "stream",
     "text": [
      "  seq     -> [18, 11]\n",
      "  amax    -> 12\n",
      "  amaxval -> 0.797331690788269\n",
      "maskpos   => 1\n",
      "--> predict_ mask_pos (model, '[18, 11]', 1 ) --- [18, 12, 11] \n",
      "LINE 317  result: nextpoi:12 nextval:0.797331690788269 unmasked_seq:[18, 11]\n",
      "  POSSIBLE: 0.797331690788269 -> [18, 11] [18, 11]\n",
      "line 381 bert_test_city[ Delh ] (iter: 10) -- predict_ mask([model], '[18, 11]')\n",
      "line 382 nextpoi:12, maskpos:1, nextval:0.797331690788269, unmasked_seq:[18, 11]\n",
      "line 336... estimate_duration( pois ) : [18, 11] ) \n",
      "line 337... boot_times : {1: (np.float64(1447.3127599999998), np.float64(1509.4048599999999)), 3: (np.float64(644.0), np.float64(644.0)), 4: (np.float64(1710.11013), np.float64(1799.67295)), 5: (np.float64(4111.64443), np.float64(4452.76964)), 6: (np.float64(7485.125999999999), np.float64(7931.48429)), 7: (np.float64(2487.53043), np.float64(2568.7986600000004)), 9: (np.float64(4450.26771), np.float64(4663.99319)), 10: (np.float64(1302.45605), np.float64(1335.8737299999998)), 11: (np.float64(3576.4448500000003), np.float64(3821.34793)), 12: (np.float64(3329.4814300000003), np.float64(3554.3457799999996)), 14: (np.float64(24281.0), np.float64(24281.0)), 15: (900, 900), 16: (np.float64(2944.92384), np.float64(3125.91392)), 18: (np.float64(2677.94418), np.float64(2864.8084000000003)), 19: (np.float64(1529.4857), np.float64(1618.44008)), 21: (np.float64(4656.012790000001), np.float64(4756.08958)), 22: (np.float64(6052.0), np.float64(6052.0)), 23: (np.float64(2163.8071800000002), np.float64(2239.0955599999998)), 24: (np.float64(3589.75531), np.float64(3709.0717099999997)), 25: (np.float64(1717.97791), np.float64(1798.36825)), 26: (np.float64(4899.20767), np.float64(5089.546069999999))} ) \n",
      "boot_times :  {1: (np.float64(1447.3127599999998), np.float64(1509.4048599999999)), 3: (np.float64(644.0), np.float64(644.0)), 4: (np.float64(1710.11013), np.float64(1799.67295)), 5: (np.float64(4111.64443), np.float64(4452.76964)), 6: (np.float64(7485.125999999999), np.float64(7931.48429)), 7: (np.float64(2487.53043), np.float64(2568.7986600000004)), 9: (np.float64(4450.26771), np.float64(4663.99319)), 10: (np.float64(1302.45605), np.float64(1335.8737299999998)), 11: (np.float64(3576.4448500000003), np.float64(3821.34793)), 12: (np.float64(3329.4814300000003), np.float64(3554.3457799999996)), 14: (np.float64(24281.0), np.float64(24281.0)), 15: (900, 900), 16: (np.float64(2944.92384), np.float64(3125.91392)), 18: (np.float64(2677.94418), np.float64(2864.8084000000003)), 19: (np.float64(1529.4857), np.float64(1618.44008)), 21: (np.float64(4656.012790000001), np.float64(4756.08958)), 22: (np.float64(6052.0), np.float64(6052.0)), 23: (np.float64(2163.8071800000002), np.float64(2239.0955599999998)), 24: (np.float64(3589.75531), np.float64(3709.0717099999997)), 25: (np.float64(1717.97791), np.float64(1798.36825)), 26: (np.float64(4899.20767), np.float64(5089.546069999999))}\n",
      " intertimes :  (np.float64(2677.94418), np.float64(2864.8084000000003))\n",
      " duration   :  2771\n",
      "line 351...  estimate_duration : 18 \t sec:  2771\n",
      "boot_times :  {1: (np.float64(1447.3127599999998), np.float64(1509.4048599999999)), 3: (np.float64(644.0), np.float64(644.0)), 4: (np.float64(1710.11013), np.float64(1799.67295)), 5: (np.float64(4111.64443), np.float64(4452.76964)), 6: (np.float64(7485.125999999999), np.float64(7931.48429)), 7: (np.float64(2487.53043), np.float64(2568.7986600000004)), 9: (np.float64(4450.26771), np.float64(4663.99319)), 10: (np.float64(1302.45605), np.float64(1335.8737299999998)), 11: (np.float64(3576.4448500000003), np.float64(3821.34793)), 12: (np.float64(3329.4814300000003), np.float64(3554.3457799999996)), 14: (np.float64(24281.0), np.float64(24281.0)), 15: (900, 900), 16: (np.float64(2944.92384), np.float64(3125.91392)), 18: (np.float64(2677.94418), np.float64(2864.8084000000003)), 19: (np.float64(1529.4857), np.float64(1618.44008)), 21: (np.float64(4656.012790000001), np.float64(4756.08958)), 22: (np.float64(6052.0), np.float64(6052.0)), 23: (np.float64(2163.8071800000002), np.float64(2239.0955599999998)), 24: (np.float64(3589.75531), np.float64(3709.0717099999997)), 25: (np.float64(1717.97791), np.float64(1798.36825)), 26: (np.float64(4899.20767), np.float64(5089.546069999999))}\n",
      " intertimes :  (np.float64(3576.4448500000003), np.float64(3821.34793))\n",
      " duration   :  3698\n",
      "line 351...  estimate_duration : 11 \t sec:  3698\n",
      "line 352...  total duration [18, 11]  6469 / 107 min \n",
      "LINE:389 (iter: 10) -- predict_mask([model], '[18, 11]' ->  '6469 < 19960 sec' ?)\n",
      "\n",
      "\n",
      "-----------------\n",
      "line 379 bert_test_city[ Delh ] (iter: 11) -- predict_ mask([model], '[18, 11]')\n",
      "LINE 309, model.predict( to_predict=[['18', '11']] ) \n",
      "LINE 315  predseq => [18, 11],  maskpos => 1\n",
      "-- predict_ mask_pos ( <model>, seq= [18, 11], maskpos= 1  )\n",
      "line 240 ... seq: [18, 11]\n",
      "      seq :  [18, 11]\n",
      "LINE 256 -- model.predict( to_predict=['18,[MASK],11'] )\n"
     ]
    },
    {
     "data": {
      "application/vnd.jupyter.widget-view+json": {
       "model_id": "836d617cef674af4abc69f5f9624795d",
       "version_major": 2,
       "version_minor": 0
      },
      "text/plain": [
       "0it [00:00, ?it/s]"
      ]
     },
     "metadata": {},
     "output_type": "display_data"
    },
    {
     "data": {
      "application/vnd.jupyter.widget-view+json": {
       "model_id": "963f4b0ec4fb49ab8d00f333239d9bb0",
       "version_major": 2,
       "version_minor": 0
      },
      "text/plain": [
       "  0%|          | 0/1 [00:00<?, ?it/s]"
      ]
     },
     "metadata": {},
     "output_type": "display_data"
    },
    {
     "name": "stdout",
     "output_type": "stream",
     "text": [
      "  seq     -> [18, 11]\n",
      "  amax    -> 12\n",
      "  amaxval -> 0.797331690788269\n",
      "maskpos   => 1\n",
      "--> predict_ mask_pos (model, '[18, 11]', 1 ) --- [18, 12, 11] \n",
      "LINE 317  result: nextpoi:12 nextval:0.797331690788269 unmasked_seq:[18, 11]\n",
      "  POSSIBLE: 0.797331690788269 -> [18, 11] [18, 11]\n",
      "line 381 bert_test_city[ Delh ] (iter: 11) -- predict_ mask([model], '[18, 11]')\n",
      "line 382 nextpoi:12, maskpos:1, nextval:0.797331690788269, unmasked_seq:[18, 11]\n",
      "line 336... estimate_duration( pois ) : [18, 11] ) \n",
      "line 337... boot_times : {1: (np.float64(1447.3127599999998), np.float64(1509.4048599999999)), 3: (np.float64(644.0), np.float64(644.0)), 4: (np.float64(1710.11013), np.float64(1799.67295)), 5: (np.float64(4111.64443), np.float64(4452.76964)), 6: (np.float64(7485.125999999999), np.float64(7931.48429)), 7: (np.float64(2487.53043), np.float64(2568.7986600000004)), 9: (np.float64(4450.26771), np.float64(4663.99319)), 10: (np.float64(1302.45605), np.float64(1335.8737299999998)), 11: (np.float64(3576.4448500000003), np.float64(3821.34793)), 12: (np.float64(3329.4814300000003), np.float64(3554.3457799999996)), 14: (np.float64(24281.0), np.float64(24281.0)), 15: (900, 900), 16: (np.float64(2944.92384), np.float64(3125.91392)), 18: (np.float64(2677.94418), np.float64(2864.8084000000003)), 19: (np.float64(1529.4857), np.float64(1618.44008)), 21: (np.float64(4656.012790000001), np.float64(4756.08958)), 22: (np.float64(6052.0), np.float64(6052.0)), 23: (np.float64(2163.8071800000002), np.float64(2239.0955599999998)), 24: (np.float64(3589.75531), np.float64(3709.0717099999997)), 25: (np.float64(1717.97791), np.float64(1798.36825)), 26: (np.float64(4899.20767), np.float64(5089.546069999999))} ) \n",
      "boot_times :  {1: (np.float64(1447.3127599999998), np.float64(1509.4048599999999)), 3: (np.float64(644.0), np.float64(644.0)), 4: (np.float64(1710.11013), np.float64(1799.67295)), 5: (np.float64(4111.64443), np.float64(4452.76964)), 6: (np.float64(7485.125999999999), np.float64(7931.48429)), 7: (np.float64(2487.53043), np.float64(2568.7986600000004)), 9: (np.float64(4450.26771), np.float64(4663.99319)), 10: (np.float64(1302.45605), np.float64(1335.8737299999998)), 11: (np.float64(3576.4448500000003), np.float64(3821.34793)), 12: (np.float64(3329.4814300000003), np.float64(3554.3457799999996)), 14: (np.float64(24281.0), np.float64(24281.0)), 15: (900, 900), 16: (np.float64(2944.92384), np.float64(3125.91392)), 18: (np.float64(2677.94418), np.float64(2864.8084000000003)), 19: (np.float64(1529.4857), np.float64(1618.44008)), 21: (np.float64(4656.012790000001), np.float64(4756.08958)), 22: (np.float64(6052.0), np.float64(6052.0)), 23: (np.float64(2163.8071800000002), np.float64(2239.0955599999998)), 24: (np.float64(3589.75531), np.float64(3709.0717099999997)), 25: (np.float64(1717.97791), np.float64(1798.36825)), 26: (np.float64(4899.20767), np.float64(5089.546069999999))}\n",
      " intertimes :  (np.float64(2677.94418), np.float64(2864.8084000000003))\n",
      " duration   :  2771\n",
      "line 351...  estimate_duration : 18 \t sec:  2771\n",
      "boot_times :  {1: (np.float64(1447.3127599999998), np.float64(1509.4048599999999)), 3: (np.float64(644.0), np.float64(644.0)), 4: (np.float64(1710.11013), np.float64(1799.67295)), 5: (np.float64(4111.64443), np.float64(4452.76964)), 6: (np.float64(7485.125999999999), np.float64(7931.48429)), 7: (np.float64(2487.53043), np.float64(2568.7986600000004)), 9: (np.float64(4450.26771), np.float64(4663.99319)), 10: (np.float64(1302.45605), np.float64(1335.8737299999998)), 11: (np.float64(3576.4448500000003), np.float64(3821.34793)), 12: (np.float64(3329.4814300000003), np.float64(3554.3457799999996)), 14: (np.float64(24281.0), np.float64(24281.0)), 15: (900, 900), 16: (np.float64(2944.92384), np.float64(3125.91392)), 18: (np.float64(2677.94418), np.float64(2864.8084000000003)), 19: (np.float64(1529.4857), np.float64(1618.44008)), 21: (np.float64(4656.012790000001), np.float64(4756.08958)), 22: (np.float64(6052.0), np.float64(6052.0)), 23: (np.float64(2163.8071800000002), np.float64(2239.0955599999998)), 24: (np.float64(3589.75531), np.float64(3709.0717099999997)), 25: (np.float64(1717.97791), np.float64(1798.36825)), 26: (np.float64(4899.20767), np.float64(5089.546069999999))}\n",
      " intertimes :  (np.float64(3576.4448500000003), np.float64(3821.34793))\n",
      " duration   :  3698\n",
      "line 351...  estimate_duration : 11 \t sec:  3698\n",
      "line 352...  total duration [18, 11]  6469 / 107 min \n",
      "LINE:389 (iter: 11) -- predict_mask([model], '[18, 11]' ->  '6469 < 19960 sec' ?)\n",
      "\n",
      "\n",
      "-----------------\n",
      "line 379 bert_test_city[ Delh ] (iter: 12) -- predict_ mask([model], '[18, 11]')\n",
      "LINE 309, model.predict( to_predict=[['18', '11']] ) \n",
      "LINE 315  predseq => [18, 11],  maskpos => 1\n",
      "-- predict_ mask_pos ( <model>, seq= [18, 11], maskpos= 1  )\n",
      "line 240 ... seq: [18, 11]\n",
      "      seq :  [18, 11]\n",
      "LINE 256 -- model.predict( to_predict=['18,[MASK],11'] )\n"
     ]
    },
    {
     "data": {
      "application/vnd.jupyter.widget-view+json": {
       "model_id": "dfa8461ce66e424d9c53a93baf7697e9",
       "version_major": 2,
       "version_minor": 0
      },
      "text/plain": [
       "0it [00:00, ?it/s]"
      ]
     },
     "metadata": {},
     "output_type": "display_data"
    },
    {
     "data": {
      "application/vnd.jupyter.widget-view+json": {
       "model_id": "688eee5f960f41f4bbd21790a6021bf5",
       "version_major": 2,
       "version_minor": 0
      },
      "text/plain": [
       "  0%|          | 0/1 [00:00<?, ?it/s]"
      ]
     },
     "metadata": {},
     "output_type": "display_data"
    },
    {
     "name": "stdout",
     "output_type": "stream",
     "text": [
      "  seq     -> [18, 11]\n",
      "  amax    -> 12\n",
      "  amaxval -> 0.797331690788269\n",
      "maskpos   => 1\n",
      "--> predict_ mask_pos (model, '[18, 11]', 1 ) --- [18, 12, 11] \n",
      "LINE 317  result: nextpoi:12 nextval:0.797331690788269 unmasked_seq:[18, 11]\n",
      "  POSSIBLE: 0.797331690788269 -> [18, 11] [18, 11]\n",
      "line 381 bert_test_city[ Delh ] (iter: 12) -- predict_ mask([model], '[18, 11]')\n",
      "line 382 nextpoi:12, maskpos:1, nextval:0.797331690788269, unmasked_seq:[18, 11]\n",
      "line 336... estimate_duration( pois ) : [18, 11] ) \n",
      "line 337... boot_times : {1: (np.float64(1447.3127599999998), np.float64(1509.4048599999999)), 3: (np.float64(644.0), np.float64(644.0)), 4: (np.float64(1710.11013), np.float64(1799.67295)), 5: (np.float64(4111.64443), np.float64(4452.76964)), 6: (np.float64(7485.125999999999), np.float64(7931.48429)), 7: (np.float64(2487.53043), np.float64(2568.7986600000004)), 9: (np.float64(4450.26771), np.float64(4663.99319)), 10: (np.float64(1302.45605), np.float64(1335.8737299999998)), 11: (np.float64(3576.4448500000003), np.float64(3821.34793)), 12: (np.float64(3329.4814300000003), np.float64(3554.3457799999996)), 14: (np.float64(24281.0), np.float64(24281.0)), 15: (900, 900), 16: (np.float64(2944.92384), np.float64(3125.91392)), 18: (np.float64(2677.94418), np.float64(2864.8084000000003)), 19: (np.float64(1529.4857), np.float64(1618.44008)), 21: (np.float64(4656.012790000001), np.float64(4756.08958)), 22: (np.float64(6052.0), np.float64(6052.0)), 23: (np.float64(2163.8071800000002), np.float64(2239.0955599999998)), 24: (np.float64(3589.75531), np.float64(3709.0717099999997)), 25: (np.float64(1717.97791), np.float64(1798.36825)), 26: (np.float64(4899.20767), np.float64(5089.546069999999))} ) \n",
      "boot_times :  {1: (np.float64(1447.3127599999998), np.float64(1509.4048599999999)), 3: (np.float64(644.0), np.float64(644.0)), 4: (np.float64(1710.11013), np.float64(1799.67295)), 5: (np.float64(4111.64443), np.float64(4452.76964)), 6: (np.float64(7485.125999999999), np.float64(7931.48429)), 7: (np.float64(2487.53043), np.float64(2568.7986600000004)), 9: (np.float64(4450.26771), np.float64(4663.99319)), 10: (np.float64(1302.45605), np.float64(1335.8737299999998)), 11: (np.float64(3576.4448500000003), np.float64(3821.34793)), 12: (np.float64(3329.4814300000003), np.float64(3554.3457799999996)), 14: (np.float64(24281.0), np.float64(24281.0)), 15: (900, 900), 16: (np.float64(2944.92384), np.float64(3125.91392)), 18: (np.float64(2677.94418), np.float64(2864.8084000000003)), 19: (np.float64(1529.4857), np.float64(1618.44008)), 21: (np.float64(4656.012790000001), np.float64(4756.08958)), 22: (np.float64(6052.0), np.float64(6052.0)), 23: (np.float64(2163.8071800000002), np.float64(2239.0955599999998)), 24: (np.float64(3589.75531), np.float64(3709.0717099999997)), 25: (np.float64(1717.97791), np.float64(1798.36825)), 26: (np.float64(4899.20767), np.float64(5089.546069999999))}\n",
      " intertimes :  (np.float64(2677.94418), np.float64(2864.8084000000003))\n",
      " duration   :  2771\n",
      "line 351...  estimate_duration : 18 \t sec:  2771\n",
      "boot_times :  {1: (np.float64(1447.3127599999998), np.float64(1509.4048599999999)), 3: (np.float64(644.0), np.float64(644.0)), 4: (np.float64(1710.11013), np.float64(1799.67295)), 5: (np.float64(4111.64443), np.float64(4452.76964)), 6: (np.float64(7485.125999999999), np.float64(7931.48429)), 7: (np.float64(2487.53043), np.float64(2568.7986600000004)), 9: (np.float64(4450.26771), np.float64(4663.99319)), 10: (np.float64(1302.45605), np.float64(1335.8737299999998)), 11: (np.float64(3576.4448500000003), np.float64(3821.34793)), 12: (np.float64(3329.4814300000003), np.float64(3554.3457799999996)), 14: (np.float64(24281.0), np.float64(24281.0)), 15: (900, 900), 16: (np.float64(2944.92384), np.float64(3125.91392)), 18: (np.float64(2677.94418), np.float64(2864.8084000000003)), 19: (np.float64(1529.4857), np.float64(1618.44008)), 21: (np.float64(4656.012790000001), np.float64(4756.08958)), 22: (np.float64(6052.0), np.float64(6052.0)), 23: (np.float64(2163.8071800000002), np.float64(2239.0955599999998)), 24: (np.float64(3589.75531), np.float64(3709.0717099999997)), 25: (np.float64(1717.97791), np.float64(1798.36825)), 26: (np.float64(4899.20767), np.float64(5089.546069999999))}\n",
      " intertimes :  (np.float64(3576.4448500000003), np.float64(3821.34793))\n",
      " duration   :  3698\n",
      "line 351...  estimate_duration : 11 \t sec:  3698\n",
      "line 352...  total duration [18, 11]  6469 / 107 min \n",
      "LINE:389 (iter: 12) -- predict_mask([model], '[18, 11]' ->  '6469 < 19960 sec' ?)\n",
      "\n",
      "\n",
      "-----------------\n",
      "line 379 bert_test_city[ Delh ] (iter: 13) -- predict_ mask([model], '[18, 11]')\n",
      "LINE 309, model.predict( to_predict=[['18', '11']] ) \n",
      "LINE 315  predseq => [18, 11],  maskpos => 1\n",
      "-- predict_ mask_pos ( <model>, seq= [18, 11], maskpos= 1  )\n",
      "line 240 ... seq: [18, 11]\n",
      "      seq :  [18, 11]\n",
      "LINE 256 -- model.predict( to_predict=['18,[MASK],11'] )\n"
     ]
    },
    {
     "data": {
      "application/vnd.jupyter.widget-view+json": {
       "model_id": "c412425f958641ceacc9947e2f9730f0",
       "version_major": 2,
       "version_minor": 0
      },
      "text/plain": [
       "0it [00:00, ?it/s]"
      ]
     },
     "metadata": {},
     "output_type": "display_data"
    },
    {
     "data": {
      "application/vnd.jupyter.widget-view+json": {
       "model_id": "dea7dcf8e55a428fba861f97ad10416c",
       "version_major": 2,
       "version_minor": 0
      },
      "text/plain": [
       "  0%|          | 0/1 [00:00<?, ?it/s]"
      ]
     },
     "metadata": {},
     "output_type": "display_data"
    },
    {
     "name": "stdout",
     "output_type": "stream",
     "text": [
      "  seq     -> [18, 11]\n",
      "  amax    -> 12\n",
      "  amaxval -> 0.797331690788269\n",
      "maskpos   => 1\n",
      "--> predict_ mask_pos (model, '[18, 11]', 1 ) --- [18, 12, 11] \n",
      "LINE 317  result: nextpoi:12 nextval:0.797331690788269 unmasked_seq:[18, 11]\n",
      "  POSSIBLE: 0.797331690788269 -> [18, 11] [18, 11]\n",
      "line 381 bert_test_city[ Delh ] (iter: 13) -- predict_ mask([model], '[18, 11]')\n",
      "line 382 nextpoi:12, maskpos:1, nextval:0.797331690788269, unmasked_seq:[18, 11]\n",
      "line 336... estimate_duration( pois ) : [18, 11] ) \n",
      "line 337... boot_times : {1: (np.float64(1447.3127599999998), np.float64(1509.4048599999999)), 3: (np.float64(644.0), np.float64(644.0)), 4: (np.float64(1710.11013), np.float64(1799.67295)), 5: (np.float64(4111.64443), np.float64(4452.76964)), 6: (np.float64(7485.125999999999), np.float64(7931.48429)), 7: (np.float64(2487.53043), np.float64(2568.7986600000004)), 9: (np.float64(4450.26771), np.float64(4663.99319)), 10: (np.float64(1302.45605), np.float64(1335.8737299999998)), 11: (np.float64(3576.4448500000003), np.float64(3821.34793)), 12: (np.float64(3329.4814300000003), np.float64(3554.3457799999996)), 14: (np.float64(24281.0), np.float64(24281.0)), 15: (900, 900), 16: (np.float64(2944.92384), np.float64(3125.91392)), 18: (np.float64(2677.94418), np.float64(2864.8084000000003)), 19: (np.float64(1529.4857), np.float64(1618.44008)), 21: (np.float64(4656.012790000001), np.float64(4756.08958)), 22: (np.float64(6052.0), np.float64(6052.0)), 23: (np.float64(2163.8071800000002), np.float64(2239.0955599999998)), 24: (np.float64(3589.75531), np.float64(3709.0717099999997)), 25: (np.float64(1717.97791), np.float64(1798.36825)), 26: (np.float64(4899.20767), np.float64(5089.546069999999))} ) \n",
      "boot_times :  {1: (np.float64(1447.3127599999998), np.float64(1509.4048599999999)), 3: (np.float64(644.0), np.float64(644.0)), 4: (np.float64(1710.11013), np.float64(1799.67295)), 5: (np.float64(4111.64443), np.float64(4452.76964)), 6: (np.float64(7485.125999999999), np.float64(7931.48429)), 7: (np.float64(2487.53043), np.float64(2568.7986600000004)), 9: (np.float64(4450.26771), np.float64(4663.99319)), 10: (np.float64(1302.45605), np.float64(1335.8737299999998)), 11: (np.float64(3576.4448500000003), np.float64(3821.34793)), 12: (np.float64(3329.4814300000003), np.float64(3554.3457799999996)), 14: (np.float64(24281.0), np.float64(24281.0)), 15: (900, 900), 16: (np.float64(2944.92384), np.float64(3125.91392)), 18: (np.float64(2677.94418), np.float64(2864.8084000000003)), 19: (np.float64(1529.4857), np.float64(1618.44008)), 21: (np.float64(4656.012790000001), np.float64(4756.08958)), 22: (np.float64(6052.0), np.float64(6052.0)), 23: (np.float64(2163.8071800000002), np.float64(2239.0955599999998)), 24: (np.float64(3589.75531), np.float64(3709.0717099999997)), 25: (np.float64(1717.97791), np.float64(1798.36825)), 26: (np.float64(4899.20767), np.float64(5089.546069999999))}\n",
      " intertimes :  (np.float64(2677.94418), np.float64(2864.8084000000003))\n",
      " duration   :  2771\n",
      "line 351...  estimate_duration : 18 \t sec:  2771\n",
      "boot_times :  {1: (np.float64(1447.3127599999998), np.float64(1509.4048599999999)), 3: (np.float64(644.0), np.float64(644.0)), 4: (np.float64(1710.11013), np.float64(1799.67295)), 5: (np.float64(4111.64443), np.float64(4452.76964)), 6: (np.float64(7485.125999999999), np.float64(7931.48429)), 7: (np.float64(2487.53043), np.float64(2568.7986600000004)), 9: (np.float64(4450.26771), np.float64(4663.99319)), 10: (np.float64(1302.45605), np.float64(1335.8737299999998)), 11: (np.float64(3576.4448500000003), np.float64(3821.34793)), 12: (np.float64(3329.4814300000003), np.float64(3554.3457799999996)), 14: (np.float64(24281.0), np.float64(24281.0)), 15: (900, 900), 16: (np.float64(2944.92384), np.float64(3125.91392)), 18: (np.float64(2677.94418), np.float64(2864.8084000000003)), 19: (np.float64(1529.4857), np.float64(1618.44008)), 21: (np.float64(4656.012790000001), np.float64(4756.08958)), 22: (np.float64(6052.0), np.float64(6052.0)), 23: (np.float64(2163.8071800000002), np.float64(2239.0955599999998)), 24: (np.float64(3589.75531), np.float64(3709.0717099999997)), 25: (np.float64(1717.97791), np.float64(1798.36825)), 26: (np.float64(4899.20767), np.float64(5089.546069999999))}\n",
      " intertimes :  (np.float64(3576.4448500000003), np.float64(3821.34793))\n",
      " duration   :  3698\n",
      "line 351...  estimate_duration : 11 \t sec:  3698\n",
      "line 352...  total duration [18, 11]  6469 / 107 min \n",
      "LINE:389 (iter: 13) -- predict_mask([model], '[18, 11]' ->  '6469 < 19960 sec' ?)\n",
      "\n",
      "\n",
      "-----------------\n",
      "line 379 bert_test_city[ Delh ] (iter: 14) -- predict_ mask([model], '[18, 11]')\n",
      "LINE 309, model.predict( to_predict=[['18', '11']] ) \n",
      "LINE 315  predseq => [18, 11],  maskpos => 1\n",
      "-- predict_ mask_pos ( <model>, seq= [18, 11], maskpos= 1  )\n",
      "line 240 ... seq: [18, 11]\n",
      "      seq :  [18, 11]\n",
      "LINE 256 -- model.predict( to_predict=['18,[MASK],11'] )\n"
     ]
    },
    {
     "data": {
      "application/vnd.jupyter.widget-view+json": {
       "model_id": "76e6645f8e414ac988081ffe6389706f",
       "version_major": 2,
       "version_minor": 0
      },
      "text/plain": [
       "0it [00:00, ?it/s]"
      ]
     },
     "metadata": {},
     "output_type": "display_data"
    },
    {
     "data": {
      "application/vnd.jupyter.widget-view+json": {
       "model_id": "7deaff7b83064442930492be56ed256a",
       "version_major": 2,
       "version_minor": 0
      },
      "text/plain": [
       "  0%|          | 0/1 [00:00<?, ?it/s]"
      ]
     },
     "metadata": {},
     "output_type": "display_data"
    },
    {
     "name": "stdout",
     "output_type": "stream",
     "text": [
      "  seq     -> [18, 11]\n",
      "  amax    -> 12\n",
      "  amaxval -> 0.797331690788269\n",
      "maskpos   => 1\n",
      "--> predict_ mask_pos (model, '[18, 11]', 1 ) --- [18, 12, 11] \n",
      "LINE 317  result: nextpoi:12 nextval:0.797331690788269 unmasked_seq:[18, 11]\n",
      "  POSSIBLE: 0.797331690788269 -> [18, 11] [18, 11]\n",
      "line 381 bert_test_city[ Delh ] (iter: 14) -- predict_ mask([model], '[18, 11]')\n",
      "line 382 nextpoi:12, maskpos:1, nextval:0.797331690788269, unmasked_seq:[18, 11]\n",
      "line 336... estimate_duration( pois ) : [18, 11] ) \n",
      "line 337... boot_times : {1: (np.float64(1447.3127599999998), np.float64(1509.4048599999999)), 3: (np.float64(644.0), np.float64(644.0)), 4: (np.float64(1710.11013), np.float64(1799.67295)), 5: (np.float64(4111.64443), np.float64(4452.76964)), 6: (np.float64(7485.125999999999), np.float64(7931.48429)), 7: (np.float64(2487.53043), np.float64(2568.7986600000004)), 9: (np.float64(4450.26771), np.float64(4663.99319)), 10: (np.float64(1302.45605), np.float64(1335.8737299999998)), 11: (np.float64(3576.4448500000003), np.float64(3821.34793)), 12: (np.float64(3329.4814300000003), np.float64(3554.3457799999996)), 14: (np.float64(24281.0), np.float64(24281.0)), 15: (900, 900), 16: (np.float64(2944.92384), np.float64(3125.91392)), 18: (np.float64(2677.94418), np.float64(2864.8084000000003)), 19: (np.float64(1529.4857), np.float64(1618.44008)), 21: (np.float64(4656.012790000001), np.float64(4756.08958)), 22: (np.float64(6052.0), np.float64(6052.0)), 23: (np.float64(2163.8071800000002), np.float64(2239.0955599999998)), 24: (np.float64(3589.75531), np.float64(3709.0717099999997)), 25: (np.float64(1717.97791), np.float64(1798.36825)), 26: (np.float64(4899.20767), np.float64(5089.546069999999))} ) \n",
      "boot_times :  {1: (np.float64(1447.3127599999998), np.float64(1509.4048599999999)), 3: (np.float64(644.0), np.float64(644.0)), 4: (np.float64(1710.11013), np.float64(1799.67295)), 5: (np.float64(4111.64443), np.float64(4452.76964)), 6: (np.float64(7485.125999999999), np.float64(7931.48429)), 7: (np.float64(2487.53043), np.float64(2568.7986600000004)), 9: (np.float64(4450.26771), np.float64(4663.99319)), 10: (np.float64(1302.45605), np.float64(1335.8737299999998)), 11: (np.float64(3576.4448500000003), np.float64(3821.34793)), 12: (np.float64(3329.4814300000003), np.float64(3554.3457799999996)), 14: (np.float64(24281.0), np.float64(24281.0)), 15: (900, 900), 16: (np.float64(2944.92384), np.float64(3125.91392)), 18: (np.float64(2677.94418), np.float64(2864.8084000000003)), 19: (np.float64(1529.4857), np.float64(1618.44008)), 21: (np.float64(4656.012790000001), np.float64(4756.08958)), 22: (np.float64(6052.0), np.float64(6052.0)), 23: (np.float64(2163.8071800000002), np.float64(2239.0955599999998)), 24: (np.float64(3589.75531), np.float64(3709.0717099999997)), 25: (np.float64(1717.97791), np.float64(1798.36825)), 26: (np.float64(4899.20767), np.float64(5089.546069999999))}\n",
      " intertimes :  (np.float64(2677.94418), np.float64(2864.8084000000003))\n",
      " duration   :  2771\n",
      "line 351...  estimate_duration : 18 \t sec:  2771\n",
      "boot_times :  {1: (np.float64(1447.3127599999998), np.float64(1509.4048599999999)), 3: (np.float64(644.0), np.float64(644.0)), 4: (np.float64(1710.11013), np.float64(1799.67295)), 5: (np.float64(4111.64443), np.float64(4452.76964)), 6: (np.float64(7485.125999999999), np.float64(7931.48429)), 7: (np.float64(2487.53043), np.float64(2568.7986600000004)), 9: (np.float64(4450.26771), np.float64(4663.99319)), 10: (np.float64(1302.45605), np.float64(1335.8737299999998)), 11: (np.float64(3576.4448500000003), np.float64(3821.34793)), 12: (np.float64(3329.4814300000003), np.float64(3554.3457799999996)), 14: (np.float64(24281.0), np.float64(24281.0)), 15: (900, 900), 16: (np.float64(2944.92384), np.float64(3125.91392)), 18: (np.float64(2677.94418), np.float64(2864.8084000000003)), 19: (np.float64(1529.4857), np.float64(1618.44008)), 21: (np.float64(4656.012790000001), np.float64(4756.08958)), 22: (np.float64(6052.0), np.float64(6052.0)), 23: (np.float64(2163.8071800000002), np.float64(2239.0955599999998)), 24: (np.float64(3589.75531), np.float64(3709.0717099999997)), 25: (np.float64(1717.97791), np.float64(1798.36825)), 26: (np.float64(4899.20767), np.float64(5089.546069999999))}\n",
      " intertimes :  (np.float64(3576.4448500000003), np.float64(3821.34793))\n",
      " duration   :  3698\n",
      "line 351...  estimate_duration : 11 \t sec:  3698\n",
      "line 352...  total duration [18, 11]  6469 / 107 min \n",
      "LINE:389 (iter: 14) -- predict_mask([model], '[18, 11]' ->  '6469 < 19960 sec' ?)\n",
      "\n",
      "\n",
      "-----------------\n",
      "line 379 bert_test_city[ Delh ] (iter: 15) -- predict_ mask([model], '[18, 11]')\n",
      "LINE 309, model.predict( to_predict=[['18', '11']] ) \n",
      "LINE 315  predseq => [18, 11],  maskpos => 1\n",
      "-- predict_ mask_pos ( <model>, seq= [18, 11], maskpos= 1  )\n",
      "line 240 ... seq: [18, 11]\n",
      "      seq :  [18, 11]\n",
      "LINE 256 -- model.predict( to_predict=['18,[MASK],11'] )\n"
     ]
    },
    {
     "data": {
      "application/vnd.jupyter.widget-view+json": {
       "model_id": "2fffe291ffb04e158ea58d0bcb010a5b",
       "version_major": 2,
       "version_minor": 0
      },
      "text/plain": [
       "0it [00:00, ?it/s]"
      ]
     },
     "metadata": {},
     "output_type": "display_data"
    },
    {
     "data": {
      "application/vnd.jupyter.widget-view+json": {
       "model_id": "e320e11b544c470b9c4282c36a17f62a",
       "version_major": 2,
       "version_minor": 0
      },
      "text/plain": [
       "  0%|          | 0/1 [00:00<?, ?it/s]"
      ]
     },
     "metadata": {},
     "output_type": "display_data"
    },
    {
     "name": "stdout",
     "output_type": "stream",
     "text": [
      "  seq     -> [18, 11]\n",
      "  amax    -> 12\n",
      "  amaxval -> 0.797331690788269\n",
      "maskpos   => 1\n",
      "--> predict_ mask_pos (model, '[18, 11]', 1 ) --- [18, 12, 11] \n",
      "LINE 317  result: nextpoi:12 nextval:0.797331690788269 unmasked_seq:[18, 11]\n",
      "  POSSIBLE: 0.797331690788269 -> [18, 11] [18, 11]\n",
      "line 381 bert_test_city[ Delh ] (iter: 15) -- predict_ mask([model], '[18, 11]')\n",
      "line 382 nextpoi:12, maskpos:1, nextval:0.797331690788269, unmasked_seq:[18, 11]\n",
      "line 336... estimate_duration( pois ) : [18, 11] ) \n",
      "line 337... boot_times : {1: (np.float64(1447.3127599999998), np.float64(1509.4048599999999)), 3: (np.float64(644.0), np.float64(644.0)), 4: (np.float64(1710.11013), np.float64(1799.67295)), 5: (np.float64(4111.64443), np.float64(4452.76964)), 6: (np.float64(7485.125999999999), np.float64(7931.48429)), 7: (np.float64(2487.53043), np.float64(2568.7986600000004)), 9: (np.float64(4450.26771), np.float64(4663.99319)), 10: (np.float64(1302.45605), np.float64(1335.8737299999998)), 11: (np.float64(3576.4448500000003), np.float64(3821.34793)), 12: (np.float64(3329.4814300000003), np.float64(3554.3457799999996)), 14: (np.float64(24281.0), np.float64(24281.0)), 15: (900, 900), 16: (np.float64(2944.92384), np.float64(3125.91392)), 18: (np.float64(2677.94418), np.float64(2864.8084000000003)), 19: (np.float64(1529.4857), np.float64(1618.44008)), 21: (np.float64(4656.012790000001), np.float64(4756.08958)), 22: (np.float64(6052.0), np.float64(6052.0)), 23: (np.float64(2163.8071800000002), np.float64(2239.0955599999998)), 24: (np.float64(3589.75531), np.float64(3709.0717099999997)), 25: (np.float64(1717.97791), np.float64(1798.36825)), 26: (np.float64(4899.20767), np.float64(5089.546069999999))} ) \n",
      "boot_times :  {1: (np.float64(1447.3127599999998), np.float64(1509.4048599999999)), 3: (np.float64(644.0), np.float64(644.0)), 4: (np.float64(1710.11013), np.float64(1799.67295)), 5: (np.float64(4111.64443), np.float64(4452.76964)), 6: (np.float64(7485.125999999999), np.float64(7931.48429)), 7: (np.float64(2487.53043), np.float64(2568.7986600000004)), 9: (np.float64(4450.26771), np.float64(4663.99319)), 10: (np.float64(1302.45605), np.float64(1335.8737299999998)), 11: (np.float64(3576.4448500000003), np.float64(3821.34793)), 12: (np.float64(3329.4814300000003), np.float64(3554.3457799999996)), 14: (np.float64(24281.0), np.float64(24281.0)), 15: (900, 900), 16: (np.float64(2944.92384), np.float64(3125.91392)), 18: (np.float64(2677.94418), np.float64(2864.8084000000003)), 19: (np.float64(1529.4857), np.float64(1618.44008)), 21: (np.float64(4656.012790000001), np.float64(4756.08958)), 22: (np.float64(6052.0), np.float64(6052.0)), 23: (np.float64(2163.8071800000002), np.float64(2239.0955599999998)), 24: (np.float64(3589.75531), np.float64(3709.0717099999997)), 25: (np.float64(1717.97791), np.float64(1798.36825)), 26: (np.float64(4899.20767), np.float64(5089.546069999999))}\n",
      " intertimes :  (np.float64(2677.94418), np.float64(2864.8084000000003))\n",
      " duration   :  2771\n",
      "line 351...  estimate_duration : 18 \t sec:  2771\n",
      "boot_times :  {1: (np.float64(1447.3127599999998), np.float64(1509.4048599999999)), 3: (np.float64(644.0), np.float64(644.0)), 4: (np.float64(1710.11013), np.float64(1799.67295)), 5: (np.float64(4111.64443), np.float64(4452.76964)), 6: (np.float64(7485.125999999999), np.float64(7931.48429)), 7: (np.float64(2487.53043), np.float64(2568.7986600000004)), 9: (np.float64(4450.26771), np.float64(4663.99319)), 10: (np.float64(1302.45605), np.float64(1335.8737299999998)), 11: (np.float64(3576.4448500000003), np.float64(3821.34793)), 12: (np.float64(3329.4814300000003), np.float64(3554.3457799999996)), 14: (np.float64(24281.0), np.float64(24281.0)), 15: (900, 900), 16: (np.float64(2944.92384), np.float64(3125.91392)), 18: (np.float64(2677.94418), np.float64(2864.8084000000003)), 19: (np.float64(1529.4857), np.float64(1618.44008)), 21: (np.float64(4656.012790000001), np.float64(4756.08958)), 22: (np.float64(6052.0), np.float64(6052.0)), 23: (np.float64(2163.8071800000002), np.float64(2239.0955599999998)), 24: (np.float64(3589.75531), np.float64(3709.0717099999997)), 25: (np.float64(1717.97791), np.float64(1798.36825)), 26: (np.float64(4899.20767), np.float64(5089.546069999999))}\n",
      " intertimes :  (np.float64(3576.4448500000003), np.float64(3821.34793))\n",
      " duration   :  3698\n",
      "line 351...  estimate_duration : 11 \t sec:  3698\n",
      "line 352...  total duration [18, 11]  6469 / 107 min \n",
      "LINE:389 (iter: 15) -- predict_mask([model], '[18, 11]' ->  '6469 < 19960 sec' ?)\n",
      "\n",
      "\n",
      "-----------------\n",
      "line 379 bert_test_city[ Delh ] (iter: 16) -- predict_ mask([model], '[18, 11]')\n",
      "LINE 309, model.predict( to_predict=[['18', '11']] ) \n",
      "LINE 315  predseq => [18, 11],  maskpos => 1\n",
      "-- predict_ mask_pos ( <model>, seq= [18, 11], maskpos= 1  )\n",
      "line 240 ... seq: [18, 11]\n",
      "      seq :  [18, 11]\n",
      "LINE 256 -- model.predict( to_predict=['18,[MASK],11'] )\n"
     ]
    },
    {
     "data": {
      "application/vnd.jupyter.widget-view+json": {
       "model_id": "13f2dc1e35d84fa9a15ef93b2151fd39",
       "version_major": 2,
       "version_minor": 0
      },
      "text/plain": [
       "0it [00:00, ?it/s]"
      ]
     },
     "metadata": {},
     "output_type": "display_data"
    },
    {
     "data": {
      "application/vnd.jupyter.widget-view+json": {
       "model_id": "2f36b730802c4392ad8dce4d80ee3190",
       "version_major": 2,
       "version_minor": 0
      },
      "text/plain": [
       "  0%|          | 0/1 [00:00<?, ?it/s]"
      ]
     },
     "metadata": {},
     "output_type": "display_data"
    },
    {
     "name": "stdout",
     "output_type": "stream",
     "text": [
      "  seq     -> [18, 11]\n",
      "  amax    -> 12\n",
      "  amaxval -> 0.797331690788269\n",
      "maskpos   => 1\n",
      "--> predict_ mask_pos (model, '[18, 11]', 1 ) --- [18, 12, 11] \n",
      "LINE 317  result: nextpoi:12 nextval:0.797331690788269 unmasked_seq:[18, 11]\n",
      "  POSSIBLE: 0.797331690788269 -> [18, 11] [18, 11]\n",
      "line 381 bert_test_city[ Delh ] (iter: 16) -- predict_ mask([model], '[18, 11]')\n",
      "line 382 nextpoi:12, maskpos:1, nextval:0.797331690788269, unmasked_seq:[18, 11]\n",
      "line 336... estimate_duration( pois ) : [18, 11] ) \n",
      "line 337... boot_times : {1: (np.float64(1447.3127599999998), np.float64(1509.4048599999999)), 3: (np.float64(644.0), np.float64(644.0)), 4: (np.float64(1710.11013), np.float64(1799.67295)), 5: (np.float64(4111.64443), np.float64(4452.76964)), 6: (np.float64(7485.125999999999), np.float64(7931.48429)), 7: (np.float64(2487.53043), np.float64(2568.7986600000004)), 9: (np.float64(4450.26771), np.float64(4663.99319)), 10: (np.float64(1302.45605), np.float64(1335.8737299999998)), 11: (np.float64(3576.4448500000003), np.float64(3821.34793)), 12: (np.float64(3329.4814300000003), np.float64(3554.3457799999996)), 14: (np.float64(24281.0), np.float64(24281.0)), 15: (900, 900), 16: (np.float64(2944.92384), np.float64(3125.91392)), 18: (np.float64(2677.94418), np.float64(2864.8084000000003)), 19: (np.float64(1529.4857), np.float64(1618.44008)), 21: (np.float64(4656.012790000001), np.float64(4756.08958)), 22: (np.float64(6052.0), np.float64(6052.0)), 23: (np.float64(2163.8071800000002), np.float64(2239.0955599999998)), 24: (np.float64(3589.75531), np.float64(3709.0717099999997)), 25: (np.float64(1717.97791), np.float64(1798.36825)), 26: (np.float64(4899.20767), np.float64(5089.546069999999))} ) \n",
      "boot_times :  {1: (np.float64(1447.3127599999998), np.float64(1509.4048599999999)), 3: (np.float64(644.0), np.float64(644.0)), 4: (np.float64(1710.11013), np.float64(1799.67295)), 5: (np.float64(4111.64443), np.float64(4452.76964)), 6: (np.float64(7485.125999999999), np.float64(7931.48429)), 7: (np.float64(2487.53043), np.float64(2568.7986600000004)), 9: (np.float64(4450.26771), np.float64(4663.99319)), 10: (np.float64(1302.45605), np.float64(1335.8737299999998)), 11: (np.float64(3576.4448500000003), np.float64(3821.34793)), 12: (np.float64(3329.4814300000003), np.float64(3554.3457799999996)), 14: (np.float64(24281.0), np.float64(24281.0)), 15: (900, 900), 16: (np.float64(2944.92384), np.float64(3125.91392)), 18: (np.float64(2677.94418), np.float64(2864.8084000000003)), 19: (np.float64(1529.4857), np.float64(1618.44008)), 21: (np.float64(4656.012790000001), np.float64(4756.08958)), 22: (np.float64(6052.0), np.float64(6052.0)), 23: (np.float64(2163.8071800000002), np.float64(2239.0955599999998)), 24: (np.float64(3589.75531), np.float64(3709.0717099999997)), 25: (np.float64(1717.97791), np.float64(1798.36825)), 26: (np.float64(4899.20767), np.float64(5089.546069999999))}\n",
      " intertimes :  (np.float64(2677.94418), np.float64(2864.8084000000003))\n",
      " duration   :  2771\n",
      "line 351...  estimate_duration : 18 \t sec:  2771\n",
      "boot_times :  {1: (np.float64(1447.3127599999998), np.float64(1509.4048599999999)), 3: (np.float64(644.0), np.float64(644.0)), 4: (np.float64(1710.11013), np.float64(1799.67295)), 5: (np.float64(4111.64443), np.float64(4452.76964)), 6: (np.float64(7485.125999999999), np.float64(7931.48429)), 7: (np.float64(2487.53043), np.float64(2568.7986600000004)), 9: (np.float64(4450.26771), np.float64(4663.99319)), 10: (np.float64(1302.45605), np.float64(1335.8737299999998)), 11: (np.float64(3576.4448500000003), np.float64(3821.34793)), 12: (np.float64(3329.4814300000003), np.float64(3554.3457799999996)), 14: (np.float64(24281.0), np.float64(24281.0)), 15: (900, 900), 16: (np.float64(2944.92384), np.float64(3125.91392)), 18: (np.float64(2677.94418), np.float64(2864.8084000000003)), 19: (np.float64(1529.4857), np.float64(1618.44008)), 21: (np.float64(4656.012790000001), np.float64(4756.08958)), 22: (np.float64(6052.0), np.float64(6052.0)), 23: (np.float64(2163.8071800000002), np.float64(2239.0955599999998)), 24: (np.float64(3589.75531), np.float64(3709.0717099999997)), 25: (np.float64(1717.97791), np.float64(1798.36825)), 26: (np.float64(4899.20767), np.float64(5089.546069999999))}\n",
      " intertimes :  (np.float64(3576.4448500000003), np.float64(3821.34793))\n",
      " duration   :  3698\n",
      "line 351...  estimate_duration : 11 \t sec:  3698\n",
      "line 352...  total duration [18, 11]  6469 / 107 min \n",
      "LINE:389 (iter: 16) -- predict_mask([model], '[18, 11]' ->  '6469 < 19960 sec' ?)\n",
      "\n",
      "\n",
      "-----------------\n",
      "line 379 bert_test_city[ Delh ] (iter: 17) -- predict_ mask([model], '[18, 11]')\n",
      "LINE 309, model.predict( to_predict=[['18', '11']] ) \n",
      "LINE 315  predseq => [18, 11],  maskpos => 1\n",
      "-- predict_ mask_pos ( <model>, seq= [18, 11], maskpos= 1  )\n",
      "line 240 ... seq: [18, 11]\n",
      "      seq :  [18, 11]\n",
      "LINE 256 -- model.predict( to_predict=['18,[MASK],11'] )\n"
     ]
    },
    {
     "data": {
      "application/vnd.jupyter.widget-view+json": {
       "model_id": "a1e8e688eacc43e9b518d3e141823965",
       "version_major": 2,
       "version_minor": 0
      },
      "text/plain": [
       "0it [00:00, ?it/s]"
      ]
     },
     "metadata": {},
     "output_type": "display_data"
    },
    {
     "data": {
      "application/vnd.jupyter.widget-view+json": {
       "model_id": "b1fb22f7cafb4dc7bfaf4dd74091c0b9",
       "version_major": 2,
       "version_minor": 0
      },
      "text/plain": [
       "  0%|          | 0/1 [00:00<?, ?it/s]"
      ]
     },
     "metadata": {},
     "output_type": "display_data"
    },
    {
     "name": "stdout",
     "output_type": "stream",
     "text": [
      "  seq     -> [18, 11]\n",
      "  amax    -> 12\n",
      "  amaxval -> 0.797331690788269\n",
      "maskpos   => 1\n",
      "--> predict_ mask_pos (model, '[18, 11]', 1 ) --- [18, 12, 11] \n",
      "LINE 317  result: nextpoi:12 nextval:0.797331690788269 unmasked_seq:[18, 11]\n",
      "  POSSIBLE: 0.797331690788269 -> [18, 11] [18, 11]\n",
      "line 381 bert_test_city[ Delh ] (iter: 17) -- predict_ mask([model], '[18, 11]')\n",
      "line 382 nextpoi:12, maskpos:1, nextval:0.797331690788269, unmasked_seq:[18, 11]\n",
      "line 336... estimate_duration( pois ) : [18, 11] ) \n",
      "line 337... boot_times : {1: (np.float64(1447.3127599999998), np.float64(1509.4048599999999)), 3: (np.float64(644.0), np.float64(644.0)), 4: (np.float64(1710.11013), np.float64(1799.67295)), 5: (np.float64(4111.64443), np.float64(4452.76964)), 6: (np.float64(7485.125999999999), np.float64(7931.48429)), 7: (np.float64(2487.53043), np.float64(2568.7986600000004)), 9: (np.float64(4450.26771), np.float64(4663.99319)), 10: (np.float64(1302.45605), np.float64(1335.8737299999998)), 11: (np.float64(3576.4448500000003), np.float64(3821.34793)), 12: (np.float64(3329.4814300000003), np.float64(3554.3457799999996)), 14: (np.float64(24281.0), np.float64(24281.0)), 15: (900, 900), 16: (np.float64(2944.92384), np.float64(3125.91392)), 18: (np.float64(2677.94418), np.float64(2864.8084000000003)), 19: (np.float64(1529.4857), np.float64(1618.44008)), 21: (np.float64(4656.012790000001), np.float64(4756.08958)), 22: (np.float64(6052.0), np.float64(6052.0)), 23: (np.float64(2163.8071800000002), np.float64(2239.0955599999998)), 24: (np.float64(3589.75531), np.float64(3709.0717099999997)), 25: (np.float64(1717.97791), np.float64(1798.36825)), 26: (np.float64(4899.20767), np.float64(5089.546069999999))} ) \n",
      "boot_times :  {1: (np.float64(1447.3127599999998), np.float64(1509.4048599999999)), 3: (np.float64(644.0), np.float64(644.0)), 4: (np.float64(1710.11013), np.float64(1799.67295)), 5: (np.float64(4111.64443), np.float64(4452.76964)), 6: (np.float64(7485.125999999999), np.float64(7931.48429)), 7: (np.float64(2487.53043), np.float64(2568.7986600000004)), 9: (np.float64(4450.26771), np.float64(4663.99319)), 10: (np.float64(1302.45605), np.float64(1335.8737299999998)), 11: (np.float64(3576.4448500000003), np.float64(3821.34793)), 12: (np.float64(3329.4814300000003), np.float64(3554.3457799999996)), 14: (np.float64(24281.0), np.float64(24281.0)), 15: (900, 900), 16: (np.float64(2944.92384), np.float64(3125.91392)), 18: (np.float64(2677.94418), np.float64(2864.8084000000003)), 19: (np.float64(1529.4857), np.float64(1618.44008)), 21: (np.float64(4656.012790000001), np.float64(4756.08958)), 22: (np.float64(6052.0), np.float64(6052.0)), 23: (np.float64(2163.8071800000002), np.float64(2239.0955599999998)), 24: (np.float64(3589.75531), np.float64(3709.0717099999997)), 25: (np.float64(1717.97791), np.float64(1798.36825)), 26: (np.float64(4899.20767), np.float64(5089.546069999999))}\n",
      " intertimes :  (np.float64(2677.94418), np.float64(2864.8084000000003))\n",
      " duration   :  2771\n",
      "line 351...  estimate_duration : 18 \t sec:  2771\n",
      "boot_times :  {1: (np.float64(1447.3127599999998), np.float64(1509.4048599999999)), 3: (np.float64(644.0), np.float64(644.0)), 4: (np.float64(1710.11013), np.float64(1799.67295)), 5: (np.float64(4111.64443), np.float64(4452.76964)), 6: (np.float64(7485.125999999999), np.float64(7931.48429)), 7: (np.float64(2487.53043), np.float64(2568.7986600000004)), 9: (np.float64(4450.26771), np.float64(4663.99319)), 10: (np.float64(1302.45605), np.float64(1335.8737299999998)), 11: (np.float64(3576.4448500000003), np.float64(3821.34793)), 12: (np.float64(3329.4814300000003), np.float64(3554.3457799999996)), 14: (np.float64(24281.0), np.float64(24281.0)), 15: (900, 900), 16: (np.float64(2944.92384), np.float64(3125.91392)), 18: (np.float64(2677.94418), np.float64(2864.8084000000003)), 19: (np.float64(1529.4857), np.float64(1618.44008)), 21: (np.float64(4656.012790000001), np.float64(4756.08958)), 22: (np.float64(6052.0), np.float64(6052.0)), 23: (np.float64(2163.8071800000002), np.float64(2239.0955599999998)), 24: (np.float64(3589.75531), np.float64(3709.0717099999997)), 25: (np.float64(1717.97791), np.float64(1798.36825)), 26: (np.float64(4899.20767), np.float64(5089.546069999999))}\n",
      " intertimes :  (np.float64(3576.4448500000003), np.float64(3821.34793))\n",
      " duration   :  3698\n",
      "line 351...  estimate_duration : 11 \t sec:  3698\n",
      "line 352...  total duration [18, 11]  6469 / 107 min \n",
      "LINE:389 (iter: 17) -- predict_mask([model], '[18, 11]' ->  '6469 < 19960 sec' ?)\n",
      "\n",
      "\n",
      "-----------------\n",
      "line 379 bert_test_city[ Delh ] (iter: 18) -- predict_ mask([model], '[18, 11]')\n",
      "LINE 309, model.predict( to_predict=[['18', '11']] ) \n",
      "LINE 315  predseq => [18, 11],  maskpos => 1\n",
      "-- predict_ mask_pos ( <model>, seq= [18, 11], maskpos= 1  )\n",
      "line 240 ... seq: [18, 11]\n",
      "      seq :  [18, 11]\n",
      "LINE 256 -- model.predict( to_predict=['18,[MASK],11'] )\n"
     ]
    },
    {
     "data": {
      "application/vnd.jupyter.widget-view+json": {
       "model_id": "84433648279b4b1fbfde77323f55ea32",
       "version_major": 2,
       "version_minor": 0
      },
      "text/plain": [
       "0it [00:00, ?it/s]"
      ]
     },
     "metadata": {},
     "output_type": "display_data"
    },
    {
     "data": {
      "application/vnd.jupyter.widget-view+json": {
       "model_id": "8a2656ef06ec498195795a2e2c8f65ea",
       "version_major": 2,
       "version_minor": 0
      },
      "text/plain": [
       "  0%|          | 0/1 [00:00<?, ?it/s]"
      ]
     },
     "metadata": {},
     "output_type": "display_data"
    },
    {
     "name": "stdout",
     "output_type": "stream",
     "text": [
      "  seq     -> [18, 11]\n",
      "  amax    -> 12\n",
      "  amaxval -> 0.797331690788269\n",
      "maskpos   => 1\n",
      "--> predict_ mask_pos (model, '[18, 11]', 1 ) --- [18, 12, 11] \n",
      "LINE 317  result: nextpoi:12 nextval:0.797331690788269 unmasked_seq:[18, 11]\n",
      "  POSSIBLE: 0.797331690788269 -> [18, 11] [18, 11]\n",
      "line 381 bert_test_city[ Delh ] (iter: 18) -- predict_ mask([model], '[18, 11]')\n",
      "line 382 nextpoi:12, maskpos:1, nextval:0.797331690788269, unmasked_seq:[18, 11]\n",
      "line 336... estimate_duration( pois ) : [18, 11] ) \n",
      "line 337... boot_times : {1: (np.float64(1447.3127599999998), np.float64(1509.4048599999999)), 3: (np.float64(644.0), np.float64(644.0)), 4: (np.float64(1710.11013), np.float64(1799.67295)), 5: (np.float64(4111.64443), np.float64(4452.76964)), 6: (np.float64(7485.125999999999), np.float64(7931.48429)), 7: (np.float64(2487.53043), np.float64(2568.7986600000004)), 9: (np.float64(4450.26771), np.float64(4663.99319)), 10: (np.float64(1302.45605), np.float64(1335.8737299999998)), 11: (np.float64(3576.4448500000003), np.float64(3821.34793)), 12: (np.float64(3329.4814300000003), np.float64(3554.3457799999996)), 14: (np.float64(24281.0), np.float64(24281.0)), 15: (900, 900), 16: (np.float64(2944.92384), np.float64(3125.91392)), 18: (np.float64(2677.94418), np.float64(2864.8084000000003)), 19: (np.float64(1529.4857), np.float64(1618.44008)), 21: (np.float64(4656.012790000001), np.float64(4756.08958)), 22: (np.float64(6052.0), np.float64(6052.0)), 23: (np.float64(2163.8071800000002), np.float64(2239.0955599999998)), 24: (np.float64(3589.75531), np.float64(3709.0717099999997)), 25: (np.float64(1717.97791), np.float64(1798.36825)), 26: (np.float64(4899.20767), np.float64(5089.546069999999))} ) \n",
      "boot_times :  {1: (np.float64(1447.3127599999998), np.float64(1509.4048599999999)), 3: (np.float64(644.0), np.float64(644.0)), 4: (np.float64(1710.11013), np.float64(1799.67295)), 5: (np.float64(4111.64443), np.float64(4452.76964)), 6: (np.float64(7485.125999999999), np.float64(7931.48429)), 7: (np.float64(2487.53043), np.float64(2568.7986600000004)), 9: (np.float64(4450.26771), np.float64(4663.99319)), 10: (np.float64(1302.45605), np.float64(1335.8737299999998)), 11: (np.float64(3576.4448500000003), np.float64(3821.34793)), 12: (np.float64(3329.4814300000003), np.float64(3554.3457799999996)), 14: (np.float64(24281.0), np.float64(24281.0)), 15: (900, 900), 16: (np.float64(2944.92384), np.float64(3125.91392)), 18: (np.float64(2677.94418), np.float64(2864.8084000000003)), 19: (np.float64(1529.4857), np.float64(1618.44008)), 21: (np.float64(4656.012790000001), np.float64(4756.08958)), 22: (np.float64(6052.0), np.float64(6052.0)), 23: (np.float64(2163.8071800000002), np.float64(2239.0955599999998)), 24: (np.float64(3589.75531), np.float64(3709.0717099999997)), 25: (np.float64(1717.97791), np.float64(1798.36825)), 26: (np.float64(4899.20767), np.float64(5089.546069999999))}\n",
      " intertimes :  (np.float64(2677.94418), np.float64(2864.8084000000003))\n",
      " duration   :  2771\n",
      "line 351...  estimate_duration : 18 \t sec:  2771\n",
      "boot_times :  {1: (np.float64(1447.3127599999998), np.float64(1509.4048599999999)), 3: (np.float64(644.0), np.float64(644.0)), 4: (np.float64(1710.11013), np.float64(1799.67295)), 5: (np.float64(4111.64443), np.float64(4452.76964)), 6: (np.float64(7485.125999999999), np.float64(7931.48429)), 7: (np.float64(2487.53043), np.float64(2568.7986600000004)), 9: (np.float64(4450.26771), np.float64(4663.99319)), 10: (np.float64(1302.45605), np.float64(1335.8737299999998)), 11: (np.float64(3576.4448500000003), np.float64(3821.34793)), 12: (np.float64(3329.4814300000003), np.float64(3554.3457799999996)), 14: (np.float64(24281.0), np.float64(24281.0)), 15: (900, 900), 16: (np.float64(2944.92384), np.float64(3125.91392)), 18: (np.float64(2677.94418), np.float64(2864.8084000000003)), 19: (np.float64(1529.4857), np.float64(1618.44008)), 21: (np.float64(4656.012790000001), np.float64(4756.08958)), 22: (np.float64(6052.0), np.float64(6052.0)), 23: (np.float64(2163.8071800000002), np.float64(2239.0955599999998)), 24: (np.float64(3589.75531), np.float64(3709.0717099999997)), 25: (np.float64(1717.97791), np.float64(1798.36825)), 26: (np.float64(4899.20767), np.float64(5089.546069999999))}\n",
      " intertimes :  (np.float64(3576.4448500000003), np.float64(3821.34793))\n",
      " duration   :  3698\n",
      "line 351...  estimate_duration : 11 \t sec:  3698\n",
      "line 352...  total duration [18, 11]  6469 / 107 min \n",
      "LINE:389 (iter: 18) -- predict_mask([model], '[18, 11]' ->  '6469 < 19960 sec' ?)\n",
      "\n",
      "\n",
      "-----------------\n",
      "line 379 bert_test_city[ Delh ] (iter: 19) -- predict_ mask([model], '[18, 11]')\n",
      "LINE 309, model.predict( to_predict=[['18', '11']] ) \n",
      "LINE 315  predseq => [18, 11],  maskpos => 1\n",
      "-- predict_ mask_pos ( <model>, seq= [18, 11], maskpos= 1  )\n",
      "line 240 ... seq: [18, 11]\n",
      "      seq :  [18, 11]\n",
      "LINE 256 -- model.predict( to_predict=['18,[MASK],11'] )\n"
     ]
    },
    {
     "data": {
      "application/vnd.jupyter.widget-view+json": {
       "model_id": "f8d25e6a7c4f460180c6bc04d34673f6",
       "version_major": 2,
       "version_minor": 0
      },
      "text/plain": [
       "0it [00:00, ?it/s]"
      ]
     },
     "metadata": {},
     "output_type": "display_data"
    },
    {
     "data": {
      "application/vnd.jupyter.widget-view+json": {
       "model_id": "438631ad752540ddb44e87136f4b902a",
       "version_major": 2,
       "version_minor": 0
      },
      "text/plain": [
       "  0%|          | 0/1 [00:00<?, ?it/s]"
      ]
     },
     "metadata": {},
     "output_type": "display_data"
    },
    {
     "name": "stdout",
     "output_type": "stream",
     "text": [
      "  seq     -> [18, 11]\n",
      "  amax    -> 12\n",
      "  amaxval -> 0.797331690788269\n",
      "maskpos   => 1\n",
      "--> predict_ mask_pos (model, '[18, 11]', 1 ) --- [18, 12, 11] \n",
      "LINE 317  result: nextpoi:12 nextval:0.797331690788269 unmasked_seq:[18, 11]\n",
      "  POSSIBLE: 0.797331690788269 -> [18, 11] [18, 11]\n",
      "line 381 bert_test_city[ Delh ] (iter: 19) -- predict_ mask([model], '[18, 11]')\n",
      "line 382 nextpoi:12, maskpos:1, nextval:0.797331690788269, unmasked_seq:[18, 11]\n",
      "line 336... estimate_duration( pois ) : [18, 11] ) \n",
      "line 337... boot_times : {1: (np.float64(1447.3127599999998), np.float64(1509.4048599999999)), 3: (np.float64(644.0), np.float64(644.0)), 4: (np.float64(1710.11013), np.float64(1799.67295)), 5: (np.float64(4111.64443), np.float64(4452.76964)), 6: (np.float64(7485.125999999999), np.float64(7931.48429)), 7: (np.float64(2487.53043), np.float64(2568.7986600000004)), 9: (np.float64(4450.26771), np.float64(4663.99319)), 10: (np.float64(1302.45605), np.float64(1335.8737299999998)), 11: (np.float64(3576.4448500000003), np.float64(3821.34793)), 12: (np.float64(3329.4814300000003), np.float64(3554.3457799999996)), 14: (np.float64(24281.0), np.float64(24281.0)), 15: (900, 900), 16: (np.float64(2944.92384), np.float64(3125.91392)), 18: (np.float64(2677.94418), np.float64(2864.8084000000003)), 19: (np.float64(1529.4857), np.float64(1618.44008)), 21: (np.float64(4656.012790000001), np.float64(4756.08958)), 22: (np.float64(6052.0), np.float64(6052.0)), 23: (np.float64(2163.8071800000002), np.float64(2239.0955599999998)), 24: (np.float64(3589.75531), np.float64(3709.0717099999997)), 25: (np.float64(1717.97791), np.float64(1798.36825)), 26: (np.float64(4899.20767), np.float64(5089.546069999999))} ) \n",
      "boot_times :  {1: (np.float64(1447.3127599999998), np.float64(1509.4048599999999)), 3: (np.float64(644.0), np.float64(644.0)), 4: (np.float64(1710.11013), np.float64(1799.67295)), 5: (np.float64(4111.64443), np.float64(4452.76964)), 6: (np.float64(7485.125999999999), np.float64(7931.48429)), 7: (np.float64(2487.53043), np.float64(2568.7986600000004)), 9: (np.float64(4450.26771), np.float64(4663.99319)), 10: (np.float64(1302.45605), np.float64(1335.8737299999998)), 11: (np.float64(3576.4448500000003), np.float64(3821.34793)), 12: (np.float64(3329.4814300000003), np.float64(3554.3457799999996)), 14: (np.float64(24281.0), np.float64(24281.0)), 15: (900, 900), 16: (np.float64(2944.92384), np.float64(3125.91392)), 18: (np.float64(2677.94418), np.float64(2864.8084000000003)), 19: (np.float64(1529.4857), np.float64(1618.44008)), 21: (np.float64(4656.012790000001), np.float64(4756.08958)), 22: (np.float64(6052.0), np.float64(6052.0)), 23: (np.float64(2163.8071800000002), np.float64(2239.0955599999998)), 24: (np.float64(3589.75531), np.float64(3709.0717099999997)), 25: (np.float64(1717.97791), np.float64(1798.36825)), 26: (np.float64(4899.20767), np.float64(5089.546069999999))}\n",
      " intertimes :  (np.float64(2677.94418), np.float64(2864.8084000000003))\n",
      " duration   :  2771\n",
      "line 351...  estimate_duration : 18 \t sec:  2771\n",
      "boot_times :  {1: (np.float64(1447.3127599999998), np.float64(1509.4048599999999)), 3: (np.float64(644.0), np.float64(644.0)), 4: (np.float64(1710.11013), np.float64(1799.67295)), 5: (np.float64(4111.64443), np.float64(4452.76964)), 6: (np.float64(7485.125999999999), np.float64(7931.48429)), 7: (np.float64(2487.53043), np.float64(2568.7986600000004)), 9: (np.float64(4450.26771), np.float64(4663.99319)), 10: (np.float64(1302.45605), np.float64(1335.8737299999998)), 11: (np.float64(3576.4448500000003), np.float64(3821.34793)), 12: (np.float64(3329.4814300000003), np.float64(3554.3457799999996)), 14: (np.float64(24281.0), np.float64(24281.0)), 15: (900, 900), 16: (np.float64(2944.92384), np.float64(3125.91392)), 18: (np.float64(2677.94418), np.float64(2864.8084000000003)), 19: (np.float64(1529.4857), np.float64(1618.44008)), 21: (np.float64(4656.012790000001), np.float64(4756.08958)), 22: (np.float64(6052.0), np.float64(6052.0)), 23: (np.float64(2163.8071800000002), np.float64(2239.0955599999998)), 24: (np.float64(3589.75531), np.float64(3709.0717099999997)), 25: (np.float64(1717.97791), np.float64(1798.36825)), 26: (np.float64(4899.20767), np.float64(5089.546069999999))}\n",
      " intertimes :  (np.float64(3576.4448500000003), np.float64(3821.34793))\n",
      " duration   :  3698\n",
      "line 351...  estimate_duration : 11 \t sec:  3698\n",
      "line 352...  total duration [18, 11]  6469 / 107 min \n",
      "LINE:389 (iter: 19) -- predict_mask([model], '[18, 11]' ->  '6469 < 19960 sec' ?)\n",
      "\n",
      "\n",
      "-----------------\n",
      "line 379 bert_test_city[ Delh ] (iter: 20) -- predict_ mask([model], '[18, 11]')\n",
      "LINE 309, model.predict( to_predict=[['18', '11']] ) \n",
      "LINE 315  predseq => [18, 11],  maskpos => 1\n",
      "-- predict_ mask_pos ( <model>, seq= [18, 11], maskpos= 1  )\n",
      "line 240 ... seq: [18, 11]\n",
      "      seq :  [18, 11]\n",
      "LINE 256 -- model.predict( to_predict=['18,[MASK],11'] )\n"
     ]
    },
    {
     "data": {
      "application/vnd.jupyter.widget-view+json": {
       "model_id": "44840781d5d147ebb424662ac57cb2d5",
       "version_major": 2,
       "version_minor": 0
      },
      "text/plain": [
       "0it [00:00, ?it/s]"
      ]
     },
     "metadata": {},
     "output_type": "display_data"
    },
    {
     "data": {
      "application/vnd.jupyter.widget-view+json": {
       "model_id": "da633e70db87427abcef6ec7a6016f35",
       "version_major": 2,
       "version_minor": 0
      },
      "text/plain": [
       "  0%|          | 0/1 [00:00<?, ?it/s]"
      ]
     },
     "metadata": {},
     "output_type": "display_data"
    },
    {
     "name": "stdout",
     "output_type": "stream",
     "text": [
      "  seq     -> [18, 11]\n",
      "  amax    -> 12\n",
      "  amaxval -> 0.797331690788269\n",
      "maskpos   => 1\n",
      "--> predict_ mask_pos (model, '[18, 11]', 1 ) --- [18, 12, 11] \n",
      "LINE 317  result: nextpoi:12 nextval:0.797331690788269 unmasked_seq:[18, 11]\n",
      "  POSSIBLE: 0.797331690788269 -> [18, 11] [18, 11]\n",
      "line 381 bert_test_city[ Delh ] (iter: 20) -- predict_ mask([model], '[18, 11]')\n",
      "line 382 nextpoi:12, maskpos:1, nextval:0.797331690788269, unmasked_seq:[18, 11]\n",
      "line 336... estimate_duration( pois ) : [18, 11] ) \n",
      "line 337... boot_times : {1: (np.float64(1447.3127599999998), np.float64(1509.4048599999999)), 3: (np.float64(644.0), np.float64(644.0)), 4: (np.float64(1710.11013), np.float64(1799.67295)), 5: (np.float64(4111.64443), np.float64(4452.76964)), 6: (np.float64(7485.125999999999), np.float64(7931.48429)), 7: (np.float64(2487.53043), np.float64(2568.7986600000004)), 9: (np.float64(4450.26771), np.float64(4663.99319)), 10: (np.float64(1302.45605), np.float64(1335.8737299999998)), 11: (np.float64(3576.4448500000003), np.float64(3821.34793)), 12: (np.float64(3329.4814300000003), np.float64(3554.3457799999996)), 14: (np.float64(24281.0), np.float64(24281.0)), 15: (900, 900), 16: (np.float64(2944.92384), np.float64(3125.91392)), 18: (np.float64(2677.94418), np.float64(2864.8084000000003)), 19: (np.float64(1529.4857), np.float64(1618.44008)), 21: (np.float64(4656.012790000001), np.float64(4756.08958)), 22: (np.float64(6052.0), np.float64(6052.0)), 23: (np.float64(2163.8071800000002), np.float64(2239.0955599999998)), 24: (np.float64(3589.75531), np.float64(3709.0717099999997)), 25: (np.float64(1717.97791), np.float64(1798.36825)), 26: (np.float64(4899.20767), np.float64(5089.546069999999))} ) \n",
      "boot_times :  {1: (np.float64(1447.3127599999998), np.float64(1509.4048599999999)), 3: (np.float64(644.0), np.float64(644.0)), 4: (np.float64(1710.11013), np.float64(1799.67295)), 5: (np.float64(4111.64443), np.float64(4452.76964)), 6: (np.float64(7485.125999999999), np.float64(7931.48429)), 7: (np.float64(2487.53043), np.float64(2568.7986600000004)), 9: (np.float64(4450.26771), np.float64(4663.99319)), 10: (np.float64(1302.45605), np.float64(1335.8737299999998)), 11: (np.float64(3576.4448500000003), np.float64(3821.34793)), 12: (np.float64(3329.4814300000003), np.float64(3554.3457799999996)), 14: (np.float64(24281.0), np.float64(24281.0)), 15: (900, 900), 16: (np.float64(2944.92384), np.float64(3125.91392)), 18: (np.float64(2677.94418), np.float64(2864.8084000000003)), 19: (np.float64(1529.4857), np.float64(1618.44008)), 21: (np.float64(4656.012790000001), np.float64(4756.08958)), 22: (np.float64(6052.0), np.float64(6052.0)), 23: (np.float64(2163.8071800000002), np.float64(2239.0955599999998)), 24: (np.float64(3589.75531), np.float64(3709.0717099999997)), 25: (np.float64(1717.97791), np.float64(1798.36825)), 26: (np.float64(4899.20767), np.float64(5089.546069999999))}\n",
      " intertimes :  (np.float64(2677.94418), np.float64(2864.8084000000003))\n",
      " duration   :  2771\n",
      "line 351...  estimate_duration : 18 \t sec:  2771\n",
      "boot_times :  {1: (np.float64(1447.3127599999998), np.float64(1509.4048599999999)), 3: (np.float64(644.0), np.float64(644.0)), 4: (np.float64(1710.11013), np.float64(1799.67295)), 5: (np.float64(4111.64443), np.float64(4452.76964)), 6: (np.float64(7485.125999999999), np.float64(7931.48429)), 7: (np.float64(2487.53043), np.float64(2568.7986600000004)), 9: (np.float64(4450.26771), np.float64(4663.99319)), 10: (np.float64(1302.45605), np.float64(1335.8737299999998)), 11: (np.float64(3576.4448500000003), np.float64(3821.34793)), 12: (np.float64(3329.4814300000003), np.float64(3554.3457799999996)), 14: (np.float64(24281.0), np.float64(24281.0)), 15: (900, 900), 16: (np.float64(2944.92384), np.float64(3125.91392)), 18: (np.float64(2677.94418), np.float64(2864.8084000000003)), 19: (np.float64(1529.4857), np.float64(1618.44008)), 21: (np.float64(4656.012790000001), np.float64(4756.08958)), 22: (np.float64(6052.0), np.float64(6052.0)), 23: (np.float64(2163.8071800000002), np.float64(2239.0955599999998)), 24: (np.float64(3589.75531), np.float64(3709.0717099999997)), 25: (np.float64(1717.97791), np.float64(1798.36825)), 26: (np.float64(4899.20767), np.float64(5089.546069999999))}\n",
      " intertimes :  (np.float64(3576.4448500000003), np.float64(3821.34793))\n",
      " duration   :  3698\n",
      "line 351...  estimate_duration : 11 \t sec:  3698\n",
      "line 352...  total duration [18, 11]  6469 / 107 min \n",
      "LINE:389 (iter: 20) -- predict_mask([model], '[18, 11]' ->  '6469 < 19960 sec' ?)\n",
      "\n",
      "\n",
      "-----------------\n",
      "line 379 bert_test_city[ Delh ] (iter: 21) -- predict_ mask([model], '[18, 11]')\n",
      "LINE 309, model.predict( to_predict=[['18', '11']] ) \n",
      "LINE 315  predseq => [18, 11],  maskpos => 1\n",
      "-- predict_ mask_pos ( <model>, seq= [18, 11], maskpos= 1  )\n",
      "line 240 ... seq: [18, 11]\n",
      "      seq :  [18, 11]\n",
      "LINE 256 -- model.predict( to_predict=['18,[MASK],11'] )\n"
     ]
    },
    {
     "data": {
      "application/vnd.jupyter.widget-view+json": {
       "model_id": "598989a072a542aab6662546fc114f55",
       "version_major": 2,
       "version_minor": 0
      },
      "text/plain": [
       "0it [00:00, ?it/s]"
      ]
     },
     "metadata": {},
     "output_type": "display_data"
    },
    {
     "data": {
      "application/vnd.jupyter.widget-view+json": {
       "model_id": "5bd76df4ec644b2b8ff21db4d4c76725",
       "version_major": 2,
       "version_minor": 0
      },
      "text/plain": [
       "  0%|          | 0/1 [00:00<?, ?it/s]"
      ]
     },
     "metadata": {},
     "output_type": "display_data"
    },
    {
     "name": "stdout",
     "output_type": "stream",
     "text": [
      "  seq     -> [18, 11]\n",
      "  amax    -> 12\n",
      "  amaxval -> 0.797331690788269\n",
      "maskpos   => 1\n",
      "--> predict_ mask_pos (model, '[18, 11]', 1 ) --- [18, 12, 11] \n",
      "LINE 317  result: nextpoi:12 nextval:0.797331690788269 unmasked_seq:[18, 11]\n",
      "  POSSIBLE: 0.797331690788269 -> [18, 11] [18, 11]\n",
      "line 381 bert_test_city[ Delh ] (iter: 21) -- predict_ mask([model], '[18, 11]')\n",
      "line 382 nextpoi:12, maskpos:1, nextval:0.797331690788269, unmasked_seq:[18, 11]\n",
      "line 336... estimate_duration( pois ) : [18, 11] ) \n",
      "line 337... boot_times : {1: (np.float64(1447.3127599999998), np.float64(1509.4048599999999)), 3: (np.float64(644.0), np.float64(644.0)), 4: (np.float64(1710.11013), np.float64(1799.67295)), 5: (np.float64(4111.64443), np.float64(4452.76964)), 6: (np.float64(7485.125999999999), np.float64(7931.48429)), 7: (np.float64(2487.53043), np.float64(2568.7986600000004)), 9: (np.float64(4450.26771), np.float64(4663.99319)), 10: (np.float64(1302.45605), np.float64(1335.8737299999998)), 11: (np.float64(3576.4448500000003), np.float64(3821.34793)), 12: (np.float64(3329.4814300000003), np.float64(3554.3457799999996)), 14: (np.float64(24281.0), np.float64(24281.0)), 15: (900, 900), 16: (np.float64(2944.92384), np.float64(3125.91392)), 18: (np.float64(2677.94418), np.float64(2864.8084000000003)), 19: (np.float64(1529.4857), np.float64(1618.44008)), 21: (np.float64(4656.012790000001), np.float64(4756.08958)), 22: (np.float64(6052.0), np.float64(6052.0)), 23: (np.float64(2163.8071800000002), np.float64(2239.0955599999998)), 24: (np.float64(3589.75531), np.float64(3709.0717099999997)), 25: (np.float64(1717.97791), np.float64(1798.36825)), 26: (np.float64(4899.20767), np.float64(5089.546069999999))} ) \n",
      "boot_times :  {1: (np.float64(1447.3127599999998), np.float64(1509.4048599999999)), 3: (np.float64(644.0), np.float64(644.0)), 4: (np.float64(1710.11013), np.float64(1799.67295)), 5: (np.float64(4111.64443), np.float64(4452.76964)), 6: (np.float64(7485.125999999999), np.float64(7931.48429)), 7: (np.float64(2487.53043), np.float64(2568.7986600000004)), 9: (np.float64(4450.26771), np.float64(4663.99319)), 10: (np.float64(1302.45605), np.float64(1335.8737299999998)), 11: (np.float64(3576.4448500000003), np.float64(3821.34793)), 12: (np.float64(3329.4814300000003), np.float64(3554.3457799999996)), 14: (np.float64(24281.0), np.float64(24281.0)), 15: (900, 900), 16: (np.float64(2944.92384), np.float64(3125.91392)), 18: (np.float64(2677.94418), np.float64(2864.8084000000003)), 19: (np.float64(1529.4857), np.float64(1618.44008)), 21: (np.float64(4656.012790000001), np.float64(4756.08958)), 22: (np.float64(6052.0), np.float64(6052.0)), 23: (np.float64(2163.8071800000002), np.float64(2239.0955599999998)), 24: (np.float64(3589.75531), np.float64(3709.0717099999997)), 25: (np.float64(1717.97791), np.float64(1798.36825)), 26: (np.float64(4899.20767), np.float64(5089.546069999999))}\n",
      " intertimes :  (np.float64(2677.94418), np.float64(2864.8084000000003))\n",
      " duration   :  2771\n",
      "line 351...  estimate_duration : 18 \t sec:  2771\n",
      "boot_times :  {1: (np.float64(1447.3127599999998), np.float64(1509.4048599999999)), 3: (np.float64(644.0), np.float64(644.0)), 4: (np.float64(1710.11013), np.float64(1799.67295)), 5: (np.float64(4111.64443), np.float64(4452.76964)), 6: (np.float64(7485.125999999999), np.float64(7931.48429)), 7: (np.float64(2487.53043), np.float64(2568.7986600000004)), 9: (np.float64(4450.26771), np.float64(4663.99319)), 10: (np.float64(1302.45605), np.float64(1335.8737299999998)), 11: (np.float64(3576.4448500000003), np.float64(3821.34793)), 12: (np.float64(3329.4814300000003), np.float64(3554.3457799999996)), 14: (np.float64(24281.0), np.float64(24281.0)), 15: (900, 900), 16: (np.float64(2944.92384), np.float64(3125.91392)), 18: (np.float64(2677.94418), np.float64(2864.8084000000003)), 19: (np.float64(1529.4857), np.float64(1618.44008)), 21: (np.float64(4656.012790000001), np.float64(4756.08958)), 22: (np.float64(6052.0), np.float64(6052.0)), 23: (np.float64(2163.8071800000002), np.float64(2239.0955599999998)), 24: (np.float64(3589.75531), np.float64(3709.0717099999997)), 25: (np.float64(1717.97791), np.float64(1798.36825)), 26: (np.float64(4899.20767), np.float64(5089.546069999999))}\n",
      " intertimes :  (np.float64(3576.4448500000003), np.float64(3821.34793))\n",
      " duration   :  3698\n",
      "line 351...  estimate_duration : 11 \t sec:  3698\n",
      "line 352...  total duration [18, 11]  6469 / 107 min \n",
      "LINE:389 (iter: 21) -- predict_mask([model], '[18, 11]' ->  '6469 < 19960 sec' ?)\n",
      "\n",
      "\n",
      "-----------------\n",
      "line 379 bert_test_city[ Delh ] (iter: 22) -- predict_ mask([model], '[18, 11]')\n",
      "LINE 309, model.predict( to_predict=[['18', '11']] ) \n",
      "LINE 315  predseq => [18, 11],  maskpos => 1\n",
      "-- predict_ mask_pos ( <model>, seq= [18, 11], maskpos= 1  )\n",
      "line 240 ... seq: [18, 11]\n",
      "      seq :  [18, 11]\n",
      "LINE 256 -- model.predict( to_predict=['18,[MASK],11'] )\n"
     ]
    },
    {
     "data": {
      "application/vnd.jupyter.widget-view+json": {
       "model_id": "2b371751258146f9b8605937e9d217b5",
       "version_major": 2,
       "version_minor": 0
      },
      "text/plain": [
       "0it [00:00, ?it/s]"
      ]
     },
     "metadata": {},
     "output_type": "display_data"
    },
    {
     "data": {
      "application/vnd.jupyter.widget-view+json": {
       "model_id": "50166be4aff34a6b877d6ec61763d8eb",
       "version_major": 2,
       "version_minor": 0
      },
      "text/plain": [
       "  0%|          | 0/1 [00:00<?, ?it/s]"
      ]
     },
     "metadata": {},
     "output_type": "display_data"
    },
    {
     "name": "stdout",
     "output_type": "stream",
     "text": [
      "  seq     -> [18, 11]\n",
      "  amax    -> 12\n",
      "  amaxval -> 0.797331690788269\n",
      "maskpos   => 1\n",
      "--> predict_ mask_pos (model, '[18, 11]', 1 ) --- [18, 12, 11] \n",
      "LINE 317  result: nextpoi:12 nextval:0.797331690788269 unmasked_seq:[18, 11]\n",
      "  POSSIBLE: 0.797331690788269 -> [18, 11] [18, 11]\n",
      "line 381 bert_test_city[ Delh ] (iter: 22) -- predict_ mask([model], '[18, 11]')\n",
      "line 382 nextpoi:12, maskpos:1, nextval:0.797331690788269, unmasked_seq:[18, 11]\n",
      "line 336... estimate_duration( pois ) : [18, 11] ) \n",
      "line 337... boot_times : {1: (np.float64(1447.3127599999998), np.float64(1509.4048599999999)), 3: (np.float64(644.0), np.float64(644.0)), 4: (np.float64(1710.11013), np.float64(1799.67295)), 5: (np.float64(4111.64443), np.float64(4452.76964)), 6: (np.float64(7485.125999999999), np.float64(7931.48429)), 7: (np.float64(2487.53043), np.float64(2568.7986600000004)), 9: (np.float64(4450.26771), np.float64(4663.99319)), 10: (np.float64(1302.45605), np.float64(1335.8737299999998)), 11: (np.float64(3576.4448500000003), np.float64(3821.34793)), 12: (np.float64(3329.4814300000003), np.float64(3554.3457799999996)), 14: (np.float64(24281.0), np.float64(24281.0)), 15: (900, 900), 16: (np.float64(2944.92384), np.float64(3125.91392)), 18: (np.float64(2677.94418), np.float64(2864.8084000000003)), 19: (np.float64(1529.4857), np.float64(1618.44008)), 21: (np.float64(4656.012790000001), np.float64(4756.08958)), 22: (np.float64(6052.0), np.float64(6052.0)), 23: (np.float64(2163.8071800000002), np.float64(2239.0955599999998)), 24: (np.float64(3589.75531), np.float64(3709.0717099999997)), 25: (np.float64(1717.97791), np.float64(1798.36825)), 26: (np.float64(4899.20767), np.float64(5089.546069999999))} ) \n",
      "boot_times :  {1: (np.float64(1447.3127599999998), np.float64(1509.4048599999999)), 3: (np.float64(644.0), np.float64(644.0)), 4: (np.float64(1710.11013), np.float64(1799.67295)), 5: (np.float64(4111.64443), np.float64(4452.76964)), 6: (np.float64(7485.125999999999), np.float64(7931.48429)), 7: (np.float64(2487.53043), np.float64(2568.7986600000004)), 9: (np.float64(4450.26771), np.float64(4663.99319)), 10: (np.float64(1302.45605), np.float64(1335.8737299999998)), 11: (np.float64(3576.4448500000003), np.float64(3821.34793)), 12: (np.float64(3329.4814300000003), np.float64(3554.3457799999996)), 14: (np.float64(24281.0), np.float64(24281.0)), 15: (900, 900), 16: (np.float64(2944.92384), np.float64(3125.91392)), 18: (np.float64(2677.94418), np.float64(2864.8084000000003)), 19: (np.float64(1529.4857), np.float64(1618.44008)), 21: (np.float64(4656.012790000001), np.float64(4756.08958)), 22: (np.float64(6052.0), np.float64(6052.0)), 23: (np.float64(2163.8071800000002), np.float64(2239.0955599999998)), 24: (np.float64(3589.75531), np.float64(3709.0717099999997)), 25: (np.float64(1717.97791), np.float64(1798.36825)), 26: (np.float64(4899.20767), np.float64(5089.546069999999))}\n",
      " intertimes :  (np.float64(2677.94418), np.float64(2864.8084000000003))\n",
      " duration   :  2771\n",
      "line 351...  estimate_duration : 18 \t sec:  2771\n",
      "boot_times :  {1: (np.float64(1447.3127599999998), np.float64(1509.4048599999999)), 3: (np.float64(644.0), np.float64(644.0)), 4: (np.float64(1710.11013), np.float64(1799.67295)), 5: (np.float64(4111.64443), np.float64(4452.76964)), 6: (np.float64(7485.125999999999), np.float64(7931.48429)), 7: (np.float64(2487.53043), np.float64(2568.7986600000004)), 9: (np.float64(4450.26771), np.float64(4663.99319)), 10: (np.float64(1302.45605), np.float64(1335.8737299999998)), 11: (np.float64(3576.4448500000003), np.float64(3821.34793)), 12: (np.float64(3329.4814300000003), np.float64(3554.3457799999996)), 14: (np.float64(24281.0), np.float64(24281.0)), 15: (900, 900), 16: (np.float64(2944.92384), np.float64(3125.91392)), 18: (np.float64(2677.94418), np.float64(2864.8084000000003)), 19: (np.float64(1529.4857), np.float64(1618.44008)), 21: (np.float64(4656.012790000001), np.float64(4756.08958)), 22: (np.float64(6052.0), np.float64(6052.0)), 23: (np.float64(2163.8071800000002), np.float64(2239.0955599999998)), 24: (np.float64(3589.75531), np.float64(3709.0717099999997)), 25: (np.float64(1717.97791), np.float64(1798.36825)), 26: (np.float64(4899.20767), np.float64(5089.546069999999))}\n",
      " intertimes :  (np.float64(3576.4448500000003), np.float64(3821.34793))\n",
      " duration   :  3698\n",
      "line 351...  estimate_duration : 11 \t sec:  3698\n",
      "line 352...  total duration [18, 11]  6469 / 107 min \n",
      "LINE:389 (iter: 22) -- predict_mask([model], '[18, 11]' ->  '6469 < 19960 sec' ?)\n",
      "\n",
      "\n",
      "-----------------\n",
      "line 379 bert_test_city[ Delh ] (iter: 23) -- predict_ mask([model], '[18, 11]')\n",
      "LINE 309, model.predict( to_predict=[['18', '11']] ) \n",
      "LINE 315  predseq => [18, 11],  maskpos => 1\n",
      "-- predict_ mask_pos ( <model>, seq= [18, 11], maskpos= 1  )\n",
      "line 240 ... seq: [18, 11]\n",
      "      seq :  [18, 11]\n",
      "LINE 256 -- model.predict( to_predict=['18,[MASK],11'] )\n"
     ]
    },
    {
     "data": {
      "application/vnd.jupyter.widget-view+json": {
       "model_id": "7b5481679d3840eb821a5522f6e6d9a4",
       "version_major": 2,
       "version_minor": 0
      },
      "text/plain": [
       "0it [00:00, ?it/s]"
      ]
     },
     "metadata": {},
     "output_type": "display_data"
    },
    {
     "data": {
      "application/vnd.jupyter.widget-view+json": {
       "model_id": "d4e178e14ac24f4e8ad56db36d1b1508",
       "version_major": 2,
       "version_minor": 0
      },
      "text/plain": [
       "  0%|          | 0/1 [00:00<?, ?it/s]"
      ]
     },
     "metadata": {},
     "output_type": "display_data"
    },
    {
     "name": "stdout",
     "output_type": "stream",
     "text": [
      "  seq     -> [18, 11]\n",
      "  amax    -> 12\n",
      "  amaxval -> 0.797331690788269\n",
      "maskpos   => 1\n",
      "--> predict_ mask_pos (model, '[18, 11]', 1 ) --- [18, 12, 11] \n",
      "LINE 317  result: nextpoi:12 nextval:0.797331690788269 unmasked_seq:[18, 11]\n",
      "  POSSIBLE: 0.797331690788269 -> [18, 11] [18, 11]\n",
      "line 381 bert_test_city[ Delh ] (iter: 23) -- predict_ mask([model], '[18, 11]')\n",
      "line 382 nextpoi:12, maskpos:1, nextval:0.797331690788269, unmasked_seq:[18, 11]\n",
      "line 336... estimate_duration( pois ) : [18, 11] ) \n",
      "line 337... boot_times : {1: (np.float64(1447.3127599999998), np.float64(1509.4048599999999)), 3: (np.float64(644.0), np.float64(644.0)), 4: (np.float64(1710.11013), np.float64(1799.67295)), 5: (np.float64(4111.64443), np.float64(4452.76964)), 6: (np.float64(7485.125999999999), np.float64(7931.48429)), 7: (np.float64(2487.53043), np.float64(2568.7986600000004)), 9: (np.float64(4450.26771), np.float64(4663.99319)), 10: (np.float64(1302.45605), np.float64(1335.8737299999998)), 11: (np.float64(3576.4448500000003), np.float64(3821.34793)), 12: (np.float64(3329.4814300000003), np.float64(3554.3457799999996)), 14: (np.float64(24281.0), np.float64(24281.0)), 15: (900, 900), 16: (np.float64(2944.92384), np.float64(3125.91392)), 18: (np.float64(2677.94418), np.float64(2864.8084000000003)), 19: (np.float64(1529.4857), np.float64(1618.44008)), 21: (np.float64(4656.012790000001), np.float64(4756.08958)), 22: (np.float64(6052.0), np.float64(6052.0)), 23: (np.float64(2163.8071800000002), np.float64(2239.0955599999998)), 24: (np.float64(3589.75531), np.float64(3709.0717099999997)), 25: (np.float64(1717.97791), np.float64(1798.36825)), 26: (np.float64(4899.20767), np.float64(5089.546069999999))} ) \n",
      "boot_times :  {1: (np.float64(1447.3127599999998), np.float64(1509.4048599999999)), 3: (np.float64(644.0), np.float64(644.0)), 4: (np.float64(1710.11013), np.float64(1799.67295)), 5: (np.float64(4111.64443), np.float64(4452.76964)), 6: (np.float64(7485.125999999999), np.float64(7931.48429)), 7: (np.float64(2487.53043), np.float64(2568.7986600000004)), 9: (np.float64(4450.26771), np.float64(4663.99319)), 10: (np.float64(1302.45605), np.float64(1335.8737299999998)), 11: (np.float64(3576.4448500000003), np.float64(3821.34793)), 12: (np.float64(3329.4814300000003), np.float64(3554.3457799999996)), 14: (np.float64(24281.0), np.float64(24281.0)), 15: (900, 900), 16: (np.float64(2944.92384), np.float64(3125.91392)), 18: (np.float64(2677.94418), np.float64(2864.8084000000003)), 19: (np.float64(1529.4857), np.float64(1618.44008)), 21: (np.float64(4656.012790000001), np.float64(4756.08958)), 22: (np.float64(6052.0), np.float64(6052.0)), 23: (np.float64(2163.8071800000002), np.float64(2239.0955599999998)), 24: (np.float64(3589.75531), np.float64(3709.0717099999997)), 25: (np.float64(1717.97791), np.float64(1798.36825)), 26: (np.float64(4899.20767), np.float64(5089.546069999999))}\n",
      " intertimes :  (np.float64(2677.94418), np.float64(2864.8084000000003))\n",
      " duration   :  2771\n",
      "line 351...  estimate_duration : 18 \t sec:  2771\n",
      "boot_times :  {1: (np.float64(1447.3127599999998), np.float64(1509.4048599999999)), 3: (np.float64(644.0), np.float64(644.0)), 4: (np.float64(1710.11013), np.float64(1799.67295)), 5: (np.float64(4111.64443), np.float64(4452.76964)), 6: (np.float64(7485.125999999999), np.float64(7931.48429)), 7: (np.float64(2487.53043), np.float64(2568.7986600000004)), 9: (np.float64(4450.26771), np.float64(4663.99319)), 10: (np.float64(1302.45605), np.float64(1335.8737299999998)), 11: (np.float64(3576.4448500000003), np.float64(3821.34793)), 12: (np.float64(3329.4814300000003), np.float64(3554.3457799999996)), 14: (np.float64(24281.0), np.float64(24281.0)), 15: (900, 900), 16: (np.float64(2944.92384), np.float64(3125.91392)), 18: (np.float64(2677.94418), np.float64(2864.8084000000003)), 19: (np.float64(1529.4857), np.float64(1618.44008)), 21: (np.float64(4656.012790000001), np.float64(4756.08958)), 22: (np.float64(6052.0), np.float64(6052.0)), 23: (np.float64(2163.8071800000002), np.float64(2239.0955599999998)), 24: (np.float64(3589.75531), np.float64(3709.0717099999997)), 25: (np.float64(1717.97791), np.float64(1798.36825)), 26: (np.float64(4899.20767), np.float64(5089.546069999999))}\n",
      " intertimes :  (np.float64(3576.4448500000003), np.float64(3821.34793))\n",
      " duration   :  3698\n",
      "line 351...  estimate_duration : 11 \t sec:  3698\n",
      "line 352...  total duration [18, 11]  6469 / 107 min \n",
      "LINE:389 (iter: 23) -- predict_mask([model], '[18, 11]' ->  '6469 < 19960 sec' ?)\n",
      "\n",
      "\n",
      "-----------------\n",
      "line 379 bert_test_city[ Delh ] (iter: 24) -- predict_ mask([model], '[18, 11]')\n",
      "LINE 309, model.predict( to_predict=[['18', '11']] ) \n",
      "LINE 315  predseq => [18, 11],  maskpos => 1\n",
      "-- predict_ mask_pos ( <model>, seq= [18, 11], maskpos= 1  )\n",
      "line 240 ... seq: [18, 11]\n",
      "      seq :  [18, 11]\n",
      "LINE 256 -- model.predict( to_predict=['18,[MASK],11'] )\n"
     ]
    },
    {
     "data": {
      "application/vnd.jupyter.widget-view+json": {
       "model_id": "d4796070461c42aeb311a39ae4e244d3",
       "version_major": 2,
       "version_minor": 0
      },
      "text/plain": [
       "0it [00:00, ?it/s]"
      ]
     },
     "metadata": {},
     "output_type": "display_data"
    },
    {
     "data": {
      "application/vnd.jupyter.widget-view+json": {
       "model_id": "9fa3cc198ab4406d98b2d51d8119f628",
       "version_major": 2,
       "version_minor": 0
      },
      "text/plain": [
       "  0%|          | 0/1 [00:00<?, ?it/s]"
      ]
     },
     "metadata": {},
     "output_type": "display_data"
    },
    {
     "name": "stdout",
     "output_type": "stream",
     "text": [
      "  seq     -> [18, 11]\n",
      "  amax    -> 12\n",
      "  amaxval -> 0.797331690788269\n",
      "maskpos   => 1\n",
      "--> predict_ mask_pos (model, '[18, 11]', 1 ) --- [18, 12, 11] \n",
      "LINE 317  result: nextpoi:12 nextval:0.797331690788269 unmasked_seq:[18, 11]\n",
      "  POSSIBLE: 0.797331690788269 -> [18, 11] [18, 11]\n",
      "line 381 bert_test_city[ Delh ] (iter: 24) -- predict_ mask([model], '[18, 11]')\n",
      "line 382 nextpoi:12, maskpos:1, nextval:0.797331690788269, unmasked_seq:[18, 11]\n",
      "line 336... estimate_duration( pois ) : [18, 11] ) \n",
      "line 337... boot_times : {1: (np.float64(1447.3127599999998), np.float64(1509.4048599999999)), 3: (np.float64(644.0), np.float64(644.0)), 4: (np.float64(1710.11013), np.float64(1799.67295)), 5: (np.float64(4111.64443), np.float64(4452.76964)), 6: (np.float64(7485.125999999999), np.float64(7931.48429)), 7: (np.float64(2487.53043), np.float64(2568.7986600000004)), 9: (np.float64(4450.26771), np.float64(4663.99319)), 10: (np.float64(1302.45605), np.float64(1335.8737299999998)), 11: (np.float64(3576.4448500000003), np.float64(3821.34793)), 12: (np.float64(3329.4814300000003), np.float64(3554.3457799999996)), 14: (np.float64(24281.0), np.float64(24281.0)), 15: (900, 900), 16: (np.float64(2944.92384), np.float64(3125.91392)), 18: (np.float64(2677.94418), np.float64(2864.8084000000003)), 19: (np.float64(1529.4857), np.float64(1618.44008)), 21: (np.float64(4656.012790000001), np.float64(4756.08958)), 22: (np.float64(6052.0), np.float64(6052.0)), 23: (np.float64(2163.8071800000002), np.float64(2239.0955599999998)), 24: (np.float64(3589.75531), np.float64(3709.0717099999997)), 25: (np.float64(1717.97791), np.float64(1798.36825)), 26: (np.float64(4899.20767), np.float64(5089.546069999999))} ) \n",
      "boot_times :  {1: (np.float64(1447.3127599999998), np.float64(1509.4048599999999)), 3: (np.float64(644.0), np.float64(644.0)), 4: (np.float64(1710.11013), np.float64(1799.67295)), 5: (np.float64(4111.64443), np.float64(4452.76964)), 6: (np.float64(7485.125999999999), np.float64(7931.48429)), 7: (np.float64(2487.53043), np.float64(2568.7986600000004)), 9: (np.float64(4450.26771), np.float64(4663.99319)), 10: (np.float64(1302.45605), np.float64(1335.8737299999998)), 11: (np.float64(3576.4448500000003), np.float64(3821.34793)), 12: (np.float64(3329.4814300000003), np.float64(3554.3457799999996)), 14: (np.float64(24281.0), np.float64(24281.0)), 15: (900, 900), 16: (np.float64(2944.92384), np.float64(3125.91392)), 18: (np.float64(2677.94418), np.float64(2864.8084000000003)), 19: (np.float64(1529.4857), np.float64(1618.44008)), 21: (np.float64(4656.012790000001), np.float64(4756.08958)), 22: (np.float64(6052.0), np.float64(6052.0)), 23: (np.float64(2163.8071800000002), np.float64(2239.0955599999998)), 24: (np.float64(3589.75531), np.float64(3709.0717099999997)), 25: (np.float64(1717.97791), np.float64(1798.36825)), 26: (np.float64(4899.20767), np.float64(5089.546069999999))}\n",
      " intertimes :  (np.float64(2677.94418), np.float64(2864.8084000000003))\n",
      " duration   :  2771\n",
      "line 351...  estimate_duration : 18 \t sec:  2771\n",
      "boot_times :  {1: (np.float64(1447.3127599999998), np.float64(1509.4048599999999)), 3: (np.float64(644.0), np.float64(644.0)), 4: (np.float64(1710.11013), np.float64(1799.67295)), 5: (np.float64(4111.64443), np.float64(4452.76964)), 6: (np.float64(7485.125999999999), np.float64(7931.48429)), 7: (np.float64(2487.53043), np.float64(2568.7986600000004)), 9: (np.float64(4450.26771), np.float64(4663.99319)), 10: (np.float64(1302.45605), np.float64(1335.8737299999998)), 11: (np.float64(3576.4448500000003), np.float64(3821.34793)), 12: (np.float64(3329.4814300000003), np.float64(3554.3457799999996)), 14: (np.float64(24281.0), np.float64(24281.0)), 15: (900, 900), 16: (np.float64(2944.92384), np.float64(3125.91392)), 18: (np.float64(2677.94418), np.float64(2864.8084000000003)), 19: (np.float64(1529.4857), np.float64(1618.44008)), 21: (np.float64(4656.012790000001), np.float64(4756.08958)), 22: (np.float64(6052.0), np.float64(6052.0)), 23: (np.float64(2163.8071800000002), np.float64(2239.0955599999998)), 24: (np.float64(3589.75531), np.float64(3709.0717099999997)), 25: (np.float64(1717.97791), np.float64(1798.36825)), 26: (np.float64(4899.20767), np.float64(5089.546069999999))}\n",
      " intertimes :  (np.float64(3576.4448500000003), np.float64(3821.34793))\n",
      " duration   :  3698\n",
      "line 351...  estimate_duration : 11 \t sec:  3698\n",
      "line 352...  total duration [18, 11]  6469 / 107 min \n",
      "LINE:389 (iter: 24) -- predict_mask([model], '[18, 11]' ->  '6469 < 19960 sec' ?)\n",
      "\n",
      "\n",
      "-----------------\n",
      "line 379 bert_test_city[ Delh ] (iter: 25) -- predict_ mask([model], '[18, 11]')\n",
      "LINE 309, model.predict( to_predict=[['18', '11']] ) \n",
      "LINE 315  predseq => [18, 11],  maskpos => 1\n",
      "-- predict_ mask_pos ( <model>, seq= [18, 11], maskpos= 1  )\n",
      "line 240 ... seq: [18, 11]\n",
      "      seq :  [18, 11]\n",
      "LINE 256 -- model.predict( to_predict=['18,[MASK],11'] )\n"
     ]
    },
    {
     "data": {
      "application/vnd.jupyter.widget-view+json": {
       "model_id": "1b210a102722461ca1b28e58cbc8fa51",
       "version_major": 2,
       "version_minor": 0
      },
      "text/plain": [
       "0it [00:00, ?it/s]"
      ]
     },
     "metadata": {},
     "output_type": "display_data"
    },
    {
     "data": {
      "application/vnd.jupyter.widget-view+json": {
       "model_id": "70c919c710ae4afe9773d008f1b43977",
       "version_major": 2,
       "version_minor": 0
      },
      "text/plain": [
       "  0%|          | 0/1 [00:00<?, ?it/s]"
      ]
     },
     "metadata": {},
     "output_type": "display_data"
    },
    {
     "name": "stdout",
     "output_type": "stream",
     "text": [
      "  seq     -> [18, 11]\n",
      "  amax    -> 12\n",
      "  amaxval -> 0.797331690788269\n",
      "maskpos   => 1\n",
      "--> predict_ mask_pos (model, '[18, 11]', 1 ) --- [18, 12, 11] \n",
      "LINE 317  result: nextpoi:12 nextval:0.797331690788269 unmasked_seq:[18, 11]\n",
      "  POSSIBLE: 0.797331690788269 -> [18, 11] [18, 11]\n",
      "line 381 bert_test_city[ Delh ] (iter: 25) -- predict_ mask([model], '[18, 11]')\n",
      "line 382 nextpoi:12, maskpos:1, nextval:0.797331690788269, unmasked_seq:[18, 11]\n",
      "line 336... estimate_duration( pois ) : [18, 11] ) \n",
      "line 337... boot_times : {1: (np.float64(1447.3127599999998), np.float64(1509.4048599999999)), 3: (np.float64(644.0), np.float64(644.0)), 4: (np.float64(1710.11013), np.float64(1799.67295)), 5: (np.float64(4111.64443), np.float64(4452.76964)), 6: (np.float64(7485.125999999999), np.float64(7931.48429)), 7: (np.float64(2487.53043), np.float64(2568.7986600000004)), 9: (np.float64(4450.26771), np.float64(4663.99319)), 10: (np.float64(1302.45605), np.float64(1335.8737299999998)), 11: (np.float64(3576.4448500000003), np.float64(3821.34793)), 12: (np.float64(3329.4814300000003), np.float64(3554.3457799999996)), 14: (np.float64(24281.0), np.float64(24281.0)), 15: (900, 900), 16: (np.float64(2944.92384), np.float64(3125.91392)), 18: (np.float64(2677.94418), np.float64(2864.8084000000003)), 19: (np.float64(1529.4857), np.float64(1618.44008)), 21: (np.float64(4656.012790000001), np.float64(4756.08958)), 22: (np.float64(6052.0), np.float64(6052.0)), 23: (np.float64(2163.8071800000002), np.float64(2239.0955599999998)), 24: (np.float64(3589.75531), np.float64(3709.0717099999997)), 25: (np.float64(1717.97791), np.float64(1798.36825)), 26: (np.float64(4899.20767), np.float64(5089.546069999999))} ) \n",
      "boot_times :  {1: (np.float64(1447.3127599999998), np.float64(1509.4048599999999)), 3: (np.float64(644.0), np.float64(644.0)), 4: (np.float64(1710.11013), np.float64(1799.67295)), 5: (np.float64(4111.64443), np.float64(4452.76964)), 6: (np.float64(7485.125999999999), np.float64(7931.48429)), 7: (np.float64(2487.53043), np.float64(2568.7986600000004)), 9: (np.float64(4450.26771), np.float64(4663.99319)), 10: (np.float64(1302.45605), np.float64(1335.8737299999998)), 11: (np.float64(3576.4448500000003), np.float64(3821.34793)), 12: (np.float64(3329.4814300000003), np.float64(3554.3457799999996)), 14: (np.float64(24281.0), np.float64(24281.0)), 15: (900, 900), 16: (np.float64(2944.92384), np.float64(3125.91392)), 18: (np.float64(2677.94418), np.float64(2864.8084000000003)), 19: (np.float64(1529.4857), np.float64(1618.44008)), 21: (np.float64(4656.012790000001), np.float64(4756.08958)), 22: (np.float64(6052.0), np.float64(6052.0)), 23: (np.float64(2163.8071800000002), np.float64(2239.0955599999998)), 24: (np.float64(3589.75531), np.float64(3709.0717099999997)), 25: (np.float64(1717.97791), np.float64(1798.36825)), 26: (np.float64(4899.20767), np.float64(5089.546069999999))}\n",
      " intertimes :  (np.float64(2677.94418), np.float64(2864.8084000000003))\n",
      " duration   :  2771\n",
      "line 351...  estimate_duration : 18 \t sec:  2771\n",
      "boot_times :  {1: (np.float64(1447.3127599999998), np.float64(1509.4048599999999)), 3: (np.float64(644.0), np.float64(644.0)), 4: (np.float64(1710.11013), np.float64(1799.67295)), 5: (np.float64(4111.64443), np.float64(4452.76964)), 6: (np.float64(7485.125999999999), np.float64(7931.48429)), 7: (np.float64(2487.53043), np.float64(2568.7986600000004)), 9: (np.float64(4450.26771), np.float64(4663.99319)), 10: (np.float64(1302.45605), np.float64(1335.8737299999998)), 11: (np.float64(3576.4448500000003), np.float64(3821.34793)), 12: (np.float64(3329.4814300000003), np.float64(3554.3457799999996)), 14: (np.float64(24281.0), np.float64(24281.0)), 15: (900, 900), 16: (np.float64(2944.92384), np.float64(3125.91392)), 18: (np.float64(2677.94418), np.float64(2864.8084000000003)), 19: (np.float64(1529.4857), np.float64(1618.44008)), 21: (np.float64(4656.012790000001), np.float64(4756.08958)), 22: (np.float64(6052.0), np.float64(6052.0)), 23: (np.float64(2163.8071800000002), np.float64(2239.0955599999998)), 24: (np.float64(3589.75531), np.float64(3709.0717099999997)), 25: (np.float64(1717.97791), np.float64(1798.36825)), 26: (np.float64(4899.20767), np.float64(5089.546069999999))}\n",
      " intertimes :  (np.float64(3576.4448500000003), np.float64(3821.34793))\n",
      " duration   :  3698\n",
      "line 351...  estimate_duration : 11 \t sec:  3698\n",
      "line 352...  total duration [18, 11]  6469 / 107 min \n",
      "LINE:389 (iter: 25) -- predict_mask([model], '[18, 11]' ->  '6469 < 19960 sec' ?)\n",
      " (seqID:342) ->  history : [18 25 21 12 11]\n",
      " (seqID:342) ->  predseq : [18, 11]\n",
      " (seqID:342) => recall:    40.0 %\n",
      " (seqID:342) => precision: 100.0 %\n",
      " (seqID:342) => f1: 57.14285714285714 %\t recall: 40.0 \t precision: 100.0\n",
      "\n",
      "\n",
      "-----------------\n",
      "line 379 bert_test_city[ Delh ] (iter: 0) -- predict_ mask([model], '[7, 11]')\n",
      "LINE 309, model.predict( to_predict=[['7', '11']] ) \n",
      "LINE 315  predseq => [7, 11],  maskpos => 1\n",
      "-- predict_ mask_pos ( <model>, seq= [7, 11], maskpos= 1  )\n",
      "line 240 ... seq: [7, 11]\n",
      "      seq :  [7, 11]\n",
      "LINE 256 -- model.predict( to_predict=['7,[MASK],11'] )\n"
     ]
    },
    {
     "data": {
      "application/vnd.jupyter.widget-view+json": {
       "model_id": "14660a5ee93941af9e97aa4923b9f721",
       "version_major": 2,
       "version_minor": 0
      },
      "text/plain": [
       "0it [00:00, ?it/s]"
      ]
     },
     "metadata": {},
     "output_type": "display_data"
    },
    {
     "data": {
      "application/vnd.jupyter.widget-view+json": {
       "model_id": "49b0d334f6ee4c408c7e79fdb1a38247",
       "version_major": 2,
       "version_minor": 0
      },
      "text/plain": [
       "  0%|          | 0/1 [00:00<?, ?it/s]"
      ]
     },
     "metadata": {},
     "output_type": "display_data"
    },
    {
     "name": "stdout",
     "output_type": "stream",
     "text": [
      "  seq     -> [7, 11]\n",
      "  amax    -> 12\n",
      "  amaxval -> 0.7255479693412781\n",
      "maskpos   => 1\n",
      "--> predict_ mask_pos (model, '[7, 11]', 1 ) --- [7, 12, 11] \n",
      "LINE 317  result: nextpoi:12 nextval:0.7255479693412781 unmasked_seq:[7, 11]\n",
      "  POSSIBLE: 0.7255479693412781 -> [7, 11] [7, 11]\n",
      "line 381 bert_test_city[ Delh ] (iter: 0) -- predict_ mask([model], '[7, 11]')\n",
      "line 382 nextpoi:12, maskpos:1, nextval:0.7255479693412781, unmasked_seq:[7, 11]\n",
      "line 336... estimate_duration( pois ) : [7, 11] ) \n",
      "line 337... boot_times : {1: (np.float64(1447.3127599999998), np.float64(1509.4048599999999)), 3: (np.float64(644.0), np.float64(644.0)), 4: (np.float64(1710.11013), np.float64(1799.67295)), 5: (np.float64(4111.64443), np.float64(4452.76964)), 6: (np.float64(7485.125999999999), np.float64(7931.48429)), 7: (np.float64(2487.53043), np.float64(2568.7986600000004)), 9: (np.float64(4450.26771), np.float64(4663.99319)), 10: (np.float64(1302.45605), np.float64(1335.8737299999998)), 11: (np.float64(3576.4448500000003), np.float64(3821.34793)), 12: (np.float64(3329.4814300000003), np.float64(3554.3457799999996)), 14: (np.float64(24281.0), np.float64(24281.0)), 15: (900, 900), 16: (np.float64(2944.92384), np.float64(3125.91392)), 18: (np.float64(2677.94418), np.float64(2864.8084000000003)), 19: (np.float64(1529.4857), np.float64(1618.44008)), 21: (np.float64(4656.012790000001), np.float64(4756.08958)), 22: (np.float64(6052.0), np.float64(6052.0)), 23: (np.float64(2163.8071800000002), np.float64(2239.0955599999998)), 24: (np.float64(3589.75531), np.float64(3709.0717099999997)), 25: (np.float64(1717.97791), np.float64(1798.36825)), 26: (np.float64(4899.20767), np.float64(5089.546069999999))} ) \n",
      "boot_times :  {1: (np.float64(1447.3127599999998), np.float64(1509.4048599999999)), 3: (np.float64(644.0), np.float64(644.0)), 4: (np.float64(1710.11013), np.float64(1799.67295)), 5: (np.float64(4111.64443), np.float64(4452.76964)), 6: (np.float64(7485.125999999999), np.float64(7931.48429)), 7: (np.float64(2487.53043), np.float64(2568.7986600000004)), 9: (np.float64(4450.26771), np.float64(4663.99319)), 10: (np.float64(1302.45605), np.float64(1335.8737299999998)), 11: (np.float64(3576.4448500000003), np.float64(3821.34793)), 12: (np.float64(3329.4814300000003), np.float64(3554.3457799999996)), 14: (np.float64(24281.0), np.float64(24281.0)), 15: (900, 900), 16: (np.float64(2944.92384), np.float64(3125.91392)), 18: (np.float64(2677.94418), np.float64(2864.8084000000003)), 19: (np.float64(1529.4857), np.float64(1618.44008)), 21: (np.float64(4656.012790000001), np.float64(4756.08958)), 22: (np.float64(6052.0), np.float64(6052.0)), 23: (np.float64(2163.8071800000002), np.float64(2239.0955599999998)), 24: (np.float64(3589.75531), np.float64(3709.0717099999997)), 25: (np.float64(1717.97791), np.float64(1798.36825)), 26: (np.float64(4899.20767), np.float64(5089.546069999999))}\n",
      " intertimes :  (np.float64(2487.53043), np.float64(2568.7986600000004))\n",
      " duration   :  2528\n",
      "line 351...  estimate_duration : 7 \t sec:  2528\n",
      "boot_times :  {1: (np.float64(1447.3127599999998), np.float64(1509.4048599999999)), 3: (np.float64(644.0), np.float64(644.0)), 4: (np.float64(1710.11013), np.float64(1799.67295)), 5: (np.float64(4111.64443), np.float64(4452.76964)), 6: (np.float64(7485.125999999999), np.float64(7931.48429)), 7: (np.float64(2487.53043), np.float64(2568.7986600000004)), 9: (np.float64(4450.26771), np.float64(4663.99319)), 10: (np.float64(1302.45605), np.float64(1335.8737299999998)), 11: (np.float64(3576.4448500000003), np.float64(3821.34793)), 12: (np.float64(3329.4814300000003), np.float64(3554.3457799999996)), 14: (np.float64(24281.0), np.float64(24281.0)), 15: (900, 900), 16: (np.float64(2944.92384), np.float64(3125.91392)), 18: (np.float64(2677.94418), np.float64(2864.8084000000003)), 19: (np.float64(1529.4857), np.float64(1618.44008)), 21: (np.float64(4656.012790000001), np.float64(4756.08958)), 22: (np.float64(6052.0), np.float64(6052.0)), 23: (np.float64(2163.8071800000002), np.float64(2239.0955599999998)), 24: (np.float64(3589.75531), np.float64(3709.0717099999997)), 25: (np.float64(1717.97791), np.float64(1798.36825)), 26: (np.float64(4899.20767), np.float64(5089.546069999999))}\n",
      " intertimes :  (np.float64(3576.4448500000003), np.float64(3821.34793))\n",
      " duration   :  3698\n",
      "line 351...  estimate_duration : 11 \t sec:  3698\n",
      "line 352...  total duration [7, 11]  6226 / 103 min \n",
      "LINE:389 (iter: 0) -- predict_mask([model], '[7, 11]' ->  '6226 < 16825 sec' ?)\n",
      "\n",
      "\n",
      "-----------------\n",
      "line 379 bert_test_city[ Delh ] (iter: 1) -- predict_ mask([model], '[7, 11]')\n",
      "LINE 309, model.predict( to_predict=[['7', '11']] ) \n",
      "LINE 315  predseq => [7, 11],  maskpos => 1\n",
      "-- predict_ mask_pos ( <model>, seq= [7, 11], maskpos= 1  )\n",
      "line 240 ... seq: [7, 11]\n",
      "      seq :  [7, 11]\n",
      "LINE 256 -- model.predict( to_predict=['7,[MASK],11'] )\n"
     ]
    },
    {
     "data": {
      "application/vnd.jupyter.widget-view+json": {
       "model_id": "5ff62c5ee2e74b42b87111cb17348d61",
       "version_major": 2,
       "version_minor": 0
      },
      "text/plain": [
       "0it [00:00, ?it/s]"
      ]
     },
     "metadata": {},
     "output_type": "display_data"
    },
    {
     "data": {
      "application/vnd.jupyter.widget-view+json": {
       "model_id": "fd22bf7405ee45c7abd60a4c31fafbfb",
       "version_major": 2,
       "version_minor": 0
      },
      "text/plain": [
       "  0%|          | 0/1 [00:00<?, ?it/s]"
      ]
     },
     "metadata": {},
     "output_type": "display_data"
    },
    {
     "name": "stdout",
     "output_type": "stream",
     "text": [
      "  seq     -> [7, 11]\n",
      "  amax    -> 12\n",
      "  amaxval -> 0.7255479693412781\n",
      "maskpos   => 1\n",
      "--> predict_ mask_pos (model, '[7, 11]', 1 ) --- [7, 12, 11] \n",
      "LINE 317  result: nextpoi:12 nextval:0.7255479693412781 unmasked_seq:[7, 11]\n",
      "  POSSIBLE: 0.7255479693412781 -> [7, 11] [7, 11]\n",
      "line 381 bert_test_city[ Delh ] (iter: 1) -- predict_ mask([model], '[7, 11]')\n",
      "line 382 nextpoi:12, maskpos:1, nextval:0.7255479693412781, unmasked_seq:[7, 11]\n",
      "line 336... estimate_duration( pois ) : [7, 11] ) \n",
      "line 337... boot_times : {1: (np.float64(1447.3127599999998), np.float64(1509.4048599999999)), 3: (np.float64(644.0), np.float64(644.0)), 4: (np.float64(1710.11013), np.float64(1799.67295)), 5: (np.float64(4111.64443), np.float64(4452.76964)), 6: (np.float64(7485.125999999999), np.float64(7931.48429)), 7: (np.float64(2487.53043), np.float64(2568.7986600000004)), 9: (np.float64(4450.26771), np.float64(4663.99319)), 10: (np.float64(1302.45605), np.float64(1335.8737299999998)), 11: (np.float64(3576.4448500000003), np.float64(3821.34793)), 12: (np.float64(3329.4814300000003), np.float64(3554.3457799999996)), 14: (np.float64(24281.0), np.float64(24281.0)), 15: (900, 900), 16: (np.float64(2944.92384), np.float64(3125.91392)), 18: (np.float64(2677.94418), np.float64(2864.8084000000003)), 19: (np.float64(1529.4857), np.float64(1618.44008)), 21: (np.float64(4656.012790000001), np.float64(4756.08958)), 22: (np.float64(6052.0), np.float64(6052.0)), 23: (np.float64(2163.8071800000002), np.float64(2239.0955599999998)), 24: (np.float64(3589.75531), np.float64(3709.0717099999997)), 25: (np.float64(1717.97791), np.float64(1798.36825)), 26: (np.float64(4899.20767), np.float64(5089.546069999999))} ) \n",
      "boot_times :  {1: (np.float64(1447.3127599999998), np.float64(1509.4048599999999)), 3: (np.float64(644.0), np.float64(644.0)), 4: (np.float64(1710.11013), np.float64(1799.67295)), 5: (np.float64(4111.64443), np.float64(4452.76964)), 6: (np.float64(7485.125999999999), np.float64(7931.48429)), 7: (np.float64(2487.53043), np.float64(2568.7986600000004)), 9: (np.float64(4450.26771), np.float64(4663.99319)), 10: (np.float64(1302.45605), np.float64(1335.8737299999998)), 11: (np.float64(3576.4448500000003), np.float64(3821.34793)), 12: (np.float64(3329.4814300000003), np.float64(3554.3457799999996)), 14: (np.float64(24281.0), np.float64(24281.0)), 15: (900, 900), 16: (np.float64(2944.92384), np.float64(3125.91392)), 18: (np.float64(2677.94418), np.float64(2864.8084000000003)), 19: (np.float64(1529.4857), np.float64(1618.44008)), 21: (np.float64(4656.012790000001), np.float64(4756.08958)), 22: (np.float64(6052.0), np.float64(6052.0)), 23: (np.float64(2163.8071800000002), np.float64(2239.0955599999998)), 24: (np.float64(3589.75531), np.float64(3709.0717099999997)), 25: (np.float64(1717.97791), np.float64(1798.36825)), 26: (np.float64(4899.20767), np.float64(5089.546069999999))}\n",
      " intertimes :  (np.float64(2487.53043), np.float64(2568.7986600000004))\n",
      " duration   :  2528\n",
      "line 351...  estimate_duration : 7 \t sec:  2528\n",
      "boot_times :  {1: (np.float64(1447.3127599999998), np.float64(1509.4048599999999)), 3: (np.float64(644.0), np.float64(644.0)), 4: (np.float64(1710.11013), np.float64(1799.67295)), 5: (np.float64(4111.64443), np.float64(4452.76964)), 6: (np.float64(7485.125999999999), np.float64(7931.48429)), 7: (np.float64(2487.53043), np.float64(2568.7986600000004)), 9: (np.float64(4450.26771), np.float64(4663.99319)), 10: (np.float64(1302.45605), np.float64(1335.8737299999998)), 11: (np.float64(3576.4448500000003), np.float64(3821.34793)), 12: (np.float64(3329.4814300000003), np.float64(3554.3457799999996)), 14: (np.float64(24281.0), np.float64(24281.0)), 15: (900, 900), 16: (np.float64(2944.92384), np.float64(3125.91392)), 18: (np.float64(2677.94418), np.float64(2864.8084000000003)), 19: (np.float64(1529.4857), np.float64(1618.44008)), 21: (np.float64(4656.012790000001), np.float64(4756.08958)), 22: (np.float64(6052.0), np.float64(6052.0)), 23: (np.float64(2163.8071800000002), np.float64(2239.0955599999998)), 24: (np.float64(3589.75531), np.float64(3709.0717099999997)), 25: (np.float64(1717.97791), np.float64(1798.36825)), 26: (np.float64(4899.20767), np.float64(5089.546069999999))}\n",
      " intertimes :  (np.float64(3576.4448500000003), np.float64(3821.34793))\n",
      " duration   :  3698\n",
      "line 351...  estimate_duration : 11 \t sec:  3698\n",
      "line 352...  total duration [7, 11]  6226 / 103 min \n",
      "LINE:389 (iter: 1) -- predict_mask([model], '[7, 11]' ->  '6226 < 16825 sec' ?)\n",
      "\n",
      "\n",
      "-----------------\n",
      "line 379 bert_test_city[ Delh ] (iter: 2) -- predict_ mask([model], '[7, 11]')\n",
      "LINE 309, model.predict( to_predict=[['7', '11']] ) \n",
      "LINE 315  predseq => [7, 11],  maskpos => 1\n",
      "-- predict_ mask_pos ( <model>, seq= [7, 11], maskpos= 1  )\n",
      "line 240 ... seq: [7, 11]\n",
      "      seq :  [7, 11]\n",
      "LINE 256 -- model.predict( to_predict=['7,[MASK],11'] )\n"
     ]
    },
    {
     "data": {
      "application/vnd.jupyter.widget-view+json": {
       "model_id": "915353decb6c46688e209f53c9dfaec4",
       "version_major": 2,
       "version_minor": 0
      },
      "text/plain": [
       "0it [00:00, ?it/s]"
      ]
     },
     "metadata": {},
     "output_type": "display_data"
    },
    {
     "data": {
      "application/vnd.jupyter.widget-view+json": {
       "model_id": "729a7f57102d4ffe82a2ae53917c7d8f",
       "version_major": 2,
       "version_minor": 0
      },
      "text/plain": [
       "  0%|          | 0/1 [00:00<?, ?it/s]"
      ]
     },
     "metadata": {},
     "output_type": "display_data"
    },
    {
     "name": "stdout",
     "output_type": "stream",
     "text": [
      "  seq     -> [7, 11]\n",
      "  amax    -> 12\n",
      "  amaxval -> 0.7255479693412781\n",
      "maskpos   => 1\n",
      "--> predict_ mask_pos (model, '[7, 11]', 1 ) --- [7, 12, 11] \n",
      "LINE 317  result: nextpoi:12 nextval:0.7255479693412781 unmasked_seq:[7, 11]\n",
      "  POSSIBLE: 0.7255479693412781 -> [7, 11] [7, 11]\n",
      "line 381 bert_test_city[ Delh ] (iter: 2) -- predict_ mask([model], '[7, 11]')\n",
      "line 382 nextpoi:12, maskpos:1, nextval:0.7255479693412781, unmasked_seq:[7, 11]\n",
      "line 336... estimate_duration( pois ) : [7, 11] ) \n",
      "line 337... boot_times : {1: (np.float64(1447.3127599999998), np.float64(1509.4048599999999)), 3: (np.float64(644.0), np.float64(644.0)), 4: (np.float64(1710.11013), np.float64(1799.67295)), 5: (np.float64(4111.64443), np.float64(4452.76964)), 6: (np.float64(7485.125999999999), np.float64(7931.48429)), 7: (np.float64(2487.53043), np.float64(2568.7986600000004)), 9: (np.float64(4450.26771), np.float64(4663.99319)), 10: (np.float64(1302.45605), np.float64(1335.8737299999998)), 11: (np.float64(3576.4448500000003), np.float64(3821.34793)), 12: (np.float64(3329.4814300000003), np.float64(3554.3457799999996)), 14: (np.float64(24281.0), np.float64(24281.0)), 15: (900, 900), 16: (np.float64(2944.92384), np.float64(3125.91392)), 18: (np.float64(2677.94418), np.float64(2864.8084000000003)), 19: (np.float64(1529.4857), np.float64(1618.44008)), 21: (np.float64(4656.012790000001), np.float64(4756.08958)), 22: (np.float64(6052.0), np.float64(6052.0)), 23: (np.float64(2163.8071800000002), np.float64(2239.0955599999998)), 24: (np.float64(3589.75531), np.float64(3709.0717099999997)), 25: (np.float64(1717.97791), np.float64(1798.36825)), 26: (np.float64(4899.20767), np.float64(5089.546069999999))} ) \n",
      "boot_times :  {1: (np.float64(1447.3127599999998), np.float64(1509.4048599999999)), 3: (np.float64(644.0), np.float64(644.0)), 4: (np.float64(1710.11013), np.float64(1799.67295)), 5: (np.float64(4111.64443), np.float64(4452.76964)), 6: (np.float64(7485.125999999999), np.float64(7931.48429)), 7: (np.float64(2487.53043), np.float64(2568.7986600000004)), 9: (np.float64(4450.26771), np.float64(4663.99319)), 10: (np.float64(1302.45605), np.float64(1335.8737299999998)), 11: (np.float64(3576.4448500000003), np.float64(3821.34793)), 12: (np.float64(3329.4814300000003), np.float64(3554.3457799999996)), 14: (np.float64(24281.0), np.float64(24281.0)), 15: (900, 900), 16: (np.float64(2944.92384), np.float64(3125.91392)), 18: (np.float64(2677.94418), np.float64(2864.8084000000003)), 19: (np.float64(1529.4857), np.float64(1618.44008)), 21: (np.float64(4656.012790000001), np.float64(4756.08958)), 22: (np.float64(6052.0), np.float64(6052.0)), 23: (np.float64(2163.8071800000002), np.float64(2239.0955599999998)), 24: (np.float64(3589.75531), np.float64(3709.0717099999997)), 25: (np.float64(1717.97791), np.float64(1798.36825)), 26: (np.float64(4899.20767), np.float64(5089.546069999999))}\n",
      " intertimes :  (np.float64(2487.53043), np.float64(2568.7986600000004))\n",
      " duration   :  2528\n",
      "line 351...  estimate_duration : 7 \t sec:  2528\n",
      "boot_times :  {1: (np.float64(1447.3127599999998), np.float64(1509.4048599999999)), 3: (np.float64(644.0), np.float64(644.0)), 4: (np.float64(1710.11013), np.float64(1799.67295)), 5: (np.float64(4111.64443), np.float64(4452.76964)), 6: (np.float64(7485.125999999999), np.float64(7931.48429)), 7: (np.float64(2487.53043), np.float64(2568.7986600000004)), 9: (np.float64(4450.26771), np.float64(4663.99319)), 10: (np.float64(1302.45605), np.float64(1335.8737299999998)), 11: (np.float64(3576.4448500000003), np.float64(3821.34793)), 12: (np.float64(3329.4814300000003), np.float64(3554.3457799999996)), 14: (np.float64(24281.0), np.float64(24281.0)), 15: (900, 900), 16: (np.float64(2944.92384), np.float64(3125.91392)), 18: (np.float64(2677.94418), np.float64(2864.8084000000003)), 19: (np.float64(1529.4857), np.float64(1618.44008)), 21: (np.float64(4656.012790000001), np.float64(4756.08958)), 22: (np.float64(6052.0), np.float64(6052.0)), 23: (np.float64(2163.8071800000002), np.float64(2239.0955599999998)), 24: (np.float64(3589.75531), np.float64(3709.0717099999997)), 25: (np.float64(1717.97791), np.float64(1798.36825)), 26: (np.float64(4899.20767), np.float64(5089.546069999999))}\n",
      " intertimes :  (np.float64(3576.4448500000003), np.float64(3821.34793))\n",
      " duration   :  3698\n",
      "line 351...  estimate_duration : 11 \t sec:  3698\n",
      "line 352...  total duration [7, 11]  6226 / 103 min \n",
      "LINE:389 (iter: 2) -- predict_mask([model], '[7, 11]' ->  '6226 < 16825 sec' ?)\n",
      "\n",
      "\n",
      "-----------------\n",
      "line 379 bert_test_city[ Delh ] (iter: 3) -- predict_ mask([model], '[7, 11]')\n",
      "LINE 309, model.predict( to_predict=[['7', '11']] ) \n",
      "LINE 315  predseq => [7, 11],  maskpos => 1\n",
      "-- predict_ mask_pos ( <model>, seq= [7, 11], maskpos= 1  )\n",
      "line 240 ... seq: [7, 11]\n",
      "      seq :  [7, 11]\n",
      "LINE 256 -- model.predict( to_predict=['7,[MASK],11'] )\n"
     ]
    },
    {
     "data": {
      "application/vnd.jupyter.widget-view+json": {
       "model_id": "17e05822916c46fca271293cb14b32a2",
       "version_major": 2,
       "version_minor": 0
      },
      "text/plain": [
       "0it [00:00, ?it/s]"
      ]
     },
     "metadata": {},
     "output_type": "display_data"
    },
    {
     "data": {
      "application/vnd.jupyter.widget-view+json": {
       "model_id": "cb610606f9e249ac90d716715e2d5196",
       "version_major": 2,
       "version_minor": 0
      },
      "text/plain": [
       "  0%|          | 0/1 [00:00<?, ?it/s]"
      ]
     },
     "metadata": {},
     "output_type": "display_data"
    },
    {
     "name": "stdout",
     "output_type": "stream",
     "text": [
      "  seq     -> [7, 11]\n",
      "  amax    -> 12\n",
      "  amaxval -> 0.7255479693412781\n",
      "maskpos   => 1\n",
      "--> predict_ mask_pos (model, '[7, 11]', 1 ) --- [7, 12, 11] \n",
      "LINE 317  result: nextpoi:12 nextval:0.7255479693412781 unmasked_seq:[7, 11]\n",
      "  POSSIBLE: 0.7255479693412781 -> [7, 11] [7, 11]\n",
      "line 381 bert_test_city[ Delh ] (iter: 3) -- predict_ mask([model], '[7, 11]')\n",
      "line 382 nextpoi:12, maskpos:1, nextval:0.7255479693412781, unmasked_seq:[7, 11]\n",
      "line 336... estimate_duration( pois ) : [7, 11] ) \n",
      "line 337... boot_times : {1: (np.float64(1447.3127599999998), np.float64(1509.4048599999999)), 3: (np.float64(644.0), np.float64(644.0)), 4: (np.float64(1710.11013), np.float64(1799.67295)), 5: (np.float64(4111.64443), np.float64(4452.76964)), 6: (np.float64(7485.125999999999), np.float64(7931.48429)), 7: (np.float64(2487.53043), np.float64(2568.7986600000004)), 9: (np.float64(4450.26771), np.float64(4663.99319)), 10: (np.float64(1302.45605), np.float64(1335.8737299999998)), 11: (np.float64(3576.4448500000003), np.float64(3821.34793)), 12: (np.float64(3329.4814300000003), np.float64(3554.3457799999996)), 14: (np.float64(24281.0), np.float64(24281.0)), 15: (900, 900), 16: (np.float64(2944.92384), np.float64(3125.91392)), 18: (np.float64(2677.94418), np.float64(2864.8084000000003)), 19: (np.float64(1529.4857), np.float64(1618.44008)), 21: (np.float64(4656.012790000001), np.float64(4756.08958)), 22: (np.float64(6052.0), np.float64(6052.0)), 23: (np.float64(2163.8071800000002), np.float64(2239.0955599999998)), 24: (np.float64(3589.75531), np.float64(3709.0717099999997)), 25: (np.float64(1717.97791), np.float64(1798.36825)), 26: (np.float64(4899.20767), np.float64(5089.546069999999))} ) \n",
      "boot_times :  {1: (np.float64(1447.3127599999998), np.float64(1509.4048599999999)), 3: (np.float64(644.0), np.float64(644.0)), 4: (np.float64(1710.11013), np.float64(1799.67295)), 5: (np.float64(4111.64443), np.float64(4452.76964)), 6: (np.float64(7485.125999999999), np.float64(7931.48429)), 7: (np.float64(2487.53043), np.float64(2568.7986600000004)), 9: (np.float64(4450.26771), np.float64(4663.99319)), 10: (np.float64(1302.45605), np.float64(1335.8737299999998)), 11: (np.float64(3576.4448500000003), np.float64(3821.34793)), 12: (np.float64(3329.4814300000003), np.float64(3554.3457799999996)), 14: (np.float64(24281.0), np.float64(24281.0)), 15: (900, 900), 16: (np.float64(2944.92384), np.float64(3125.91392)), 18: (np.float64(2677.94418), np.float64(2864.8084000000003)), 19: (np.float64(1529.4857), np.float64(1618.44008)), 21: (np.float64(4656.012790000001), np.float64(4756.08958)), 22: (np.float64(6052.0), np.float64(6052.0)), 23: (np.float64(2163.8071800000002), np.float64(2239.0955599999998)), 24: (np.float64(3589.75531), np.float64(3709.0717099999997)), 25: (np.float64(1717.97791), np.float64(1798.36825)), 26: (np.float64(4899.20767), np.float64(5089.546069999999))}\n",
      " intertimes :  (np.float64(2487.53043), np.float64(2568.7986600000004))\n",
      " duration   :  2528\n",
      "line 351...  estimate_duration : 7 \t sec:  2528\n",
      "boot_times :  {1: (np.float64(1447.3127599999998), np.float64(1509.4048599999999)), 3: (np.float64(644.0), np.float64(644.0)), 4: (np.float64(1710.11013), np.float64(1799.67295)), 5: (np.float64(4111.64443), np.float64(4452.76964)), 6: (np.float64(7485.125999999999), np.float64(7931.48429)), 7: (np.float64(2487.53043), np.float64(2568.7986600000004)), 9: (np.float64(4450.26771), np.float64(4663.99319)), 10: (np.float64(1302.45605), np.float64(1335.8737299999998)), 11: (np.float64(3576.4448500000003), np.float64(3821.34793)), 12: (np.float64(3329.4814300000003), np.float64(3554.3457799999996)), 14: (np.float64(24281.0), np.float64(24281.0)), 15: (900, 900), 16: (np.float64(2944.92384), np.float64(3125.91392)), 18: (np.float64(2677.94418), np.float64(2864.8084000000003)), 19: (np.float64(1529.4857), np.float64(1618.44008)), 21: (np.float64(4656.012790000001), np.float64(4756.08958)), 22: (np.float64(6052.0), np.float64(6052.0)), 23: (np.float64(2163.8071800000002), np.float64(2239.0955599999998)), 24: (np.float64(3589.75531), np.float64(3709.0717099999997)), 25: (np.float64(1717.97791), np.float64(1798.36825)), 26: (np.float64(4899.20767), np.float64(5089.546069999999))}\n",
      " intertimes :  (np.float64(3576.4448500000003), np.float64(3821.34793))\n",
      " duration   :  3698\n",
      "line 351...  estimate_duration : 11 \t sec:  3698\n",
      "line 352...  total duration [7, 11]  6226 / 103 min \n",
      "LINE:389 (iter: 3) -- predict_mask([model], '[7, 11]' ->  '6226 < 16825 sec' ?)\n",
      "\n",
      "\n",
      "-----------------\n",
      "line 379 bert_test_city[ Delh ] (iter: 4) -- predict_ mask([model], '[7, 11]')\n",
      "LINE 309, model.predict( to_predict=[['7', '11']] ) \n",
      "LINE 315  predseq => [7, 11],  maskpos => 1\n",
      "-- predict_ mask_pos ( <model>, seq= [7, 11], maskpos= 1  )\n",
      "line 240 ... seq: [7, 11]\n",
      "      seq :  [7, 11]\n",
      "LINE 256 -- model.predict( to_predict=['7,[MASK],11'] )\n"
     ]
    },
    {
     "data": {
      "application/vnd.jupyter.widget-view+json": {
       "model_id": "f978ee63500947e1993f776be6d2a140",
       "version_major": 2,
       "version_minor": 0
      },
      "text/plain": [
       "0it [00:00, ?it/s]"
      ]
     },
     "metadata": {},
     "output_type": "display_data"
    },
    {
     "data": {
      "application/vnd.jupyter.widget-view+json": {
       "model_id": "bd2cb6b72e4b4843a0a6dbe42202f09b",
       "version_major": 2,
       "version_minor": 0
      },
      "text/plain": [
       "  0%|          | 0/1 [00:00<?, ?it/s]"
      ]
     },
     "metadata": {},
     "output_type": "display_data"
    },
    {
     "name": "stdout",
     "output_type": "stream",
     "text": [
      "  seq     -> [7, 11]\n",
      "  amax    -> 12\n",
      "  amaxval -> 0.7255479693412781\n",
      "maskpos   => 1\n",
      "--> predict_ mask_pos (model, '[7, 11]', 1 ) --- [7, 12, 11] \n",
      "LINE 317  result: nextpoi:12 nextval:0.7255479693412781 unmasked_seq:[7, 11]\n",
      "  POSSIBLE: 0.7255479693412781 -> [7, 11] [7, 11]\n",
      "line 381 bert_test_city[ Delh ] (iter: 4) -- predict_ mask([model], '[7, 11]')\n",
      "line 382 nextpoi:12, maskpos:1, nextval:0.7255479693412781, unmasked_seq:[7, 11]\n",
      "line 336... estimate_duration( pois ) : [7, 11] ) \n",
      "line 337... boot_times : {1: (np.float64(1447.3127599999998), np.float64(1509.4048599999999)), 3: (np.float64(644.0), np.float64(644.0)), 4: (np.float64(1710.11013), np.float64(1799.67295)), 5: (np.float64(4111.64443), np.float64(4452.76964)), 6: (np.float64(7485.125999999999), np.float64(7931.48429)), 7: (np.float64(2487.53043), np.float64(2568.7986600000004)), 9: (np.float64(4450.26771), np.float64(4663.99319)), 10: (np.float64(1302.45605), np.float64(1335.8737299999998)), 11: (np.float64(3576.4448500000003), np.float64(3821.34793)), 12: (np.float64(3329.4814300000003), np.float64(3554.3457799999996)), 14: (np.float64(24281.0), np.float64(24281.0)), 15: (900, 900), 16: (np.float64(2944.92384), np.float64(3125.91392)), 18: (np.float64(2677.94418), np.float64(2864.8084000000003)), 19: (np.float64(1529.4857), np.float64(1618.44008)), 21: (np.float64(4656.012790000001), np.float64(4756.08958)), 22: (np.float64(6052.0), np.float64(6052.0)), 23: (np.float64(2163.8071800000002), np.float64(2239.0955599999998)), 24: (np.float64(3589.75531), np.float64(3709.0717099999997)), 25: (np.float64(1717.97791), np.float64(1798.36825)), 26: (np.float64(4899.20767), np.float64(5089.546069999999))} ) \n",
      "boot_times :  {1: (np.float64(1447.3127599999998), np.float64(1509.4048599999999)), 3: (np.float64(644.0), np.float64(644.0)), 4: (np.float64(1710.11013), np.float64(1799.67295)), 5: (np.float64(4111.64443), np.float64(4452.76964)), 6: (np.float64(7485.125999999999), np.float64(7931.48429)), 7: (np.float64(2487.53043), np.float64(2568.7986600000004)), 9: (np.float64(4450.26771), np.float64(4663.99319)), 10: (np.float64(1302.45605), np.float64(1335.8737299999998)), 11: (np.float64(3576.4448500000003), np.float64(3821.34793)), 12: (np.float64(3329.4814300000003), np.float64(3554.3457799999996)), 14: (np.float64(24281.0), np.float64(24281.0)), 15: (900, 900), 16: (np.float64(2944.92384), np.float64(3125.91392)), 18: (np.float64(2677.94418), np.float64(2864.8084000000003)), 19: (np.float64(1529.4857), np.float64(1618.44008)), 21: (np.float64(4656.012790000001), np.float64(4756.08958)), 22: (np.float64(6052.0), np.float64(6052.0)), 23: (np.float64(2163.8071800000002), np.float64(2239.0955599999998)), 24: (np.float64(3589.75531), np.float64(3709.0717099999997)), 25: (np.float64(1717.97791), np.float64(1798.36825)), 26: (np.float64(4899.20767), np.float64(5089.546069999999))}\n",
      " intertimes :  (np.float64(2487.53043), np.float64(2568.7986600000004))\n",
      " duration   :  2528\n",
      "line 351...  estimate_duration : 7 \t sec:  2528\n",
      "boot_times :  {1: (np.float64(1447.3127599999998), np.float64(1509.4048599999999)), 3: (np.float64(644.0), np.float64(644.0)), 4: (np.float64(1710.11013), np.float64(1799.67295)), 5: (np.float64(4111.64443), np.float64(4452.76964)), 6: (np.float64(7485.125999999999), np.float64(7931.48429)), 7: (np.float64(2487.53043), np.float64(2568.7986600000004)), 9: (np.float64(4450.26771), np.float64(4663.99319)), 10: (np.float64(1302.45605), np.float64(1335.8737299999998)), 11: (np.float64(3576.4448500000003), np.float64(3821.34793)), 12: (np.float64(3329.4814300000003), np.float64(3554.3457799999996)), 14: (np.float64(24281.0), np.float64(24281.0)), 15: (900, 900), 16: (np.float64(2944.92384), np.float64(3125.91392)), 18: (np.float64(2677.94418), np.float64(2864.8084000000003)), 19: (np.float64(1529.4857), np.float64(1618.44008)), 21: (np.float64(4656.012790000001), np.float64(4756.08958)), 22: (np.float64(6052.0), np.float64(6052.0)), 23: (np.float64(2163.8071800000002), np.float64(2239.0955599999998)), 24: (np.float64(3589.75531), np.float64(3709.0717099999997)), 25: (np.float64(1717.97791), np.float64(1798.36825)), 26: (np.float64(4899.20767), np.float64(5089.546069999999))}\n",
      " intertimes :  (np.float64(3576.4448500000003), np.float64(3821.34793))\n",
      " duration   :  3698\n",
      "line 351...  estimate_duration : 11 \t sec:  3698\n",
      "line 352...  total duration [7, 11]  6226 / 103 min \n",
      "LINE:389 (iter: 4) -- predict_mask([model], '[7, 11]' ->  '6226 < 16825 sec' ?)\n",
      "\n",
      "\n",
      "-----------------\n",
      "line 379 bert_test_city[ Delh ] (iter: 5) -- predict_ mask([model], '[7, 11]')\n",
      "LINE 309, model.predict( to_predict=[['7', '11']] ) \n",
      "LINE 315  predseq => [7, 11],  maskpos => 1\n",
      "-- predict_ mask_pos ( <model>, seq= [7, 11], maskpos= 1  )\n",
      "line 240 ... seq: [7, 11]\n",
      "      seq :  [7, 11]\n",
      "LINE 256 -- model.predict( to_predict=['7,[MASK],11'] )\n"
     ]
    },
    {
     "data": {
      "application/vnd.jupyter.widget-view+json": {
       "model_id": "82cb4de814954bf0b45624d7062ec168",
       "version_major": 2,
       "version_minor": 0
      },
      "text/plain": [
       "0it [00:00, ?it/s]"
      ]
     },
     "metadata": {},
     "output_type": "display_data"
    },
    {
     "data": {
      "application/vnd.jupyter.widget-view+json": {
       "model_id": "0676728657e54f4f988b7982840f011b",
       "version_major": 2,
       "version_minor": 0
      },
      "text/plain": [
       "  0%|          | 0/1 [00:00<?, ?it/s]"
      ]
     },
     "metadata": {},
     "output_type": "display_data"
    },
    {
     "name": "stdout",
     "output_type": "stream",
     "text": [
      "  seq     -> [7, 11]\n",
      "  amax    -> 12\n",
      "  amaxval -> 0.7255479693412781\n",
      "maskpos   => 1\n",
      "--> predict_ mask_pos (model, '[7, 11]', 1 ) --- [7, 12, 11] \n",
      "LINE 317  result: nextpoi:12 nextval:0.7255479693412781 unmasked_seq:[7, 11]\n",
      "  POSSIBLE: 0.7255479693412781 -> [7, 11] [7, 11]\n",
      "line 381 bert_test_city[ Delh ] (iter: 5) -- predict_ mask([model], '[7, 11]')\n",
      "line 382 nextpoi:12, maskpos:1, nextval:0.7255479693412781, unmasked_seq:[7, 11]\n",
      "line 336... estimate_duration( pois ) : [7, 11] ) \n",
      "line 337... boot_times : {1: (np.float64(1447.3127599999998), np.float64(1509.4048599999999)), 3: (np.float64(644.0), np.float64(644.0)), 4: (np.float64(1710.11013), np.float64(1799.67295)), 5: (np.float64(4111.64443), np.float64(4452.76964)), 6: (np.float64(7485.125999999999), np.float64(7931.48429)), 7: (np.float64(2487.53043), np.float64(2568.7986600000004)), 9: (np.float64(4450.26771), np.float64(4663.99319)), 10: (np.float64(1302.45605), np.float64(1335.8737299999998)), 11: (np.float64(3576.4448500000003), np.float64(3821.34793)), 12: (np.float64(3329.4814300000003), np.float64(3554.3457799999996)), 14: (np.float64(24281.0), np.float64(24281.0)), 15: (900, 900), 16: (np.float64(2944.92384), np.float64(3125.91392)), 18: (np.float64(2677.94418), np.float64(2864.8084000000003)), 19: (np.float64(1529.4857), np.float64(1618.44008)), 21: (np.float64(4656.012790000001), np.float64(4756.08958)), 22: (np.float64(6052.0), np.float64(6052.0)), 23: (np.float64(2163.8071800000002), np.float64(2239.0955599999998)), 24: (np.float64(3589.75531), np.float64(3709.0717099999997)), 25: (np.float64(1717.97791), np.float64(1798.36825)), 26: (np.float64(4899.20767), np.float64(5089.546069999999))} ) \n",
      "boot_times :  {1: (np.float64(1447.3127599999998), np.float64(1509.4048599999999)), 3: (np.float64(644.0), np.float64(644.0)), 4: (np.float64(1710.11013), np.float64(1799.67295)), 5: (np.float64(4111.64443), np.float64(4452.76964)), 6: (np.float64(7485.125999999999), np.float64(7931.48429)), 7: (np.float64(2487.53043), np.float64(2568.7986600000004)), 9: (np.float64(4450.26771), np.float64(4663.99319)), 10: (np.float64(1302.45605), np.float64(1335.8737299999998)), 11: (np.float64(3576.4448500000003), np.float64(3821.34793)), 12: (np.float64(3329.4814300000003), np.float64(3554.3457799999996)), 14: (np.float64(24281.0), np.float64(24281.0)), 15: (900, 900), 16: (np.float64(2944.92384), np.float64(3125.91392)), 18: (np.float64(2677.94418), np.float64(2864.8084000000003)), 19: (np.float64(1529.4857), np.float64(1618.44008)), 21: (np.float64(4656.012790000001), np.float64(4756.08958)), 22: (np.float64(6052.0), np.float64(6052.0)), 23: (np.float64(2163.8071800000002), np.float64(2239.0955599999998)), 24: (np.float64(3589.75531), np.float64(3709.0717099999997)), 25: (np.float64(1717.97791), np.float64(1798.36825)), 26: (np.float64(4899.20767), np.float64(5089.546069999999))}\n",
      " intertimes :  (np.float64(2487.53043), np.float64(2568.7986600000004))\n",
      " duration   :  2528\n",
      "line 351...  estimate_duration : 7 \t sec:  2528\n",
      "boot_times :  {1: (np.float64(1447.3127599999998), np.float64(1509.4048599999999)), 3: (np.float64(644.0), np.float64(644.0)), 4: (np.float64(1710.11013), np.float64(1799.67295)), 5: (np.float64(4111.64443), np.float64(4452.76964)), 6: (np.float64(7485.125999999999), np.float64(7931.48429)), 7: (np.float64(2487.53043), np.float64(2568.7986600000004)), 9: (np.float64(4450.26771), np.float64(4663.99319)), 10: (np.float64(1302.45605), np.float64(1335.8737299999998)), 11: (np.float64(3576.4448500000003), np.float64(3821.34793)), 12: (np.float64(3329.4814300000003), np.float64(3554.3457799999996)), 14: (np.float64(24281.0), np.float64(24281.0)), 15: (900, 900), 16: (np.float64(2944.92384), np.float64(3125.91392)), 18: (np.float64(2677.94418), np.float64(2864.8084000000003)), 19: (np.float64(1529.4857), np.float64(1618.44008)), 21: (np.float64(4656.012790000001), np.float64(4756.08958)), 22: (np.float64(6052.0), np.float64(6052.0)), 23: (np.float64(2163.8071800000002), np.float64(2239.0955599999998)), 24: (np.float64(3589.75531), np.float64(3709.0717099999997)), 25: (np.float64(1717.97791), np.float64(1798.36825)), 26: (np.float64(4899.20767), np.float64(5089.546069999999))}\n",
      " intertimes :  (np.float64(3576.4448500000003), np.float64(3821.34793))\n",
      " duration   :  3698\n",
      "line 351...  estimate_duration : 11 \t sec:  3698\n",
      "line 352...  total duration [7, 11]  6226 / 103 min \n",
      "LINE:389 (iter: 5) -- predict_mask([model], '[7, 11]' ->  '6226 < 16825 sec' ?)\n",
      "\n",
      "\n",
      "-----------------\n",
      "line 379 bert_test_city[ Delh ] (iter: 6) -- predict_ mask([model], '[7, 11]')\n",
      "LINE 309, model.predict( to_predict=[['7', '11']] ) \n",
      "LINE 315  predseq => [7, 11],  maskpos => 1\n",
      "-- predict_ mask_pos ( <model>, seq= [7, 11], maskpos= 1  )\n",
      "line 240 ... seq: [7, 11]\n",
      "      seq :  [7, 11]\n",
      "LINE 256 -- model.predict( to_predict=['7,[MASK],11'] )\n"
     ]
    },
    {
     "data": {
      "application/vnd.jupyter.widget-view+json": {
       "model_id": "a09902c790fb4a4989848fc9654d9f7f",
       "version_major": 2,
       "version_minor": 0
      },
      "text/plain": [
       "0it [00:00, ?it/s]"
      ]
     },
     "metadata": {},
     "output_type": "display_data"
    },
    {
     "data": {
      "application/vnd.jupyter.widget-view+json": {
       "model_id": "7e65be747af34b7cad54db9285425de5",
       "version_major": 2,
       "version_minor": 0
      },
      "text/plain": [
       "  0%|          | 0/1 [00:00<?, ?it/s]"
      ]
     },
     "metadata": {},
     "output_type": "display_data"
    },
    {
     "name": "stdout",
     "output_type": "stream",
     "text": [
      "  seq     -> [7, 11]\n",
      "  amax    -> 12\n",
      "  amaxval -> 0.7255479693412781\n",
      "maskpos   => 1\n",
      "--> predict_ mask_pos (model, '[7, 11]', 1 ) --- [7, 12, 11] \n",
      "LINE 317  result: nextpoi:12 nextval:0.7255479693412781 unmasked_seq:[7, 11]\n",
      "  POSSIBLE: 0.7255479693412781 -> [7, 11] [7, 11]\n",
      "line 381 bert_test_city[ Delh ] (iter: 6) -- predict_ mask([model], '[7, 11]')\n",
      "line 382 nextpoi:12, maskpos:1, nextval:0.7255479693412781, unmasked_seq:[7, 11]\n",
      "line 336... estimate_duration( pois ) : [7, 11] ) \n",
      "line 337... boot_times : {1: (np.float64(1447.3127599999998), np.float64(1509.4048599999999)), 3: (np.float64(644.0), np.float64(644.0)), 4: (np.float64(1710.11013), np.float64(1799.67295)), 5: (np.float64(4111.64443), np.float64(4452.76964)), 6: (np.float64(7485.125999999999), np.float64(7931.48429)), 7: (np.float64(2487.53043), np.float64(2568.7986600000004)), 9: (np.float64(4450.26771), np.float64(4663.99319)), 10: (np.float64(1302.45605), np.float64(1335.8737299999998)), 11: (np.float64(3576.4448500000003), np.float64(3821.34793)), 12: (np.float64(3329.4814300000003), np.float64(3554.3457799999996)), 14: (np.float64(24281.0), np.float64(24281.0)), 15: (900, 900), 16: (np.float64(2944.92384), np.float64(3125.91392)), 18: (np.float64(2677.94418), np.float64(2864.8084000000003)), 19: (np.float64(1529.4857), np.float64(1618.44008)), 21: (np.float64(4656.012790000001), np.float64(4756.08958)), 22: (np.float64(6052.0), np.float64(6052.0)), 23: (np.float64(2163.8071800000002), np.float64(2239.0955599999998)), 24: (np.float64(3589.75531), np.float64(3709.0717099999997)), 25: (np.float64(1717.97791), np.float64(1798.36825)), 26: (np.float64(4899.20767), np.float64(5089.546069999999))} ) \n",
      "boot_times :  {1: (np.float64(1447.3127599999998), np.float64(1509.4048599999999)), 3: (np.float64(644.0), np.float64(644.0)), 4: (np.float64(1710.11013), np.float64(1799.67295)), 5: (np.float64(4111.64443), np.float64(4452.76964)), 6: (np.float64(7485.125999999999), np.float64(7931.48429)), 7: (np.float64(2487.53043), np.float64(2568.7986600000004)), 9: (np.float64(4450.26771), np.float64(4663.99319)), 10: (np.float64(1302.45605), np.float64(1335.8737299999998)), 11: (np.float64(3576.4448500000003), np.float64(3821.34793)), 12: (np.float64(3329.4814300000003), np.float64(3554.3457799999996)), 14: (np.float64(24281.0), np.float64(24281.0)), 15: (900, 900), 16: (np.float64(2944.92384), np.float64(3125.91392)), 18: (np.float64(2677.94418), np.float64(2864.8084000000003)), 19: (np.float64(1529.4857), np.float64(1618.44008)), 21: (np.float64(4656.012790000001), np.float64(4756.08958)), 22: (np.float64(6052.0), np.float64(6052.0)), 23: (np.float64(2163.8071800000002), np.float64(2239.0955599999998)), 24: (np.float64(3589.75531), np.float64(3709.0717099999997)), 25: (np.float64(1717.97791), np.float64(1798.36825)), 26: (np.float64(4899.20767), np.float64(5089.546069999999))}\n",
      " intertimes :  (np.float64(2487.53043), np.float64(2568.7986600000004))\n",
      " duration   :  2528\n",
      "line 351...  estimate_duration : 7 \t sec:  2528\n",
      "boot_times :  {1: (np.float64(1447.3127599999998), np.float64(1509.4048599999999)), 3: (np.float64(644.0), np.float64(644.0)), 4: (np.float64(1710.11013), np.float64(1799.67295)), 5: (np.float64(4111.64443), np.float64(4452.76964)), 6: (np.float64(7485.125999999999), np.float64(7931.48429)), 7: (np.float64(2487.53043), np.float64(2568.7986600000004)), 9: (np.float64(4450.26771), np.float64(4663.99319)), 10: (np.float64(1302.45605), np.float64(1335.8737299999998)), 11: (np.float64(3576.4448500000003), np.float64(3821.34793)), 12: (np.float64(3329.4814300000003), np.float64(3554.3457799999996)), 14: (np.float64(24281.0), np.float64(24281.0)), 15: (900, 900), 16: (np.float64(2944.92384), np.float64(3125.91392)), 18: (np.float64(2677.94418), np.float64(2864.8084000000003)), 19: (np.float64(1529.4857), np.float64(1618.44008)), 21: (np.float64(4656.012790000001), np.float64(4756.08958)), 22: (np.float64(6052.0), np.float64(6052.0)), 23: (np.float64(2163.8071800000002), np.float64(2239.0955599999998)), 24: (np.float64(3589.75531), np.float64(3709.0717099999997)), 25: (np.float64(1717.97791), np.float64(1798.36825)), 26: (np.float64(4899.20767), np.float64(5089.546069999999))}\n",
      " intertimes :  (np.float64(3576.4448500000003), np.float64(3821.34793))\n",
      " duration   :  3698\n",
      "line 351...  estimate_duration : 11 \t sec:  3698\n",
      "line 352...  total duration [7, 11]  6226 / 103 min \n",
      "LINE:389 (iter: 6) -- predict_mask([model], '[7, 11]' ->  '6226 < 16825 sec' ?)\n",
      "\n",
      "\n",
      "-----------------\n",
      "line 379 bert_test_city[ Delh ] (iter: 7) -- predict_ mask([model], '[7, 11]')\n",
      "LINE 309, model.predict( to_predict=[['7', '11']] ) \n",
      "LINE 315  predseq => [7, 11],  maskpos => 1\n",
      "-- predict_ mask_pos ( <model>, seq= [7, 11], maskpos= 1  )\n",
      "line 240 ... seq: [7, 11]\n",
      "      seq :  [7, 11]\n",
      "LINE 256 -- model.predict( to_predict=['7,[MASK],11'] )\n"
     ]
    },
    {
     "data": {
      "application/vnd.jupyter.widget-view+json": {
       "model_id": "aee9c0a7c2e84286aa1134ca70e21abb",
       "version_major": 2,
       "version_minor": 0
      },
      "text/plain": [
       "0it [00:00, ?it/s]"
      ]
     },
     "metadata": {},
     "output_type": "display_data"
    },
    {
     "data": {
      "application/vnd.jupyter.widget-view+json": {
       "model_id": "1264437db93d4cdbb446ec7e433f7d40",
       "version_major": 2,
       "version_minor": 0
      },
      "text/plain": [
       "  0%|          | 0/1 [00:00<?, ?it/s]"
      ]
     },
     "metadata": {},
     "output_type": "display_data"
    },
    {
     "name": "stdout",
     "output_type": "stream",
     "text": [
      "  seq     -> [7, 11]\n",
      "  amax    -> 12\n",
      "  amaxval -> 0.7255479693412781\n",
      "maskpos   => 1\n",
      "--> predict_ mask_pos (model, '[7, 11]', 1 ) --- [7, 12, 11] \n",
      "LINE 317  result: nextpoi:12 nextval:0.7255479693412781 unmasked_seq:[7, 11]\n",
      "  POSSIBLE: 0.7255479693412781 -> [7, 11] [7, 11]\n",
      "line 381 bert_test_city[ Delh ] (iter: 7) -- predict_ mask([model], '[7, 11]')\n",
      "line 382 nextpoi:12, maskpos:1, nextval:0.7255479693412781, unmasked_seq:[7, 11]\n",
      "line 336... estimate_duration( pois ) : [7, 11] ) \n",
      "line 337... boot_times : {1: (np.float64(1447.3127599999998), np.float64(1509.4048599999999)), 3: (np.float64(644.0), np.float64(644.0)), 4: (np.float64(1710.11013), np.float64(1799.67295)), 5: (np.float64(4111.64443), np.float64(4452.76964)), 6: (np.float64(7485.125999999999), np.float64(7931.48429)), 7: (np.float64(2487.53043), np.float64(2568.7986600000004)), 9: (np.float64(4450.26771), np.float64(4663.99319)), 10: (np.float64(1302.45605), np.float64(1335.8737299999998)), 11: (np.float64(3576.4448500000003), np.float64(3821.34793)), 12: (np.float64(3329.4814300000003), np.float64(3554.3457799999996)), 14: (np.float64(24281.0), np.float64(24281.0)), 15: (900, 900), 16: (np.float64(2944.92384), np.float64(3125.91392)), 18: (np.float64(2677.94418), np.float64(2864.8084000000003)), 19: (np.float64(1529.4857), np.float64(1618.44008)), 21: (np.float64(4656.012790000001), np.float64(4756.08958)), 22: (np.float64(6052.0), np.float64(6052.0)), 23: (np.float64(2163.8071800000002), np.float64(2239.0955599999998)), 24: (np.float64(3589.75531), np.float64(3709.0717099999997)), 25: (np.float64(1717.97791), np.float64(1798.36825)), 26: (np.float64(4899.20767), np.float64(5089.546069999999))} ) \n",
      "boot_times :  {1: (np.float64(1447.3127599999998), np.float64(1509.4048599999999)), 3: (np.float64(644.0), np.float64(644.0)), 4: (np.float64(1710.11013), np.float64(1799.67295)), 5: (np.float64(4111.64443), np.float64(4452.76964)), 6: (np.float64(7485.125999999999), np.float64(7931.48429)), 7: (np.float64(2487.53043), np.float64(2568.7986600000004)), 9: (np.float64(4450.26771), np.float64(4663.99319)), 10: (np.float64(1302.45605), np.float64(1335.8737299999998)), 11: (np.float64(3576.4448500000003), np.float64(3821.34793)), 12: (np.float64(3329.4814300000003), np.float64(3554.3457799999996)), 14: (np.float64(24281.0), np.float64(24281.0)), 15: (900, 900), 16: (np.float64(2944.92384), np.float64(3125.91392)), 18: (np.float64(2677.94418), np.float64(2864.8084000000003)), 19: (np.float64(1529.4857), np.float64(1618.44008)), 21: (np.float64(4656.012790000001), np.float64(4756.08958)), 22: (np.float64(6052.0), np.float64(6052.0)), 23: (np.float64(2163.8071800000002), np.float64(2239.0955599999998)), 24: (np.float64(3589.75531), np.float64(3709.0717099999997)), 25: (np.float64(1717.97791), np.float64(1798.36825)), 26: (np.float64(4899.20767), np.float64(5089.546069999999))}\n",
      " intertimes :  (np.float64(2487.53043), np.float64(2568.7986600000004))\n",
      " duration   :  2528\n",
      "line 351...  estimate_duration : 7 \t sec:  2528\n",
      "boot_times :  {1: (np.float64(1447.3127599999998), np.float64(1509.4048599999999)), 3: (np.float64(644.0), np.float64(644.0)), 4: (np.float64(1710.11013), np.float64(1799.67295)), 5: (np.float64(4111.64443), np.float64(4452.76964)), 6: (np.float64(7485.125999999999), np.float64(7931.48429)), 7: (np.float64(2487.53043), np.float64(2568.7986600000004)), 9: (np.float64(4450.26771), np.float64(4663.99319)), 10: (np.float64(1302.45605), np.float64(1335.8737299999998)), 11: (np.float64(3576.4448500000003), np.float64(3821.34793)), 12: (np.float64(3329.4814300000003), np.float64(3554.3457799999996)), 14: (np.float64(24281.0), np.float64(24281.0)), 15: (900, 900), 16: (np.float64(2944.92384), np.float64(3125.91392)), 18: (np.float64(2677.94418), np.float64(2864.8084000000003)), 19: (np.float64(1529.4857), np.float64(1618.44008)), 21: (np.float64(4656.012790000001), np.float64(4756.08958)), 22: (np.float64(6052.0), np.float64(6052.0)), 23: (np.float64(2163.8071800000002), np.float64(2239.0955599999998)), 24: (np.float64(3589.75531), np.float64(3709.0717099999997)), 25: (np.float64(1717.97791), np.float64(1798.36825)), 26: (np.float64(4899.20767), np.float64(5089.546069999999))}\n",
      " intertimes :  (np.float64(3576.4448500000003), np.float64(3821.34793))\n",
      " duration   :  3698\n",
      "line 351...  estimate_duration : 11 \t sec:  3698\n",
      "line 352...  total duration [7, 11]  6226 / 103 min \n",
      "LINE:389 (iter: 7) -- predict_mask([model], '[7, 11]' ->  '6226 < 16825 sec' ?)\n",
      "\n",
      "\n",
      "-----------------\n",
      "line 379 bert_test_city[ Delh ] (iter: 8) -- predict_ mask([model], '[7, 11]')\n",
      "LINE 309, model.predict( to_predict=[['7', '11']] ) \n",
      "LINE 315  predseq => [7, 11],  maskpos => 1\n",
      "-- predict_ mask_pos ( <model>, seq= [7, 11], maskpos= 1  )\n",
      "line 240 ... seq: [7, 11]\n",
      "      seq :  [7, 11]\n",
      "LINE 256 -- model.predict( to_predict=['7,[MASK],11'] )\n"
     ]
    },
    {
     "data": {
      "application/vnd.jupyter.widget-view+json": {
       "model_id": "e4cf7f723b344abaa1afab8457151bb4",
       "version_major": 2,
       "version_minor": 0
      },
      "text/plain": [
       "0it [00:00, ?it/s]"
      ]
     },
     "metadata": {},
     "output_type": "display_data"
    },
    {
     "data": {
      "application/vnd.jupyter.widget-view+json": {
       "model_id": "ff0ebc05bf9e4103a237dd03ac6cf335",
       "version_major": 2,
       "version_minor": 0
      },
      "text/plain": [
       "  0%|          | 0/1 [00:00<?, ?it/s]"
      ]
     },
     "metadata": {},
     "output_type": "display_data"
    },
    {
     "name": "stdout",
     "output_type": "stream",
     "text": [
      "  seq     -> [7, 11]\n",
      "  amax    -> 12\n",
      "  amaxval -> 0.7255479693412781\n",
      "maskpos   => 1\n",
      "--> predict_ mask_pos (model, '[7, 11]', 1 ) --- [7, 12, 11] \n",
      "LINE 317  result: nextpoi:12 nextval:0.7255479693412781 unmasked_seq:[7, 11]\n",
      "  POSSIBLE: 0.7255479693412781 -> [7, 11] [7, 11]\n",
      "line 381 bert_test_city[ Delh ] (iter: 8) -- predict_ mask([model], '[7, 11]')\n",
      "line 382 nextpoi:12, maskpos:1, nextval:0.7255479693412781, unmasked_seq:[7, 11]\n",
      "line 336... estimate_duration( pois ) : [7, 11] ) \n",
      "line 337... boot_times : {1: (np.float64(1447.3127599999998), np.float64(1509.4048599999999)), 3: (np.float64(644.0), np.float64(644.0)), 4: (np.float64(1710.11013), np.float64(1799.67295)), 5: (np.float64(4111.64443), np.float64(4452.76964)), 6: (np.float64(7485.125999999999), np.float64(7931.48429)), 7: (np.float64(2487.53043), np.float64(2568.7986600000004)), 9: (np.float64(4450.26771), np.float64(4663.99319)), 10: (np.float64(1302.45605), np.float64(1335.8737299999998)), 11: (np.float64(3576.4448500000003), np.float64(3821.34793)), 12: (np.float64(3329.4814300000003), np.float64(3554.3457799999996)), 14: (np.float64(24281.0), np.float64(24281.0)), 15: (900, 900), 16: (np.float64(2944.92384), np.float64(3125.91392)), 18: (np.float64(2677.94418), np.float64(2864.8084000000003)), 19: (np.float64(1529.4857), np.float64(1618.44008)), 21: (np.float64(4656.012790000001), np.float64(4756.08958)), 22: (np.float64(6052.0), np.float64(6052.0)), 23: (np.float64(2163.8071800000002), np.float64(2239.0955599999998)), 24: (np.float64(3589.75531), np.float64(3709.0717099999997)), 25: (np.float64(1717.97791), np.float64(1798.36825)), 26: (np.float64(4899.20767), np.float64(5089.546069999999))} ) \n",
      "boot_times :  {1: (np.float64(1447.3127599999998), np.float64(1509.4048599999999)), 3: (np.float64(644.0), np.float64(644.0)), 4: (np.float64(1710.11013), np.float64(1799.67295)), 5: (np.float64(4111.64443), np.float64(4452.76964)), 6: (np.float64(7485.125999999999), np.float64(7931.48429)), 7: (np.float64(2487.53043), np.float64(2568.7986600000004)), 9: (np.float64(4450.26771), np.float64(4663.99319)), 10: (np.float64(1302.45605), np.float64(1335.8737299999998)), 11: (np.float64(3576.4448500000003), np.float64(3821.34793)), 12: (np.float64(3329.4814300000003), np.float64(3554.3457799999996)), 14: (np.float64(24281.0), np.float64(24281.0)), 15: (900, 900), 16: (np.float64(2944.92384), np.float64(3125.91392)), 18: (np.float64(2677.94418), np.float64(2864.8084000000003)), 19: (np.float64(1529.4857), np.float64(1618.44008)), 21: (np.float64(4656.012790000001), np.float64(4756.08958)), 22: (np.float64(6052.0), np.float64(6052.0)), 23: (np.float64(2163.8071800000002), np.float64(2239.0955599999998)), 24: (np.float64(3589.75531), np.float64(3709.0717099999997)), 25: (np.float64(1717.97791), np.float64(1798.36825)), 26: (np.float64(4899.20767), np.float64(5089.546069999999))}\n",
      " intertimes :  (np.float64(2487.53043), np.float64(2568.7986600000004))\n",
      " duration   :  2528\n",
      "line 351...  estimate_duration : 7 \t sec:  2528\n",
      "boot_times :  {1: (np.float64(1447.3127599999998), np.float64(1509.4048599999999)), 3: (np.float64(644.0), np.float64(644.0)), 4: (np.float64(1710.11013), np.float64(1799.67295)), 5: (np.float64(4111.64443), np.float64(4452.76964)), 6: (np.float64(7485.125999999999), np.float64(7931.48429)), 7: (np.float64(2487.53043), np.float64(2568.7986600000004)), 9: (np.float64(4450.26771), np.float64(4663.99319)), 10: (np.float64(1302.45605), np.float64(1335.8737299999998)), 11: (np.float64(3576.4448500000003), np.float64(3821.34793)), 12: (np.float64(3329.4814300000003), np.float64(3554.3457799999996)), 14: (np.float64(24281.0), np.float64(24281.0)), 15: (900, 900), 16: (np.float64(2944.92384), np.float64(3125.91392)), 18: (np.float64(2677.94418), np.float64(2864.8084000000003)), 19: (np.float64(1529.4857), np.float64(1618.44008)), 21: (np.float64(4656.012790000001), np.float64(4756.08958)), 22: (np.float64(6052.0), np.float64(6052.0)), 23: (np.float64(2163.8071800000002), np.float64(2239.0955599999998)), 24: (np.float64(3589.75531), np.float64(3709.0717099999997)), 25: (np.float64(1717.97791), np.float64(1798.36825)), 26: (np.float64(4899.20767), np.float64(5089.546069999999))}\n",
      " intertimes :  (np.float64(3576.4448500000003), np.float64(3821.34793))\n",
      " duration   :  3698\n",
      "line 351...  estimate_duration : 11 \t sec:  3698\n",
      "line 352...  total duration [7, 11]  6226 / 103 min \n",
      "LINE:389 (iter: 8) -- predict_mask([model], '[7, 11]' ->  '6226 < 16825 sec' ?)\n",
      "\n",
      "\n",
      "-----------------\n",
      "line 379 bert_test_city[ Delh ] (iter: 9) -- predict_ mask([model], '[7, 11]')\n",
      "LINE 309, model.predict( to_predict=[['7', '11']] ) \n",
      "LINE 315  predseq => [7, 11],  maskpos => 1\n",
      "-- predict_ mask_pos ( <model>, seq= [7, 11], maskpos= 1  )\n",
      "line 240 ... seq: [7, 11]\n",
      "      seq :  [7, 11]\n",
      "LINE 256 -- model.predict( to_predict=['7,[MASK],11'] )\n"
     ]
    },
    {
     "data": {
      "application/vnd.jupyter.widget-view+json": {
       "model_id": "0d9a06b27ca54989a99e194d92b16756",
       "version_major": 2,
       "version_minor": 0
      },
      "text/plain": [
       "0it [00:00, ?it/s]"
      ]
     },
     "metadata": {},
     "output_type": "display_data"
    },
    {
     "data": {
      "application/vnd.jupyter.widget-view+json": {
       "model_id": "ee14ebedee7543e8847b83cadb5a450c",
       "version_major": 2,
       "version_minor": 0
      },
      "text/plain": [
       "  0%|          | 0/1 [00:00<?, ?it/s]"
      ]
     },
     "metadata": {},
     "output_type": "display_data"
    },
    {
     "name": "stdout",
     "output_type": "stream",
     "text": [
      "  seq     -> [7, 11]\n",
      "  amax    -> 12\n",
      "  amaxval -> 0.7255479693412781\n",
      "maskpos   => 1\n",
      "--> predict_ mask_pos (model, '[7, 11]', 1 ) --- [7, 12, 11] \n",
      "LINE 317  result: nextpoi:12 nextval:0.7255479693412781 unmasked_seq:[7, 11]\n",
      "  POSSIBLE: 0.7255479693412781 -> [7, 11] [7, 11]\n",
      "line 381 bert_test_city[ Delh ] (iter: 9) -- predict_ mask([model], '[7, 11]')\n",
      "line 382 nextpoi:12, maskpos:1, nextval:0.7255479693412781, unmasked_seq:[7, 11]\n",
      "line 336... estimate_duration( pois ) : [7, 11] ) \n",
      "line 337... boot_times : {1: (np.float64(1447.3127599999998), np.float64(1509.4048599999999)), 3: (np.float64(644.0), np.float64(644.0)), 4: (np.float64(1710.11013), np.float64(1799.67295)), 5: (np.float64(4111.64443), np.float64(4452.76964)), 6: (np.float64(7485.125999999999), np.float64(7931.48429)), 7: (np.float64(2487.53043), np.float64(2568.7986600000004)), 9: (np.float64(4450.26771), np.float64(4663.99319)), 10: (np.float64(1302.45605), np.float64(1335.8737299999998)), 11: (np.float64(3576.4448500000003), np.float64(3821.34793)), 12: (np.float64(3329.4814300000003), np.float64(3554.3457799999996)), 14: (np.float64(24281.0), np.float64(24281.0)), 15: (900, 900), 16: (np.float64(2944.92384), np.float64(3125.91392)), 18: (np.float64(2677.94418), np.float64(2864.8084000000003)), 19: (np.float64(1529.4857), np.float64(1618.44008)), 21: (np.float64(4656.012790000001), np.float64(4756.08958)), 22: (np.float64(6052.0), np.float64(6052.0)), 23: (np.float64(2163.8071800000002), np.float64(2239.0955599999998)), 24: (np.float64(3589.75531), np.float64(3709.0717099999997)), 25: (np.float64(1717.97791), np.float64(1798.36825)), 26: (np.float64(4899.20767), np.float64(5089.546069999999))} ) \n",
      "boot_times :  {1: (np.float64(1447.3127599999998), np.float64(1509.4048599999999)), 3: (np.float64(644.0), np.float64(644.0)), 4: (np.float64(1710.11013), np.float64(1799.67295)), 5: (np.float64(4111.64443), np.float64(4452.76964)), 6: (np.float64(7485.125999999999), np.float64(7931.48429)), 7: (np.float64(2487.53043), np.float64(2568.7986600000004)), 9: (np.float64(4450.26771), np.float64(4663.99319)), 10: (np.float64(1302.45605), np.float64(1335.8737299999998)), 11: (np.float64(3576.4448500000003), np.float64(3821.34793)), 12: (np.float64(3329.4814300000003), np.float64(3554.3457799999996)), 14: (np.float64(24281.0), np.float64(24281.0)), 15: (900, 900), 16: (np.float64(2944.92384), np.float64(3125.91392)), 18: (np.float64(2677.94418), np.float64(2864.8084000000003)), 19: (np.float64(1529.4857), np.float64(1618.44008)), 21: (np.float64(4656.012790000001), np.float64(4756.08958)), 22: (np.float64(6052.0), np.float64(6052.0)), 23: (np.float64(2163.8071800000002), np.float64(2239.0955599999998)), 24: (np.float64(3589.75531), np.float64(3709.0717099999997)), 25: (np.float64(1717.97791), np.float64(1798.36825)), 26: (np.float64(4899.20767), np.float64(5089.546069999999))}\n",
      " intertimes :  (np.float64(2487.53043), np.float64(2568.7986600000004))\n",
      " duration   :  2528\n",
      "line 351...  estimate_duration : 7 \t sec:  2528\n",
      "boot_times :  {1: (np.float64(1447.3127599999998), np.float64(1509.4048599999999)), 3: (np.float64(644.0), np.float64(644.0)), 4: (np.float64(1710.11013), np.float64(1799.67295)), 5: (np.float64(4111.64443), np.float64(4452.76964)), 6: (np.float64(7485.125999999999), np.float64(7931.48429)), 7: (np.float64(2487.53043), np.float64(2568.7986600000004)), 9: (np.float64(4450.26771), np.float64(4663.99319)), 10: (np.float64(1302.45605), np.float64(1335.8737299999998)), 11: (np.float64(3576.4448500000003), np.float64(3821.34793)), 12: (np.float64(3329.4814300000003), np.float64(3554.3457799999996)), 14: (np.float64(24281.0), np.float64(24281.0)), 15: (900, 900), 16: (np.float64(2944.92384), np.float64(3125.91392)), 18: (np.float64(2677.94418), np.float64(2864.8084000000003)), 19: (np.float64(1529.4857), np.float64(1618.44008)), 21: (np.float64(4656.012790000001), np.float64(4756.08958)), 22: (np.float64(6052.0), np.float64(6052.0)), 23: (np.float64(2163.8071800000002), np.float64(2239.0955599999998)), 24: (np.float64(3589.75531), np.float64(3709.0717099999997)), 25: (np.float64(1717.97791), np.float64(1798.36825)), 26: (np.float64(4899.20767), np.float64(5089.546069999999))}\n",
      " intertimes :  (np.float64(3576.4448500000003), np.float64(3821.34793))\n",
      " duration   :  3698\n",
      "line 351...  estimate_duration : 11 \t sec:  3698\n",
      "line 352...  total duration [7, 11]  6226 / 103 min \n",
      "LINE:389 (iter: 9) -- predict_mask([model], '[7, 11]' ->  '6226 < 16825 sec' ?)\n",
      "\n",
      "\n",
      "-----------------\n",
      "line 379 bert_test_city[ Delh ] (iter: 10) -- predict_ mask([model], '[7, 11]')\n",
      "LINE 309, model.predict( to_predict=[['7', '11']] ) \n",
      "LINE 315  predseq => [7, 11],  maskpos => 1\n",
      "-- predict_ mask_pos ( <model>, seq= [7, 11], maskpos= 1  )\n",
      "line 240 ... seq: [7, 11]\n",
      "      seq :  [7, 11]\n",
      "LINE 256 -- model.predict( to_predict=['7,[MASK],11'] )\n"
     ]
    },
    {
     "data": {
      "application/vnd.jupyter.widget-view+json": {
       "model_id": "74b8447de797476b94c4ed4b24e26391",
       "version_major": 2,
       "version_minor": 0
      },
      "text/plain": [
       "0it [00:00, ?it/s]"
      ]
     },
     "metadata": {},
     "output_type": "display_data"
    },
    {
     "data": {
      "application/vnd.jupyter.widget-view+json": {
       "model_id": "bfda79de56fa4f73bb4be58eccbe87d4",
       "version_major": 2,
       "version_minor": 0
      },
      "text/plain": [
       "  0%|          | 0/1 [00:00<?, ?it/s]"
      ]
     },
     "metadata": {},
     "output_type": "display_data"
    },
    {
     "name": "stdout",
     "output_type": "stream",
     "text": [
      "  seq     -> [7, 11]\n",
      "  amax    -> 12\n",
      "  amaxval -> 0.7255479693412781\n",
      "maskpos   => 1\n",
      "--> predict_ mask_pos (model, '[7, 11]', 1 ) --- [7, 12, 11] \n",
      "LINE 317  result: nextpoi:12 nextval:0.7255479693412781 unmasked_seq:[7, 11]\n",
      "  POSSIBLE: 0.7255479693412781 -> [7, 11] [7, 11]\n",
      "line 381 bert_test_city[ Delh ] (iter: 10) -- predict_ mask([model], '[7, 11]')\n",
      "line 382 nextpoi:12, maskpos:1, nextval:0.7255479693412781, unmasked_seq:[7, 11]\n",
      "line 336... estimate_duration( pois ) : [7, 11] ) \n",
      "line 337... boot_times : {1: (np.float64(1447.3127599999998), np.float64(1509.4048599999999)), 3: (np.float64(644.0), np.float64(644.0)), 4: (np.float64(1710.11013), np.float64(1799.67295)), 5: (np.float64(4111.64443), np.float64(4452.76964)), 6: (np.float64(7485.125999999999), np.float64(7931.48429)), 7: (np.float64(2487.53043), np.float64(2568.7986600000004)), 9: (np.float64(4450.26771), np.float64(4663.99319)), 10: (np.float64(1302.45605), np.float64(1335.8737299999998)), 11: (np.float64(3576.4448500000003), np.float64(3821.34793)), 12: (np.float64(3329.4814300000003), np.float64(3554.3457799999996)), 14: (np.float64(24281.0), np.float64(24281.0)), 15: (900, 900), 16: (np.float64(2944.92384), np.float64(3125.91392)), 18: (np.float64(2677.94418), np.float64(2864.8084000000003)), 19: (np.float64(1529.4857), np.float64(1618.44008)), 21: (np.float64(4656.012790000001), np.float64(4756.08958)), 22: (np.float64(6052.0), np.float64(6052.0)), 23: (np.float64(2163.8071800000002), np.float64(2239.0955599999998)), 24: (np.float64(3589.75531), np.float64(3709.0717099999997)), 25: (np.float64(1717.97791), np.float64(1798.36825)), 26: (np.float64(4899.20767), np.float64(5089.546069999999))} ) \n",
      "boot_times :  {1: (np.float64(1447.3127599999998), np.float64(1509.4048599999999)), 3: (np.float64(644.0), np.float64(644.0)), 4: (np.float64(1710.11013), np.float64(1799.67295)), 5: (np.float64(4111.64443), np.float64(4452.76964)), 6: (np.float64(7485.125999999999), np.float64(7931.48429)), 7: (np.float64(2487.53043), np.float64(2568.7986600000004)), 9: (np.float64(4450.26771), np.float64(4663.99319)), 10: (np.float64(1302.45605), np.float64(1335.8737299999998)), 11: (np.float64(3576.4448500000003), np.float64(3821.34793)), 12: (np.float64(3329.4814300000003), np.float64(3554.3457799999996)), 14: (np.float64(24281.0), np.float64(24281.0)), 15: (900, 900), 16: (np.float64(2944.92384), np.float64(3125.91392)), 18: (np.float64(2677.94418), np.float64(2864.8084000000003)), 19: (np.float64(1529.4857), np.float64(1618.44008)), 21: (np.float64(4656.012790000001), np.float64(4756.08958)), 22: (np.float64(6052.0), np.float64(6052.0)), 23: (np.float64(2163.8071800000002), np.float64(2239.0955599999998)), 24: (np.float64(3589.75531), np.float64(3709.0717099999997)), 25: (np.float64(1717.97791), np.float64(1798.36825)), 26: (np.float64(4899.20767), np.float64(5089.546069999999))}\n",
      " intertimes :  (np.float64(2487.53043), np.float64(2568.7986600000004))\n",
      " duration   :  2528\n",
      "line 351...  estimate_duration : 7 \t sec:  2528\n",
      "boot_times :  {1: (np.float64(1447.3127599999998), np.float64(1509.4048599999999)), 3: (np.float64(644.0), np.float64(644.0)), 4: (np.float64(1710.11013), np.float64(1799.67295)), 5: (np.float64(4111.64443), np.float64(4452.76964)), 6: (np.float64(7485.125999999999), np.float64(7931.48429)), 7: (np.float64(2487.53043), np.float64(2568.7986600000004)), 9: (np.float64(4450.26771), np.float64(4663.99319)), 10: (np.float64(1302.45605), np.float64(1335.8737299999998)), 11: (np.float64(3576.4448500000003), np.float64(3821.34793)), 12: (np.float64(3329.4814300000003), np.float64(3554.3457799999996)), 14: (np.float64(24281.0), np.float64(24281.0)), 15: (900, 900), 16: (np.float64(2944.92384), np.float64(3125.91392)), 18: (np.float64(2677.94418), np.float64(2864.8084000000003)), 19: (np.float64(1529.4857), np.float64(1618.44008)), 21: (np.float64(4656.012790000001), np.float64(4756.08958)), 22: (np.float64(6052.0), np.float64(6052.0)), 23: (np.float64(2163.8071800000002), np.float64(2239.0955599999998)), 24: (np.float64(3589.75531), np.float64(3709.0717099999997)), 25: (np.float64(1717.97791), np.float64(1798.36825)), 26: (np.float64(4899.20767), np.float64(5089.546069999999))}\n",
      " intertimes :  (np.float64(3576.4448500000003), np.float64(3821.34793))\n",
      " duration   :  3698\n",
      "line 351...  estimate_duration : 11 \t sec:  3698\n",
      "line 352...  total duration [7, 11]  6226 / 103 min \n",
      "LINE:389 (iter: 10) -- predict_mask([model], '[7, 11]' ->  '6226 < 16825 sec' ?)\n",
      "\n",
      "\n",
      "-----------------\n",
      "line 379 bert_test_city[ Delh ] (iter: 11) -- predict_ mask([model], '[7, 11]')\n",
      "LINE 309, model.predict( to_predict=[['7', '11']] ) \n",
      "LINE 315  predseq => [7, 11],  maskpos => 1\n",
      "-- predict_ mask_pos ( <model>, seq= [7, 11], maskpos= 1  )\n",
      "line 240 ... seq: [7, 11]\n",
      "      seq :  [7, 11]\n",
      "LINE 256 -- model.predict( to_predict=['7,[MASK],11'] )\n"
     ]
    },
    {
     "data": {
      "application/vnd.jupyter.widget-view+json": {
       "model_id": "30d12e5681e24b38aaf0fbdd04220d0e",
       "version_major": 2,
       "version_minor": 0
      },
      "text/plain": [
       "0it [00:00, ?it/s]"
      ]
     },
     "metadata": {},
     "output_type": "display_data"
    },
    {
     "data": {
      "application/vnd.jupyter.widget-view+json": {
       "model_id": "23b2a2e22ac24cae96658494b28fc29f",
       "version_major": 2,
       "version_minor": 0
      },
      "text/plain": [
       "  0%|          | 0/1 [00:00<?, ?it/s]"
      ]
     },
     "metadata": {},
     "output_type": "display_data"
    },
    {
     "name": "stdout",
     "output_type": "stream",
     "text": [
      "  seq     -> [7, 11]\n",
      "  amax    -> 12\n",
      "  amaxval -> 0.7255479693412781\n",
      "maskpos   => 1\n",
      "--> predict_ mask_pos (model, '[7, 11]', 1 ) --- [7, 12, 11] \n",
      "LINE 317  result: nextpoi:12 nextval:0.7255479693412781 unmasked_seq:[7, 11]\n",
      "  POSSIBLE: 0.7255479693412781 -> [7, 11] [7, 11]\n",
      "line 381 bert_test_city[ Delh ] (iter: 11) -- predict_ mask([model], '[7, 11]')\n",
      "line 382 nextpoi:12, maskpos:1, nextval:0.7255479693412781, unmasked_seq:[7, 11]\n",
      "line 336... estimate_duration( pois ) : [7, 11] ) \n",
      "line 337... boot_times : {1: (np.float64(1447.3127599999998), np.float64(1509.4048599999999)), 3: (np.float64(644.0), np.float64(644.0)), 4: (np.float64(1710.11013), np.float64(1799.67295)), 5: (np.float64(4111.64443), np.float64(4452.76964)), 6: (np.float64(7485.125999999999), np.float64(7931.48429)), 7: (np.float64(2487.53043), np.float64(2568.7986600000004)), 9: (np.float64(4450.26771), np.float64(4663.99319)), 10: (np.float64(1302.45605), np.float64(1335.8737299999998)), 11: (np.float64(3576.4448500000003), np.float64(3821.34793)), 12: (np.float64(3329.4814300000003), np.float64(3554.3457799999996)), 14: (np.float64(24281.0), np.float64(24281.0)), 15: (900, 900), 16: (np.float64(2944.92384), np.float64(3125.91392)), 18: (np.float64(2677.94418), np.float64(2864.8084000000003)), 19: (np.float64(1529.4857), np.float64(1618.44008)), 21: (np.float64(4656.012790000001), np.float64(4756.08958)), 22: (np.float64(6052.0), np.float64(6052.0)), 23: (np.float64(2163.8071800000002), np.float64(2239.0955599999998)), 24: (np.float64(3589.75531), np.float64(3709.0717099999997)), 25: (np.float64(1717.97791), np.float64(1798.36825)), 26: (np.float64(4899.20767), np.float64(5089.546069999999))} ) \n",
      "boot_times :  {1: (np.float64(1447.3127599999998), np.float64(1509.4048599999999)), 3: (np.float64(644.0), np.float64(644.0)), 4: (np.float64(1710.11013), np.float64(1799.67295)), 5: (np.float64(4111.64443), np.float64(4452.76964)), 6: (np.float64(7485.125999999999), np.float64(7931.48429)), 7: (np.float64(2487.53043), np.float64(2568.7986600000004)), 9: (np.float64(4450.26771), np.float64(4663.99319)), 10: (np.float64(1302.45605), np.float64(1335.8737299999998)), 11: (np.float64(3576.4448500000003), np.float64(3821.34793)), 12: (np.float64(3329.4814300000003), np.float64(3554.3457799999996)), 14: (np.float64(24281.0), np.float64(24281.0)), 15: (900, 900), 16: (np.float64(2944.92384), np.float64(3125.91392)), 18: (np.float64(2677.94418), np.float64(2864.8084000000003)), 19: (np.float64(1529.4857), np.float64(1618.44008)), 21: (np.float64(4656.012790000001), np.float64(4756.08958)), 22: (np.float64(6052.0), np.float64(6052.0)), 23: (np.float64(2163.8071800000002), np.float64(2239.0955599999998)), 24: (np.float64(3589.75531), np.float64(3709.0717099999997)), 25: (np.float64(1717.97791), np.float64(1798.36825)), 26: (np.float64(4899.20767), np.float64(5089.546069999999))}\n",
      " intertimes :  (np.float64(2487.53043), np.float64(2568.7986600000004))\n",
      " duration   :  2528\n",
      "line 351...  estimate_duration : 7 \t sec:  2528\n",
      "boot_times :  {1: (np.float64(1447.3127599999998), np.float64(1509.4048599999999)), 3: (np.float64(644.0), np.float64(644.0)), 4: (np.float64(1710.11013), np.float64(1799.67295)), 5: (np.float64(4111.64443), np.float64(4452.76964)), 6: (np.float64(7485.125999999999), np.float64(7931.48429)), 7: (np.float64(2487.53043), np.float64(2568.7986600000004)), 9: (np.float64(4450.26771), np.float64(4663.99319)), 10: (np.float64(1302.45605), np.float64(1335.8737299999998)), 11: (np.float64(3576.4448500000003), np.float64(3821.34793)), 12: (np.float64(3329.4814300000003), np.float64(3554.3457799999996)), 14: (np.float64(24281.0), np.float64(24281.0)), 15: (900, 900), 16: (np.float64(2944.92384), np.float64(3125.91392)), 18: (np.float64(2677.94418), np.float64(2864.8084000000003)), 19: (np.float64(1529.4857), np.float64(1618.44008)), 21: (np.float64(4656.012790000001), np.float64(4756.08958)), 22: (np.float64(6052.0), np.float64(6052.0)), 23: (np.float64(2163.8071800000002), np.float64(2239.0955599999998)), 24: (np.float64(3589.75531), np.float64(3709.0717099999997)), 25: (np.float64(1717.97791), np.float64(1798.36825)), 26: (np.float64(4899.20767), np.float64(5089.546069999999))}\n",
      " intertimes :  (np.float64(3576.4448500000003), np.float64(3821.34793))\n",
      " duration   :  3698\n",
      "line 351...  estimate_duration : 11 \t sec:  3698\n",
      "line 352...  total duration [7, 11]  6226 / 103 min \n",
      "LINE:389 (iter: 11) -- predict_mask([model], '[7, 11]' ->  '6226 < 16825 sec' ?)\n",
      "\n",
      "\n",
      "-----------------\n",
      "line 379 bert_test_city[ Delh ] (iter: 12) -- predict_ mask([model], '[7, 11]')\n",
      "LINE 309, model.predict( to_predict=[['7', '11']] ) \n",
      "LINE 315  predseq => [7, 11],  maskpos => 1\n",
      "-- predict_ mask_pos ( <model>, seq= [7, 11], maskpos= 1  )\n",
      "line 240 ... seq: [7, 11]\n",
      "      seq :  [7, 11]\n",
      "LINE 256 -- model.predict( to_predict=['7,[MASK],11'] )\n"
     ]
    },
    {
     "data": {
      "application/vnd.jupyter.widget-view+json": {
       "model_id": "71379c1be5f647fe831b04804a1fce0f",
       "version_major": 2,
       "version_minor": 0
      },
      "text/plain": [
       "0it [00:00, ?it/s]"
      ]
     },
     "metadata": {},
     "output_type": "display_data"
    },
    {
     "data": {
      "application/vnd.jupyter.widget-view+json": {
       "model_id": "ca36711feb254b1589a2cc53be58b43a",
       "version_major": 2,
       "version_minor": 0
      },
      "text/plain": [
       "  0%|          | 0/1 [00:00<?, ?it/s]"
      ]
     },
     "metadata": {},
     "output_type": "display_data"
    },
    {
     "name": "stdout",
     "output_type": "stream",
     "text": [
      "  seq     -> [7, 11]\n",
      "  amax    -> 12\n",
      "  amaxval -> 0.7255479693412781\n",
      "maskpos   => 1\n",
      "--> predict_ mask_pos (model, '[7, 11]', 1 ) --- [7, 12, 11] \n",
      "LINE 317  result: nextpoi:12 nextval:0.7255479693412781 unmasked_seq:[7, 11]\n",
      "  POSSIBLE: 0.7255479693412781 -> [7, 11] [7, 11]\n",
      "line 381 bert_test_city[ Delh ] (iter: 12) -- predict_ mask([model], '[7, 11]')\n",
      "line 382 nextpoi:12, maskpos:1, nextval:0.7255479693412781, unmasked_seq:[7, 11]\n",
      "line 336... estimate_duration( pois ) : [7, 11] ) \n",
      "line 337... boot_times : {1: (np.float64(1447.3127599999998), np.float64(1509.4048599999999)), 3: (np.float64(644.0), np.float64(644.0)), 4: (np.float64(1710.11013), np.float64(1799.67295)), 5: (np.float64(4111.64443), np.float64(4452.76964)), 6: (np.float64(7485.125999999999), np.float64(7931.48429)), 7: (np.float64(2487.53043), np.float64(2568.7986600000004)), 9: (np.float64(4450.26771), np.float64(4663.99319)), 10: (np.float64(1302.45605), np.float64(1335.8737299999998)), 11: (np.float64(3576.4448500000003), np.float64(3821.34793)), 12: (np.float64(3329.4814300000003), np.float64(3554.3457799999996)), 14: (np.float64(24281.0), np.float64(24281.0)), 15: (900, 900), 16: (np.float64(2944.92384), np.float64(3125.91392)), 18: (np.float64(2677.94418), np.float64(2864.8084000000003)), 19: (np.float64(1529.4857), np.float64(1618.44008)), 21: (np.float64(4656.012790000001), np.float64(4756.08958)), 22: (np.float64(6052.0), np.float64(6052.0)), 23: (np.float64(2163.8071800000002), np.float64(2239.0955599999998)), 24: (np.float64(3589.75531), np.float64(3709.0717099999997)), 25: (np.float64(1717.97791), np.float64(1798.36825)), 26: (np.float64(4899.20767), np.float64(5089.546069999999))} ) \n",
      "boot_times :  {1: (np.float64(1447.3127599999998), np.float64(1509.4048599999999)), 3: (np.float64(644.0), np.float64(644.0)), 4: (np.float64(1710.11013), np.float64(1799.67295)), 5: (np.float64(4111.64443), np.float64(4452.76964)), 6: (np.float64(7485.125999999999), np.float64(7931.48429)), 7: (np.float64(2487.53043), np.float64(2568.7986600000004)), 9: (np.float64(4450.26771), np.float64(4663.99319)), 10: (np.float64(1302.45605), np.float64(1335.8737299999998)), 11: (np.float64(3576.4448500000003), np.float64(3821.34793)), 12: (np.float64(3329.4814300000003), np.float64(3554.3457799999996)), 14: (np.float64(24281.0), np.float64(24281.0)), 15: (900, 900), 16: (np.float64(2944.92384), np.float64(3125.91392)), 18: (np.float64(2677.94418), np.float64(2864.8084000000003)), 19: (np.float64(1529.4857), np.float64(1618.44008)), 21: (np.float64(4656.012790000001), np.float64(4756.08958)), 22: (np.float64(6052.0), np.float64(6052.0)), 23: (np.float64(2163.8071800000002), np.float64(2239.0955599999998)), 24: (np.float64(3589.75531), np.float64(3709.0717099999997)), 25: (np.float64(1717.97791), np.float64(1798.36825)), 26: (np.float64(4899.20767), np.float64(5089.546069999999))}\n",
      " intertimes :  (np.float64(2487.53043), np.float64(2568.7986600000004))\n",
      " duration   :  2528\n",
      "line 351...  estimate_duration : 7 \t sec:  2528\n",
      "boot_times :  {1: (np.float64(1447.3127599999998), np.float64(1509.4048599999999)), 3: (np.float64(644.0), np.float64(644.0)), 4: (np.float64(1710.11013), np.float64(1799.67295)), 5: (np.float64(4111.64443), np.float64(4452.76964)), 6: (np.float64(7485.125999999999), np.float64(7931.48429)), 7: (np.float64(2487.53043), np.float64(2568.7986600000004)), 9: (np.float64(4450.26771), np.float64(4663.99319)), 10: (np.float64(1302.45605), np.float64(1335.8737299999998)), 11: (np.float64(3576.4448500000003), np.float64(3821.34793)), 12: (np.float64(3329.4814300000003), np.float64(3554.3457799999996)), 14: (np.float64(24281.0), np.float64(24281.0)), 15: (900, 900), 16: (np.float64(2944.92384), np.float64(3125.91392)), 18: (np.float64(2677.94418), np.float64(2864.8084000000003)), 19: (np.float64(1529.4857), np.float64(1618.44008)), 21: (np.float64(4656.012790000001), np.float64(4756.08958)), 22: (np.float64(6052.0), np.float64(6052.0)), 23: (np.float64(2163.8071800000002), np.float64(2239.0955599999998)), 24: (np.float64(3589.75531), np.float64(3709.0717099999997)), 25: (np.float64(1717.97791), np.float64(1798.36825)), 26: (np.float64(4899.20767), np.float64(5089.546069999999))}\n",
      " intertimes :  (np.float64(3576.4448500000003), np.float64(3821.34793))\n",
      " duration   :  3698\n",
      "line 351...  estimate_duration : 11 \t sec:  3698\n",
      "line 352...  total duration [7, 11]  6226 / 103 min \n",
      "LINE:389 (iter: 12) -- predict_mask([model], '[7, 11]' ->  '6226 < 16825 sec' ?)\n",
      "\n",
      "\n",
      "-----------------\n",
      "line 379 bert_test_city[ Delh ] (iter: 13) -- predict_ mask([model], '[7, 11]')\n",
      "LINE 309, model.predict( to_predict=[['7', '11']] ) \n",
      "LINE 315  predseq => [7, 11],  maskpos => 1\n",
      "-- predict_ mask_pos ( <model>, seq= [7, 11], maskpos= 1  )\n",
      "line 240 ... seq: [7, 11]\n",
      "      seq :  [7, 11]\n",
      "LINE 256 -- model.predict( to_predict=['7,[MASK],11'] )\n"
     ]
    },
    {
     "data": {
      "application/vnd.jupyter.widget-view+json": {
       "model_id": "d5a70ed40f8b40478ac13c17e59497ca",
       "version_major": 2,
       "version_minor": 0
      },
      "text/plain": [
       "0it [00:00, ?it/s]"
      ]
     },
     "metadata": {},
     "output_type": "display_data"
    },
    {
     "data": {
      "application/vnd.jupyter.widget-view+json": {
       "model_id": "833c41dc37b24975869687d304f740b9",
       "version_major": 2,
       "version_minor": 0
      },
      "text/plain": [
       "  0%|          | 0/1 [00:00<?, ?it/s]"
      ]
     },
     "metadata": {},
     "output_type": "display_data"
    },
    {
     "name": "stdout",
     "output_type": "stream",
     "text": [
      "  seq     -> [7, 11]\n",
      "  amax    -> 12\n",
      "  amaxval -> 0.7255479693412781\n",
      "maskpos   => 1\n",
      "--> predict_ mask_pos (model, '[7, 11]', 1 ) --- [7, 12, 11] \n",
      "LINE 317  result: nextpoi:12 nextval:0.7255479693412781 unmasked_seq:[7, 11]\n",
      "  POSSIBLE: 0.7255479693412781 -> [7, 11] [7, 11]\n",
      "line 381 bert_test_city[ Delh ] (iter: 13) -- predict_ mask([model], '[7, 11]')\n",
      "line 382 nextpoi:12, maskpos:1, nextval:0.7255479693412781, unmasked_seq:[7, 11]\n",
      "line 336... estimate_duration( pois ) : [7, 11] ) \n",
      "line 337... boot_times : {1: (np.float64(1447.3127599999998), np.float64(1509.4048599999999)), 3: (np.float64(644.0), np.float64(644.0)), 4: (np.float64(1710.11013), np.float64(1799.67295)), 5: (np.float64(4111.64443), np.float64(4452.76964)), 6: (np.float64(7485.125999999999), np.float64(7931.48429)), 7: (np.float64(2487.53043), np.float64(2568.7986600000004)), 9: (np.float64(4450.26771), np.float64(4663.99319)), 10: (np.float64(1302.45605), np.float64(1335.8737299999998)), 11: (np.float64(3576.4448500000003), np.float64(3821.34793)), 12: (np.float64(3329.4814300000003), np.float64(3554.3457799999996)), 14: (np.float64(24281.0), np.float64(24281.0)), 15: (900, 900), 16: (np.float64(2944.92384), np.float64(3125.91392)), 18: (np.float64(2677.94418), np.float64(2864.8084000000003)), 19: (np.float64(1529.4857), np.float64(1618.44008)), 21: (np.float64(4656.012790000001), np.float64(4756.08958)), 22: (np.float64(6052.0), np.float64(6052.0)), 23: (np.float64(2163.8071800000002), np.float64(2239.0955599999998)), 24: (np.float64(3589.75531), np.float64(3709.0717099999997)), 25: (np.float64(1717.97791), np.float64(1798.36825)), 26: (np.float64(4899.20767), np.float64(5089.546069999999))} ) \n",
      "boot_times :  {1: (np.float64(1447.3127599999998), np.float64(1509.4048599999999)), 3: (np.float64(644.0), np.float64(644.0)), 4: (np.float64(1710.11013), np.float64(1799.67295)), 5: (np.float64(4111.64443), np.float64(4452.76964)), 6: (np.float64(7485.125999999999), np.float64(7931.48429)), 7: (np.float64(2487.53043), np.float64(2568.7986600000004)), 9: (np.float64(4450.26771), np.float64(4663.99319)), 10: (np.float64(1302.45605), np.float64(1335.8737299999998)), 11: (np.float64(3576.4448500000003), np.float64(3821.34793)), 12: (np.float64(3329.4814300000003), np.float64(3554.3457799999996)), 14: (np.float64(24281.0), np.float64(24281.0)), 15: (900, 900), 16: (np.float64(2944.92384), np.float64(3125.91392)), 18: (np.float64(2677.94418), np.float64(2864.8084000000003)), 19: (np.float64(1529.4857), np.float64(1618.44008)), 21: (np.float64(4656.012790000001), np.float64(4756.08958)), 22: (np.float64(6052.0), np.float64(6052.0)), 23: (np.float64(2163.8071800000002), np.float64(2239.0955599999998)), 24: (np.float64(3589.75531), np.float64(3709.0717099999997)), 25: (np.float64(1717.97791), np.float64(1798.36825)), 26: (np.float64(4899.20767), np.float64(5089.546069999999))}\n",
      " intertimes :  (np.float64(2487.53043), np.float64(2568.7986600000004))\n",
      " duration   :  2528\n",
      "line 351...  estimate_duration : 7 \t sec:  2528\n",
      "boot_times :  {1: (np.float64(1447.3127599999998), np.float64(1509.4048599999999)), 3: (np.float64(644.0), np.float64(644.0)), 4: (np.float64(1710.11013), np.float64(1799.67295)), 5: (np.float64(4111.64443), np.float64(4452.76964)), 6: (np.float64(7485.125999999999), np.float64(7931.48429)), 7: (np.float64(2487.53043), np.float64(2568.7986600000004)), 9: (np.float64(4450.26771), np.float64(4663.99319)), 10: (np.float64(1302.45605), np.float64(1335.8737299999998)), 11: (np.float64(3576.4448500000003), np.float64(3821.34793)), 12: (np.float64(3329.4814300000003), np.float64(3554.3457799999996)), 14: (np.float64(24281.0), np.float64(24281.0)), 15: (900, 900), 16: (np.float64(2944.92384), np.float64(3125.91392)), 18: (np.float64(2677.94418), np.float64(2864.8084000000003)), 19: (np.float64(1529.4857), np.float64(1618.44008)), 21: (np.float64(4656.012790000001), np.float64(4756.08958)), 22: (np.float64(6052.0), np.float64(6052.0)), 23: (np.float64(2163.8071800000002), np.float64(2239.0955599999998)), 24: (np.float64(3589.75531), np.float64(3709.0717099999997)), 25: (np.float64(1717.97791), np.float64(1798.36825)), 26: (np.float64(4899.20767), np.float64(5089.546069999999))}\n",
      " intertimes :  (np.float64(3576.4448500000003), np.float64(3821.34793))\n",
      " duration   :  3698\n",
      "line 351...  estimate_duration : 11 \t sec:  3698\n",
      "line 352...  total duration [7, 11]  6226 / 103 min \n",
      "LINE:389 (iter: 13) -- predict_mask([model], '[7, 11]' ->  '6226 < 16825 sec' ?)\n",
      "\n",
      "\n",
      "-----------------\n",
      "line 379 bert_test_city[ Delh ] (iter: 14) -- predict_ mask([model], '[7, 11]')\n",
      "LINE 309, model.predict( to_predict=[['7', '11']] ) \n",
      "LINE 315  predseq => [7, 11],  maskpos => 1\n",
      "-- predict_ mask_pos ( <model>, seq= [7, 11], maskpos= 1  )\n",
      "line 240 ... seq: [7, 11]\n",
      "      seq :  [7, 11]\n",
      "LINE 256 -- model.predict( to_predict=['7,[MASK],11'] )\n"
     ]
    },
    {
     "data": {
      "application/vnd.jupyter.widget-view+json": {
       "model_id": "3e105a0e1d3c46b785d9cdc5584c608f",
       "version_major": 2,
       "version_minor": 0
      },
      "text/plain": [
       "0it [00:00, ?it/s]"
      ]
     },
     "metadata": {},
     "output_type": "display_data"
    },
    {
     "data": {
      "application/vnd.jupyter.widget-view+json": {
       "model_id": "857cd17d3e684cdc801b7eaa44bc2ded",
       "version_major": 2,
       "version_minor": 0
      },
      "text/plain": [
       "  0%|          | 0/1 [00:00<?, ?it/s]"
      ]
     },
     "metadata": {},
     "output_type": "display_data"
    },
    {
     "name": "stdout",
     "output_type": "stream",
     "text": [
      "  seq     -> [7, 11]\n",
      "  amax    -> 12\n",
      "  amaxval -> 0.7255479693412781\n",
      "maskpos   => 1\n",
      "--> predict_ mask_pos (model, '[7, 11]', 1 ) --- [7, 12, 11] \n",
      "LINE 317  result: nextpoi:12 nextval:0.7255479693412781 unmasked_seq:[7, 11]\n",
      "  POSSIBLE: 0.7255479693412781 -> [7, 11] [7, 11]\n",
      "line 381 bert_test_city[ Delh ] (iter: 14) -- predict_ mask([model], '[7, 11]')\n",
      "line 382 nextpoi:12, maskpos:1, nextval:0.7255479693412781, unmasked_seq:[7, 11]\n",
      "line 336... estimate_duration( pois ) : [7, 11] ) \n",
      "line 337... boot_times : {1: (np.float64(1447.3127599999998), np.float64(1509.4048599999999)), 3: (np.float64(644.0), np.float64(644.0)), 4: (np.float64(1710.11013), np.float64(1799.67295)), 5: (np.float64(4111.64443), np.float64(4452.76964)), 6: (np.float64(7485.125999999999), np.float64(7931.48429)), 7: (np.float64(2487.53043), np.float64(2568.7986600000004)), 9: (np.float64(4450.26771), np.float64(4663.99319)), 10: (np.float64(1302.45605), np.float64(1335.8737299999998)), 11: (np.float64(3576.4448500000003), np.float64(3821.34793)), 12: (np.float64(3329.4814300000003), np.float64(3554.3457799999996)), 14: (np.float64(24281.0), np.float64(24281.0)), 15: (900, 900), 16: (np.float64(2944.92384), np.float64(3125.91392)), 18: (np.float64(2677.94418), np.float64(2864.8084000000003)), 19: (np.float64(1529.4857), np.float64(1618.44008)), 21: (np.float64(4656.012790000001), np.float64(4756.08958)), 22: (np.float64(6052.0), np.float64(6052.0)), 23: (np.float64(2163.8071800000002), np.float64(2239.0955599999998)), 24: (np.float64(3589.75531), np.float64(3709.0717099999997)), 25: (np.float64(1717.97791), np.float64(1798.36825)), 26: (np.float64(4899.20767), np.float64(5089.546069999999))} ) \n",
      "boot_times :  {1: (np.float64(1447.3127599999998), np.float64(1509.4048599999999)), 3: (np.float64(644.0), np.float64(644.0)), 4: (np.float64(1710.11013), np.float64(1799.67295)), 5: (np.float64(4111.64443), np.float64(4452.76964)), 6: (np.float64(7485.125999999999), np.float64(7931.48429)), 7: (np.float64(2487.53043), np.float64(2568.7986600000004)), 9: (np.float64(4450.26771), np.float64(4663.99319)), 10: (np.float64(1302.45605), np.float64(1335.8737299999998)), 11: (np.float64(3576.4448500000003), np.float64(3821.34793)), 12: (np.float64(3329.4814300000003), np.float64(3554.3457799999996)), 14: (np.float64(24281.0), np.float64(24281.0)), 15: (900, 900), 16: (np.float64(2944.92384), np.float64(3125.91392)), 18: (np.float64(2677.94418), np.float64(2864.8084000000003)), 19: (np.float64(1529.4857), np.float64(1618.44008)), 21: (np.float64(4656.012790000001), np.float64(4756.08958)), 22: (np.float64(6052.0), np.float64(6052.0)), 23: (np.float64(2163.8071800000002), np.float64(2239.0955599999998)), 24: (np.float64(3589.75531), np.float64(3709.0717099999997)), 25: (np.float64(1717.97791), np.float64(1798.36825)), 26: (np.float64(4899.20767), np.float64(5089.546069999999))}\n",
      " intertimes :  (np.float64(2487.53043), np.float64(2568.7986600000004))\n",
      " duration   :  2528\n",
      "line 351...  estimate_duration : 7 \t sec:  2528\n",
      "boot_times :  {1: (np.float64(1447.3127599999998), np.float64(1509.4048599999999)), 3: (np.float64(644.0), np.float64(644.0)), 4: (np.float64(1710.11013), np.float64(1799.67295)), 5: (np.float64(4111.64443), np.float64(4452.76964)), 6: (np.float64(7485.125999999999), np.float64(7931.48429)), 7: (np.float64(2487.53043), np.float64(2568.7986600000004)), 9: (np.float64(4450.26771), np.float64(4663.99319)), 10: (np.float64(1302.45605), np.float64(1335.8737299999998)), 11: (np.float64(3576.4448500000003), np.float64(3821.34793)), 12: (np.float64(3329.4814300000003), np.float64(3554.3457799999996)), 14: (np.float64(24281.0), np.float64(24281.0)), 15: (900, 900), 16: (np.float64(2944.92384), np.float64(3125.91392)), 18: (np.float64(2677.94418), np.float64(2864.8084000000003)), 19: (np.float64(1529.4857), np.float64(1618.44008)), 21: (np.float64(4656.012790000001), np.float64(4756.08958)), 22: (np.float64(6052.0), np.float64(6052.0)), 23: (np.float64(2163.8071800000002), np.float64(2239.0955599999998)), 24: (np.float64(3589.75531), np.float64(3709.0717099999997)), 25: (np.float64(1717.97791), np.float64(1798.36825)), 26: (np.float64(4899.20767), np.float64(5089.546069999999))}\n",
      " intertimes :  (np.float64(3576.4448500000003), np.float64(3821.34793))\n",
      " duration   :  3698\n",
      "line 351...  estimate_duration : 11 \t sec:  3698\n",
      "line 352...  total duration [7, 11]  6226 / 103 min \n",
      "LINE:389 (iter: 14) -- predict_mask([model], '[7, 11]' ->  '6226 < 16825 sec' ?)\n",
      "\n",
      "\n",
      "-----------------\n",
      "line 379 bert_test_city[ Delh ] (iter: 15) -- predict_ mask([model], '[7, 11]')\n",
      "LINE 309, model.predict( to_predict=[['7', '11']] ) \n",
      "LINE 315  predseq => [7, 11],  maskpos => 1\n",
      "-- predict_ mask_pos ( <model>, seq= [7, 11], maskpos= 1  )\n",
      "line 240 ... seq: [7, 11]\n",
      "      seq :  [7, 11]\n",
      "LINE 256 -- model.predict( to_predict=['7,[MASK],11'] )\n"
     ]
    },
    {
     "data": {
      "application/vnd.jupyter.widget-view+json": {
       "model_id": "d47fbc45f9274e83a9a0d8a9736bc099",
       "version_major": 2,
       "version_minor": 0
      },
      "text/plain": [
       "0it [00:00, ?it/s]"
      ]
     },
     "metadata": {},
     "output_type": "display_data"
    },
    {
     "data": {
      "application/vnd.jupyter.widget-view+json": {
       "model_id": "9620ef52ccf843aab21295da42f40379",
       "version_major": 2,
       "version_minor": 0
      },
      "text/plain": [
       "  0%|          | 0/1 [00:00<?, ?it/s]"
      ]
     },
     "metadata": {},
     "output_type": "display_data"
    },
    {
     "name": "stdout",
     "output_type": "stream",
     "text": [
      "  seq     -> [7, 11]\n",
      "  amax    -> 12\n",
      "  amaxval -> 0.7255479693412781\n",
      "maskpos   => 1\n",
      "--> predict_ mask_pos (model, '[7, 11]', 1 ) --- [7, 12, 11] \n",
      "LINE 317  result: nextpoi:12 nextval:0.7255479693412781 unmasked_seq:[7, 11]\n",
      "  POSSIBLE: 0.7255479693412781 -> [7, 11] [7, 11]\n",
      "line 381 bert_test_city[ Delh ] (iter: 15) -- predict_ mask([model], '[7, 11]')\n",
      "line 382 nextpoi:12, maskpos:1, nextval:0.7255479693412781, unmasked_seq:[7, 11]\n",
      "line 336... estimate_duration( pois ) : [7, 11] ) \n",
      "line 337... boot_times : {1: (np.float64(1447.3127599999998), np.float64(1509.4048599999999)), 3: (np.float64(644.0), np.float64(644.0)), 4: (np.float64(1710.11013), np.float64(1799.67295)), 5: (np.float64(4111.64443), np.float64(4452.76964)), 6: (np.float64(7485.125999999999), np.float64(7931.48429)), 7: (np.float64(2487.53043), np.float64(2568.7986600000004)), 9: (np.float64(4450.26771), np.float64(4663.99319)), 10: (np.float64(1302.45605), np.float64(1335.8737299999998)), 11: (np.float64(3576.4448500000003), np.float64(3821.34793)), 12: (np.float64(3329.4814300000003), np.float64(3554.3457799999996)), 14: (np.float64(24281.0), np.float64(24281.0)), 15: (900, 900), 16: (np.float64(2944.92384), np.float64(3125.91392)), 18: (np.float64(2677.94418), np.float64(2864.8084000000003)), 19: (np.float64(1529.4857), np.float64(1618.44008)), 21: (np.float64(4656.012790000001), np.float64(4756.08958)), 22: (np.float64(6052.0), np.float64(6052.0)), 23: (np.float64(2163.8071800000002), np.float64(2239.0955599999998)), 24: (np.float64(3589.75531), np.float64(3709.0717099999997)), 25: (np.float64(1717.97791), np.float64(1798.36825)), 26: (np.float64(4899.20767), np.float64(5089.546069999999))} ) \n",
      "boot_times :  {1: (np.float64(1447.3127599999998), np.float64(1509.4048599999999)), 3: (np.float64(644.0), np.float64(644.0)), 4: (np.float64(1710.11013), np.float64(1799.67295)), 5: (np.float64(4111.64443), np.float64(4452.76964)), 6: (np.float64(7485.125999999999), np.float64(7931.48429)), 7: (np.float64(2487.53043), np.float64(2568.7986600000004)), 9: (np.float64(4450.26771), np.float64(4663.99319)), 10: (np.float64(1302.45605), np.float64(1335.8737299999998)), 11: (np.float64(3576.4448500000003), np.float64(3821.34793)), 12: (np.float64(3329.4814300000003), np.float64(3554.3457799999996)), 14: (np.float64(24281.0), np.float64(24281.0)), 15: (900, 900), 16: (np.float64(2944.92384), np.float64(3125.91392)), 18: (np.float64(2677.94418), np.float64(2864.8084000000003)), 19: (np.float64(1529.4857), np.float64(1618.44008)), 21: (np.float64(4656.012790000001), np.float64(4756.08958)), 22: (np.float64(6052.0), np.float64(6052.0)), 23: (np.float64(2163.8071800000002), np.float64(2239.0955599999998)), 24: (np.float64(3589.75531), np.float64(3709.0717099999997)), 25: (np.float64(1717.97791), np.float64(1798.36825)), 26: (np.float64(4899.20767), np.float64(5089.546069999999))}\n",
      " intertimes :  (np.float64(2487.53043), np.float64(2568.7986600000004))\n",
      " duration   :  2528\n",
      "line 351...  estimate_duration : 7 \t sec:  2528\n",
      "boot_times :  {1: (np.float64(1447.3127599999998), np.float64(1509.4048599999999)), 3: (np.float64(644.0), np.float64(644.0)), 4: (np.float64(1710.11013), np.float64(1799.67295)), 5: (np.float64(4111.64443), np.float64(4452.76964)), 6: (np.float64(7485.125999999999), np.float64(7931.48429)), 7: (np.float64(2487.53043), np.float64(2568.7986600000004)), 9: (np.float64(4450.26771), np.float64(4663.99319)), 10: (np.float64(1302.45605), np.float64(1335.8737299999998)), 11: (np.float64(3576.4448500000003), np.float64(3821.34793)), 12: (np.float64(3329.4814300000003), np.float64(3554.3457799999996)), 14: (np.float64(24281.0), np.float64(24281.0)), 15: (900, 900), 16: (np.float64(2944.92384), np.float64(3125.91392)), 18: (np.float64(2677.94418), np.float64(2864.8084000000003)), 19: (np.float64(1529.4857), np.float64(1618.44008)), 21: (np.float64(4656.012790000001), np.float64(4756.08958)), 22: (np.float64(6052.0), np.float64(6052.0)), 23: (np.float64(2163.8071800000002), np.float64(2239.0955599999998)), 24: (np.float64(3589.75531), np.float64(3709.0717099999997)), 25: (np.float64(1717.97791), np.float64(1798.36825)), 26: (np.float64(4899.20767), np.float64(5089.546069999999))}\n",
      " intertimes :  (np.float64(3576.4448500000003), np.float64(3821.34793))\n",
      " duration   :  3698\n",
      "line 351...  estimate_duration : 11 \t sec:  3698\n",
      "line 352...  total duration [7, 11]  6226 / 103 min \n",
      "LINE:389 (iter: 15) -- predict_mask([model], '[7, 11]' ->  '6226 < 16825 sec' ?)\n",
      "\n",
      "\n",
      "-----------------\n",
      "line 379 bert_test_city[ Delh ] (iter: 16) -- predict_ mask([model], '[7, 11]')\n",
      "LINE 309, model.predict( to_predict=[['7', '11']] ) \n",
      "LINE 315  predseq => [7, 11],  maskpos => 1\n",
      "-- predict_ mask_pos ( <model>, seq= [7, 11], maskpos= 1  )\n",
      "line 240 ... seq: [7, 11]\n",
      "      seq :  [7, 11]\n",
      "LINE 256 -- model.predict( to_predict=['7,[MASK],11'] )\n"
     ]
    },
    {
     "data": {
      "application/vnd.jupyter.widget-view+json": {
       "model_id": "383602d7cf074485bb8af7d2a330663f",
       "version_major": 2,
       "version_minor": 0
      },
      "text/plain": [
       "0it [00:00, ?it/s]"
      ]
     },
     "metadata": {},
     "output_type": "display_data"
    },
    {
     "data": {
      "application/vnd.jupyter.widget-view+json": {
       "model_id": "af6b56c9217c447da587b29559f87987",
       "version_major": 2,
       "version_minor": 0
      },
      "text/plain": [
       "  0%|          | 0/1 [00:00<?, ?it/s]"
      ]
     },
     "metadata": {},
     "output_type": "display_data"
    },
    {
     "name": "stdout",
     "output_type": "stream",
     "text": [
      "  seq     -> [7, 11]\n",
      "  amax    -> 12\n",
      "  amaxval -> 0.7255479693412781\n",
      "maskpos   => 1\n",
      "--> predict_ mask_pos (model, '[7, 11]', 1 ) --- [7, 12, 11] \n",
      "LINE 317  result: nextpoi:12 nextval:0.7255479693412781 unmasked_seq:[7, 11]\n",
      "  POSSIBLE: 0.7255479693412781 -> [7, 11] [7, 11]\n",
      "line 381 bert_test_city[ Delh ] (iter: 16) -- predict_ mask([model], '[7, 11]')\n",
      "line 382 nextpoi:12, maskpos:1, nextval:0.7255479693412781, unmasked_seq:[7, 11]\n",
      "line 336... estimate_duration( pois ) : [7, 11] ) \n",
      "line 337... boot_times : {1: (np.float64(1447.3127599999998), np.float64(1509.4048599999999)), 3: (np.float64(644.0), np.float64(644.0)), 4: (np.float64(1710.11013), np.float64(1799.67295)), 5: (np.float64(4111.64443), np.float64(4452.76964)), 6: (np.float64(7485.125999999999), np.float64(7931.48429)), 7: (np.float64(2487.53043), np.float64(2568.7986600000004)), 9: (np.float64(4450.26771), np.float64(4663.99319)), 10: (np.float64(1302.45605), np.float64(1335.8737299999998)), 11: (np.float64(3576.4448500000003), np.float64(3821.34793)), 12: (np.float64(3329.4814300000003), np.float64(3554.3457799999996)), 14: (np.float64(24281.0), np.float64(24281.0)), 15: (900, 900), 16: (np.float64(2944.92384), np.float64(3125.91392)), 18: (np.float64(2677.94418), np.float64(2864.8084000000003)), 19: (np.float64(1529.4857), np.float64(1618.44008)), 21: (np.float64(4656.012790000001), np.float64(4756.08958)), 22: (np.float64(6052.0), np.float64(6052.0)), 23: (np.float64(2163.8071800000002), np.float64(2239.0955599999998)), 24: (np.float64(3589.75531), np.float64(3709.0717099999997)), 25: (np.float64(1717.97791), np.float64(1798.36825)), 26: (np.float64(4899.20767), np.float64(5089.546069999999))} ) \n",
      "boot_times :  {1: (np.float64(1447.3127599999998), np.float64(1509.4048599999999)), 3: (np.float64(644.0), np.float64(644.0)), 4: (np.float64(1710.11013), np.float64(1799.67295)), 5: (np.float64(4111.64443), np.float64(4452.76964)), 6: (np.float64(7485.125999999999), np.float64(7931.48429)), 7: (np.float64(2487.53043), np.float64(2568.7986600000004)), 9: (np.float64(4450.26771), np.float64(4663.99319)), 10: (np.float64(1302.45605), np.float64(1335.8737299999998)), 11: (np.float64(3576.4448500000003), np.float64(3821.34793)), 12: (np.float64(3329.4814300000003), np.float64(3554.3457799999996)), 14: (np.float64(24281.0), np.float64(24281.0)), 15: (900, 900), 16: (np.float64(2944.92384), np.float64(3125.91392)), 18: (np.float64(2677.94418), np.float64(2864.8084000000003)), 19: (np.float64(1529.4857), np.float64(1618.44008)), 21: (np.float64(4656.012790000001), np.float64(4756.08958)), 22: (np.float64(6052.0), np.float64(6052.0)), 23: (np.float64(2163.8071800000002), np.float64(2239.0955599999998)), 24: (np.float64(3589.75531), np.float64(3709.0717099999997)), 25: (np.float64(1717.97791), np.float64(1798.36825)), 26: (np.float64(4899.20767), np.float64(5089.546069999999))}\n",
      " intertimes :  (np.float64(2487.53043), np.float64(2568.7986600000004))\n",
      " duration   :  2528\n",
      "line 351...  estimate_duration : 7 \t sec:  2528\n",
      "boot_times :  {1: (np.float64(1447.3127599999998), np.float64(1509.4048599999999)), 3: (np.float64(644.0), np.float64(644.0)), 4: (np.float64(1710.11013), np.float64(1799.67295)), 5: (np.float64(4111.64443), np.float64(4452.76964)), 6: (np.float64(7485.125999999999), np.float64(7931.48429)), 7: (np.float64(2487.53043), np.float64(2568.7986600000004)), 9: (np.float64(4450.26771), np.float64(4663.99319)), 10: (np.float64(1302.45605), np.float64(1335.8737299999998)), 11: (np.float64(3576.4448500000003), np.float64(3821.34793)), 12: (np.float64(3329.4814300000003), np.float64(3554.3457799999996)), 14: (np.float64(24281.0), np.float64(24281.0)), 15: (900, 900), 16: (np.float64(2944.92384), np.float64(3125.91392)), 18: (np.float64(2677.94418), np.float64(2864.8084000000003)), 19: (np.float64(1529.4857), np.float64(1618.44008)), 21: (np.float64(4656.012790000001), np.float64(4756.08958)), 22: (np.float64(6052.0), np.float64(6052.0)), 23: (np.float64(2163.8071800000002), np.float64(2239.0955599999998)), 24: (np.float64(3589.75531), np.float64(3709.0717099999997)), 25: (np.float64(1717.97791), np.float64(1798.36825)), 26: (np.float64(4899.20767), np.float64(5089.546069999999))}\n",
      " intertimes :  (np.float64(3576.4448500000003), np.float64(3821.34793))\n",
      " duration   :  3698\n",
      "line 351...  estimate_duration : 11 \t sec:  3698\n",
      "line 352...  total duration [7, 11]  6226 / 103 min \n",
      "LINE:389 (iter: 16) -- predict_mask([model], '[7, 11]' ->  '6226 < 16825 sec' ?)\n",
      "\n",
      "\n",
      "-----------------\n",
      "line 379 bert_test_city[ Delh ] (iter: 17) -- predict_ mask([model], '[7, 11]')\n",
      "LINE 309, model.predict( to_predict=[['7', '11']] ) \n",
      "LINE 315  predseq => [7, 11],  maskpos => 1\n",
      "-- predict_ mask_pos ( <model>, seq= [7, 11], maskpos= 1  )\n",
      "line 240 ... seq: [7, 11]\n",
      "      seq :  [7, 11]\n",
      "LINE 256 -- model.predict( to_predict=['7,[MASK],11'] )\n"
     ]
    },
    {
     "data": {
      "application/vnd.jupyter.widget-view+json": {
       "model_id": "379f0115d56c4481914f5c341f7f5252",
       "version_major": 2,
       "version_minor": 0
      },
      "text/plain": [
       "0it [00:00, ?it/s]"
      ]
     },
     "metadata": {},
     "output_type": "display_data"
    },
    {
     "data": {
      "application/vnd.jupyter.widget-view+json": {
       "model_id": "ef971df79f97427090c7b4543a579905",
       "version_major": 2,
       "version_minor": 0
      },
      "text/plain": [
       "  0%|          | 0/1 [00:00<?, ?it/s]"
      ]
     },
     "metadata": {},
     "output_type": "display_data"
    },
    {
     "name": "stdout",
     "output_type": "stream",
     "text": [
      "  seq     -> [7, 11]\n",
      "  amax    -> 12\n",
      "  amaxval -> 0.7255479693412781\n",
      "maskpos   => 1\n",
      "--> predict_ mask_pos (model, '[7, 11]', 1 ) --- [7, 12, 11] \n",
      "LINE 317  result: nextpoi:12 nextval:0.7255479693412781 unmasked_seq:[7, 11]\n",
      "  POSSIBLE: 0.7255479693412781 -> [7, 11] [7, 11]\n",
      "line 381 bert_test_city[ Delh ] (iter: 17) -- predict_ mask([model], '[7, 11]')\n",
      "line 382 nextpoi:12, maskpos:1, nextval:0.7255479693412781, unmasked_seq:[7, 11]\n",
      "line 336... estimate_duration( pois ) : [7, 11] ) \n",
      "line 337... boot_times : {1: (np.float64(1447.3127599999998), np.float64(1509.4048599999999)), 3: (np.float64(644.0), np.float64(644.0)), 4: (np.float64(1710.11013), np.float64(1799.67295)), 5: (np.float64(4111.64443), np.float64(4452.76964)), 6: (np.float64(7485.125999999999), np.float64(7931.48429)), 7: (np.float64(2487.53043), np.float64(2568.7986600000004)), 9: (np.float64(4450.26771), np.float64(4663.99319)), 10: (np.float64(1302.45605), np.float64(1335.8737299999998)), 11: (np.float64(3576.4448500000003), np.float64(3821.34793)), 12: (np.float64(3329.4814300000003), np.float64(3554.3457799999996)), 14: (np.float64(24281.0), np.float64(24281.0)), 15: (900, 900), 16: (np.float64(2944.92384), np.float64(3125.91392)), 18: (np.float64(2677.94418), np.float64(2864.8084000000003)), 19: (np.float64(1529.4857), np.float64(1618.44008)), 21: (np.float64(4656.012790000001), np.float64(4756.08958)), 22: (np.float64(6052.0), np.float64(6052.0)), 23: (np.float64(2163.8071800000002), np.float64(2239.0955599999998)), 24: (np.float64(3589.75531), np.float64(3709.0717099999997)), 25: (np.float64(1717.97791), np.float64(1798.36825)), 26: (np.float64(4899.20767), np.float64(5089.546069999999))} ) \n",
      "boot_times :  {1: (np.float64(1447.3127599999998), np.float64(1509.4048599999999)), 3: (np.float64(644.0), np.float64(644.0)), 4: (np.float64(1710.11013), np.float64(1799.67295)), 5: (np.float64(4111.64443), np.float64(4452.76964)), 6: (np.float64(7485.125999999999), np.float64(7931.48429)), 7: (np.float64(2487.53043), np.float64(2568.7986600000004)), 9: (np.float64(4450.26771), np.float64(4663.99319)), 10: (np.float64(1302.45605), np.float64(1335.8737299999998)), 11: (np.float64(3576.4448500000003), np.float64(3821.34793)), 12: (np.float64(3329.4814300000003), np.float64(3554.3457799999996)), 14: (np.float64(24281.0), np.float64(24281.0)), 15: (900, 900), 16: (np.float64(2944.92384), np.float64(3125.91392)), 18: (np.float64(2677.94418), np.float64(2864.8084000000003)), 19: (np.float64(1529.4857), np.float64(1618.44008)), 21: (np.float64(4656.012790000001), np.float64(4756.08958)), 22: (np.float64(6052.0), np.float64(6052.0)), 23: (np.float64(2163.8071800000002), np.float64(2239.0955599999998)), 24: (np.float64(3589.75531), np.float64(3709.0717099999997)), 25: (np.float64(1717.97791), np.float64(1798.36825)), 26: (np.float64(4899.20767), np.float64(5089.546069999999))}\n",
      " intertimes :  (np.float64(2487.53043), np.float64(2568.7986600000004))\n",
      " duration   :  2528\n",
      "line 351...  estimate_duration : 7 \t sec:  2528\n",
      "boot_times :  {1: (np.float64(1447.3127599999998), np.float64(1509.4048599999999)), 3: (np.float64(644.0), np.float64(644.0)), 4: (np.float64(1710.11013), np.float64(1799.67295)), 5: (np.float64(4111.64443), np.float64(4452.76964)), 6: (np.float64(7485.125999999999), np.float64(7931.48429)), 7: (np.float64(2487.53043), np.float64(2568.7986600000004)), 9: (np.float64(4450.26771), np.float64(4663.99319)), 10: (np.float64(1302.45605), np.float64(1335.8737299999998)), 11: (np.float64(3576.4448500000003), np.float64(3821.34793)), 12: (np.float64(3329.4814300000003), np.float64(3554.3457799999996)), 14: (np.float64(24281.0), np.float64(24281.0)), 15: (900, 900), 16: (np.float64(2944.92384), np.float64(3125.91392)), 18: (np.float64(2677.94418), np.float64(2864.8084000000003)), 19: (np.float64(1529.4857), np.float64(1618.44008)), 21: (np.float64(4656.012790000001), np.float64(4756.08958)), 22: (np.float64(6052.0), np.float64(6052.0)), 23: (np.float64(2163.8071800000002), np.float64(2239.0955599999998)), 24: (np.float64(3589.75531), np.float64(3709.0717099999997)), 25: (np.float64(1717.97791), np.float64(1798.36825)), 26: (np.float64(4899.20767), np.float64(5089.546069999999))}\n",
      " intertimes :  (np.float64(3576.4448500000003), np.float64(3821.34793))\n",
      " duration   :  3698\n",
      "line 351...  estimate_duration : 11 \t sec:  3698\n",
      "line 352...  total duration [7, 11]  6226 / 103 min \n",
      "LINE:389 (iter: 17) -- predict_mask([model], '[7, 11]' ->  '6226 < 16825 sec' ?)\n",
      "\n",
      "\n",
      "-----------------\n",
      "line 379 bert_test_city[ Delh ] (iter: 18) -- predict_ mask([model], '[7, 11]')\n",
      "LINE 309, model.predict( to_predict=[['7', '11']] ) \n",
      "LINE 315  predseq => [7, 11],  maskpos => 1\n",
      "-- predict_ mask_pos ( <model>, seq= [7, 11], maskpos= 1  )\n",
      "line 240 ... seq: [7, 11]\n",
      "      seq :  [7, 11]\n",
      "LINE 256 -- model.predict( to_predict=['7,[MASK],11'] )\n"
     ]
    },
    {
     "data": {
      "application/vnd.jupyter.widget-view+json": {
       "model_id": "f2112f1fb3bf46849cfb01873b19d4b7",
       "version_major": 2,
       "version_minor": 0
      },
      "text/plain": [
       "0it [00:00, ?it/s]"
      ]
     },
     "metadata": {},
     "output_type": "display_data"
    },
    {
     "data": {
      "application/vnd.jupyter.widget-view+json": {
       "model_id": "ed9b590b57514e7fb3e8334e9fb17bf7",
       "version_major": 2,
       "version_minor": 0
      },
      "text/plain": [
       "  0%|          | 0/1 [00:00<?, ?it/s]"
      ]
     },
     "metadata": {},
     "output_type": "display_data"
    },
    {
     "name": "stdout",
     "output_type": "stream",
     "text": [
      "  seq     -> [7, 11]\n",
      "  amax    -> 12\n",
      "  amaxval -> 0.7255479693412781\n",
      "maskpos   => 1\n",
      "--> predict_ mask_pos (model, '[7, 11]', 1 ) --- [7, 12, 11] \n",
      "LINE 317  result: nextpoi:12 nextval:0.7255479693412781 unmasked_seq:[7, 11]\n",
      "  POSSIBLE: 0.7255479693412781 -> [7, 11] [7, 11]\n",
      "line 381 bert_test_city[ Delh ] (iter: 18) -- predict_ mask([model], '[7, 11]')\n",
      "line 382 nextpoi:12, maskpos:1, nextval:0.7255479693412781, unmasked_seq:[7, 11]\n",
      "line 336... estimate_duration( pois ) : [7, 11] ) \n",
      "line 337... boot_times : {1: (np.float64(1447.3127599999998), np.float64(1509.4048599999999)), 3: (np.float64(644.0), np.float64(644.0)), 4: (np.float64(1710.11013), np.float64(1799.67295)), 5: (np.float64(4111.64443), np.float64(4452.76964)), 6: (np.float64(7485.125999999999), np.float64(7931.48429)), 7: (np.float64(2487.53043), np.float64(2568.7986600000004)), 9: (np.float64(4450.26771), np.float64(4663.99319)), 10: (np.float64(1302.45605), np.float64(1335.8737299999998)), 11: (np.float64(3576.4448500000003), np.float64(3821.34793)), 12: (np.float64(3329.4814300000003), np.float64(3554.3457799999996)), 14: (np.float64(24281.0), np.float64(24281.0)), 15: (900, 900), 16: (np.float64(2944.92384), np.float64(3125.91392)), 18: (np.float64(2677.94418), np.float64(2864.8084000000003)), 19: (np.float64(1529.4857), np.float64(1618.44008)), 21: (np.float64(4656.012790000001), np.float64(4756.08958)), 22: (np.float64(6052.0), np.float64(6052.0)), 23: (np.float64(2163.8071800000002), np.float64(2239.0955599999998)), 24: (np.float64(3589.75531), np.float64(3709.0717099999997)), 25: (np.float64(1717.97791), np.float64(1798.36825)), 26: (np.float64(4899.20767), np.float64(5089.546069999999))} ) \n",
      "boot_times :  {1: (np.float64(1447.3127599999998), np.float64(1509.4048599999999)), 3: (np.float64(644.0), np.float64(644.0)), 4: (np.float64(1710.11013), np.float64(1799.67295)), 5: (np.float64(4111.64443), np.float64(4452.76964)), 6: (np.float64(7485.125999999999), np.float64(7931.48429)), 7: (np.float64(2487.53043), np.float64(2568.7986600000004)), 9: (np.float64(4450.26771), np.float64(4663.99319)), 10: (np.float64(1302.45605), np.float64(1335.8737299999998)), 11: (np.float64(3576.4448500000003), np.float64(3821.34793)), 12: (np.float64(3329.4814300000003), np.float64(3554.3457799999996)), 14: (np.float64(24281.0), np.float64(24281.0)), 15: (900, 900), 16: (np.float64(2944.92384), np.float64(3125.91392)), 18: (np.float64(2677.94418), np.float64(2864.8084000000003)), 19: (np.float64(1529.4857), np.float64(1618.44008)), 21: (np.float64(4656.012790000001), np.float64(4756.08958)), 22: (np.float64(6052.0), np.float64(6052.0)), 23: (np.float64(2163.8071800000002), np.float64(2239.0955599999998)), 24: (np.float64(3589.75531), np.float64(3709.0717099999997)), 25: (np.float64(1717.97791), np.float64(1798.36825)), 26: (np.float64(4899.20767), np.float64(5089.546069999999))}\n",
      " intertimes :  (np.float64(2487.53043), np.float64(2568.7986600000004))\n",
      " duration   :  2528\n",
      "line 351...  estimate_duration : 7 \t sec:  2528\n",
      "boot_times :  {1: (np.float64(1447.3127599999998), np.float64(1509.4048599999999)), 3: (np.float64(644.0), np.float64(644.0)), 4: (np.float64(1710.11013), np.float64(1799.67295)), 5: (np.float64(4111.64443), np.float64(4452.76964)), 6: (np.float64(7485.125999999999), np.float64(7931.48429)), 7: (np.float64(2487.53043), np.float64(2568.7986600000004)), 9: (np.float64(4450.26771), np.float64(4663.99319)), 10: (np.float64(1302.45605), np.float64(1335.8737299999998)), 11: (np.float64(3576.4448500000003), np.float64(3821.34793)), 12: (np.float64(3329.4814300000003), np.float64(3554.3457799999996)), 14: (np.float64(24281.0), np.float64(24281.0)), 15: (900, 900), 16: (np.float64(2944.92384), np.float64(3125.91392)), 18: (np.float64(2677.94418), np.float64(2864.8084000000003)), 19: (np.float64(1529.4857), np.float64(1618.44008)), 21: (np.float64(4656.012790000001), np.float64(4756.08958)), 22: (np.float64(6052.0), np.float64(6052.0)), 23: (np.float64(2163.8071800000002), np.float64(2239.0955599999998)), 24: (np.float64(3589.75531), np.float64(3709.0717099999997)), 25: (np.float64(1717.97791), np.float64(1798.36825)), 26: (np.float64(4899.20767), np.float64(5089.546069999999))}\n",
      " intertimes :  (np.float64(3576.4448500000003), np.float64(3821.34793))\n",
      " duration   :  3698\n",
      "line 351...  estimate_duration : 11 \t sec:  3698\n",
      "line 352...  total duration [7, 11]  6226 / 103 min \n",
      "LINE:389 (iter: 18) -- predict_mask([model], '[7, 11]' ->  '6226 < 16825 sec' ?)\n",
      "\n",
      "\n",
      "-----------------\n",
      "line 379 bert_test_city[ Delh ] (iter: 19) -- predict_ mask([model], '[7, 11]')\n",
      "LINE 309, model.predict( to_predict=[['7', '11']] ) \n",
      "LINE 315  predseq => [7, 11],  maskpos => 1\n",
      "-- predict_ mask_pos ( <model>, seq= [7, 11], maskpos= 1  )\n",
      "line 240 ... seq: [7, 11]\n",
      "      seq :  [7, 11]\n",
      "LINE 256 -- model.predict( to_predict=['7,[MASK],11'] )\n"
     ]
    },
    {
     "data": {
      "application/vnd.jupyter.widget-view+json": {
       "model_id": "93db0bf4acd04888ad1bbfa65eab7034",
       "version_major": 2,
       "version_minor": 0
      },
      "text/plain": [
       "0it [00:00, ?it/s]"
      ]
     },
     "metadata": {},
     "output_type": "display_data"
    },
    {
     "data": {
      "application/vnd.jupyter.widget-view+json": {
       "model_id": "b5e5a3b4e6244ef9abfc069c673621ff",
       "version_major": 2,
       "version_minor": 0
      },
      "text/plain": [
       "  0%|          | 0/1 [00:00<?, ?it/s]"
      ]
     },
     "metadata": {},
     "output_type": "display_data"
    },
    {
     "name": "stdout",
     "output_type": "stream",
     "text": [
      "  seq     -> [7, 11]\n",
      "  amax    -> 12\n",
      "  amaxval -> 0.7255479693412781\n",
      "maskpos   => 1\n",
      "--> predict_ mask_pos (model, '[7, 11]', 1 ) --- [7, 12, 11] \n",
      "LINE 317  result: nextpoi:12 nextval:0.7255479693412781 unmasked_seq:[7, 11]\n",
      "  POSSIBLE: 0.7255479693412781 -> [7, 11] [7, 11]\n",
      "line 381 bert_test_city[ Delh ] (iter: 19) -- predict_ mask([model], '[7, 11]')\n",
      "line 382 nextpoi:12, maskpos:1, nextval:0.7255479693412781, unmasked_seq:[7, 11]\n",
      "line 336... estimate_duration( pois ) : [7, 11] ) \n",
      "line 337... boot_times : {1: (np.float64(1447.3127599999998), np.float64(1509.4048599999999)), 3: (np.float64(644.0), np.float64(644.0)), 4: (np.float64(1710.11013), np.float64(1799.67295)), 5: (np.float64(4111.64443), np.float64(4452.76964)), 6: (np.float64(7485.125999999999), np.float64(7931.48429)), 7: (np.float64(2487.53043), np.float64(2568.7986600000004)), 9: (np.float64(4450.26771), np.float64(4663.99319)), 10: (np.float64(1302.45605), np.float64(1335.8737299999998)), 11: (np.float64(3576.4448500000003), np.float64(3821.34793)), 12: (np.float64(3329.4814300000003), np.float64(3554.3457799999996)), 14: (np.float64(24281.0), np.float64(24281.0)), 15: (900, 900), 16: (np.float64(2944.92384), np.float64(3125.91392)), 18: (np.float64(2677.94418), np.float64(2864.8084000000003)), 19: (np.float64(1529.4857), np.float64(1618.44008)), 21: (np.float64(4656.012790000001), np.float64(4756.08958)), 22: (np.float64(6052.0), np.float64(6052.0)), 23: (np.float64(2163.8071800000002), np.float64(2239.0955599999998)), 24: (np.float64(3589.75531), np.float64(3709.0717099999997)), 25: (np.float64(1717.97791), np.float64(1798.36825)), 26: (np.float64(4899.20767), np.float64(5089.546069999999))} ) \n",
      "boot_times :  {1: (np.float64(1447.3127599999998), np.float64(1509.4048599999999)), 3: (np.float64(644.0), np.float64(644.0)), 4: (np.float64(1710.11013), np.float64(1799.67295)), 5: (np.float64(4111.64443), np.float64(4452.76964)), 6: (np.float64(7485.125999999999), np.float64(7931.48429)), 7: (np.float64(2487.53043), np.float64(2568.7986600000004)), 9: (np.float64(4450.26771), np.float64(4663.99319)), 10: (np.float64(1302.45605), np.float64(1335.8737299999998)), 11: (np.float64(3576.4448500000003), np.float64(3821.34793)), 12: (np.float64(3329.4814300000003), np.float64(3554.3457799999996)), 14: (np.float64(24281.0), np.float64(24281.0)), 15: (900, 900), 16: (np.float64(2944.92384), np.float64(3125.91392)), 18: (np.float64(2677.94418), np.float64(2864.8084000000003)), 19: (np.float64(1529.4857), np.float64(1618.44008)), 21: (np.float64(4656.012790000001), np.float64(4756.08958)), 22: (np.float64(6052.0), np.float64(6052.0)), 23: (np.float64(2163.8071800000002), np.float64(2239.0955599999998)), 24: (np.float64(3589.75531), np.float64(3709.0717099999997)), 25: (np.float64(1717.97791), np.float64(1798.36825)), 26: (np.float64(4899.20767), np.float64(5089.546069999999))}\n",
      " intertimes :  (np.float64(2487.53043), np.float64(2568.7986600000004))\n",
      " duration   :  2528\n",
      "line 351...  estimate_duration : 7 \t sec:  2528\n",
      "boot_times :  {1: (np.float64(1447.3127599999998), np.float64(1509.4048599999999)), 3: (np.float64(644.0), np.float64(644.0)), 4: (np.float64(1710.11013), np.float64(1799.67295)), 5: (np.float64(4111.64443), np.float64(4452.76964)), 6: (np.float64(7485.125999999999), np.float64(7931.48429)), 7: (np.float64(2487.53043), np.float64(2568.7986600000004)), 9: (np.float64(4450.26771), np.float64(4663.99319)), 10: (np.float64(1302.45605), np.float64(1335.8737299999998)), 11: (np.float64(3576.4448500000003), np.float64(3821.34793)), 12: (np.float64(3329.4814300000003), np.float64(3554.3457799999996)), 14: (np.float64(24281.0), np.float64(24281.0)), 15: (900, 900), 16: (np.float64(2944.92384), np.float64(3125.91392)), 18: (np.float64(2677.94418), np.float64(2864.8084000000003)), 19: (np.float64(1529.4857), np.float64(1618.44008)), 21: (np.float64(4656.012790000001), np.float64(4756.08958)), 22: (np.float64(6052.0), np.float64(6052.0)), 23: (np.float64(2163.8071800000002), np.float64(2239.0955599999998)), 24: (np.float64(3589.75531), np.float64(3709.0717099999997)), 25: (np.float64(1717.97791), np.float64(1798.36825)), 26: (np.float64(4899.20767), np.float64(5089.546069999999))}\n",
      " intertimes :  (np.float64(3576.4448500000003), np.float64(3821.34793))\n",
      " duration   :  3698\n",
      "line 351...  estimate_duration : 11 \t sec:  3698\n",
      "line 352...  total duration [7, 11]  6226 / 103 min \n",
      "LINE:389 (iter: 19) -- predict_mask([model], '[7, 11]' ->  '6226 < 16825 sec' ?)\n",
      "\n",
      "\n",
      "-----------------\n",
      "line 379 bert_test_city[ Delh ] (iter: 20) -- predict_ mask([model], '[7, 11]')\n",
      "LINE 309, model.predict( to_predict=[['7', '11']] ) \n",
      "LINE 315  predseq => [7, 11],  maskpos => 1\n",
      "-- predict_ mask_pos ( <model>, seq= [7, 11], maskpos= 1  )\n",
      "line 240 ... seq: [7, 11]\n",
      "      seq :  [7, 11]\n",
      "LINE 256 -- model.predict( to_predict=['7,[MASK],11'] )\n"
     ]
    },
    {
     "data": {
      "application/vnd.jupyter.widget-view+json": {
       "model_id": "d3c40248a254411c8f83f9298de77fa5",
       "version_major": 2,
       "version_minor": 0
      },
      "text/plain": [
       "0it [00:00, ?it/s]"
      ]
     },
     "metadata": {},
     "output_type": "display_data"
    },
    {
     "data": {
      "application/vnd.jupyter.widget-view+json": {
       "model_id": "135d2d4469a14b9ba38e057b47971eb5",
       "version_major": 2,
       "version_minor": 0
      },
      "text/plain": [
       "  0%|          | 0/1 [00:00<?, ?it/s]"
      ]
     },
     "metadata": {},
     "output_type": "display_data"
    },
    {
     "name": "stdout",
     "output_type": "stream",
     "text": [
      "  seq     -> [7, 11]\n",
      "  amax    -> 12\n",
      "  amaxval -> 0.7255479693412781\n",
      "maskpos   => 1\n",
      "--> predict_ mask_pos (model, '[7, 11]', 1 ) --- [7, 12, 11] \n",
      "LINE 317  result: nextpoi:12 nextval:0.7255479693412781 unmasked_seq:[7, 11]\n",
      "  POSSIBLE: 0.7255479693412781 -> [7, 11] [7, 11]\n",
      "line 381 bert_test_city[ Delh ] (iter: 20) -- predict_ mask([model], '[7, 11]')\n",
      "line 382 nextpoi:12, maskpos:1, nextval:0.7255479693412781, unmasked_seq:[7, 11]\n",
      "line 336... estimate_duration( pois ) : [7, 11] ) \n",
      "line 337... boot_times : {1: (np.float64(1447.3127599999998), np.float64(1509.4048599999999)), 3: (np.float64(644.0), np.float64(644.0)), 4: (np.float64(1710.11013), np.float64(1799.67295)), 5: (np.float64(4111.64443), np.float64(4452.76964)), 6: (np.float64(7485.125999999999), np.float64(7931.48429)), 7: (np.float64(2487.53043), np.float64(2568.7986600000004)), 9: (np.float64(4450.26771), np.float64(4663.99319)), 10: (np.float64(1302.45605), np.float64(1335.8737299999998)), 11: (np.float64(3576.4448500000003), np.float64(3821.34793)), 12: (np.float64(3329.4814300000003), np.float64(3554.3457799999996)), 14: (np.float64(24281.0), np.float64(24281.0)), 15: (900, 900), 16: (np.float64(2944.92384), np.float64(3125.91392)), 18: (np.float64(2677.94418), np.float64(2864.8084000000003)), 19: (np.float64(1529.4857), np.float64(1618.44008)), 21: (np.float64(4656.012790000001), np.float64(4756.08958)), 22: (np.float64(6052.0), np.float64(6052.0)), 23: (np.float64(2163.8071800000002), np.float64(2239.0955599999998)), 24: (np.float64(3589.75531), np.float64(3709.0717099999997)), 25: (np.float64(1717.97791), np.float64(1798.36825)), 26: (np.float64(4899.20767), np.float64(5089.546069999999))} ) \n",
      "boot_times :  {1: (np.float64(1447.3127599999998), np.float64(1509.4048599999999)), 3: (np.float64(644.0), np.float64(644.0)), 4: (np.float64(1710.11013), np.float64(1799.67295)), 5: (np.float64(4111.64443), np.float64(4452.76964)), 6: (np.float64(7485.125999999999), np.float64(7931.48429)), 7: (np.float64(2487.53043), np.float64(2568.7986600000004)), 9: (np.float64(4450.26771), np.float64(4663.99319)), 10: (np.float64(1302.45605), np.float64(1335.8737299999998)), 11: (np.float64(3576.4448500000003), np.float64(3821.34793)), 12: (np.float64(3329.4814300000003), np.float64(3554.3457799999996)), 14: (np.float64(24281.0), np.float64(24281.0)), 15: (900, 900), 16: (np.float64(2944.92384), np.float64(3125.91392)), 18: (np.float64(2677.94418), np.float64(2864.8084000000003)), 19: (np.float64(1529.4857), np.float64(1618.44008)), 21: (np.float64(4656.012790000001), np.float64(4756.08958)), 22: (np.float64(6052.0), np.float64(6052.0)), 23: (np.float64(2163.8071800000002), np.float64(2239.0955599999998)), 24: (np.float64(3589.75531), np.float64(3709.0717099999997)), 25: (np.float64(1717.97791), np.float64(1798.36825)), 26: (np.float64(4899.20767), np.float64(5089.546069999999))}\n",
      " intertimes :  (np.float64(2487.53043), np.float64(2568.7986600000004))\n",
      " duration   :  2528\n",
      "line 351...  estimate_duration : 7 \t sec:  2528\n",
      "boot_times :  {1: (np.float64(1447.3127599999998), np.float64(1509.4048599999999)), 3: (np.float64(644.0), np.float64(644.0)), 4: (np.float64(1710.11013), np.float64(1799.67295)), 5: (np.float64(4111.64443), np.float64(4452.76964)), 6: (np.float64(7485.125999999999), np.float64(7931.48429)), 7: (np.float64(2487.53043), np.float64(2568.7986600000004)), 9: (np.float64(4450.26771), np.float64(4663.99319)), 10: (np.float64(1302.45605), np.float64(1335.8737299999998)), 11: (np.float64(3576.4448500000003), np.float64(3821.34793)), 12: (np.float64(3329.4814300000003), np.float64(3554.3457799999996)), 14: (np.float64(24281.0), np.float64(24281.0)), 15: (900, 900), 16: (np.float64(2944.92384), np.float64(3125.91392)), 18: (np.float64(2677.94418), np.float64(2864.8084000000003)), 19: (np.float64(1529.4857), np.float64(1618.44008)), 21: (np.float64(4656.012790000001), np.float64(4756.08958)), 22: (np.float64(6052.0), np.float64(6052.0)), 23: (np.float64(2163.8071800000002), np.float64(2239.0955599999998)), 24: (np.float64(3589.75531), np.float64(3709.0717099999997)), 25: (np.float64(1717.97791), np.float64(1798.36825)), 26: (np.float64(4899.20767), np.float64(5089.546069999999))}\n",
      " intertimes :  (np.float64(3576.4448500000003), np.float64(3821.34793))\n",
      " duration   :  3698\n",
      "line 351...  estimate_duration : 11 \t sec:  3698\n",
      "line 352...  total duration [7, 11]  6226 / 103 min \n",
      "LINE:389 (iter: 20) -- predict_mask([model], '[7, 11]' ->  '6226 < 16825 sec' ?)\n",
      "\n",
      "\n",
      "-----------------\n",
      "line 379 bert_test_city[ Delh ] (iter: 21) -- predict_ mask([model], '[7, 11]')\n",
      "LINE 309, model.predict( to_predict=[['7', '11']] ) \n",
      "LINE 315  predseq => [7, 11],  maskpos => 1\n",
      "-- predict_ mask_pos ( <model>, seq= [7, 11], maskpos= 1  )\n",
      "line 240 ... seq: [7, 11]\n",
      "      seq :  [7, 11]\n",
      "LINE 256 -- model.predict( to_predict=['7,[MASK],11'] )\n"
     ]
    },
    {
     "data": {
      "application/vnd.jupyter.widget-view+json": {
       "model_id": "f6908ecd0d8c49d18948adcae02f22ea",
       "version_major": 2,
       "version_minor": 0
      },
      "text/plain": [
       "0it [00:00, ?it/s]"
      ]
     },
     "metadata": {},
     "output_type": "display_data"
    },
    {
     "data": {
      "application/vnd.jupyter.widget-view+json": {
       "model_id": "aaf5992893d7426e9abad9805fe0e151",
       "version_major": 2,
       "version_minor": 0
      },
      "text/plain": [
       "  0%|          | 0/1 [00:00<?, ?it/s]"
      ]
     },
     "metadata": {},
     "output_type": "display_data"
    },
    {
     "name": "stdout",
     "output_type": "stream",
     "text": [
      "  seq     -> [7, 11]\n",
      "  amax    -> 12\n",
      "  amaxval -> 0.7255479693412781\n",
      "maskpos   => 1\n",
      "--> predict_ mask_pos (model, '[7, 11]', 1 ) --- [7, 12, 11] \n",
      "LINE 317  result: nextpoi:12 nextval:0.7255479693412781 unmasked_seq:[7, 11]\n",
      "  POSSIBLE: 0.7255479693412781 -> [7, 11] [7, 11]\n",
      "line 381 bert_test_city[ Delh ] (iter: 21) -- predict_ mask([model], '[7, 11]')\n",
      "line 382 nextpoi:12, maskpos:1, nextval:0.7255479693412781, unmasked_seq:[7, 11]\n",
      "line 336... estimate_duration( pois ) : [7, 11] ) \n",
      "line 337... boot_times : {1: (np.float64(1447.3127599999998), np.float64(1509.4048599999999)), 3: (np.float64(644.0), np.float64(644.0)), 4: (np.float64(1710.11013), np.float64(1799.67295)), 5: (np.float64(4111.64443), np.float64(4452.76964)), 6: (np.float64(7485.125999999999), np.float64(7931.48429)), 7: (np.float64(2487.53043), np.float64(2568.7986600000004)), 9: (np.float64(4450.26771), np.float64(4663.99319)), 10: (np.float64(1302.45605), np.float64(1335.8737299999998)), 11: (np.float64(3576.4448500000003), np.float64(3821.34793)), 12: (np.float64(3329.4814300000003), np.float64(3554.3457799999996)), 14: (np.float64(24281.0), np.float64(24281.0)), 15: (900, 900), 16: (np.float64(2944.92384), np.float64(3125.91392)), 18: (np.float64(2677.94418), np.float64(2864.8084000000003)), 19: (np.float64(1529.4857), np.float64(1618.44008)), 21: (np.float64(4656.012790000001), np.float64(4756.08958)), 22: (np.float64(6052.0), np.float64(6052.0)), 23: (np.float64(2163.8071800000002), np.float64(2239.0955599999998)), 24: (np.float64(3589.75531), np.float64(3709.0717099999997)), 25: (np.float64(1717.97791), np.float64(1798.36825)), 26: (np.float64(4899.20767), np.float64(5089.546069999999))} ) \n",
      "boot_times :  {1: (np.float64(1447.3127599999998), np.float64(1509.4048599999999)), 3: (np.float64(644.0), np.float64(644.0)), 4: (np.float64(1710.11013), np.float64(1799.67295)), 5: (np.float64(4111.64443), np.float64(4452.76964)), 6: (np.float64(7485.125999999999), np.float64(7931.48429)), 7: (np.float64(2487.53043), np.float64(2568.7986600000004)), 9: (np.float64(4450.26771), np.float64(4663.99319)), 10: (np.float64(1302.45605), np.float64(1335.8737299999998)), 11: (np.float64(3576.4448500000003), np.float64(3821.34793)), 12: (np.float64(3329.4814300000003), np.float64(3554.3457799999996)), 14: (np.float64(24281.0), np.float64(24281.0)), 15: (900, 900), 16: (np.float64(2944.92384), np.float64(3125.91392)), 18: (np.float64(2677.94418), np.float64(2864.8084000000003)), 19: (np.float64(1529.4857), np.float64(1618.44008)), 21: (np.float64(4656.012790000001), np.float64(4756.08958)), 22: (np.float64(6052.0), np.float64(6052.0)), 23: (np.float64(2163.8071800000002), np.float64(2239.0955599999998)), 24: (np.float64(3589.75531), np.float64(3709.0717099999997)), 25: (np.float64(1717.97791), np.float64(1798.36825)), 26: (np.float64(4899.20767), np.float64(5089.546069999999))}\n",
      " intertimes :  (np.float64(2487.53043), np.float64(2568.7986600000004))\n",
      " duration   :  2528\n",
      "line 351...  estimate_duration : 7 \t sec:  2528\n",
      "boot_times :  {1: (np.float64(1447.3127599999998), np.float64(1509.4048599999999)), 3: (np.float64(644.0), np.float64(644.0)), 4: (np.float64(1710.11013), np.float64(1799.67295)), 5: (np.float64(4111.64443), np.float64(4452.76964)), 6: (np.float64(7485.125999999999), np.float64(7931.48429)), 7: (np.float64(2487.53043), np.float64(2568.7986600000004)), 9: (np.float64(4450.26771), np.float64(4663.99319)), 10: (np.float64(1302.45605), np.float64(1335.8737299999998)), 11: (np.float64(3576.4448500000003), np.float64(3821.34793)), 12: (np.float64(3329.4814300000003), np.float64(3554.3457799999996)), 14: (np.float64(24281.0), np.float64(24281.0)), 15: (900, 900), 16: (np.float64(2944.92384), np.float64(3125.91392)), 18: (np.float64(2677.94418), np.float64(2864.8084000000003)), 19: (np.float64(1529.4857), np.float64(1618.44008)), 21: (np.float64(4656.012790000001), np.float64(4756.08958)), 22: (np.float64(6052.0), np.float64(6052.0)), 23: (np.float64(2163.8071800000002), np.float64(2239.0955599999998)), 24: (np.float64(3589.75531), np.float64(3709.0717099999997)), 25: (np.float64(1717.97791), np.float64(1798.36825)), 26: (np.float64(4899.20767), np.float64(5089.546069999999))}\n",
      " intertimes :  (np.float64(3576.4448500000003), np.float64(3821.34793))\n",
      " duration   :  3698\n",
      "line 351...  estimate_duration : 11 \t sec:  3698\n",
      "line 352...  total duration [7, 11]  6226 / 103 min \n",
      "LINE:389 (iter: 21) -- predict_mask([model], '[7, 11]' ->  '6226 < 16825 sec' ?)\n",
      "\n",
      "\n",
      "-----------------\n",
      "line 379 bert_test_city[ Delh ] (iter: 22) -- predict_ mask([model], '[7, 11]')\n",
      "LINE 309, model.predict( to_predict=[['7', '11']] ) \n",
      "LINE 315  predseq => [7, 11],  maskpos => 1\n",
      "-- predict_ mask_pos ( <model>, seq= [7, 11], maskpos= 1  )\n",
      "line 240 ... seq: [7, 11]\n",
      "      seq :  [7, 11]\n",
      "LINE 256 -- model.predict( to_predict=['7,[MASK],11'] )\n"
     ]
    },
    {
     "data": {
      "application/vnd.jupyter.widget-view+json": {
       "model_id": "ef22fd75b7e94b809011f87d76f54ba5",
       "version_major": 2,
       "version_minor": 0
      },
      "text/plain": [
       "0it [00:00, ?it/s]"
      ]
     },
     "metadata": {},
     "output_type": "display_data"
    },
    {
     "data": {
      "application/vnd.jupyter.widget-view+json": {
       "model_id": "27ed148bf026431c8db216ea57dea4d9",
       "version_major": 2,
       "version_minor": 0
      },
      "text/plain": [
       "  0%|          | 0/1 [00:00<?, ?it/s]"
      ]
     },
     "metadata": {},
     "output_type": "display_data"
    },
    {
     "name": "stdout",
     "output_type": "stream",
     "text": [
      "  seq     -> [7, 11]\n",
      "  amax    -> 12\n",
      "  amaxval -> 0.7255479693412781\n",
      "maskpos   => 1\n",
      "--> predict_ mask_pos (model, '[7, 11]', 1 ) --- [7, 12, 11] \n",
      "LINE 317  result: nextpoi:12 nextval:0.7255479693412781 unmasked_seq:[7, 11]\n",
      "  POSSIBLE: 0.7255479693412781 -> [7, 11] [7, 11]\n",
      "line 381 bert_test_city[ Delh ] (iter: 22) -- predict_ mask([model], '[7, 11]')\n",
      "line 382 nextpoi:12, maskpos:1, nextval:0.7255479693412781, unmasked_seq:[7, 11]\n",
      "line 336... estimate_duration( pois ) : [7, 11] ) \n",
      "line 337... boot_times : {1: (np.float64(1447.3127599999998), np.float64(1509.4048599999999)), 3: (np.float64(644.0), np.float64(644.0)), 4: (np.float64(1710.11013), np.float64(1799.67295)), 5: (np.float64(4111.64443), np.float64(4452.76964)), 6: (np.float64(7485.125999999999), np.float64(7931.48429)), 7: (np.float64(2487.53043), np.float64(2568.7986600000004)), 9: (np.float64(4450.26771), np.float64(4663.99319)), 10: (np.float64(1302.45605), np.float64(1335.8737299999998)), 11: (np.float64(3576.4448500000003), np.float64(3821.34793)), 12: (np.float64(3329.4814300000003), np.float64(3554.3457799999996)), 14: (np.float64(24281.0), np.float64(24281.0)), 15: (900, 900), 16: (np.float64(2944.92384), np.float64(3125.91392)), 18: (np.float64(2677.94418), np.float64(2864.8084000000003)), 19: (np.float64(1529.4857), np.float64(1618.44008)), 21: (np.float64(4656.012790000001), np.float64(4756.08958)), 22: (np.float64(6052.0), np.float64(6052.0)), 23: (np.float64(2163.8071800000002), np.float64(2239.0955599999998)), 24: (np.float64(3589.75531), np.float64(3709.0717099999997)), 25: (np.float64(1717.97791), np.float64(1798.36825)), 26: (np.float64(4899.20767), np.float64(5089.546069999999))} ) \n",
      "boot_times :  {1: (np.float64(1447.3127599999998), np.float64(1509.4048599999999)), 3: (np.float64(644.0), np.float64(644.0)), 4: (np.float64(1710.11013), np.float64(1799.67295)), 5: (np.float64(4111.64443), np.float64(4452.76964)), 6: (np.float64(7485.125999999999), np.float64(7931.48429)), 7: (np.float64(2487.53043), np.float64(2568.7986600000004)), 9: (np.float64(4450.26771), np.float64(4663.99319)), 10: (np.float64(1302.45605), np.float64(1335.8737299999998)), 11: (np.float64(3576.4448500000003), np.float64(3821.34793)), 12: (np.float64(3329.4814300000003), np.float64(3554.3457799999996)), 14: (np.float64(24281.0), np.float64(24281.0)), 15: (900, 900), 16: (np.float64(2944.92384), np.float64(3125.91392)), 18: (np.float64(2677.94418), np.float64(2864.8084000000003)), 19: (np.float64(1529.4857), np.float64(1618.44008)), 21: (np.float64(4656.012790000001), np.float64(4756.08958)), 22: (np.float64(6052.0), np.float64(6052.0)), 23: (np.float64(2163.8071800000002), np.float64(2239.0955599999998)), 24: (np.float64(3589.75531), np.float64(3709.0717099999997)), 25: (np.float64(1717.97791), np.float64(1798.36825)), 26: (np.float64(4899.20767), np.float64(5089.546069999999))}\n",
      " intertimes :  (np.float64(2487.53043), np.float64(2568.7986600000004))\n",
      " duration   :  2528\n",
      "line 351...  estimate_duration : 7 \t sec:  2528\n",
      "boot_times :  {1: (np.float64(1447.3127599999998), np.float64(1509.4048599999999)), 3: (np.float64(644.0), np.float64(644.0)), 4: (np.float64(1710.11013), np.float64(1799.67295)), 5: (np.float64(4111.64443), np.float64(4452.76964)), 6: (np.float64(7485.125999999999), np.float64(7931.48429)), 7: (np.float64(2487.53043), np.float64(2568.7986600000004)), 9: (np.float64(4450.26771), np.float64(4663.99319)), 10: (np.float64(1302.45605), np.float64(1335.8737299999998)), 11: (np.float64(3576.4448500000003), np.float64(3821.34793)), 12: (np.float64(3329.4814300000003), np.float64(3554.3457799999996)), 14: (np.float64(24281.0), np.float64(24281.0)), 15: (900, 900), 16: (np.float64(2944.92384), np.float64(3125.91392)), 18: (np.float64(2677.94418), np.float64(2864.8084000000003)), 19: (np.float64(1529.4857), np.float64(1618.44008)), 21: (np.float64(4656.012790000001), np.float64(4756.08958)), 22: (np.float64(6052.0), np.float64(6052.0)), 23: (np.float64(2163.8071800000002), np.float64(2239.0955599999998)), 24: (np.float64(3589.75531), np.float64(3709.0717099999997)), 25: (np.float64(1717.97791), np.float64(1798.36825)), 26: (np.float64(4899.20767), np.float64(5089.546069999999))}\n",
      " intertimes :  (np.float64(3576.4448500000003), np.float64(3821.34793))\n",
      " duration   :  3698\n",
      "line 351...  estimate_duration : 11 \t sec:  3698\n",
      "line 352...  total duration [7, 11]  6226 / 103 min \n",
      "LINE:389 (iter: 22) -- predict_mask([model], '[7, 11]' ->  '6226 < 16825 sec' ?)\n",
      "\n",
      "\n",
      "-----------------\n",
      "line 379 bert_test_city[ Delh ] (iter: 23) -- predict_ mask([model], '[7, 11]')\n",
      "LINE 309, model.predict( to_predict=[['7', '11']] ) \n",
      "LINE 315  predseq => [7, 11],  maskpos => 1\n",
      "-- predict_ mask_pos ( <model>, seq= [7, 11], maskpos= 1  )\n",
      "line 240 ... seq: [7, 11]\n",
      "      seq :  [7, 11]\n",
      "LINE 256 -- model.predict( to_predict=['7,[MASK],11'] )\n"
     ]
    },
    {
     "data": {
      "application/vnd.jupyter.widget-view+json": {
       "model_id": "cfcb5de13a2b4d6f8a3b42c19d321f9b",
       "version_major": 2,
       "version_minor": 0
      },
      "text/plain": [
       "0it [00:00, ?it/s]"
      ]
     },
     "metadata": {},
     "output_type": "display_data"
    },
    {
     "data": {
      "application/vnd.jupyter.widget-view+json": {
       "model_id": "626daefa91b04bbc94f2b2038a76cc1c",
       "version_major": 2,
       "version_minor": 0
      },
      "text/plain": [
       "  0%|          | 0/1 [00:00<?, ?it/s]"
      ]
     },
     "metadata": {},
     "output_type": "display_data"
    },
    {
     "name": "stdout",
     "output_type": "stream",
     "text": [
      "  seq     -> [7, 11]\n",
      "  amax    -> 12\n",
      "  amaxval -> 0.7255479693412781\n",
      "maskpos   => 1\n",
      "--> predict_ mask_pos (model, '[7, 11]', 1 ) --- [7, 12, 11] \n",
      "LINE 317  result: nextpoi:12 nextval:0.7255479693412781 unmasked_seq:[7, 11]\n",
      "  POSSIBLE: 0.7255479693412781 -> [7, 11] [7, 11]\n",
      "line 381 bert_test_city[ Delh ] (iter: 23) -- predict_ mask([model], '[7, 11]')\n",
      "line 382 nextpoi:12, maskpos:1, nextval:0.7255479693412781, unmasked_seq:[7, 11]\n",
      "line 336... estimate_duration( pois ) : [7, 11] ) \n",
      "line 337... boot_times : {1: (np.float64(1447.3127599999998), np.float64(1509.4048599999999)), 3: (np.float64(644.0), np.float64(644.0)), 4: (np.float64(1710.11013), np.float64(1799.67295)), 5: (np.float64(4111.64443), np.float64(4452.76964)), 6: (np.float64(7485.125999999999), np.float64(7931.48429)), 7: (np.float64(2487.53043), np.float64(2568.7986600000004)), 9: (np.float64(4450.26771), np.float64(4663.99319)), 10: (np.float64(1302.45605), np.float64(1335.8737299999998)), 11: (np.float64(3576.4448500000003), np.float64(3821.34793)), 12: (np.float64(3329.4814300000003), np.float64(3554.3457799999996)), 14: (np.float64(24281.0), np.float64(24281.0)), 15: (900, 900), 16: (np.float64(2944.92384), np.float64(3125.91392)), 18: (np.float64(2677.94418), np.float64(2864.8084000000003)), 19: (np.float64(1529.4857), np.float64(1618.44008)), 21: (np.float64(4656.012790000001), np.float64(4756.08958)), 22: (np.float64(6052.0), np.float64(6052.0)), 23: (np.float64(2163.8071800000002), np.float64(2239.0955599999998)), 24: (np.float64(3589.75531), np.float64(3709.0717099999997)), 25: (np.float64(1717.97791), np.float64(1798.36825)), 26: (np.float64(4899.20767), np.float64(5089.546069999999))} ) \n",
      "boot_times :  {1: (np.float64(1447.3127599999998), np.float64(1509.4048599999999)), 3: (np.float64(644.0), np.float64(644.0)), 4: (np.float64(1710.11013), np.float64(1799.67295)), 5: (np.float64(4111.64443), np.float64(4452.76964)), 6: (np.float64(7485.125999999999), np.float64(7931.48429)), 7: (np.float64(2487.53043), np.float64(2568.7986600000004)), 9: (np.float64(4450.26771), np.float64(4663.99319)), 10: (np.float64(1302.45605), np.float64(1335.8737299999998)), 11: (np.float64(3576.4448500000003), np.float64(3821.34793)), 12: (np.float64(3329.4814300000003), np.float64(3554.3457799999996)), 14: (np.float64(24281.0), np.float64(24281.0)), 15: (900, 900), 16: (np.float64(2944.92384), np.float64(3125.91392)), 18: (np.float64(2677.94418), np.float64(2864.8084000000003)), 19: (np.float64(1529.4857), np.float64(1618.44008)), 21: (np.float64(4656.012790000001), np.float64(4756.08958)), 22: (np.float64(6052.0), np.float64(6052.0)), 23: (np.float64(2163.8071800000002), np.float64(2239.0955599999998)), 24: (np.float64(3589.75531), np.float64(3709.0717099999997)), 25: (np.float64(1717.97791), np.float64(1798.36825)), 26: (np.float64(4899.20767), np.float64(5089.546069999999))}\n",
      " intertimes :  (np.float64(2487.53043), np.float64(2568.7986600000004))\n",
      " duration   :  2528\n",
      "line 351...  estimate_duration : 7 \t sec:  2528\n",
      "boot_times :  {1: (np.float64(1447.3127599999998), np.float64(1509.4048599999999)), 3: (np.float64(644.0), np.float64(644.0)), 4: (np.float64(1710.11013), np.float64(1799.67295)), 5: (np.float64(4111.64443), np.float64(4452.76964)), 6: (np.float64(7485.125999999999), np.float64(7931.48429)), 7: (np.float64(2487.53043), np.float64(2568.7986600000004)), 9: (np.float64(4450.26771), np.float64(4663.99319)), 10: (np.float64(1302.45605), np.float64(1335.8737299999998)), 11: (np.float64(3576.4448500000003), np.float64(3821.34793)), 12: (np.float64(3329.4814300000003), np.float64(3554.3457799999996)), 14: (np.float64(24281.0), np.float64(24281.0)), 15: (900, 900), 16: (np.float64(2944.92384), np.float64(3125.91392)), 18: (np.float64(2677.94418), np.float64(2864.8084000000003)), 19: (np.float64(1529.4857), np.float64(1618.44008)), 21: (np.float64(4656.012790000001), np.float64(4756.08958)), 22: (np.float64(6052.0), np.float64(6052.0)), 23: (np.float64(2163.8071800000002), np.float64(2239.0955599999998)), 24: (np.float64(3589.75531), np.float64(3709.0717099999997)), 25: (np.float64(1717.97791), np.float64(1798.36825)), 26: (np.float64(4899.20767), np.float64(5089.546069999999))}\n",
      " intertimes :  (np.float64(3576.4448500000003), np.float64(3821.34793))\n",
      " duration   :  3698\n",
      "line 351...  estimate_duration : 11 \t sec:  3698\n",
      "line 352...  total duration [7, 11]  6226 / 103 min \n",
      "LINE:389 (iter: 23) -- predict_mask([model], '[7, 11]' ->  '6226 < 16825 sec' ?)\n",
      "\n",
      "\n",
      "-----------------\n",
      "line 379 bert_test_city[ Delh ] (iter: 24) -- predict_ mask([model], '[7, 11]')\n",
      "LINE 309, model.predict( to_predict=[['7', '11']] ) \n",
      "LINE 315  predseq => [7, 11],  maskpos => 1\n",
      "-- predict_ mask_pos ( <model>, seq= [7, 11], maskpos= 1  )\n",
      "line 240 ... seq: [7, 11]\n",
      "      seq :  [7, 11]\n",
      "LINE 256 -- model.predict( to_predict=['7,[MASK],11'] )\n"
     ]
    },
    {
     "data": {
      "application/vnd.jupyter.widget-view+json": {
       "model_id": "8b9691e8e98b40d28be8fdf240dbb5db",
       "version_major": 2,
       "version_minor": 0
      },
      "text/plain": [
       "0it [00:00, ?it/s]"
      ]
     },
     "metadata": {},
     "output_type": "display_data"
    },
    {
     "data": {
      "application/vnd.jupyter.widget-view+json": {
       "model_id": "b7715ecb8d884326b2cf0044b8fb0b6d",
       "version_major": 2,
       "version_minor": 0
      },
      "text/plain": [
       "  0%|          | 0/1 [00:00<?, ?it/s]"
      ]
     },
     "metadata": {},
     "output_type": "display_data"
    },
    {
     "name": "stdout",
     "output_type": "stream",
     "text": [
      "  seq     -> [7, 11]\n",
      "  amax    -> 12\n",
      "  amaxval -> 0.7255479693412781\n",
      "maskpos   => 1\n",
      "--> predict_ mask_pos (model, '[7, 11]', 1 ) --- [7, 12, 11] \n",
      "LINE 317  result: nextpoi:12 nextval:0.7255479693412781 unmasked_seq:[7, 11]\n",
      "  POSSIBLE: 0.7255479693412781 -> [7, 11] [7, 11]\n",
      "line 381 bert_test_city[ Delh ] (iter: 24) -- predict_ mask([model], '[7, 11]')\n",
      "line 382 nextpoi:12, maskpos:1, nextval:0.7255479693412781, unmasked_seq:[7, 11]\n",
      "line 336... estimate_duration( pois ) : [7, 11] ) \n",
      "line 337... boot_times : {1: (np.float64(1447.3127599999998), np.float64(1509.4048599999999)), 3: (np.float64(644.0), np.float64(644.0)), 4: (np.float64(1710.11013), np.float64(1799.67295)), 5: (np.float64(4111.64443), np.float64(4452.76964)), 6: (np.float64(7485.125999999999), np.float64(7931.48429)), 7: (np.float64(2487.53043), np.float64(2568.7986600000004)), 9: (np.float64(4450.26771), np.float64(4663.99319)), 10: (np.float64(1302.45605), np.float64(1335.8737299999998)), 11: (np.float64(3576.4448500000003), np.float64(3821.34793)), 12: (np.float64(3329.4814300000003), np.float64(3554.3457799999996)), 14: (np.float64(24281.0), np.float64(24281.0)), 15: (900, 900), 16: (np.float64(2944.92384), np.float64(3125.91392)), 18: (np.float64(2677.94418), np.float64(2864.8084000000003)), 19: (np.float64(1529.4857), np.float64(1618.44008)), 21: (np.float64(4656.012790000001), np.float64(4756.08958)), 22: (np.float64(6052.0), np.float64(6052.0)), 23: (np.float64(2163.8071800000002), np.float64(2239.0955599999998)), 24: (np.float64(3589.75531), np.float64(3709.0717099999997)), 25: (np.float64(1717.97791), np.float64(1798.36825)), 26: (np.float64(4899.20767), np.float64(5089.546069999999))} ) \n",
      "boot_times :  {1: (np.float64(1447.3127599999998), np.float64(1509.4048599999999)), 3: (np.float64(644.0), np.float64(644.0)), 4: (np.float64(1710.11013), np.float64(1799.67295)), 5: (np.float64(4111.64443), np.float64(4452.76964)), 6: (np.float64(7485.125999999999), np.float64(7931.48429)), 7: (np.float64(2487.53043), np.float64(2568.7986600000004)), 9: (np.float64(4450.26771), np.float64(4663.99319)), 10: (np.float64(1302.45605), np.float64(1335.8737299999998)), 11: (np.float64(3576.4448500000003), np.float64(3821.34793)), 12: (np.float64(3329.4814300000003), np.float64(3554.3457799999996)), 14: (np.float64(24281.0), np.float64(24281.0)), 15: (900, 900), 16: (np.float64(2944.92384), np.float64(3125.91392)), 18: (np.float64(2677.94418), np.float64(2864.8084000000003)), 19: (np.float64(1529.4857), np.float64(1618.44008)), 21: (np.float64(4656.012790000001), np.float64(4756.08958)), 22: (np.float64(6052.0), np.float64(6052.0)), 23: (np.float64(2163.8071800000002), np.float64(2239.0955599999998)), 24: (np.float64(3589.75531), np.float64(3709.0717099999997)), 25: (np.float64(1717.97791), np.float64(1798.36825)), 26: (np.float64(4899.20767), np.float64(5089.546069999999))}\n",
      " intertimes :  (np.float64(2487.53043), np.float64(2568.7986600000004))\n",
      " duration   :  2528\n",
      "line 351...  estimate_duration : 7 \t sec:  2528\n",
      "boot_times :  {1: (np.float64(1447.3127599999998), np.float64(1509.4048599999999)), 3: (np.float64(644.0), np.float64(644.0)), 4: (np.float64(1710.11013), np.float64(1799.67295)), 5: (np.float64(4111.64443), np.float64(4452.76964)), 6: (np.float64(7485.125999999999), np.float64(7931.48429)), 7: (np.float64(2487.53043), np.float64(2568.7986600000004)), 9: (np.float64(4450.26771), np.float64(4663.99319)), 10: (np.float64(1302.45605), np.float64(1335.8737299999998)), 11: (np.float64(3576.4448500000003), np.float64(3821.34793)), 12: (np.float64(3329.4814300000003), np.float64(3554.3457799999996)), 14: (np.float64(24281.0), np.float64(24281.0)), 15: (900, 900), 16: (np.float64(2944.92384), np.float64(3125.91392)), 18: (np.float64(2677.94418), np.float64(2864.8084000000003)), 19: (np.float64(1529.4857), np.float64(1618.44008)), 21: (np.float64(4656.012790000001), np.float64(4756.08958)), 22: (np.float64(6052.0), np.float64(6052.0)), 23: (np.float64(2163.8071800000002), np.float64(2239.0955599999998)), 24: (np.float64(3589.75531), np.float64(3709.0717099999997)), 25: (np.float64(1717.97791), np.float64(1798.36825)), 26: (np.float64(4899.20767), np.float64(5089.546069999999))}\n",
      " intertimes :  (np.float64(3576.4448500000003), np.float64(3821.34793))\n",
      " duration   :  3698\n",
      "line 351...  estimate_duration : 11 \t sec:  3698\n",
      "line 352...  total duration [7, 11]  6226 / 103 min \n",
      "LINE:389 (iter: 24) -- predict_mask([model], '[7, 11]' ->  '6226 < 16825 sec' ?)\n",
      "\n",
      "\n",
      "-----------------\n",
      "line 379 bert_test_city[ Delh ] (iter: 25) -- predict_ mask([model], '[7, 11]')\n",
      "LINE 309, model.predict( to_predict=[['7', '11']] ) \n",
      "LINE 315  predseq => [7, 11],  maskpos => 1\n",
      "-- predict_ mask_pos ( <model>, seq= [7, 11], maskpos= 1  )\n",
      "line 240 ... seq: [7, 11]\n",
      "      seq :  [7, 11]\n",
      "LINE 256 -- model.predict( to_predict=['7,[MASK],11'] )\n"
     ]
    },
    {
     "data": {
      "application/vnd.jupyter.widget-view+json": {
       "model_id": "44bff303ce534a6ca3ba03e2b24cfeae",
       "version_major": 2,
       "version_minor": 0
      },
      "text/plain": [
       "0it [00:00, ?it/s]"
      ]
     },
     "metadata": {},
     "output_type": "display_data"
    },
    {
     "data": {
      "application/vnd.jupyter.widget-view+json": {
       "model_id": "11e7b8cd56c949949abba3290cca0ee0",
       "version_major": 2,
       "version_minor": 0
      },
      "text/plain": [
       "  0%|          | 0/1 [00:00<?, ?it/s]"
      ]
     },
     "metadata": {},
     "output_type": "display_data"
    },
    {
     "name": "stdout",
     "output_type": "stream",
     "text": [
      "  seq     -> [7, 11]\n",
      "  amax    -> 12\n",
      "  amaxval -> 0.7255479693412781\n",
      "maskpos   => 1\n",
      "--> predict_ mask_pos (model, '[7, 11]', 1 ) --- [7, 12, 11] \n",
      "LINE 317  result: nextpoi:12 nextval:0.7255479693412781 unmasked_seq:[7, 11]\n",
      "  POSSIBLE: 0.7255479693412781 -> [7, 11] [7, 11]\n",
      "line 381 bert_test_city[ Delh ] (iter: 25) -- predict_ mask([model], '[7, 11]')\n",
      "line 382 nextpoi:12, maskpos:1, nextval:0.7255479693412781, unmasked_seq:[7, 11]\n",
      "line 336... estimate_duration( pois ) : [7, 11] ) \n",
      "line 337... boot_times : {1: (np.float64(1447.3127599999998), np.float64(1509.4048599999999)), 3: (np.float64(644.0), np.float64(644.0)), 4: (np.float64(1710.11013), np.float64(1799.67295)), 5: (np.float64(4111.64443), np.float64(4452.76964)), 6: (np.float64(7485.125999999999), np.float64(7931.48429)), 7: (np.float64(2487.53043), np.float64(2568.7986600000004)), 9: (np.float64(4450.26771), np.float64(4663.99319)), 10: (np.float64(1302.45605), np.float64(1335.8737299999998)), 11: (np.float64(3576.4448500000003), np.float64(3821.34793)), 12: (np.float64(3329.4814300000003), np.float64(3554.3457799999996)), 14: (np.float64(24281.0), np.float64(24281.0)), 15: (900, 900), 16: (np.float64(2944.92384), np.float64(3125.91392)), 18: (np.float64(2677.94418), np.float64(2864.8084000000003)), 19: (np.float64(1529.4857), np.float64(1618.44008)), 21: (np.float64(4656.012790000001), np.float64(4756.08958)), 22: (np.float64(6052.0), np.float64(6052.0)), 23: (np.float64(2163.8071800000002), np.float64(2239.0955599999998)), 24: (np.float64(3589.75531), np.float64(3709.0717099999997)), 25: (np.float64(1717.97791), np.float64(1798.36825)), 26: (np.float64(4899.20767), np.float64(5089.546069999999))} ) \n",
      "boot_times :  {1: (np.float64(1447.3127599999998), np.float64(1509.4048599999999)), 3: (np.float64(644.0), np.float64(644.0)), 4: (np.float64(1710.11013), np.float64(1799.67295)), 5: (np.float64(4111.64443), np.float64(4452.76964)), 6: (np.float64(7485.125999999999), np.float64(7931.48429)), 7: (np.float64(2487.53043), np.float64(2568.7986600000004)), 9: (np.float64(4450.26771), np.float64(4663.99319)), 10: (np.float64(1302.45605), np.float64(1335.8737299999998)), 11: (np.float64(3576.4448500000003), np.float64(3821.34793)), 12: (np.float64(3329.4814300000003), np.float64(3554.3457799999996)), 14: (np.float64(24281.0), np.float64(24281.0)), 15: (900, 900), 16: (np.float64(2944.92384), np.float64(3125.91392)), 18: (np.float64(2677.94418), np.float64(2864.8084000000003)), 19: (np.float64(1529.4857), np.float64(1618.44008)), 21: (np.float64(4656.012790000001), np.float64(4756.08958)), 22: (np.float64(6052.0), np.float64(6052.0)), 23: (np.float64(2163.8071800000002), np.float64(2239.0955599999998)), 24: (np.float64(3589.75531), np.float64(3709.0717099999997)), 25: (np.float64(1717.97791), np.float64(1798.36825)), 26: (np.float64(4899.20767), np.float64(5089.546069999999))}\n",
      " intertimes :  (np.float64(2487.53043), np.float64(2568.7986600000004))\n",
      " duration   :  2528\n",
      "line 351...  estimate_duration : 7 \t sec:  2528\n",
      "boot_times :  {1: (np.float64(1447.3127599999998), np.float64(1509.4048599999999)), 3: (np.float64(644.0), np.float64(644.0)), 4: (np.float64(1710.11013), np.float64(1799.67295)), 5: (np.float64(4111.64443), np.float64(4452.76964)), 6: (np.float64(7485.125999999999), np.float64(7931.48429)), 7: (np.float64(2487.53043), np.float64(2568.7986600000004)), 9: (np.float64(4450.26771), np.float64(4663.99319)), 10: (np.float64(1302.45605), np.float64(1335.8737299999998)), 11: (np.float64(3576.4448500000003), np.float64(3821.34793)), 12: (np.float64(3329.4814300000003), np.float64(3554.3457799999996)), 14: (np.float64(24281.0), np.float64(24281.0)), 15: (900, 900), 16: (np.float64(2944.92384), np.float64(3125.91392)), 18: (np.float64(2677.94418), np.float64(2864.8084000000003)), 19: (np.float64(1529.4857), np.float64(1618.44008)), 21: (np.float64(4656.012790000001), np.float64(4756.08958)), 22: (np.float64(6052.0), np.float64(6052.0)), 23: (np.float64(2163.8071800000002), np.float64(2239.0955599999998)), 24: (np.float64(3589.75531), np.float64(3709.0717099999997)), 25: (np.float64(1717.97791), np.float64(1798.36825)), 26: (np.float64(4899.20767), np.float64(5089.546069999999))}\n",
      " intertimes :  (np.float64(3576.4448500000003), np.float64(3821.34793))\n",
      " duration   :  3698\n",
      "line 351...  estimate_duration : 11 \t sec:  3698\n",
      "line 352...  total duration [7, 11]  6226 / 103 min \n",
      "LINE:389 (iter: 25) -- predict_mask([model], '[7, 11]' ->  '6226 < 16825 sec' ?)\n",
      " (seqID:428) ->  history : [ 7 18 12 11]\n",
      " (seqID:428) ->  predseq : [7, 11]\n",
      " (seqID:428) => recall:    50.0 %\n",
      " (seqID:428) => precision: 100.0 %\n",
      " (seqID:428) => f1: 66.66666666666666 %\t recall: 50.0 \t precision: 100.0\n",
      "\n",
      "\n",
      "-----------------\n",
      "line 379 bert_test_city[ Delh ] (iter: 0) -- predict_ mask([model], '[4, 18]')\n",
      "LINE 309, model.predict( to_predict=[['4', '18']] ) \n",
      "LINE 315  predseq => [4, 18],  maskpos => 1\n",
      "-- predict_ mask_pos ( <model>, seq= [4, 18], maskpos= 1  )\n",
      "line 240 ... seq: [4, 18]\n",
      "      seq :  [4, 18]\n",
      "LINE 256 -- model.predict( to_predict=['4,[MASK],18'] )\n"
     ]
    },
    {
     "data": {
      "application/vnd.jupyter.widget-view+json": {
       "model_id": "26cd4c98c9dd446c9f595d964724520d",
       "version_major": 2,
       "version_minor": 0
      },
      "text/plain": [
       "0it [00:00, ?it/s]"
      ]
     },
     "metadata": {},
     "output_type": "display_data"
    },
    {
     "data": {
      "application/vnd.jupyter.widget-view+json": {
       "model_id": "a7b827c9f2c6418d9daab324a0f48e2a",
       "version_major": 2,
       "version_minor": 0
      },
      "text/plain": [
       "  0%|          | 0/1 [00:00<?, ?it/s]"
      ]
     },
     "metadata": {},
     "output_type": "display_data"
    },
    {
     "name": "stdout",
     "output_type": "stream",
     "text": [
      "  seq     -> [4, 18]\n",
      "  amax    -> 12\n",
      "  amaxval -> 0.738299548625946\n",
      "maskpos   => 1\n",
      "--> predict_ mask_pos (model, '[4, 18]', 1 ) --- [4, 12, 18] \n",
      "LINE 317  result: nextpoi:12 nextval:0.738299548625946 unmasked_seq:[4, 18]\n",
      "  POSSIBLE: 0.738299548625946 -> [4, 18] [4, 18]\n",
      "line 381 bert_test_city[ Delh ] (iter: 0) -- predict_ mask([model], '[4, 18]')\n",
      "line 382 nextpoi:12, maskpos:1, nextval:0.738299548625946, unmasked_seq:[4, 18]\n",
      "line 336... estimate_duration( pois ) : [4, 18] ) \n",
      "line 337... boot_times : {1: (np.float64(1447.3127599999998), np.float64(1509.4048599999999)), 3: (np.float64(644.0), np.float64(644.0)), 4: (np.float64(1710.11013), np.float64(1799.67295)), 5: (np.float64(4111.64443), np.float64(4452.76964)), 6: (np.float64(7485.125999999999), np.float64(7931.48429)), 7: (np.float64(2487.53043), np.float64(2568.7986600000004)), 9: (np.float64(4450.26771), np.float64(4663.99319)), 10: (np.float64(1302.45605), np.float64(1335.8737299999998)), 11: (np.float64(3576.4448500000003), np.float64(3821.34793)), 12: (np.float64(3329.4814300000003), np.float64(3554.3457799999996)), 14: (np.float64(24281.0), np.float64(24281.0)), 15: (900, 900), 16: (np.float64(2944.92384), np.float64(3125.91392)), 18: (np.float64(2677.94418), np.float64(2864.8084000000003)), 19: (np.float64(1529.4857), np.float64(1618.44008)), 21: (np.float64(4656.012790000001), np.float64(4756.08958)), 22: (np.float64(6052.0), np.float64(6052.0)), 23: (np.float64(2163.8071800000002), np.float64(2239.0955599999998)), 24: (np.float64(3589.75531), np.float64(3709.0717099999997)), 25: (np.float64(1717.97791), np.float64(1798.36825)), 26: (np.float64(4899.20767), np.float64(5089.546069999999))} ) \n",
      "boot_times :  {1: (np.float64(1447.3127599999998), np.float64(1509.4048599999999)), 3: (np.float64(644.0), np.float64(644.0)), 4: (np.float64(1710.11013), np.float64(1799.67295)), 5: (np.float64(4111.64443), np.float64(4452.76964)), 6: (np.float64(7485.125999999999), np.float64(7931.48429)), 7: (np.float64(2487.53043), np.float64(2568.7986600000004)), 9: (np.float64(4450.26771), np.float64(4663.99319)), 10: (np.float64(1302.45605), np.float64(1335.8737299999998)), 11: (np.float64(3576.4448500000003), np.float64(3821.34793)), 12: (np.float64(3329.4814300000003), np.float64(3554.3457799999996)), 14: (np.float64(24281.0), np.float64(24281.0)), 15: (900, 900), 16: (np.float64(2944.92384), np.float64(3125.91392)), 18: (np.float64(2677.94418), np.float64(2864.8084000000003)), 19: (np.float64(1529.4857), np.float64(1618.44008)), 21: (np.float64(4656.012790000001), np.float64(4756.08958)), 22: (np.float64(6052.0), np.float64(6052.0)), 23: (np.float64(2163.8071800000002), np.float64(2239.0955599999998)), 24: (np.float64(3589.75531), np.float64(3709.0717099999997)), 25: (np.float64(1717.97791), np.float64(1798.36825)), 26: (np.float64(4899.20767), np.float64(5089.546069999999))}\n",
      " intertimes :  (np.float64(1710.11013), np.float64(1799.67295))\n",
      " duration   :  1754\n",
      "line 351...  estimate_duration : 4 \t sec:  1754\n",
      "boot_times :  {1: (np.float64(1447.3127599999998), np.float64(1509.4048599999999)), 3: (np.float64(644.0), np.float64(644.0)), 4: (np.float64(1710.11013), np.float64(1799.67295)), 5: (np.float64(4111.64443), np.float64(4452.76964)), 6: (np.float64(7485.125999999999), np.float64(7931.48429)), 7: (np.float64(2487.53043), np.float64(2568.7986600000004)), 9: (np.float64(4450.26771), np.float64(4663.99319)), 10: (np.float64(1302.45605), np.float64(1335.8737299999998)), 11: (np.float64(3576.4448500000003), np.float64(3821.34793)), 12: (np.float64(3329.4814300000003), np.float64(3554.3457799999996)), 14: (np.float64(24281.0), np.float64(24281.0)), 15: (900, 900), 16: (np.float64(2944.92384), np.float64(3125.91392)), 18: (np.float64(2677.94418), np.float64(2864.8084000000003)), 19: (np.float64(1529.4857), np.float64(1618.44008)), 21: (np.float64(4656.012790000001), np.float64(4756.08958)), 22: (np.float64(6052.0), np.float64(6052.0)), 23: (np.float64(2163.8071800000002), np.float64(2239.0955599999998)), 24: (np.float64(3589.75531), np.float64(3709.0717099999997)), 25: (np.float64(1717.97791), np.float64(1798.36825)), 26: (np.float64(4899.20767), np.float64(5089.546069999999))}\n",
      " intertimes :  (np.float64(2677.94418), np.float64(2864.8084000000003))\n",
      " duration   :  2771\n",
      "line 351...  estimate_duration : 18 \t sec:  2771\n",
      "line 352...  total duration [4, 18]  4525 / 75 min \n",
      "LINE:389 (iter: 0) -- predict_mask([model], '[4, 18]' ->  '4525 < 13446 sec' ?)\n",
      "\n",
      "\n",
      "-----------------\n",
      "line 379 bert_test_city[ Delh ] (iter: 1) -- predict_ mask([model], '[4, 18]')\n",
      "LINE 309, model.predict( to_predict=[['4', '18']] ) \n",
      "LINE 315  predseq => [4, 18],  maskpos => 1\n",
      "-- predict_ mask_pos ( <model>, seq= [4, 18], maskpos= 1  )\n",
      "line 240 ... seq: [4, 18]\n",
      "      seq :  [4, 18]\n",
      "LINE 256 -- model.predict( to_predict=['4,[MASK],18'] )\n"
     ]
    },
    {
     "data": {
      "application/vnd.jupyter.widget-view+json": {
       "model_id": "47f5d2b39409400ebf3cc905ebb345e4",
       "version_major": 2,
       "version_minor": 0
      },
      "text/plain": [
       "0it [00:00, ?it/s]"
      ]
     },
     "metadata": {},
     "output_type": "display_data"
    },
    {
     "data": {
      "application/vnd.jupyter.widget-view+json": {
       "model_id": "d0be6b7f453042cfab9279a0e2fdb746",
       "version_major": 2,
       "version_minor": 0
      },
      "text/plain": [
       "  0%|          | 0/1 [00:00<?, ?it/s]"
      ]
     },
     "metadata": {},
     "output_type": "display_data"
    },
    {
     "name": "stdout",
     "output_type": "stream",
     "text": [
      "  seq     -> [4, 18]\n",
      "  amax    -> 12\n",
      "  amaxval -> 0.738299548625946\n",
      "maskpos   => 1\n",
      "--> predict_ mask_pos (model, '[4, 18]', 1 ) --- [4, 12, 18] \n",
      "LINE 317  result: nextpoi:12 nextval:0.738299548625946 unmasked_seq:[4, 18]\n",
      "  POSSIBLE: 0.738299548625946 -> [4, 18] [4, 18]\n",
      "line 381 bert_test_city[ Delh ] (iter: 1) -- predict_ mask([model], '[4, 18]')\n",
      "line 382 nextpoi:12, maskpos:1, nextval:0.738299548625946, unmasked_seq:[4, 18]\n",
      "line 336... estimate_duration( pois ) : [4, 18] ) \n",
      "line 337... boot_times : {1: (np.float64(1447.3127599999998), np.float64(1509.4048599999999)), 3: (np.float64(644.0), np.float64(644.0)), 4: (np.float64(1710.11013), np.float64(1799.67295)), 5: (np.float64(4111.64443), np.float64(4452.76964)), 6: (np.float64(7485.125999999999), np.float64(7931.48429)), 7: (np.float64(2487.53043), np.float64(2568.7986600000004)), 9: (np.float64(4450.26771), np.float64(4663.99319)), 10: (np.float64(1302.45605), np.float64(1335.8737299999998)), 11: (np.float64(3576.4448500000003), np.float64(3821.34793)), 12: (np.float64(3329.4814300000003), np.float64(3554.3457799999996)), 14: (np.float64(24281.0), np.float64(24281.0)), 15: (900, 900), 16: (np.float64(2944.92384), np.float64(3125.91392)), 18: (np.float64(2677.94418), np.float64(2864.8084000000003)), 19: (np.float64(1529.4857), np.float64(1618.44008)), 21: (np.float64(4656.012790000001), np.float64(4756.08958)), 22: (np.float64(6052.0), np.float64(6052.0)), 23: (np.float64(2163.8071800000002), np.float64(2239.0955599999998)), 24: (np.float64(3589.75531), np.float64(3709.0717099999997)), 25: (np.float64(1717.97791), np.float64(1798.36825)), 26: (np.float64(4899.20767), np.float64(5089.546069999999))} ) \n",
      "boot_times :  {1: (np.float64(1447.3127599999998), np.float64(1509.4048599999999)), 3: (np.float64(644.0), np.float64(644.0)), 4: (np.float64(1710.11013), np.float64(1799.67295)), 5: (np.float64(4111.64443), np.float64(4452.76964)), 6: (np.float64(7485.125999999999), np.float64(7931.48429)), 7: (np.float64(2487.53043), np.float64(2568.7986600000004)), 9: (np.float64(4450.26771), np.float64(4663.99319)), 10: (np.float64(1302.45605), np.float64(1335.8737299999998)), 11: (np.float64(3576.4448500000003), np.float64(3821.34793)), 12: (np.float64(3329.4814300000003), np.float64(3554.3457799999996)), 14: (np.float64(24281.0), np.float64(24281.0)), 15: (900, 900), 16: (np.float64(2944.92384), np.float64(3125.91392)), 18: (np.float64(2677.94418), np.float64(2864.8084000000003)), 19: (np.float64(1529.4857), np.float64(1618.44008)), 21: (np.float64(4656.012790000001), np.float64(4756.08958)), 22: (np.float64(6052.0), np.float64(6052.0)), 23: (np.float64(2163.8071800000002), np.float64(2239.0955599999998)), 24: (np.float64(3589.75531), np.float64(3709.0717099999997)), 25: (np.float64(1717.97791), np.float64(1798.36825)), 26: (np.float64(4899.20767), np.float64(5089.546069999999))}\n",
      " intertimes :  (np.float64(1710.11013), np.float64(1799.67295))\n",
      " duration   :  1754\n",
      "line 351...  estimate_duration : 4 \t sec:  1754\n",
      "boot_times :  {1: (np.float64(1447.3127599999998), np.float64(1509.4048599999999)), 3: (np.float64(644.0), np.float64(644.0)), 4: (np.float64(1710.11013), np.float64(1799.67295)), 5: (np.float64(4111.64443), np.float64(4452.76964)), 6: (np.float64(7485.125999999999), np.float64(7931.48429)), 7: (np.float64(2487.53043), np.float64(2568.7986600000004)), 9: (np.float64(4450.26771), np.float64(4663.99319)), 10: (np.float64(1302.45605), np.float64(1335.8737299999998)), 11: (np.float64(3576.4448500000003), np.float64(3821.34793)), 12: (np.float64(3329.4814300000003), np.float64(3554.3457799999996)), 14: (np.float64(24281.0), np.float64(24281.0)), 15: (900, 900), 16: (np.float64(2944.92384), np.float64(3125.91392)), 18: (np.float64(2677.94418), np.float64(2864.8084000000003)), 19: (np.float64(1529.4857), np.float64(1618.44008)), 21: (np.float64(4656.012790000001), np.float64(4756.08958)), 22: (np.float64(6052.0), np.float64(6052.0)), 23: (np.float64(2163.8071800000002), np.float64(2239.0955599999998)), 24: (np.float64(3589.75531), np.float64(3709.0717099999997)), 25: (np.float64(1717.97791), np.float64(1798.36825)), 26: (np.float64(4899.20767), np.float64(5089.546069999999))}\n",
      " intertimes :  (np.float64(2677.94418), np.float64(2864.8084000000003))\n",
      " duration   :  2771\n",
      "line 351...  estimate_duration : 18 \t sec:  2771\n",
      "line 352...  total duration [4, 18]  4525 / 75 min \n",
      "LINE:389 (iter: 1) -- predict_mask([model], '[4, 18]' ->  '4525 < 13446 sec' ?)\n",
      "\n",
      "\n",
      "-----------------\n",
      "line 379 bert_test_city[ Delh ] (iter: 2) -- predict_ mask([model], '[4, 18]')\n",
      "LINE 309, model.predict( to_predict=[['4', '18']] ) \n",
      "LINE 315  predseq => [4, 18],  maskpos => 1\n",
      "-- predict_ mask_pos ( <model>, seq= [4, 18], maskpos= 1  )\n",
      "line 240 ... seq: [4, 18]\n",
      "      seq :  [4, 18]\n",
      "LINE 256 -- model.predict( to_predict=['4,[MASK],18'] )\n"
     ]
    },
    {
     "data": {
      "application/vnd.jupyter.widget-view+json": {
       "model_id": "86fdeb5c723243ad9d3c8c955eb843b8",
       "version_major": 2,
       "version_minor": 0
      },
      "text/plain": [
       "0it [00:00, ?it/s]"
      ]
     },
     "metadata": {},
     "output_type": "display_data"
    },
    {
     "data": {
      "application/vnd.jupyter.widget-view+json": {
       "model_id": "d3434cc1fac849588e164f208f8cc6c9",
       "version_major": 2,
       "version_minor": 0
      },
      "text/plain": [
       "  0%|          | 0/1 [00:00<?, ?it/s]"
      ]
     },
     "metadata": {},
     "output_type": "display_data"
    },
    {
     "name": "stdout",
     "output_type": "stream",
     "text": [
      "  seq     -> [4, 18]\n",
      "  amax    -> 12\n",
      "  amaxval -> 0.738299548625946\n",
      "maskpos   => 1\n",
      "--> predict_ mask_pos (model, '[4, 18]', 1 ) --- [4, 12, 18] \n",
      "LINE 317  result: nextpoi:12 nextval:0.738299548625946 unmasked_seq:[4, 18]\n",
      "  POSSIBLE: 0.738299548625946 -> [4, 18] [4, 18]\n",
      "line 381 bert_test_city[ Delh ] (iter: 2) -- predict_ mask([model], '[4, 18]')\n",
      "line 382 nextpoi:12, maskpos:1, nextval:0.738299548625946, unmasked_seq:[4, 18]\n",
      "line 336... estimate_duration( pois ) : [4, 18] ) \n",
      "line 337... boot_times : {1: (np.float64(1447.3127599999998), np.float64(1509.4048599999999)), 3: (np.float64(644.0), np.float64(644.0)), 4: (np.float64(1710.11013), np.float64(1799.67295)), 5: (np.float64(4111.64443), np.float64(4452.76964)), 6: (np.float64(7485.125999999999), np.float64(7931.48429)), 7: (np.float64(2487.53043), np.float64(2568.7986600000004)), 9: (np.float64(4450.26771), np.float64(4663.99319)), 10: (np.float64(1302.45605), np.float64(1335.8737299999998)), 11: (np.float64(3576.4448500000003), np.float64(3821.34793)), 12: (np.float64(3329.4814300000003), np.float64(3554.3457799999996)), 14: (np.float64(24281.0), np.float64(24281.0)), 15: (900, 900), 16: (np.float64(2944.92384), np.float64(3125.91392)), 18: (np.float64(2677.94418), np.float64(2864.8084000000003)), 19: (np.float64(1529.4857), np.float64(1618.44008)), 21: (np.float64(4656.012790000001), np.float64(4756.08958)), 22: (np.float64(6052.0), np.float64(6052.0)), 23: (np.float64(2163.8071800000002), np.float64(2239.0955599999998)), 24: (np.float64(3589.75531), np.float64(3709.0717099999997)), 25: (np.float64(1717.97791), np.float64(1798.36825)), 26: (np.float64(4899.20767), np.float64(5089.546069999999))} ) \n",
      "boot_times :  {1: (np.float64(1447.3127599999998), np.float64(1509.4048599999999)), 3: (np.float64(644.0), np.float64(644.0)), 4: (np.float64(1710.11013), np.float64(1799.67295)), 5: (np.float64(4111.64443), np.float64(4452.76964)), 6: (np.float64(7485.125999999999), np.float64(7931.48429)), 7: (np.float64(2487.53043), np.float64(2568.7986600000004)), 9: (np.float64(4450.26771), np.float64(4663.99319)), 10: (np.float64(1302.45605), np.float64(1335.8737299999998)), 11: (np.float64(3576.4448500000003), np.float64(3821.34793)), 12: (np.float64(3329.4814300000003), np.float64(3554.3457799999996)), 14: (np.float64(24281.0), np.float64(24281.0)), 15: (900, 900), 16: (np.float64(2944.92384), np.float64(3125.91392)), 18: (np.float64(2677.94418), np.float64(2864.8084000000003)), 19: (np.float64(1529.4857), np.float64(1618.44008)), 21: (np.float64(4656.012790000001), np.float64(4756.08958)), 22: (np.float64(6052.0), np.float64(6052.0)), 23: (np.float64(2163.8071800000002), np.float64(2239.0955599999998)), 24: (np.float64(3589.75531), np.float64(3709.0717099999997)), 25: (np.float64(1717.97791), np.float64(1798.36825)), 26: (np.float64(4899.20767), np.float64(5089.546069999999))}\n",
      " intertimes :  (np.float64(1710.11013), np.float64(1799.67295))\n",
      " duration   :  1754\n",
      "line 351...  estimate_duration : 4 \t sec:  1754\n",
      "boot_times :  {1: (np.float64(1447.3127599999998), np.float64(1509.4048599999999)), 3: (np.float64(644.0), np.float64(644.0)), 4: (np.float64(1710.11013), np.float64(1799.67295)), 5: (np.float64(4111.64443), np.float64(4452.76964)), 6: (np.float64(7485.125999999999), np.float64(7931.48429)), 7: (np.float64(2487.53043), np.float64(2568.7986600000004)), 9: (np.float64(4450.26771), np.float64(4663.99319)), 10: (np.float64(1302.45605), np.float64(1335.8737299999998)), 11: (np.float64(3576.4448500000003), np.float64(3821.34793)), 12: (np.float64(3329.4814300000003), np.float64(3554.3457799999996)), 14: (np.float64(24281.0), np.float64(24281.0)), 15: (900, 900), 16: (np.float64(2944.92384), np.float64(3125.91392)), 18: (np.float64(2677.94418), np.float64(2864.8084000000003)), 19: (np.float64(1529.4857), np.float64(1618.44008)), 21: (np.float64(4656.012790000001), np.float64(4756.08958)), 22: (np.float64(6052.0), np.float64(6052.0)), 23: (np.float64(2163.8071800000002), np.float64(2239.0955599999998)), 24: (np.float64(3589.75531), np.float64(3709.0717099999997)), 25: (np.float64(1717.97791), np.float64(1798.36825)), 26: (np.float64(4899.20767), np.float64(5089.546069999999))}\n",
      " intertimes :  (np.float64(2677.94418), np.float64(2864.8084000000003))\n",
      " duration   :  2771\n",
      "line 351...  estimate_duration : 18 \t sec:  2771\n",
      "line 352...  total duration [4, 18]  4525 / 75 min \n",
      "LINE:389 (iter: 2) -- predict_mask([model], '[4, 18]' ->  '4525 < 13446 sec' ?)\n",
      "\n",
      "\n",
      "-----------------\n",
      "line 379 bert_test_city[ Delh ] (iter: 3) -- predict_ mask([model], '[4, 18]')\n",
      "LINE 309, model.predict( to_predict=[['4', '18']] ) \n",
      "LINE 315  predseq => [4, 18],  maskpos => 1\n",
      "-- predict_ mask_pos ( <model>, seq= [4, 18], maskpos= 1  )\n",
      "line 240 ... seq: [4, 18]\n",
      "      seq :  [4, 18]\n",
      "LINE 256 -- model.predict( to_predict=['4,[MASK],18'] )\n"
     ]
    },
    {
     "data": {
      "application/vnd.jupyter.widget-view+json": {
       "model_id": "18594f3d6bfa42339619d9856dbe597a",
       "version_major": 2,
       "version_minor": 0
      },
      "text/plain": [
       "0it [00:00, ?it/s]"
      ]
     },
     "metadata": {},
     "output_type": "display_data"
    },
    {
     "data": {
      "application/vnd.jupyter.widget-view+json": {
       "model_id": "803ac74470424e8cabef14a2d1586a9a",
       "version_major": 2,
       "version_minor": 0
      },
      "text/plain": [
       "  0%|          | 0/1 [00:00<?, ?it/s]"
      ]
     },
     "metadata": {},
     "output_type": "display_data"
    },
    {
     "name": "stdout",
     "output_type": "stream",
     "text": [
      "  seq     -> [4, 18]\n",
      "  amax    -> 12\n",
      "  amaxval -> 0.738299548625946\n",
      "maskpos   => 1\n",
      "--> predict_ mask_pos (model, '[4, 18]', 1 ) --- [4, 12, 18] \n",
      "LINE 317  result: nextpoi:12 nextval:0.738299548625946 unmasked_seq:[4, 18]\n",
      "  POSSIBLE: 0.738299548625946 -> [4, 18] [4, 18]\n",
      "line 381 bert_test_city[ Delh ] (iter: 3) -- predict_ mask([model], '[4, 18]')\n",
      "line 382 nextpoi:12, maskpos:1, nextval:0.738299548625946, unmasked_seq:[4, 18]\n",
      "line 336... estimate_duration( pois ) : [4, 18] ) \n",
      "line 337... boot_times : {1: (np.float64(1447.3127599999998), np.float64(1509.4048599999999)), 3: (np.float64(644.0), np.float64(644.0)), 4: (np.float64(1710.11013), np.float64(1799.67295)), 5: (np.float64(4111.64443), np.float64(4452.76964)), 6: (np.float64(7485.125999999999), np.float64(7931.48429)), 7: (np.float64(2487.53043), np.float64(2568.7986600000004)), 9: (np.float64(4450.26771), np.float64(4663.99319)), 10: (np.float64(1302.45605), np.float64(1335.8737299999998)), 11: (np.float64(3576.4448500000003), np.float64(3821.34793)), 12: (np.float64(3329.4814300000003), np.float64(3554.3457799999996)), 14: (np.float64(24281.0), np.float64(24281.0)), 15: (900, 900), 16: (np.float64(2944.92384), np.float64(3125.91392)), 18: (np.float64(2677.94418), np.float64(2864.8084000000003)), 19: (np.float64(1529.4857), np.float64(1618.44008)), 21: (np.float64(4656.012790000001), np.float64(4756.08958)), 22: (np.float64(6052.0), np.float64(6052.0)), 23: (np.float64(2163.8071800000002), np.float64(2239.0955599999998)), 24: (np.float64(3589.75531), np.float64(3709.0717099999997)), 25: (np.float64(1717.97791), np.float64(1798.36825)), 26: (np.float64(4899.20767), np.float64(5089.546069999999))} ) \n",
      "boot_times :  {1: (np.float64(1447.3127599999998), np.float64(1509.4048599999999)), 3: (np.float64(644.0), np.float64(644.0)), 4: (np.float64(1710.11013), np.float64(1799.67295)), 5: (np.float64(4111.64443), np.float64(4452.76964)), 6: (np.float64(7485.125999999999), np.float64(7931.48429)), 7: (np.float64(2487.53043), np.float64(2568.7986600000004)), 9: (np.float64(4450.26771), np.float64(4663.99319)), 10: (np.float64(1302.45605), np.float64(1335.8737299999998)), 11: (np.float64(3576.4448500000003), np.float64(3821.34793)), 12: (np.float64(3329.4814300000003), np.float64(3554.3457799999996)), 14: (np.float64(24281.0), np.float64(24281.0)), 15: (900, 900), 16: (np.float64(2944.92384), np.float64(3125.91392)), 18: (np.float64(2677.94418), np.float64(2864.8084000000003)), 19: (np.float64(1529.4857), np.float64(1618.44008)), 21: (np.float64(4656.012790000001), np.float64(4756.08958)), 22: (np.float64(6052.0), np.float64(6052.0)), 23: (np.float64(2163.8071800000002), np.float64(2239.0955599999998)), 24: (np.float64(3589.75531), np.float64(3709.0717099999997)), 25: (np.float64(1717.97791), np.float64(1798.36825)), 26: (np.float64(4899.20767), np.float64(5089.546069999999))}\n",
      " intertimes :  (np.float64(1710.11013), np.float64(1799.67295))\n",
      " duration   :  1754\n",
      "line 351...  estimate_duration : 4 \t sec:  1754\n",
      "boot_times :  {1: (np.float64(1447.3127599999998), np.float64(1509.4048599999999)), 3: (np.float64(644.0), np.float64(644.0)), 4: (np.float64(1710.11013), np.float64(1799.67295)), 5: (np.float64(4111.64443), np.float64(4452.76964)), 6: (np.float64(7485.125999999999), np.float64(7931.48429)), 7: (np.float64(2487.53043), np.float64(2568.7986600000004)), 9: (np.float64(4450.26771), np.float64(4663.99319)), 10: (np.float64(1302.45605), np.float64(1335.8737299999998)), 11: (np.float64(3576.4448500000003), np.float64(3821.34793)), 12: (np.float64(3329.4814300000003), np.float64(3554.3457799999996)), 14: (np.float64(24281.0), np.float64(24281.0)), 15: (900, 900), 16: (np.float64(2944.92384), np.float64(3125.91392)), 18: (np.float64(2677.94418), np.float64(2864.8084000000003)), 19: (np.float64(1529.4857), np.float64(1618.44008)), 21: (np.float64(4656.012790000001), np.float64(4756.08958)), 22: (np.float64(6052.0), np.float64(6052.0)), 23: (np.float64(2163.8071800000002), np.float64(2239.0955599999998)), 24: (np.float64(3589.75531), np.float64(3709.0717099999997)), 25: (np.float64(1717.97791), np.float64(1798.36825)), 26: (np.float64(4899.20767), np.float64(5089.546069999999))}\n",
      " intertimes :  (np.float64(2677.94418), np.float64(2864.8084000000003))\n",
      " duration   :  2771\n",
      "line 351...  estimate_duration : 18 \t sec:  2771\n",
      "line 352...  total duration [4, 18]  4525 / 75 min \n",
      "LINE:389 (iter: 3) -- predict_mask([model], '[4, 18]' ->  '4525 < 13446 sec' ?)\n",
      "\n",
      "\n",
      "-----------------\n",
      "line 379 bert_test_city[ Delh ] (iter: 4) -- predict_ mask([model], '[4, 18]')\n",
      "LINE 309, model.predict( to_predict=[['4', '18']] ) \n",
      "LINE 315  predseq => [4, 18],  maskpos => 1\n",
      "-- predict_ mask_pos ( <model>, seq= [4, 18], maskpos= 1  )\n",
      "line 240 ... seq: [4, 18]\n",
      "      seq :  [4, 18]\n",
      "LINE 256 -- model.predict( to_predict=['4,[MASK],18'] )\n"
     ]
    },
    {
     "data": {
      "application/vnd.jupyter.widget-view+json": {
       "model_id": "3b29e0111a6c479bb244b1e538485c88",
       "version_major": 2,
       "version_minor": 0
      },
      "text/plain": [
       "0it [00:00, ?it/s]"
      ]
     },
     "metadata": {},
     "output_type": "display_data"
    },
    {
     "data": {
      "application/vnd.jupyter.widget-view+json": {
       "model_id": "b2d76410ba774e14b3ad44a8b2e3985a",
       "version_major": 2,
       "version_minor": 0
      },
      "text/plain": [
       "  0%|          | 0/1 [00:00<?, ?it/s]"
      ]
     },
     "metadata": {},
     "output_type": "display_data"
    },
    {
     "name": "stdout",
     "output_type": "stream",
     "text": [
      "  seq     -> [4, 18]\n",
      "  amax    -> 12\n",
      "  amaxval -> 0.738299548625946\n",
      "maskpos   => 1\n",
      "--> predict_ mask_pos (model, '[4, 18]', 1 ) --- [4, 12, 18] \n",
      "LINE 317  result: nextpoi:12 nextval:0.738299548625946 unmasked_seq:[4, 18]\n",
      "  POSSIBLE: 0.738299548625946 -> [4, 18] [4, 18]\n",
      "line 381 bert_test_city[ Delh ] (iter: 4) -- predict_ mask([model], '[4, 18]')\n",
      "line 382 nextpoi:12, maskpos:1, nextval:0.738299548625946, unmasked_seq:[4, 18]\n",
      "line 336... estimate_duration( pois ) : [4, 18] ) \n",
      "line 337... boot_times : {1: (np.float64(1447.3127599999998), np.float64(1509.4048599999999)), 3: (np.float64(644.0), np.float64(644.0)), 4: (np.float64(1710.11013), np.float64(1799.67295)), 5: (np.float64(4111.64443), np.float64(4452.76964)), 6: (np.float64(7485.125999999999), np.float64(7931.48429)), 7: (np.float64(2487.53043), np.float64(2568.7986600000004)), 9: (np.float64(4450.26771), np.float64(4663.99319)), 10: (np.float64(1302.45605), np.float64(1335.8737299999998)), 11: (np.float64(3576.4448500000003), np.float64(3821.34793)), 12: (np.float64(3329.4814300000003), np.float64(3554.3457799999996)), 14: (np.float64(24281.0), np.float64(24281.0)), 15: (900, 900), 16: (np.float64(2944.92384), np.float64(3125.91392)), 18: (np.float64(2677.94418), np.float64(2864.8084000000003)), 19: (np.float64(1529.4857), np.float64(1618.44008)), 21: (np.float64(4656.012790000001), np.float64(4756.08958)), 22: (np.float64(6052.0), np.float64(6052.0)), 23: (np.float64(2163.8071800000002), np.float64(2239.0955599999998)), 24: (np.float64(3589.75531), np.float64(3709.0717099999997)), 25: (np.float64(1717.97791), np.float64(1798.36825)), 26: (np.float64(4899.20767), np.float64(5089.546069999999))} ) \n",
      "boot_times :  {1: (np.float64(1447.3127599999998), np.float64(1509.4048599999999)), 3: (np.float64(644.0), np.float64(644.0)), 4: (np.float64(1710.11013), np.float64(1799.67295)), 5: (np.float64(4111.64443), np.float64(4452.76964)), 6: (np.float64(7485.125999999999), np.float64(7931.48429)), 7: (np.float64(2487.53043), np.float64(2568.7986600000004)), 9: (np.float64(4450.26771), np.float64(4663.99319)), 10: (np.float64(1302.45605), np.float64(1335.8737299999998)), 11: (np.float64(3576.4448500000003), np.float64(3821.34793)), 12: (np.float64(3329.4814300000003), np.float64(3554.3457799999996)), 14: (np.float64(24281.0), np.float64(24281.0)), 15: (900, 900), 16: (np.float64(2944.92384), np.float64(3125.91392)), 18: (np.float64(2677.94418), np.float64(2864.8084000000003)), 19: (np.float64(1529.4857), np.float64(1618.44008)), 21: (np.float64(4656.012790000001), np.float64(4756.08958)), 22: (np.float64(6052.0), np.float64(6052.0)), 23: (np.float64(2163.8071800000002), np.float64(2239.0955599999998)), 24: (np.float64(3589.75531), np.float64(3709.0717099999997)), 25: (np.float64(1717.97791), np.float64(1798.36825)), 26: (np.float64(4899.20767), np.float64(5089.546069999999))}\n",
      " intertimes :  (np.float64(1710.11013), np.float64(1799.67295))\n",
      " duration   :  1754\n",
      "line 351...  estimate_duration : 4 \t sec:  1754\n",
      "boot_times :  {1: (np.float64(1447.3127599999998), np.float64(1509.4048599999999)), 3: (np.float64(644.0), np.float64(644.0)), 4: (np.float64(1710.11013), np.float64(1799.67295)), 5: (np.float64(4111.64443), np.float64(4452.76964)), 6: (np.float64(7485.125999999999), np.float64(7931.48429)), 7: (np.float64(2487.53043), np.float64(2568.7986600000004)), 9: (np.float64(4450.26771), np.float64(4663.99319)), 10: (np.float64(1302.45605), np.float64(1335.8737299999998)), 11: (np.float64(3576.4448500000003), np.float64(3821.34793)), 12: (np.float64(3329.4814300000003), np.float64(3554.3457799999996)), 14: (np.float64(24281.0), np.float64(24281.0)), 15: (900, 900), 16: (np.float64(2944.92384), np.float64(3125.91392)), 18: (np.float64(2677.94418), np.float64(2864.8084000000003)), 19: (np.float64(1529.4857), np.float64(1618.44008)), 21: (np.float64(4656.012790000001), np.float64(4756.08958)), 22: (np.float64(6052.0), np.float64(6052.0)), 23: (np.float64(2163.8071800000002), np.float64(2239.0955599999998)), 24: (np.float64(3589.75531), np.float64(3709.0717099999997)), 25: (np.float64(1717.97791), np.float64(1798.36825)), 26: (np.float64(4899.20767), np.float64(5089.546069999999))}\n",
      " intertimes :  (np.float64(2677.94418), np.float64(2864.8084000000003))\n",
      " duration   :  2771\n",
      "line 351...  estimate_duration : 18 \t sec:  2771\n",
      "line 352...  total duration [4, 18]  4525 / 75 min \n",
      "LINE:389 (iter: 4) -- predict_mask([model], '[4, 18]' ->  '4525 < 13446 sec' ?)\n",
      "\n",
      "\n",
      "-----------------\n",
      "line 379 bert_test_city[ Delh ] (iter: 5) -- predict_ mask([model], '[4, 18]')\n",
      "LINE 309, model.predict( to_predict=[['4', '18']] ) \n",
      "LINE 315  predseq => [4, 18],  maskpos => 1\n",
      "-- predict_ mask_pos ( <model>, seq= [4, 18], maskpos= 1  )\n",
      "line 240 ... seq: [4, 18]\n",
      "      seq :  [4, 18]\n",
      "LINE 256 -- model.predict( to_predict=['4,[MASK],18'] )\n"
     ]
    },
    {
     "data": {
      "application/vnd.jupyter.widget-view+json": {
       "model_id": "b2647c7f37d441e6925fabe71bd46cd6",
       "version_major": 2,
       "version_minor": 0
      },
      "text/plain": [
       "0it [00:00, ?it/s]"
      ]
     },
     "metadata": {},
     "output_type": "display_data"
    },
    {
     "data": {
      "application/vnd.jupyter.widget-view+json": {
       "model_id": "dd671052a3db408ca66250b9a94efe42",
       "version_major": 2,
       "version_minor": 0
      },
      "text/plain": [
       "  0%|          | 0/1 [00:00<?, ?it/s]"
      ]
     },
     "metadata": {},
     "output_type": "display_data"
    },
    {
     "name": "stdout",
     "output_type": "stream",
     "text": [
      "  seq     -> [4, 18]\n",
      "  amax    -> 12\n",
      "  amaxval -> 0.738299548625946\n",
      "maskpos   => 1\n",
      "--> predict_ mask_pos (model, '[4, 18]', 1 ) --- [4, 12, 18] \n",
      "LINE 317  result: nextpoi:12 nextval:0.738299548625946 unmasked_seq:[4, 18]\n",
      "  POSSIBLE: 0.738299548625946 -> [4, 18] [4, 18]\n",
      "line 381 bert_test_city[ Delh ] (iter: 5) -- predict_ mask([model], '[4, 18]')\n",
      "line 382 nextpoi:12, maskpos:1, nextval:0.738299548625946, unmasked_seq:[4, 18]\n",
      "line 336... estimate_duration( pois ) : [4, 18] ) \n",
      "line 337... boot_times : {1: (np.float64(1447.3127599999998), np.float64(1509.4048599999999)), 3: (np.float64(644.0), np.float64(644.0)), 4: (np.float64(1710.11013), np.float64(1799.67295)), 5: (np.float64(4111.64443), np.float64(4452.76964)), 6: (np.float64(7485.125999999999), np.float64(7931.48429)), 7: (np.float64(2487.53043), np.float64(2568.7986600000004)), 9: (np.float64(4450.26771), np.float64(4663.99319)), 10: (np.float64(1302.45605), np.float64(1335.8737299999998)), 11: (np.float64(3576.4448500000003), np.float64(3821.34793)), 12: (np.float64(3329.4814300000003), np.float64(3554.3457799999996)), 14: (np.float64(24281.0), np.float64(24281.0)), 15: (900, 900), 16: (np.float64(2944.92384), np.float64(3125.91392)), 18: (np.float64(2677.94418), np.float64(2864.8084000000003)), 19: (np.float64(1529.4857), np.float64(1618.44008)), 21: (np.float64(4656.012790000001), np.float64(4756.08958)), 22: (np.float64(6052.0), np.float64(6052.0)), 23: (np.float64(2163.8071800000002), np.float64(2239.0955599999998)), 24: (np.float64(3589.75531), np.float64(3709.0717099999997)), 25: (np.float64(1717.97791), np.float64(1798.36825)), 26: (np.float64(4899.20767), np.float64(5089.546069999999))} ) \n",
      "boot_times :  {1: (np.float64(1447.3127599999998), np.float64(1509.4048599999999)), 3: (np.float64(644.0), np.float64(644.0)), 4: (np.float64(1710.11013), np.float64(1799.67295)), 5: (np.float64(4111.64443), np.float64(4452.76964)), 6: (np.float64(7485.125999999999), np.float64(7931.48429)), 7: (np.float64(2487.53043), np.float64(2568.7986600000004)), 9: (np.float64(4450.26771), np.float64(4663.99319)), 10: (np.float64(1302.45605), np.float64(1335.8737299999998)), 11: (np.float64(3576.4448500000003), np.float64(3821.34793)), 12: (np.float64(3329.4814300000003), np.float64(3554.3457799999996)), 14: (np.float64(24281.0), np.float64(24281.0)), 15: (900, 900), 16: (np.float64(2944.92384), np.float64(3125.91392)), 18: (np.float64(2677.94418), np.float64(2864.8084000000003)), 19: (np.float64(1529.4857), np.float64(1618.44008)), 21: (np.float64(4656.012790000001), np.float64(4756.08958)), 22: (np.float64(6052.0), np.float64(6052.0)), 23: (np.float64(2163.8071800000002), np.float64(2239.0955599999998)), 24: (np.float64(3589.75531), np.float64(3709.0717099999997)), 25: (np.float64(1717.97791), np.float64(1798.36825)), 26: (np.float64(4899.20767), np.float64(5089.546069999999))}\n",
      " intertimes :  (np.float64(1710.11013), np.float64(1799.67295))\n",
      " duration   :  1754\n",
      "line 351...  estimate_duration : 4 \t sec:  1754\n",
      "boot_times :  {1: (np.float64(1447.3127599999998), np.float64(1509.4048599999999)), 3: (np.float64(644.0), np.float64(644.0)), 4: (np.float64(1710.11013), np.float64(1799.67295)), 5: (np.float64(4111.64443), np.float64(4452.76964)), 6: (np.float64(7485.125999999999), np.float64(7931.48429)), 7: (np.float64(2487.53043), np.float64(2568.7986600000004)), 9: (np.float64(4450.26771), np.float64(4663.99319)), 10: (np.float64(1302.45605), np.float64(1335.8737299999998)), 11: (np.float64(3576.4448500000003), np.float64(3821.34793)), 12: (np.float64(3329.4814300000003), np.float64(3554.3457799999996)), 14: (np.float64(24281.0), np.float64(24281.0)), 15: (900, 900), 16: (np.float64(2944.92384), np.float64(3125.91392)), 18: (np.float64(2677.94418), np.float64(2864.8084000000003)), 19: (np.float64(1529.4857), np.float64(1618.44008)), 21: (np.float64(4656.012790000001), np.float64(4756.08958)), 22: (np.float64(6052.0), np.float64(6052.0)), 23: (np.float64(2163.8071800000002), np.float64(2239.0955599999998)), 24: (np.float64(3589.75531), np.float64(3709.0717099999997)), 25: (np.float64(1717.97791), np.float64(1798.36825)), 26: (np.float64(4899.20767), np.float64(5089.546069999999))}\n",
      " intertimes :  (np.float64(2677.94418), np.float64(2864.8084000000003))\n",
      " duration   :  2771\n",
      "line 351...  estimate_duration : 18 \t sec:  2771\n",
      "line 352...  total duration [4, 18]  4525 / 75 min \n",
      "LINE:389 (iter: 5) -- predict_mask([model], '[4, 18]' ->  '4525 < 13446 sec' ?)\n",
      "\n",
      "\n",
      "-----------------\n",
      "line 379 bert_test_city[ Delh ] (iter: 6) -- predict_ mask([model], '[4, 18]')\n",
      "LINE 309, model.predict( to_predict=[['4', '18']] ) \n",
      "LINE 315  predseq => [4, 18],  maskpos => 1\n",
      "-- predict_ mask_pos ( <model>, seq= [4, 18], maskpos= 1  )\n",
      "line 240 ... seq: [4, 18]\n",
      "      seq :  [4, 18]\n",
      "LINE 256 -- model.predict( to_predict=['4,[MASK],18'] )\n"
     ]
    },
    {
     "data": {
      "application/vnd.jupyter.widget-view+json": {
       "model_id": "83e024108b14421992c77bed8ecad61f",
       "version_major": 2,
       "version_minor": 0
      },
      "text/plain": [
       "0it [00:00, ?it/s]"
      ]
     },
     "metadata": {},
     "output_type": "display_data"
    },
    {
     "data": {
      "application/vnd.jupyter.widget-view+json": {
       "model_id": "d6036a6129174942baa7a40f3cc9b027",
       "version_major": 2,
       "version_minor": 0
      },
      "text/plain": [
       "  0%|          | 0/1 [00:00<?, ?it/s]"
      ]
     },
     "metadata": {},
     "output_type": "display_data"
    },
    {
     "name": "stdout",
     "output_type": "stream",
     "text": [
      "  seq     -> [4, 18]\n",
      "  amax    -> 12\n",
      "  amaxval -> 0.738299548625946\n",
      "maskpos   => 1\n",
      "--> predict_ mask_pos (model, '[4, 18]', 1 ) --- [4, 12, 18] \n",
      "LINE 317  result: nextpoi:12 nextval:0.738299548625946 unmasked_seq:[4, 18]\n",
      "  POSSIBLE: 0.738299548625946 -> [4, 18] [4, 18]\n",
      "line 381 bert_test_city[ Delh ] (iter: 6) -- predict_ mask([model], '[4, 18]')\n",
      "line 382 nextpoi:12, maskpos:1, nextval:0.738299548625946, unmasked_seq:[4, 18]\n",
      "line 336... estimate_duration( pois ) : [4, 18] ) \n",
      "line 337... boot_times : {1: (np.float64(1447.3127599999998), np.float64(1509.4048599999999)), 3: (np.float64(644.0), np.float64(644.0)), 4: (np.float64(1710.11013), np.float64(1799.67295)), 5: (np.float64(4111.64443), np.float64(4452.76964)), 6: (np.float64(7485.125999999999), np.float64(7931.48429)), 7: (np.float64(2487.53043), np.float64(2568.7986600000004)), 9: (np.float64(4450.26771), np.float64(4663.99319)), 10: (np.float64(1302.45605), np.float64(1335.8737299999998)), 11: (np.float64(3576.4448500000003), np.float64(3821.34793)), 12: (np.float64(3329.4814300000003), np.float64(3554.3457799999996)), 14: (np.float64(24281.0), np.float64(24281.0)), 15: (900, 900), 16: (np.float64(2944.92384), np.float64(3125.91392)), 18: (np.float64(2677.94418), np.float64(2864.8084000000003)), 19: (np.float64(1529.4857), np.float64(1618.44008)), 21: (np.float64(4656.012790000001), np.float64(4756.08958)), 22: (np.float64(6052.0), np.float64(6052.0)), 23: (np.float64(2163.8071800000002), np.float64(2239.0955599999998)), 24: (np.float64(3589.75531), np.float64(3709.0717099999997)), 25: (np.float64(1717.97791), np.float64(1798.36825)), 26: (np.float64(4899.20767), np.float64(5089.546069999999))} ) \n",
      "boot_times :  {1: (np.float64(1447.3127599999998), np.float64(1509.4048599999999)), 3: (np.float64(644.0), np.float64(644.0)), 4: (np.float64(1710.11013), np.float64(1799.67295)), 5: (np.float64(4111.64443), np.float64(4452.76964)), 6: (np.float64(7485.125999999999), np.float64(7931.48429)), 7: (np.float64(2487.53043), np.float64(2568.7986600000004)), 9: (np.float64(4450.26771), np.float64(4663.99319)), 10: (np.float64(1302.45605), np.float64(1335.8737299999998)), 11: (np.float64(3576.4448500000003), np.float64(3821.34793)), 12: (np.float64(3329.4814300000003), np.float64(3554.3457799999996)), 14: (np.float64(24281.0), np.float64(24281.0)), 15: (900, 900), 16: (np.float64(2944.92384), np.float64(3125.91392)), 18: (np.float64(2677.94418), np.float64(2864.8084000000003)), 19: (np.float64(1529.4857), np.float64(1618.44008)), 21: (np.float64(4656.012790000001), np.float64(4756.08958)), 22: (np.float64(6052.0), np.float64(6052.0)), 23: (np.float64(2163.8071800000002), np.float64(2239.0955599999998)), 24: (np.float64(3589.75531), np.float64(3709.0717099999997)), 25: (np.float64(1717.97791), np.float64(1798.36825)), 26: (np.float64(4899.20767), np.float64(5089.546069999999))}\n",
      " intertimes :  (np.float64(1710.11013), np.float64(1799.67295))\n",
      " duration   :  1754\n",
      "line 351...  estimate_duration : 4 \t sec:  1754\n",
      "boot_times :  {1: (np.float64(1447.3127599999998), np.float64(1509.4048599999999)), 3: (np.float64(644.0), np.float64(644.0)), 4: (np.float64(1710.11013), np.float64(1799.67295)), 5: (np.float64(4111.64443), np.float64(4452.76964)), 6: (np.float64(7485.125999999999), np.float64(7931.48429)), 7: (np.float64(2487.53043), np.float64(2568.7986600000004)), 9: (np.float64(4450.26771), np.float64(4663.99319)), 10: (np.float64(1302.45605), np.float64(1335.8737299999998)), 11: (np.float64(3576.4448500000003), np.float64(3821.34793)), 12: (np.float64(3329.4814300000003), np.float64(3554.3457799999996)), 14: (np.float64(24281.0), np.float64(24281.0)), 15: (900, 900), 16: (np.float64(2944.92384), np.float64(3125.91392)), 18: (np.float64(2677.94418), np.float64(2864.8084000000003)), 19: (np.float64(1529.4857), np.float64(1618.44008)), 21: (np.float64(4656.012790000001), np.float64(4756.08958)), 22: (np.float64(6052.0), np.float64(6052.0)), 23: (np.float64(2163.8071800000002), np.float64(2239.0955599999998)), 24: (np.float64(3589.75531), np.float64(3709.0717099999997)), 25: (np.float64(1717.97791), np.float64(1798.36825)), 26: (np.float64(4899.20767), np.float64(5089.546069999999))}\n",
      " intertimes :  (np.float64(2677.94418), np.float64(2864.8084000000003))\n",
      " duration   :  2771\n",
      "line 351...  estimate_duration : 18 \t sec:  2771\n",
      "line 352...  total duration [4, 18]  4525 / 75 min \n",
      "LINE:389 (iter: 6) -- predict_mask([model], '[4, 18]' ->  '4525 < 13446 sec' ?)\n",
      "\n",
      "\n",
      "-----------------\n",
      "line 379 bert_test_city[ Delh ] (iter: 7) -- predict_ mask([model], '[4, 18]')\n",
      "LINE 309, model.predict( to_predict=[['4', '18']] ) \n",
      "LINE 315  predseq => [4, 18],  maskpos => 1\n",
      "-- predict_ mask_pos ( <model>, seq= [4, 18], maskpos= 1  )\n",
      "line 240 ... seq: [4, 18]\n",
      "      seq :  [4, 18]\n",
      "LINE 256 -- model.predict( to_predict=['4,[MASK],18'] )\n"
     ]
    },
    {
     "data": {
      "application/vnd.jupyter.widget-view+json": {
       "model_id": "53d2eae3c5a84a3aa393dfe85ee46fd7",
       "version_major": 2,
       "version_minor": 0
      },
      "text/plain": [
       "0it [00:00, ?it/s]"
      ]
     },
     "metadata": {},
     "output_type": "display_data"
    },
    {
     "data": {
      "application/vnd.jupyter.widget-view+json": {
       "model_id": "fc1d973382b44d29839f47e0289dd056",
       "version_major": 2,
       "version_minor": 0
      },
      "text/plain": [
       "  0%|          | 0/1 [00:00<?, ?it/s]"
      ]
     },
     "metadata": {},
     "output_type": "display_data"
    },
    {
     "name": "stdout",
     "output_type": "stream",
     "text": [
      "  seq     -> [4, 18]\n",
      "  amax    -> 12\n",
      "  amaxval -> 0.738299548625946\n",
      "maskpos   => 1\n",
      "--> predict_ mask_pos (model, '[4, 18]', 1 ) --- [4, 12, 18] \n",
      "LINE 317  result: nextpoi:12 nextval:0.738299548625946 unmasked_seq:[4, 18]\n",
      "  POSSIBLE: 0.738299548625946 -> [4, 18] [4, 18]\n",
      "line 381 bert_test_city[ Delh ] (iter: 7) -- predict_ mask([model], '[4, 18]')\n",
      "line 382 nextpoi:12, maskpos:1, nextval:0.738299548625946, unmasked_seq:[4, 18]\n",
      "line 336... estimate_duration( pois ) : [4, 18] ) \n",
      "line 337... boot_times : {1: (np.float64(1447.3127599999998), np.float64(1509.4048599999999)), 3: (np.float64(644.0), np.float64(644.0)), 4: (np.float64(1710.11013), np.float64(1799.67295)), 5: (np.float64(4111.64443), np.float64(4452.76964)), 6: (np.float64(7485.125999999999), np.float64(7931.48429)), 7: (np.float64(2487.53043), np.float64(2568.7986600000004)), 9: (np.float64(4450.26771), np.float64(4663.99319)), 10: (np.float64(1302.45605), np.float64(1335.8737299999998)), 11: (np.float64(3576.4448500000003), np.float64(3821.34793)), 12: (np.float64(3329.4814300000003), np.float64(3554.3457799999996)), 14: (np.float64(24281.0), np.float64(24281.0)), 15: (900, 900), 16: (np.float64(2944.92384), np.float64(3125.91392)), 18: (np.float64(2677.94418), np.float64(2864.8084000000003)), 19: (np.float64(1529.4857), np.float64(1618.44008)), 21: (np.float64(4656.012790000001), np.float64(4756.08958)), 22: (np.float64(6052.0), np.float64(6052.0)), 23: (np.float64(2163.8071800000002), np.float64(2239.0955599999998)), 24: (np.float64(3589.75531), np.float64(3709.0717099999997)), 25: (np.float64(1717.97791), np.float64(1798.36825)), 26: (np.float64(4899.20767), np.float64(5089.546069999999))} ) \n",
      "boot_times :  {1: (np.float64(1447.3127599999998), np.float64(1509.4048599999999)), 3: (np.float64(644.0), np.float64(644.0)), 4: (np.float64(1710.11013), np.float64(1799.67295)), 5: (np.float64(4111.64443), np.float64(4452.76964)), 6: (np.float64(7485.125999999999), np.float64(7931.48429)), 7: (np.float64(2487.53043), np.float64(2568.7986600000004)), 9: (np.float64(4450.26771), np.float64(4663.99319)), 10: (np.float64(1302.45605), np.float64(1335.8737299999998)), 11: (np.float64(3576.4448500000003), np.float64(3821.34793)), 12: (np.float64(3329.4814300000003), np.float64(3554.3457799999996)), 14: (np.float64(24281.0), np.float64(24281.0)), 15: (900, 900), 16: (np.float64(2944.92384), np.float64(3125.91392)), 18: (np.float64(2677.94418), np.float64(2864.8084000000003)), 19: (np.float64(1529.4857), np.float64(1618.44008)), 21: (np.float64(4656.012790000001), np.float64(4756.08958)), 22: (np.float64(6052.0), np.float64(6052.0)), 23: (np.float64(2163.8071800000002), np.float64(2239.0955599999998)), 24: (np.float64(3589.75531), np.float64(3709.0717099999997)), 25: (np.float64(1717.97791), np.float64(1798.36825)), 26: (np.float64(4899.20767), np.float64(5089.546069999999))}\n",
      " intertimes :  (np.float64(1710.11013), np.float64(1799.67295))\n",
      " duration   :  1754\n",
      "line 351...  estimate_duration : 4 \t sec:  1754\n",
      "boot_times :  {1: (np.float64(1447.3127599999998), np.float64(1509.4048599999999)), 3: (np.float64(644.0), np.float64(644.0)), 4: (np.float64(1710.11013), np.float64(1799.67295)), 5: (np.float64(4111.64443), np.float64(4452.76964)), 6: (np.float64(7485.125999999999), np.float64(7931.48429)), 7: (np.float64(2487.53043), np.float64(2568.7986600000004)), 9: (np.float64(4450.26771), np.float64(4663.99319)), 10: (np.float64(1302.45605), np.float64(1335.8737299999998)), 11: (np.float64(3576.4448500000003), np.float64(3821.34793)), 12: (np.float64(3329.4814300000003), np.float64(3554.3457799999996)), 14: (np.float64(24281.0), np.float64(24281.0)), 15: (900, 900), 16: (np.float64(2944.92384), np.float64(3125.91392)), 18: (np.float64(2677.94418), np.float64(2864.8084000000003)), 19: (np.float64(1529.4857), np.float64(1618.44008)), 21: (np.float64(4656.012790000001), np.float64(4756.08958)), 22: (np.float64(6052.0), np.float64(6052.0)), 23: (np.float64(2163.8071800000002), np.float64(2239.0955599999998)), 24: (np.float64(3589.75531), np.float64(3709.0717099999997)), 25: (np.float64(1717.97791), np.float64(1798.36825)), 26: (np.float64(4899.20767), np.float64(5089.546069999999))}\n",
      " intertimes :  (np.float64(2677.94418), np.float64(2864.8084000000003))\n",
      " duration   :  2771\n",
      "line 351...  estimate_duration : 18 \t sec:  2771\n",
      "line 352...  total duration [4, 18]  4525 / 75 min \n",
      "LINE:389 (iter: 7) -- predict_mask([model], '[4, 18]' ->  '4525 < 13446 sec' ?)\n",
      "\n",
      "\n",
      "-----------------\n",
      "line 379 bert_test_city[ Delh ] (iter: 8) -- predict_ mask([model], '[4, 18]')\n",
      "LINE 309, model.predict( to_predict=[['4', '18']] ) \n",
      "LINE 315  predseq => [4, 18],  maskpos => 1\n",
      "-- predict_ mask_pos ( <model>, seq= [4, 18], maskpos= 1  )\n",
      "line 240 ... seq: [4, 18]\n",
      "      seq :  [4, 18]\n",
      "LINE 256 -- model.predict( to_predict=['4,[MASK],18'] )\n"
     ]
    },
    {
     "data": {
      "application/vnd.jupyter.widget-view+json": {
       "model_id": "83390d61234d4cd198052c4b739a7faf",
       "version_major": 2,
       "version_minor": 0
      },
      "text/plain": [
       "0it [00:00, ?it/s]"
      ]
     },
     "metadata": {},
     "output_type": "display_data"
    },
    {
     "data": {
      "application/vnd.jupyter.widget-view+json": {
       "model_id": "cc33589b0ff44d06b6ca8d18922cb8f3",
       "version_major": 2,
       "version_minor": 0
      },
      "text/plain": [
       "  0%|          | 0/1 [00:00<?, ?it/s]"
      ]
     },
     "metadata": {},
     "output_type": "display_data"
    },
    {
     "name": "stdout",
     "output_type": "stream",
     "text": [
      "  seq     -> [4, 18]\n",
      "  amax    -> 12\n",
      "  amaxval -> 0.738299548625946\n",
      "maskpos   => 1\n",
      "--> predict_ mask_pos (model, '[4, 18]', 1 ) --- [4, 12, 18] \n",
      "LINE 317  result: nextpoi:12 nextval:0.738299548625946 unmasked_seq:[4, 18]\n",
      "  POSSIBLE: 0.738299548625946 -> [4, 18] [4, 18]\n",
      "line 381 bert_test_city[ Delh ] (iter: 8) -- predict_ mask([model], '[4, 18]')\n",
      "line 382 nextpoi:12, maskpos:1, nextval:0.738299548625946, unmasked_seq:[4, 18]\n",
      "line 336... estimate_duration( pois ) : [4, 18] ) \n",
      "line 337... boot_times : {1: (np.float64(1447.3127599999998), np.float64(1509.4048599999999)), 3: (np.float64(644.0), np.float64(644.0)), 4: (np.float64(1710.11013), np.float64(1799.67295)), 5: (np.float64(4111.64443), np.float64(4452.76964)), 6: (np.float64(7485.125999999999), np.float64(7931.48429)), 7: (np.float64(2487.53043), np.float64(2568.7986600000004)), 9: (np.float64(4450.26771), np.float64(4663.99319)), 10: (np.float64(1302.45605), np.float64(1335.8737299999998)), 11: (np.float64(3576.4448500000003), np.float64(3821.34793)), 12: (np.float64(3329.4814300000003), np.float64(3554.3457799999996)), 14: (np.float64(24281.0), np.float64(24281.0)), 15: (900, 900), 16: (np.float64(2944.92384), np.float64(3125.91392)), 18: (np.float64(2677.94418), np.float64(2864.8084000000003)), 19: (np.float64(1529.4857), np.float64(1618.44008)), 21: (np.float64(4656.012790000001), np.float64(4756.08958)), 22: (np.float64(6052.0), np.float64(6052.0)), 23: (np.float64(2163.8071800000002), np.float64(2239.0955599999998)), 24: (np.float64(3589.75531), np.float64(3709.0717099999997)), 25: (np.float64(1717.97791), np.float64(1798.36825)), 26: (np.float64(4899.20767), np.float64(5089.546069999999))} ) \n",
      "boot_times :  {1: (np.float64(1447.3127599999998), np.float64(1509.4048599999999)), 3: (np.float64(644.0), np.float64(644.0)), 4: (np.float64(1710.11013), np.float64(1799.67295)), 5: (np.float64(4111.64443), np.float64(4452.76964)), 6: (np.float64(7485.125999999999), np.float64(7931.48429)), 7: (np.float64(2487.53043), np.float64(2568.7986600000004)), 9: (np.float64(4450.26771), np.float64(4663.99319)), 10: (np.float64(1302.45605), np.float64(1335.8737299999998)), 11: (np.float64(3576.4448500000003), np.float64(3821.34793)), 12: (np.float64(3329.4814300000003), np.float64(3554.3457799999996)), 14: (np.float64(24281.0), np.float64(24281.0)), 15: (900, 900), 16: (np.float64(2944.92384), np.float64(3125.91392)), 18: (np.float64(2677.94418), np.float64(2864.8084000000003)), 19: (np.float64(1529.4857), np.float64(1618.44008)), 21: (np.float64(4656.012790000001), np.float64(4756.08958)), 22: (np.float64(6052.0), np.float64(6052.0)), 23: (np.float64(2163.8071800000002), np.float64(2239.0955599999998)), 24: (np.float64(3589.75531), np.float64(3709.0717099999997)), 25: (np.float64(1717.97791), np.float64(1798.36825)), 26: (np.float64(4899.20767), np.float64(5089.546069999999))}\n",
      " intertimes :  (np.float64(1710.11013), np.float64(1799.67295))\n",
      " duration   :  1754\n",
      "line 351...  estimate_duration : 4 \t sec:  1754\n",
      "boot_times :  {1: (np.float64(1447.3127599999998), np.float64(1509.4048599999999)), 3: (np.float64(644.0), np.float64(644.0)), 4: (np.float64(1710.11013), np.float64(1799.67295)), 5: (np.float64(4111.64443), np.float64(4452.76964)), 6: (np.float64(7485.125999999999), np.float64(7931.48429)), 7: (np.float64(2487.53043), np.float64(2568.7986600000004)), 9: (np.float64(4450.26771), np.float64(4663.99319)), 10: (np.float64(1302.45605), np.float64(1335.8737299999998)), 11: (np.float64(3576.4448500000003), np.float64(3821.34793)), 12: (np.float64(3329.4814300000003), np.float64(3554.3457799999996)), 14: (np.float64(24281.0), np.float64(24281.0)), 15: (900, 900), 16: (np.float64(2944.92384), np.float64(3125.91392)), 18: (np.float64(2677.94418), np.float64(2864.8084000000003)), 19: (np.float64(1529.4857), np.float64(1618.44008)), 21: (np.float64(4656.012790000001), np.float64(4756.08958)), 22: (np.float64(6052.0), np.float64(6052.0)), 23: (np.float64(2163.8071800000002), np.float64(2239.0955599999998)), 24: (np.float64(3589.75531), np.float64(3709.0717099999997)), 25: (np.float64(1717.97791), np.float64(1798.36825)), 26: (np.float64(4899.20767), np.float64(5089.546069999999))}\n",
      " intertimes :  (np.float64(2677.94418), np.float64(2864.8084000000003))\n",
      " duration   :  2771\n",
      "line 351...  estimate_duration : 18 \t sec:  2771\n",
      "line 352...  total duration [4, 18]  4525 / 75 min \n",
      "LINE:389 (iter: 8) -- predict_mask([model], '[4, 18]' ->  '4525 < 13446 sec' ?)\n",
      "\n",
      "\n",
      "-----------------\n",
      "line 379 bert_test_city[ Delh ] (iter: 9) -- predict_ mask([model], '[4, 18]')\n",
      "LINE 309, model.predict( to_predict=[['4', '18']] ) \n",
      "LINE 315  predseq => [4, 18],  maskpos => 1\n",
      "-- predict_ mask_pos ( <model>, seq= [4, 18], maskpos= 1  )\n",
      "line 240 ... seq: [4, 18]\n",
      "      seq :  [4, 18]\n",
      "LINE 256 -- model.predict( to_predict=['4,[MASK],18'] )\n"
     ]
    },
    {
     "data": {
      "application/vnd.jupyter.widget-view+json": {
       "model_id": "9e99928d57bb4dcd9e0f435e89c68fad",
       "version_major": 2,
       "version_minor": 0
      },
      "text/plain": [
       "0it [00:00, ?it/s]"
      ]
     },
     "metadata": {},
     "output_type": "display_data"
    },
    {
     "data": {
      "application/vnd.jupyter.widget-view+json": {
       "model_id": "eef1c81337cc498d892c845eb5cffc9d",
       "version_major": 2,
       "version_minor": 0
      },
      "text/plain": [
       "  0%|          | 0/1 [00:00<?, ?it/s]"
      ]
     },
     "metadata": {},
     "output_type": "display_data"
    },
    {
     "name": "stdout",
     "output_type": "stream",
     "text": [
      "  seq     -> [4, 18]\n",
      "  amax    -> 12\n",
      "  amaxval -> 0.738299548625946\n",
      "maskpos   => 1\n",
      "--> predict_ mask_pos (model, '[4, 18]', 1 ) --- [4, 12, 18] \n",
      "LINE 317  result: nextpoi:12 nextval:0.738299548625946 unmasked_seq:[4, 18]\n",
      "  POSSIBLE: 0.738299548625946 -> [4, 18] [4, 18]\n",
      "line 381 bert_test_city[ Delh ] (iter: 9) -- predict_ mask([model], '[4, 18]')\n",
      "line 382 nextpoi:12, maskpos:1, nextval:0.738299548625946, unmasked_seq:[4, 18]\n",
      "line 336... estimate_duration( pois ) : [4, 18] ) \n",
      "line 337... boot_times : {1: (np.float64(1447.3127599999998), np.float64(1509.4048599999999)), 3: (np.float64(644.0), np.float64(644.0)), 4: (np.float64(1710.11013), np.float64(1799.67295)), 5: (np.float64(4111.64443), np.float64(4452.76964)), 6: (np.float64(7485.125999999999), np.float64(7931.48429)), 7: (np.float64(2487.53043), np.float64(2568.7986600000004)), 9: (np.float64(4450.26771), np.float64(4663.99319)), 10: (np.float64(1302.45605), np.float64(1335.8737299999998)), 11: (np.float64(3576.4448500000003), np.float64(3821.34793)), 12: (np.float64(3329.4814300000003), np.float64(3554.3457799999996)), 14: (np.float64(24281.0), np.float64(24281.0)), 15: (900, 900), 16: (np.float64(2944.92384), np.float64(3125.91392)), 18: (np.float64(2677.94418), np.float64(2864.8084000000003)), 19: (np.float64(1529.4857), np.float64(1618.44008)), 21: (np.float64(4656.012790000001), np.float64(4756.08958)), 22: (np.float64(6052.0), np.float64(6052.0)), 23: (np.float64(2163.8071800000002), np.float64(2239.0955599999998)), 24: (np.float64(3589.75531), np.float64(3709.0717099999997)), 25: (np.float64(1717.97791), np.float64(1798.36825)), 26: (np.float64(4899.20767), np.float64(5089.546069999999))} ) \n",
      "boot_times :  {1: (np.float64(1447.3127599999998), np.float64(1509.4048599999999)), 3: (np.float64(644.0), np.float64(644.0)), 4: (np.float64(1710.11013), np.float64(1799.67295)), 5: (np.float64(4111.64443), np.float64(4452.76964)), 6: (np.float64(7485.125999999999), np.float64(7931.48429)), 7: (np.float64(2487.53043), np.float64(2568.7986600000004)), 9: (np.float64(4450.26771), np.float64(4663.99319)), 10: (np.float64(1302.45605), np.float64(1335.8737299999998)), 11: (np.float64(3576.4448500000003), np.float64(3821.34793)), 12: (np.float64(3329.4814300000003), np.float64(3554.3457799999996)), 14: (np.float64(24281.0), np.float64(24281.0)), 15: (900, 900), 16: (np.float64(2944.92384), np.float64(3125.91392)), 18: (np.float64(2677.94418), np.float64(2864.8084000000003)), 19: (np.float64(1529.4857), np.float64(1618.44008)), 21: (np.float64(4656.012790000001), np.float64(4756.08958)), 22: (np.float64(6052.0), np.float64(6052.0)), 23: (np.float64(2163.8071800000002), np.float64(2239.0955599999998)), 24: (np.float64(3589.75531), np.float64(3709.0717099999997)), 25: (np.float64(1717.97791), np.float64(1798.36825)), 26: (np.float64(4899.20767), np.float64(5089.546069999999))}\n",
      " intertimes :  (np.float64(1710.11013), np.float64(1799.67295))\n",
      " duration   :  1754\n",
      "line 351...  estimate_duration : 4 \t sec:  1754\n",
      "boot_times :  {1: (np.float64(1447.3127599999998), np.float64(1509.4048599999999)), 3: (np.float64(644.0), np.float64(644.0)), 4: (np.float64(1710.11013), np.float64(1799.67295)), 5: (np.float64(4111.64443), np.float64(4452.76964)), 6: (np.float64(7485.125999999999), np.float64(7931.48429)), 7: (np.float64(2487.53043), np.float64(2568.7986600000004)), 9: (np.float64(4450.26771), np.float64(4663.99319)), 10: (np.float64(1302.45605), np.float64(1335.8737299999998)), 11: (np.float64(3576.4448500000003), np.float64(3821.34793)), 12: (np.float64(3329.4814300000003), np.float64(3554.3457799999996)), 14: (np.float64(24281.0), np.float64(24281.0)), 15: (900, 900), 16: (np.float64(2944.92384), np.float64(3125.91392)), 18: (np.float64(2677.94418), np.float64(2864.8084000000003)), 19: (np.float64(1529.4857), np.float64(1618.44008)), 21: (np.float64(4656.012790000001), np.float64(4756.08958)), 22: (np.float64(6052.0), np.float64(6052.0)), 23: (np.float64(2163.8071800000002), np.float64(2239.0955599999998)), 24: (np.float64(3589.75531), np.float64(3709.0717099999997)), 25: (np.float64(1717.97791), np.float64(1798.36825)), 26: (np.float64(4899.20767), np.float64(5089.546069999999))}\n",
      " intertimes :  (np.float64(2677.94418), np.float64(2864.8084000000003))\n",
      " duration   :  2771\n",
      "line 351...  estimate_duration : 18 \t sec:  2771\n",
      "line 352...  total duration [4, 18]  4525 / 75 min \n",
      "LINE:389 (iter: 9) -- predict_mask([model], '[4, 18]' ->  '4525 < 13446 sec' ?)\n",
      "\n",
      "\n",
      "-----------------\n",
      "line 379 bert_test_city[ Delh ] (iter: 10) -- predict_ mask([model], '[4, 18]')\n",
      "LINE 309, model.predict( to_predict=[['4', '18']] ) \n",
      "LINE 315  predseq => [4, 18],  maskpos => 1\n",
      "-- predict_ mask_pos ( <model>, seq= [4, 18], maskpos= 1  )\n",
      "line 240 ... seq: [4, 18]\n",
      "      seq :  [4, 18]\n",
      "LINE 256 -- model.predict( to_predict=['4,[MASK],18'] )\n"
     ]
    },
    {
     "data": {
      "application/vnd.jupyter.widget-view+json": {
       "model_id": "cd223f6acf684cb29c266741d5ad50f7",
       "version_major": 2,
       "version_minor": 0
      },
      "text/plain": [
       "0it [00:00, ?it/s]"
      ]
     },
     "metadata": {},
     "output_type": "display_data"
    },
    {
     "data": {
      "application/vnd.jupyter.widget-view+json": {
       "model_id": "573bc0ed363848dda0b22ae8b00427a9",
       "version_major": 2,
       "version_minor": 0
      },
      "text/plain": [
       "  0%|          | 0/1 [00:00<?, ?it/s]"
      ]
     },
     "metadata": {},
     "output_type": "display_data"
    },
    {
     "name": "stdout",
     "output_type": "stream",
     "text": [
      "  seq     -> [4, 18]\n",
      "  amax    -> 12\n",
      "  amaxval -> 0.738299548625946\n",
      "maskpos   => 1\n",
      "--> predict_ mask_pos (model, '[4, 18]', 1 ) --- [4, 12, 18] \n",
      "LINE 317  result: nextpoi:12 nextval:0.738299548625946 unmasked_seq:[4, 18]\n",
      "  POSSIBLE: 0.738299548625946 -> [4, 18] [4, 18]\n",
      "line 381 bert_test_city[ Delh ] (iter: 10) -- predict_ mask([model], '[4, 18]')\n",
      "line 382 nextpoi:12, maskpos:1, nextval:0.738299548625946, unmasked_seq:[4, 18]\n",
      "line 336... estimate_duration( pois ) : [4, 18] ) \n",
      "line 337... boot_times : {1: (np.float64(1447.3127599999998), np.float64(1509.4048599999999)), 3: (np.float64(644.0), np.float64(644.0)), 4: (np.float64(1710.11013), np.float64(1799.67295)), 5: (np.float64(4111.64443), np.float64(4452.76964)), 6: (np.float64(7485.125999999999), np.float64(7931.48429)), 7: (np.float64(2487.53043), np.float64(2568.7986600000004)), 9: (np.float64(4450.26771), np.float64(4663.99319)), 10: (np.float64(1302.45605), np.float64(1335.8737299999998)), 11: (np.float64(3576.4448500000003), np.float64(3821.34793)), 12: (np.float64(3329.4814300000003), np.float64(3554.3457799999996)), 14: (np.float64(24281.0), np.float64(24281.0)), 15: (900, 900), 16: (np.float64(2944.92384), np.float64(3125.91392)), 18: (np.float64(2677.94418), np.float64(2864.8084000000003)), 19: (np.float64(1529.4857), np.float64(1618.44008)), 21: (np.float64(4656.012790000001), np.float64(4756.08958)), 22: (np.float64(6052.0), np.float64(6052.0)), 23: (np.float64(2163.8071800000002), np.float64(2239.0955599999998)), 24: (np.float64(3589.75531), np.float64(3709.0717099999997)), 25: (np.float64(1717.97791), np.float64(1798.36825)), 26: (np.float64(4899.20767), np.float64(5089.546069999999))} ) \n",
      "boot_times :  {1: (np.float64(1447.3127599999998), np.float64(1509.4048599999999)), 3: (np.float64(644.0), np.float64(644.0)), 4: (np.float64(1710.11013), np.float64(1799.67295)), 5: (np.float64(4111.64443), np.float64(4452.76964)), 6: (np.float64(7485.125999999999), np.float64(7931.48429)), 7: (np.float64(2487.53043), np.float64(2568.7986600000004)), 9: (np.float64(4450.26771), np.float64(4663.99319)), 10: (np.float64(1302.45605), np.float64(1335.8737299999998)), 11: (np.float64(3576.4448500000003), np.float64(3821.34793)), 12: (np.float64(3329.4814300000003), np.float64(3554.3457799999996)), 14: (np.float64(24281.0), np.float64(24281.0)), 15: (900, 900), 16: (np.float64(2944.92384), np.float64(3125.91392)), 18: (np.float64(2677.94418), np.float64(2864.8084000000003)), 19: (np.float64(1529.4857), np.float64(1618.44008)), 21: (np.float64(4656.012790000001), np.float64(4756.08958)), 22: (np.float64(6052.0), np.float64(6052.0)), 23: (np.float64(2163.8071800000002), np.float64(2239.0955599999998)), 24: (np.float64(3589.75531), np.float64(3709.0717099999997)), 25: (np.float64(1717.97791), np.float64(1798.36825)), 26: (np.float64(4899.20767), np.float64(5089.546069999999))}\n",
      " intertimes :  (np.float64(1710.11013), np.float64(1799.67295))\n",
      " duration   :  1754\n",
      "line 351...  estimate_duration : 4 \t sec:  1754\n",
      "boot_times :  {1: (np.float64(1447.3127599999998), np.float64(1509.4048599999999)), 3: (np.float64(644.0), np.float64(644.0)), 4: (np.float64(1710.11013), np.float64(1799.67295)), 5: (np.float64(4111.64443), np.float64(4452.76964)), 6: (np.float64(7485.125999999999), np.float64(7931.48429)), 7: (np.float64(2487.53043), np.float64(2568.7986600000004)), 9: (np.float64(4450.26771), np.float64(4663.99319)), 10: (np.float64(1302.45605), np.float64(1335.8737299999998)), 11: (np.float64(3576.4448500000003), np.float64(3821.34793)), 12: (np.float64(3329.4814300000003), np.float64(3554.3457799999996)), 14: (np.float64(24281.0), np.float64(24281.0)), 15: (900, 900), 16: (np.float64(2944.92384), np.float64(3125.91392)), 18: (np.float64(2677.94418), np.float64(2864.8084000000003)), 19: (np.float64(1529.4857), np.float64(1618.44008)), 21: (np.float64(4656.012790000001), np.float64(4756.08958)), 22: (np.float64(6052.0), np.float64(6052.0)), 23: (np.float64(2163.8071800000002), np.float64(2239.0955599999998)), 24: (np.float64(3589.75531), np.float64(3709.0717099999997)), 25: (np.float64(1717.97791), np.float64(1798.36825)), 26: (np.float64(4899.20767), np.float64(5089.546069999999))}\n",
      " intertimes :  (np.float64(2677.94418), np.float64(2864.8084000000003))\n",
      " duration   :  2771\n",
      "line 351...  estimate_duration : 18 \t sec:  2771\n",
      "line 352...  total duration [4, 18]  4525 / 75 min \n",
      "LINE:389 (iter: 10) -- predict_mask([model], '[4, 18]' ->  '4525 < 13446 sec' ?)\n",
      "\n",
      "\n",
      "-----------------\n",
      "line 379 bert_test_city[ Delh ] (iter: 11) -- predict_ mask([model], '[4, 18]')\n",
      "LINE 309, model.predict( to_predict=[['4', '18']] ) \n",
      "LINE 315  predseq => [4, 18],  maskpos => 1\n",
      "-- predict_ mask_pos ( <model>, seq= [4, 18], maskpos= 1  )\n",
      "line 240 ... seq: [4, 18]\n",
      "      seq :  [4, 18]\n",
      "LINE 256 -- model.predict( to_predict=['4,[MASK],18'] )\n"
     ]
    },
    {
     "data": {
      "application/vnd.jupyter.widget-view+json": {
       "model_id": "e3bbfd7679ca477083d89fa9465ff0c4",
       "version_major": 2,
       "version_minor": 0
      },
      "text/plain": [
       "0it [00:00, ?it/s]"
      ]
     },
     "metadata": {},
     "output_type": "display_data"
    },
    {
     "data": {
      "application/vnd.jupyter.widget-view+json": {
       "model_id": "5086e13818554c989e9c65631be4e1f0",
       "version_major": 2,
       "version_minor": 0
      },
      "text/plain": [
       "  0%|          | 0/1 [00:00<?, ?it/s]"
      ]
     },
     "metadata": {},
     "output_type": "display_data"
    },
    {
     "name": "stdout",
     "output_type": "stream",
     "text": [
      "  seq     -> [4, 18]\n",
      "  amax    -> 12\n",
      "  amaxval -> 0.738299548625946\n",
      "maskpos   => 1\n",
      "--> predict_ mask_pos (model, '[4, 18]', 1 ) --- [4, 12, 18] \n",
      "LINE 317  result: nextpoi:12 nextval:0.738299548625946 unmasked_seq:[4, 18]\n",
      "  POSSIBLE: 0.738299548625946 -> [4, 18] [4, 18]\n",
      "line 381 bert_test_city[ Delh ] (iter: 11) -- predict_ mask([model], '[4, 18]')\n",
      "line 382 nextpoi:12, maskpos:1, nextval:0.738299548625946, unmasked_seq:[4, 18]\n",
      "line 336... estimate_duration( pois ) : [4, 18] ) \n",
      "line 337... boot_times : {1: (np.float64(1447.3127599999998), np.float64(1509.4048599999999)), 3: (np.float64(644.0), np.float64(644.0)), 4: (np.float64(1710.11013), np.float64(1799.67295)), 5: (np.float64(4111.64443), np.float64(4452.76964)), 6: (np.float64(7485.125999999999), np.float64(7931.48429)), 7: (np.float64(2487.53043), np.float64(2568.7986600000004)), 9: (np.float64(4450.26771), np.float64(4663.99319)), 10: (np.float64(1302.45605), np.float64(1335.8737299999998)), 11: (np.float64(3576.4448500000003), np.float64(3821.34793)), 12: (np.float64(3329.4814300000003), np.float64(3554.3457799999996)), 14: (np.float64(24281.0), np.float64(24281.0)), 15: (900, 900), 16: (np.float64(2944.92384), np.float64(3125.91392)), 18: (np.float64(2677.94418), np.float64(2864.8084000000003)), 19: (np.float64(1529.4857), np.float64(1618.44008)), 21: (np.float64(4656.012790000001), np.float64(4756.08958)), 22: (np.float64(6052.0), np.float64(6052.0)), 23: (np.float64(2163.8071800000002), np.float64(2239.0955599999998)), 24: (np.float64(3589.75531), np.float64(3709.0717099999997)), 25: (np.float64(1717.97791), np.float64(1798.36825)), 26: (np.float64(4899.20767), np.float64(5089.546069999999))} ) \n",
      "boot_times :  {1: (np.float64(1447.3127599999998), np.float64(1509.4048599999999)), 3: (np.float64(644.0), np.float64(644.0)), 4: (np.float64(1710.11013), np.float64(1799.67295)), 5: (np.float64(4111.64443), np.float64(4452.76964)), 6: (np.float64(7485.125999999999), np.float64(7931.48429)), 7: (np.float64(2487.53043), np.float64(2568.7986600000004)), 9: (np.float64(4450.26771), np.float64(4663.99319)), 10: (np.float64(1302.45605), np.float64(1335.8737299999998)), 11: (np.float64(3576.4448500000003), np.float64(3821.34793)), 12: (np.float64(3329.4814300000003), np.float64(3554.3457799999996)), 14: (np.float64(24281.0), np.float64(24281.0)), 15: (900, 900), 16: (np.float64(2944.92384), np.float64(3125.91392)), 18: (np.float64(2677.94418), np.float64(2864.8084000000003)), 19: (np.float64(1529.4857), np.float64(1618.44008)), 21: (np.float64(4656.012790000001), np.float64(4756.08958)), 22: (np.float64(6052.0), np.float64(6052.0)), 23: (np.float64(2163.8071800000002), np.float64(2239.0955599999998)), 24: (np.float64(3589.75531), np.float64(3709.0717099999997)), 25: (np.float64(1717.97791), np.float64(1798.36825)), 26: (np.float64(4899.20767), np.float64(5089.546069999999))}\n",
      " intertimes :  (np.float64(1710.11013), np.float64(1799.67295))\n",
      " duration   :  1754\n",
      "line 351...  estimate_duration : 4 \t sec:  1754\n",
      "boot_times :  {1: (np.float64(1447.3127599999998), np.float64(1509.4048599999999)), 3: (np.float64(644.0), np.float64(644.0)), 4: (np.float64(1710.11013), np.float64(1799.67295)), 5: (np.float64(4111.64443), np.float64(4452.76964)), 6: (np.float64(7485.125999999999), np.float64(7931.48429)), 7: (np.float64(2487.53043), np.float64(2568.7986600000004)), 9: (np.float64(4450.26771), np.float64(4663.99319)), 10: (np.float64(1302.45605), np.float64(1335.8737299999998)), 11: (np.float64(3576.4448500000003), np.float64(3821.34793)), 12: (np.float64(3329.4814300000003), np.float64(3554.3457799999996)), 14: (np.float64(24281.0), np.float64(24281.0)), 15: (900, 900), 16: (np.float64(2944.92384), np.float64(3125.91392)), 18: (np.float64(2677.94418), np.float64(2864.8084000000003)), 19: (np.float64(1529.4857), np.float64(1618.44008)), 21: (np.float64(4656.012790000001), np.float64(4756.08958)), 22: (np.float64(6052.0), np.float64(6052.0)), 23: (np.float64(2163.8071800000002), np.float64(2239.0955599999998)), 24: (np.float64(3589.75531), np.float64(3709.0717099999997)), 25: (np.float64(1717.97791), np.float64(1798.36825)), 26: (np.float64(4899.20767), np.float64(5089.546069999999))}\n",
      " intertimes :  (np.float64(2677.94418), np.float64(2864.8084000000003))\n",
      " duration   :  2771\n",
      "line 351...  estimate_duration : 18 \t sec:  2771\n",
      "line 352...  total duration [4, 18]  4525 / 75 min \n",
      "LINE:389 (iter: 11) -- predict_mask([model], '[4, 18]' ->  '4525 < 13446 sec' ?)\n",
      "\n",
      "\n",
      "-----------------\n",
      "line 379 bert_test_city[ Delh ] (iter: 12) -- predict_ mask([model], '[4, 18]')\n",
      "LINE 309, model.predict( to_predict=[['4', '18']] ) \n",
      "LINE 315  predseq => [4, 18],  maskpos => 1\n",
      "-- predict_ mask_pos ( <model>, seq= [4, 18], maskpos= 1  )\n",
      "line 240 ... seq: [4, 18]\n",
      "      seq :  [4, 18]\n",
      "LINE 256 -- model.predict( to_predict=['4,[MASK],18'] )\n"
     ]
    },
    {
     "data": {
      "application/vnd.jupyter.widget-view+json": {
       "model_id": "52ffd958ae0f4990956d210914a44b26",
       "version_major": 2,
       "version_minor": 0
      },
      "text/plain": [
       "0it [00:00, ?it/s]"
      ]
     },
     "metadata": {},
     "output_type": "display_data"
    },
    {
     "data": {
      "application/vnd.jupyter.widget-view+json": {
       "model_id": "db583b83053e4850ad39c26d040a9443",
       "version_major": 2,
       "version_minor": 0
      },
      "text/plain": [
       "  0%|          | 0/1 [00:00<?, ?it/s]"
      ]
     },
     "metadata": {},
     "output_type": "display_data"
    },
    {
     "name": "stdout",
     "output_type": "stream",
     "text": [
      "  seq     -> [4, 18]\n",
      "  amax    -> 12\n",
      "  amaxval -> 0.738299548625946\n",
      "maskpos   => 1\n",
      "--> predict_ mask_pos (model, '[4, 18]', 1 ) --- [4, 12, 18] \n",
      "LINE 317  result: nextpoi:12 nextval:0.738299548625946 unmasked_seq:[4, 18]\n",
      "  POSSIBLE: 0.738299548625946 -> [4, 18] [4, 18]\n",
      "line 381 bert_test_city[ Delh ] (iter: 12) -- predict_ mask([model], '[4, 18]')\n",
      "line 382 nextpoi:12, maskpos:1, nextval:0.738299548625946, unmasked_seq:[4, 18]\n",
      "line 336... estimate_duration( pois ) : [4, 18] ) \n",
      "line 337... boot_times : {1: (np.float64(1447.3127599999998), np.float64(1509.4048599999999)), 3: (np.float64(644.0), np.float64(644.0)), 4: (np.float64(1710.11013), np.float64(1799.67295)), 5: (np.float64(4111.64443), np.float64(4452.76964)), 6: (np.float64(7485.125999999999), np.float64(7931.48429)), 7: (np.float64(2487.53043), np.float64(2568.7986600000004)), 9: (np.float64(4450.26771), np.float64(4663.99319)), 10: (np.float64(1302.45605), np.float64(1335.8737299999998)), 11: (np.float64(3576.4448500000003), np.float64(3821.34793)), 12: (np.float64(3329.4814300000003), np.float64(3554.3457799999996)), 14: (np.float64(24281.0), np.float64(24281.0)), 15: (900, 900), 16: (np.float64(2944.92384), np.float64(3125.91392)), 18: (np.float64(2677.94418), np.float64(2864.8084000000003)), 19: (np.float64(1529.4857), np.float64(1618.44008)), 21: (np.float64(4656.012790000001), np.float64(4756.08958)), 22: (np.float64(6052.0), np.float64(6052.0)), 23: (np.float64(2163.8071800000002), np.float64(2239.0955599999998)), 24: (np.float64(3589.75531), np.float64(3709.0717099999997)), 25: (np.float64(1717.97791), np.float64(1798.36825)), 26: (np.float64(4899.20767), np.float64(5089.546069999999))} ) \n",
      "boot_times :  {1: (np.float64(1447.3127599999998), np.float64(1509.4048599999999)), 3: (np.float64(644.0), np.float64(644.0)), 4: (np.float64(1710.11013), np.float64(1799.67295)), 5: (np.float64(4111.64443), np.float64(4452.76964)), 6: (np.float64(7485.125999999999), np.float64(7931.48429)), 7: (np.float64(2487.53043), np.float64(2568.7986600000004)), 9: (np.float64(4450.26771), np.float64(4663.99319)), 10: (np.float64(1302.45605), np.float64(1335.8737299999998)), 11: (np.float64(3576.4448500000003), np.float64(3821.34793)), 12: (np.float64(3329.4814300000003), np.float64(3554.3457799999996)), 14: (np.float64(24281.0), np.float64(24281.0)), 15: (900, 900), 16: (np.float64(2944.92384), np.float64(3125.91392)), 18: (np.float64(2677.94418), np.float64(2864.8084000000003)), 19: (np.float64(1529.4857), np.float64(1618.44008)), 21: (np.float64(4656.012790000001), np.float64(4756.08958)), 22: (np.float64(6052.0), np.float64(6052.0)), 23: (np.float64(2163.8071800000002), np.float64(2239.0955599999998)), 24: (np.float64(3589.75531), np.float64(3709.0717099999997)), 25: (np.float64(1717.97791), np.float64(1798.36825)), 26: (np.float64(4899.20767), np.float64(5089.546069999999))}\n",
      " intertimes :  (np.float64(1710.11013), np.float64(1799.67295))\n",
      " duration   :  1754\n",
      "line 351...  estimate_duration : 4 \t sec:  1754\n",
      "boot_times :  {1: (np.float64(1447.3127599999998), np.float64(1509.4048599999999)), 3: (np.float64(644.0), np.float64(644.0)), 4: (np.float64(1710.11013), np.float64(1799.67295)), 5: (np.float64(4111.64443), np.float64(4452.76964)), 6: (np.float64(7485.125999999999), np.float64(7931.48429)), 7: (np.float64(2487.53043), np.float64(2568.7986600000004)), 9: (np.float64(4450.26771), np.float64(4663.99319)), 10: (np.float64(1302.45605), np.float64(1335.8737299999998)), 11: (np.float64(3576.4448500000003), np.float64(3821.34793)), 12: (np.float64(3329.4814300000003), np.float64(3554.3457799999996)), 14: (np.float64(24281.0), np.float64(24281.0)), 15: (900, 900), 16: (np.float64(2944.92384), np.float64(3125.91392)), 18: (np.float64(2677.94418), np.float64(2864.8084000000003)), 19: (np.float64(1529.4857), np.float64(1618.44008)), 21: (np.float64(4656.012790000001), np.float64(4756.08958)), 22: (np.float64(6052.0), np.float64(6052.0)), 23: (np.float64(2163.8071800000002), np.float64(2239.0955599999998)), 24: (np.float64(3589.75531), np.float64(3709.0717099999997)), 25: (np.float64(1717.97791), np.float64(1798.36825)), 26: (np.float64(4899.20767), np.float64(5089.546069999999))}\n",
      " intertimes :  (np.float64(2677.94418), np.float64(2864.8084000000003))\n",
      " duration   :  2771\n",
      "line 351...  estimate_duration : 18 \t sec:  2771\n",
      "line 352...  total duration [4, 18]  4525 / 75 min \n",
      "LINE:389 (iter: 12) -- predict_mask([model], '[4, 18]' ->  '4525 < 13446 sec' ?)\n",
      "\n",
      "\n",
      "-----------------\n",
      "line 379 bert_test_city[ Delh ] (iter: 13) -- predict_ mask([model], '[4, 18]')\n",
      "LINE 309, model.predict( to_predict=[['4', '18']] ) \n",
      "LINE 315  predseq => [4, 18],  maskpos => 1\n",
      "-- predict_ mask_pos ( <model>, seq= [4, 18], maskpos= 1  )\n",
      "line 240 ... seq: [4, 18]\n",
      "      seq :  [4, 18]\n",
      "LINE 256 -- model.predict( to_predict=['4,[MASK],18'] )\n"
     ]
    },
    {
     "data": {
      "application/vnd.jupyter.widget-view+json": {
       "model_id": "17f53190f0a54be7b6980a0bed516c96",
       "version_major": 2,
       "version_minor": 0
      },
      "text/plain": [
       "0it [00:00, ?it/s]"
      ]
     },
     "metadata": {},
     "output_type": "display_data"
    },
    {
     "data": {
      "application/vnd.jupyter.widget-view+json": {
       "model_id": "38fe2679db4d4471b40f374ed1ec748f",
       "version_major": 2,
       "version_minor": 0
      },
      "text/plain": [
       "  0%|          | 0/1 [00:00<?, ?it/s]"
      ]
     },
     "metadata": {},
     "output_type": "display_data"
    },
    {
     "name": "stdout",
     "output_type": "stream",
     "text": [
      "  seq     -> [4, 18]\n",
      "  amax    -> 12\n",
      "  amaxval -> 0.738299548625946\n",
      "maskpos   => 1\n",
      "--> predict_ mask_pos (model, '[4, 18]', 1 ) --- [4, 12, 18] \n",
      "LINE 317  result: nextpoi:12 nextval:0.738299548625946 unmasked_seq:[4, 18]\n",
      "  POSSIBLE: 0.738299548625946 -> [4, 18] [4, 18]\n",
      "line 381 bert_test_city[ Delh ] (iter: 13) -- predict_ mask([model], '[4, 18]')\n",
      "line 382 nextpoi:12, maskpos:1, nextval:0.738299548625946, unmasked_seq:[4, 18]\n",
      "line 336... estimate_duration( pois ) : [4, 18] ) \n",
      "line 337... boot_times : {1: (np.float64(1447.3127599999998), np.float64(1509.4048599999999)), 3: (np.float64(644.0), np.float64(644.0)), 4: (np.float64(1710.11013), np.float64(1799.67295)), 5: (np.float64(4111.64443), np.float64(4452.76964)), 6: (np.float64(7485.125999999999), np.float64(7931.48429)), 7: (np.float64(2487.53043), np.float64(2568.7986600000004)), 9: (np.float64(4450.26771), np.float64(4663.99319)), 10: (np.float64(1302.45605), np.float64(1335.8737299999998)), 11: (np.float64(3576.4448500000003), np.float64(3821.34793)), 12: (np.float64(3329.4814300000003), np.float64(3554.3457799999996)), 14: (np.float64(24281.0), np.float64(24281.0)), 15: (900, 900), 16: (np.float64(2944.92384), np.float64(3125.91392)), 18: (np.float64(2677.94418), np.float64(2864.8084000000003)), 19: (np.float64(1529.4857), np.float64(1618.44008)), 21: (np.float64(4656.012790000001), np.float64(4756.08958)), 22: (np.float64(6052.0), np.float64(6052.0)), 23: (np.float64(2163.8071800000002), np.float64(2239.0955599999998)), 24: (np.float64(3589.75531), np.float64(3709.0717099999997)), 25: (np.float64(1717.97791), np.float64(1798.36825)), 26: (np.float64(4899.20767), np.float64(5089.546069999999))} ) \n",
      "boot_times :  {1: (np.float64(1447.3127599999998), np.float64(1509.4048599999999)), 3: (np.float64(644.0), np.float64(644.0)), 4: (np.float64(1710.11013), np.float64(1799.67295)), 5: (np.float64(4111.64443), np.float64(4452.76964)), 6: (np.float64(7485.125999999999), np.float64(7931.48429)), 7: (np.float64(2487.53043), np.float64(2568.7986600000004)), 9: (np.float64(4450.26771), np.float64(4663.99319)), 10: (np.float64(1302.45605), np.float64(1335.8737299999998)), 11: (np.float64(3576.4448500000003), np.float64(3821.34793)), 12: (np.float64(3329.4814300000003), np.float64(3554.3457799999996)), 14: (np.float64(24281.0), np.float64(24281.0)), 15: (900, 900), 16: (np.float64(2944.92384), np.float64(3125.91392)), 18: (np.float64(2677.94418), np.float64(2864.8084000000003)), 19: (np.float64(1529.4857), np.float64(1618.44008)), 21: (np.float64(4656.012790000001), np.float64(4756.08958)), 22: (np.float64(6052.0), np.float64(6052.0)), 23: (np.float64(2163.8071800000002), np.float64(2239.0955599999998)), 24: (np.float64(3589.75531), np.float64(3709.0717099999997)), 25: (np.float64(1717.97791), np.float64(1798.36825)), 26: (np.float64(4899.20767), np.float64(5089.546069999999))}\n",
      " intertimes :  (np.float64(1710.11013), np.float64(1799.67295))\n",
      " duration   :  1754\n",
      "line 351...  estimate_duration : 4 \t sec:  1754\n",
      "boot_times :  {1: (np.float64(1447.3127599999998), np.float64(1509.4048599999999)), 3: (np.float64(644.0), np.float64(644.0)), 4: (np.float64(1710.11013), np.float64(1799.67295)), 5: (np.float64(4111.64443), np.float64(4452.76964)), 6: (np.float64(7485.125999999999), np.float64(7931.48429)), 7: (np.float64(2487.53043), np.float64(2568.7986600000004)), 9: (np.float64(4450.26771), np.float64(4663.99319)), 10: (np.float64(1302.45605), np.float64(1335.8737299999998)), 11: (np.float64(3576.4448500000003), np.float64(3821.34793)), 12: (np.float64(3329.4814300000003), np.float64(3554.3457799999996)), 14: (np.float64(24281.0), np.float64(24281.0)), 15: (900, 900), 16: (np.float64(2944.92384), np.float64(3125.91392)), 18: (np.float64(2677.94418), np.float64(2864.8084000000003)), 19: (np.float64(1529.4857), np.float64(1618.44008)), 21: (np.float64(4656.012790000001), np.float64(4756.08958)), 22: (np.float64(6052.0), np.float64(6052.0)), 23: (np.float64(2163.8071800000002), np.float64(2239.0955599999998)), 24: (np.float64(3589.75531), np.float64(3709.0717099999997)), 25: (np.float64(1717.97791), np.float64(1798.36825)), 26: (np.float64(4899.20767), np.float64(5089.546069999999))}\n",
      " intertimes :  (np.float64(2677.94418), np.float64(2864.8084000000003))\n",
      " duration   :  2771\n",
      "line 351...  estimate_duration : 18 \t sec:  2771\n",
      "line 352...  total duration [4, 18]  4525 / 75 min \n",
      "LINE:389 (iter: 13) -- predict_mask([model], '[4, 18]' ->  '4525 < 13446 sec' ?)\n",
      "\n",
      "\n",
      "-----------------\n",
      "line 379 bert_test_city[ Delh ] (iter: 14) -- predict_ mask([model], '[4, 18]')\n",
      "LINE 309, model.predict( to_predict=[['4', '18']] ) \n",
      "LINE 315  predseq => [4, 18],  maskpos => 1\n",
      "-- predict_ mask_pos ( <model>, seq= [4, 18], maskpos= 1  )\n",
      "line 240 ... seq: [4, 18]\n",
      "      seq :  [4, 18]\n",
      "LINE 256 -- model.predict( to_predict=['4,[MASK],18'] )\n"
     ]
    },
    {
     "data": {
      "application/vnd.jupyter.widget-view+json": {
       "model_id": "78254bcf423441a29c1d2b44fd56c653",
       "version_major": 2,
       "version_minor": 0
      },
      "text/plain": [
       "0it [00:00, ?it/s]"
      ]
     },
     "metadata": {},
     "output_type": "display_data"
    },
    {
     "data": {
      "application/vnd.jupyter.widget-view+json": {
       "model_id": "99e8f2cd40bf4714bf51639f21b33c25",
       "version_major": 2,
       "version_minor": 0
      },
      "text/plain": [
       "  0%|          | 0/1 [00:00<?, ?it/s]"
      ]
     },
     "metadata": {},
     "output_type": "display_data"
    },
    {
     "name": "stdout",
     "output_type": "stream",
     "text": [
      "  seq     -> [4, 18]\n",
      "  amax    -> 12\n",
      "  amaxval -> 0.738299548625946\n",
      "maskpos   => 1\n",
      "--> predict_ mask_pos (model, '[4, 18]', 1 ) --- [4, 12, 18] \n",
      "LINE 317  result: nextpoi:12 nextval:0.738299548625946 unmasked_seq:[4, 18]\n",
      "  POSSIBLE: 0.738299548625946 -> [4, 18] [4, 18]\n",
      "line 381 bert_test_city[ Delh ] (iter: 14) -- predict_ mask([model], '[4, 18]')\n",
      "line 382 nextpoi:12, maskpos:1, nextval:0.738299548625946, unmasked_seq:[4, 18]\n",
      "line 336... estimate_duration( pois ) : [4, 18] ) \n",
      "line 337... boot_times : {1: (np.float64(1447.3127599999998), np.float64(1509.4048599999999)), 3: (np.float64(644.0), np.float64(644.0)), 4: (np.float64(1710.11013), np.float64(1799.67295)), 5: (np.float64(4111.64443), np.float64(4452.76964)), 6: (np.float64(7485.125999999999), np.float64(7931.48429)), 7: (np.float64(2487.53043), np.float64(2568.7986600000004)), 9: (np.float64(4450.26771), np.float64(4663.99319)), 10: (np.float64(1302.45605), np.float64(1335.8737299999998)), 11: (np.float64(3576.4448500000003), np.float64(3821.34793)), 12: (np.float64(3329.4814300000003), np.float64(3554.3457799999996)), 14: (np.float64(24281.0), np.float64(24281.0)), 15: (900, 900), 16: (np.float64(2944.92384), np.float64(3125.91392)), 18: (np.float64(2677.94418), np.float64(2864.8084000000003)), 19: (np.float64(1529.4857), np.float64(1618.44008)), 21: (np.float64(4656.012790000001), np.float64(4756.08958)), 22: (np.float64(6052.0), np.float64(6052.0)), 23: (np.float64(2163.8071800000002), np.float64(2239.0955599999998)), 24: (np.float64(3589.75531), np.float64(3709.0717099999997)), 25: (np.float64(1717.97791), np.float64(1798.36825)), 26: (np.float64(4899.20767), np.float64(5089.546069999999))} ) \n",
      "boot_times :  {1: (np.float64(1447.3127599999998), np.float64(1509.4048599999999)), 3: (np.float64(644.0), np.float64(644.0)), 4: (np.float64(1710.11013), np.float64(1799.67295)), 5: (np.float64(4111.64443), np.float64(4452.76964)), 6: (np.float64(7485.125999999999), np.float64(7931.48429)), 7: (np.float64(2487.53043), np.float64(2568.7986600000004)), 9: (np.float64(4450.26771), np.float64(4663.99319)), 10: (np.float64(1302.45605), np.float64(1335.8737299999998)), 11: (np.float64(3576.4448500000003), np.float64(3821.34793)), 12: (np.float64(3329.4814300000003), np.float64(3554.3457799999996)), 14: (np.float64(24281.0), np.float64(24281.0)), 15: (900, 900), 16: (np.float64(2944.92384), np.float64(3125.91392)), 18: (np.float64(2677.94418), np.float64(2864.8084000000003)), 19: (np.float64(1529.4857), np.float64(1618.44008)), 21: (np.float64(4656.012790000001), np.float64(4756.08958)), 22: (np.float64(6052.0), np.float64(6052.0)), 23: (np.float64(2163.8071800000002), np.float64(2239.0955599999998)), 24: (np.float64(3589.75531), np.float64(3709.0717099999997)), 25: (np.float64(1717.97791), np.float64(1798.36825)), 26: (np.float64(4899.20767), np.float64(5089.546069999999))}\n",
      " intertimes :  (np.float64(1710.11013), np.float64(1799.67295))\n",
      " duration   :  1754\n",
      "line 351...  estimate_duration : 4 \t sec:  1754\n",
      "boot_times :  {1: (np.float64(1447.3127599999998), np.float64(1509.4048599999999)), 3: (np.float64(644.0), np.float64(644.0)), 4: (np.float64(1710.11013), np.float64(1799.67295)), 5: (np.float64(4111.64443), np.float64(4452.76964)), 6: (np.float64(7485.125999999999), np.float64(7931.48429)), 7: (np.float64(2487.53043), np.float64(2568.7986600000004)), 9: (np.float64(4450.26771), np.float64(4663.99319)), 10: (np.float64(1302.45605), np.float64(1335.8737299999998)), 11: (np.float64(3576.4448500000003), np.float64(3821.34793)), 12: (np.float64(3329.4814300000003), np.float64(3554.3457799999996)), 14: (np.float64(24281.0), np.float64(24281.0)), 15: (900, 900), 16: (np.float64(2944.92384), np.float64(3125.91392)), 18: (np.float64(2677.94418), np.float64(2864.8084000000003)), 19: (np.float64(1529.4857), np.float64(1618.44008)), 21: (np.float64(4656.012790000001), np.float64(4756.08958)), 22: (np.float64(6052.0), np.float64(6052.0)), 23: (np.float64(2163.8071800000002), np.float64(2239.0955599999998)), 24: (np.float64(3589.75531), np.float64(3709.0717099999997)), 25: (np.float64(1717.97791), np.float64(1798.36825)), 26: (np.float64(4899.20767), np.float64(5089.546069999999))}\n",
      " intertimes :  (np.float64(2677.94418), np.float64(2864.8084000000003))\n",
      " duration   :  2771\n",
      "line 351...  estimate_duration : 18 \t sec:  2771\n",
      "line 352...  total duration [4, 18]  4525 / 75 min \n",
      "LINE:389 (iter: 14) -- predict_mask([model], '[4, 18]' ->  '4525 < 13446 sec' ?)\n",
      "\n",
      "\n",
      "-----------------\n",
      "line 379 bert_test_city[ Delh ] (iter: 15) -- predict_ mask([model], '[4, 18]')\n",
      "LINE 309, model.predict( to_predict=[['4', '18']] ) \n",
      "LINE 315  predseq => [4, 18],  maskpos => 1\n",
      "-- predict_ mask_pos ( <model>, seq= [4, 18], maskpos= 1  )\n",
      "line 240 ... seq: [4, 18]\n",
      "      seq :  [4, 18]\n",
      "LINE 256 -- model.predict( to_predict=['4,[MASK],18'] )\n"
     ]
    },
    {
     "data": {
      "application/vnd.jupyter.widget-view+json": {
       "model_id": "159c4da428e44d0888f096775544c168",
       "version_major": 2,
       "version_minor": 0
      },
      "text/plain": [
       "0it [00:00, ?it/s]"
      ]
     },
     "metadata": {},
     "output_type": "display_data"
    },
    {
     "data": {
      "application/vnd.jupyter.widget-view+json": {
       "model_id": "bca80f3b28c24934ab31a0a82f0562cd",
       "version_major": 2,
       "version_minor": 0
      },
      "text/plain": [
       "  0%|          | 0/1 [00:00<?, ?it/s]"
      ]
     },
     "metadata": {},
     "output_type": "display_data"
    },
    {
     "name": "stdout",
     "output_type": "stream",
     "text": [
      "  seq     -> [4, 18]\n",
      "  amax    -> 12\n",
      "  amaxval -> 0.738299548625946\n",
      "maskpos   => 1\n",
      "--> predict_ mask_pos (model, '[4, 18]', 1 ) --- [4, 12, 18] \n",
      "LINE 317  result: nextpoi:12 nextval:0.738299548625946 unmasked_seq:[4, 18]\n",
      "  POSSIBLE: 0.738299548625946 -> [4, 18] [4, 18]\n",
      "line 381 bert_test_city[ Delh ] (iter: 15) -- predict_ mask([model], '[4, 18]')\n",
      "line 382 nextpoi:12, maskpos:1, nextval:0.738299548625946, unmasked_seq:[4, 18]\n",
      "line 336... estimate_duration( pois ) : [4, 18] ) \n",
      "line 337... boot_times : {1: (np.float64(1447.3127599999998), np.float64(1509.4048599999999)), 3: (np.float64(644.0), np.float64(644.0)), 4: (np.float64(1710.11013), np.float64(1799.67295)), 5: (np.float64(4111.64443), np.float64(4452.76964)), 6: (np.float64(7485.125999999999), np.float64(7931.48429)), 7: (np.float64(2487.53043), np.float64(2568.7986600000004)), 9: (np.float64(4450.26771), np.float64(4663.99319)), 10: (np.float64(1302.45605), np.float64(1335.8737299999998)), 11: (np.float64(3576.4448500000003), np.float64(3821.34793)), 12: (np.float64(3329.4814300000003), np.float64(3554.3457799999996)), 14: (np.float64(24281.0), np.float64(24281.0)), 15: (900, 900), 16: (np.float64(2944.92384), np.float64(3125.91392)), 18: (np.float64(2677.94418), np.float64(2864.8084000000003)), 19: (np.float64(1529.4857), np.float64(1618.44008)), 21: (np.float64(4656.012790000001), np.float64(4756.08958)), 22: (np.float64(6052.0), np.float64(6052.0)), 23: (np.float64(2163.8071800000002), np.float64(2239.0955599999998)), 24: (np.float64(3589.75531), np.float64(3709.0717099999997)), 25: (np.float64(1717.97791), np.float64(1798.36825)), 26: (np.float64(4899.20767), np.float64(5089.546069999999))} ) \n",
      "boot_times :  {1: (np.float64(1447.3127599999998), np.float64(1509.4048599999999)), 3: (np.float64(644.0), np.float64(644.0)), 4: (np.float64(1710.11013), np.float64(1799.67295)), 5: (np.float64(4111.64443), np.float64(4452.76964)), 6: (np.float64(7485.125999999999), np.float64(7931.48429)), 7: (np.float64(2487.53043), np.float64(2568.7986600000004)), 9: (np.float64(4450.26771), np.float64(4663.99319)), 10: (np.float64(1302.45605), np.float64(1335.8737299999998)), 11: (np.float64(3576.4448500000003), np.float64(3821.34793)), 12: (np.float64(3329.4814300000003), np.float64(3554.3457799999996)), 14: (np.float64(24281.0), np.float64(24281.0)), 15: (900, 900), 16: (np.float64(2944.92384), np.float64(3125.91392)), 18: (np.float64(2677.94418), np.float64(2864.8084000000003)), 19: (np.float64(1529.4857), np.float64(1618.44008)), 21: (np.float64(4656.012790000001), np.float64(4756.08958)), 22: (np.float64(6052.0), np.float64(6052.0)), 23: (np.float64(2163.8071800000002), np.float64(2239.0955599999998)), 24: (np.float64(3589.75531), np.float64(3709.0717099999997)), 25: (np.float64(1717.97791), np.float64(1798.36825)), 26: (np.float64(4899.20767), np.float64(5089.546069999999))}\n",
      " intertimes :  (np.float64(1710.11013), np.float64(1799.67295))\n",
      " duration   :  1754\n",
      "line 351...  estimate_duration : 4 \t sec:  1754\n",
      "boot_times :  {1: (np.float64(1447.3127599999998), np.float64(1509.4048599999999)), 3: (np.float64(644.0), np.float64(644.0)), 4: (np.float64(1710.11013), np.float64(1799.67295)), 5: (np.float64(4111.64443), np.float64(4452.76964)), 6: (np.float64(7485.125999999999), np.float64(7931.48429)), 7: (np.float64(2487.53043), np.float64(2568.7986600000004)), 9: (np.float64(4450.26771), np.float64(4663.99319)), 10: (np.float64(1302.45605), np.float64(1335.8737299999998)), 11: (np.float64(3576.4448500000003), np.float64(3821.34793)), 12: (np.float64(3329.4814300000003), np.float64(3554.3457799999996)), 14: (np.float64(24281.0), np.float64(24281.0)), 15: (900, 900), 16: (np.float64(2944.92384), np.float64(3125.91392)), 18: (np.float64(2677.94418), np.float64(2864.8084000000003)), 19: (np.float64(1529.4857), np.float64(1618.44008)), 21: (np.float64(4656.012790000001), np.float64(4756.08958)), 22: (np.float64(6052.0), np.float64(6052.0)), 23: (np.float64(2163.8071800000002), np.float64(2239.0955599999998)), 24: (np.float64(3589.75531), np.float64(3709.0717099999997)), 25: (np.float64(1717.97791), np.float64(1798.36825)), 26: (np.float64(4899.20767), np.float64(5089.546069999999))}\n",
      " intertimes :  (np.float64(2677.94418), np.float64(2864.8084000000003))\n",
      " duration   :  2771\n",
      "line 351...  estimate_duration : 18 \t sec:  2771\n",
      "line 352...  total duration [4, 18]  4525 / 75 min \n",
      "LINE:389 (iter: 15) -- predict_mask([model], '[4, 18]' ->  '4525 < 13446 sec' ?)\n",
      "\n",
      "\n",
      "-----------------\n",
      "line 379 bert_test_city[ Delh ] (iter: 16) -- predict_ mask([model], '[4, 18]')\n",
      "LINE 309, model.predict( to_predict=[['4', '18']] ) \n",
      "LINE 315  predseq => [4, 18],  maskpos => 1\n",
      "-- predict_ mask_pos ( <model>, seq= [4, 18], maskpos= 1  )\n",
      "line 240 ... seq: [4, 18]\n",
      "      seq :  [4, 18]\n",
      "LINE 256 -- model.predict( to_predict=['4,[MASK],18'] )\n"
     ]
    },
    {
     "data": {
      "application/vnd.jupyter.widget-view+json": {
       "model_id": "f7aae307e3aa4fe2b13f629f18df833d",
       "version_major": 2,
       "version_minor": 0
      },
      "text/plain": [
       "0it [00:00, ?it/s]"
      ]
     },
     "metadata": {},
     "output_type": "display_data"
    },
    {
     "data": {
      "application/vnd.jupyter.widget-view+json": {
       "model_id": "0ec4d85c1a984e24a020451a710228d5",
       "version_major": 2,
       "version_minor": 0
      },
      "text/plain": [
       "  0%|          | 0/1 [00:00<?, ?it/s]"
      ]
     },
     "metadata": {},
     "output_type": "display_data"
    },
    {
     "name": "stdout",
     "output_type": "stream",
     "text": [
      "  seq     -> [4, 18]\n",
      "  amax    -> 12\n",
      "  amaxval -> 0.738299548625946\n",
      "maskpos   => 1\n",
      "--> predict_ mask_pos (model, '[4, 18]', 1 ) --- [4, 12, 18] \n",
      "LINE 317  result: nextpoi:12 nextval:0.738299548625946 unmasked_seq:[4, 18]\n",
      "  POSSIBLE: 0.738299548625946 -> [4, 18] [4, 18]\n",
      "line 381 bert_test_city[ Delh ] (iter: 16) -- predict_ mask([model], '[4, 18]')\n",
      "line 382 nextpoi:12, maskpos:1, nextval:0.738299548625946, unmasked_seq:[4, 18]\n",
      "line 336... estimate_duration( pois ) : [4, 18] ) \n",
      "line 337... boot_times : {1: (np.float64(1447.3127599999998), np.float64(1509.4048599999999)), 3: (np.float64(644.0), np.float64(644.0)), 4: (np.float64(1710.11013), np.float64(1799.67295)), 5: (np.float64(4111.64443), np.float64(4452.76964)), 6: (np.float64(7485.125999999999), np.float64(7931.48429)), 7: (np.float64(2487.53043), np.float64(2568.7986600000004)), 9: (np.float64(4450.26771), np.float64(4663.99319)), 10: (np.float64(1302.45605), np.float64(1335.8737299999998)), 11: (np.float64(3576.4448500000003), np.float64(3821.34793)), 12: (np.float64(3329.4814300000003), np.float64(3554.3457799999996)), 14: (np.float64(24281.0), np.float64(24281.0)), 15: (900, 900), 16: (np.float64(2944.92384), np.float64(3125.91392)), 18: (np.float64(2677.94418), np.float64(2864.8084000000003)), 19: (np.float64(1529.4857), np.float64(1618.44008)), 21: (np.float64(4656.012790000001), np.float64(4756.08958)), 22: (np.float64(6052.0), np.float64(6052.0)), 23: (np.float64(2163.8071800000002), np.float64(2239.0955599999998)), 24: (np.float64(3589.75531), np.float64(3709.0717099999997)), 25: (np.float64(1717.97791), np.float64(1798.36825)), 26: (np.float64(4899.20767), np.float64(5089.546069999999))} ) \n",
      "boot_times :  {1: (np.float64(1447.3127599999998), np.float64(1509.4048599999999)), 3: (np.float64(644.0), np.float64(644.0)), 4: (np.float64(1710.11013), np.float64(1799.67295)), 5: (np.float64(4111.64443), np.float64(4452.76964)), 6: (np.float64(7485.125999999999), np.float64(7931.48429)), 7: (np.float64(2487.53043), np.float64(2568.7986600000004)), 9: (np.float64(4450.26771), np.float64(4663.99319)), 10: (np.float64(1302.45605), np.float64(1335.8737299999998)), 11: (np.float64(3576.4448500000003), np.float64(3821.34793)), 12: (np.float64(3329.4814300000003), np.float64(3554.3457799999996)), 14: (np.float64(24281.0), np.float64(24281.0)), 15: (900, 900), 16: (np.float64(2944.92384), np.float64(3125.91392)), 18: (np.float64(2677.94418), np.float64(2864.8084000000003)), 19: (np.float64(1529.4857), np.float64(1618.44008)), 21: (np.float64(4656.012790000001), np.float64(4756.08958)), 22: (np.float64(6052.0), np.float64(6052.0)), 23: (np.float64(2163.8071800000002), np.float64(2239.0955599999998)), 24: (np.float64(3589.75531), np.float64(3709.0717099999997)), 25: (np.float64(1717.97791), np.float64(1798.36825)), 26: (np.float64(4899.20767), np.float64(5089.546069999999))}\n",
      " intertimes :  (np.float64(1710.11013), np.float64(1799.67295))\n",
      " duration   :  1754\n",
      "line 351...  estimate_duration : 4 \t sec:  1754\n",
      "boot_times :  {1: (np.float64(1447.3127599999998), np.float64(1509.4048599999999)), 3: (np.float64(644.0), np.float64(644.0)), 4: (np.float64(1710.11013), np.float64(1799.67295)), 5: (np.float64(4111.64443), np.float64(4452.76964)), 6: (np.float64(7485.125999999999), np.float64(7931.48429)), 7: (np.float64(2487.53043), np.float64(2568.7986600000004)), 9: (np.float64(4450.26771), np.float64(4663.99319)), 10: (np.float64(1302.45605), np.float64(1335.8737299999998)), 11: (np.float64(3576.4448500000003), np.float64(3821.34793)), 12: (np.float64(3329.4814300000003), np.float64(3554.3457799999996)), 14: (np.float64(24281.0), np.float64(24281.0)), 15: (900, 900), 16: (np.float64(2944.92384), np.float64(3125.91392)), 18: (np.float64(2677.94418), np.float64(2864.8084000000003)), 19: (np.float64(1529.4857), np.float64(1618.44008)), 21: (np.float64(4656.012790000001), np.float64(4756.08958)), 22: (np.float64(6052.0), np.float64(6052.0)), 23: (np.float64(2163.8071800000002), np.float64(2239.0955599999998)), 24: (np.float64(3589.75531), np.float64(3709.0717099999997)), 25: (np.float64(1717.97791), np.float64(1798.36825)), 26: (np.float64(4899.20767), np.float64(5089.546069999999))}\n",
      " intertimes :  (np.float64(2677.94418), np.float64(2864.8084000000003))\n",
      " duration   :  2771\n",
      "line 351...  estimate_duration : 18 \t sec:  2771\n",
      "line 352...  total duration [4, 18]  4525 / 75 min \n",
      "LINE:389 (iter: 16) -- predict_mask([model], '[4, 18]' ->  '4525 < 13446 sec' ?)\n",
      "\n",
      "\n",
      "-----------------\n",
      "line 379 bert_test_city[ Delh ] (iter: 17) -- predict_ mask([model], '[4, 18]')\n",
      "LINE 309, model.predict( to_predict=[['4', '18']] ) \n",
      "LINE 315  predseq => [4, 18],  maskpos => 1\n",
      "-- predict_ mask_pos ( <model>, seq= [4, 18], maskpos= 1  )\n",
      "line 240 ... seq: [4, 18]\n",
      "      seq :  [4, 18]\n",
      "LINE 256 -- model.predict( to_predict=['4,[MASK],18'] )\n"
     ]
    },
    {
     "data": {
      "application/vnd.jupyter.widget-view+json": {
       "model_id": "5de387812d88493bbc2ffa8004d3660c",
       "version_major": 2,
       "version_minor": 0
      },
      "text/plain": [
       "0it [00:00, ?it/s]"
      ]
     },
     "metadata": {},
     "output_type": "display_data"
    },
    {
     "data": {
      "application/vnd.jupyter.widget-view+json": {
       "model_id": "7c9f138fb4244880b006b439be874f77",
       "version_major": 2,
       "version_minor": 0
      },
      "text/plain": [
       "  0%|          | 0/1 [00:00<?, ?it/s]"
      ]
     },
     "metadata": {},
     "output_type": "display_data"
    },
    {
     "name": "stdout",
     "output_type": "stream",
     "text": [
      "  seq     -> [4, 18]\n",
      "  amax    -> 12\n",
      "  amaxval -> 0.738299548625946\n",
      "maskpos   => 1\n",
      "--> predict_ mask_pos (model, '[4, 18]', 1 ) --- [4, 12, 18] \n",
      "LINE 317  result: nextpoi:12 nextval:0.738299548625946 unmasked_seq:[4, 18]\n",
      "  POSSIBLE: 0.738299548625946 -> [4, 18] [4, 18]\n",
      "line 381 bert_test_city[ Delh ] (iter: 17) -- predict_ mask([model], '[4, 18]')\n",
      "line 382 nextpoi:12, maskpos:1, nextval:0.738299548625946, unmasked_seq:[4, 18]\n",
      "line 336... estimate_duration( pois ) : [4, 18] ) \n",
      "line 337... boot_times : {1: (np.float64(1447.3127599999998), np.float64(1509.4048599999999)), 3: (np.float64(644.0), np.float64(644.0)), 4: (np.float64(1710.11013), np.float64(1799.67295)), 5: (np.float64(4111.64443), np.float64(4452.76964)), 6: (np.float64(7485.125999999999), np.float64(7931.48429)), 7: (np.float64(2487.53043), np.float64(2568.7986600000004)), 9: (np.float64(4450.26771), np.float64(4663.99319)), 10: (np.float64(1302.45605), np.float64(1335.8737299999998)), 11: (np.float64(3576.4448500000003), np.float64(3821.34793)), 12: (np.float64(3329.4814300000003), np.float64(3554.3457799999996)), 14: (np.float64(24281.0), np.float64(24281.0)), 15: (900, 900), 16: (np.float64(2944.92384), np.float64(3125.91392)), 18: (np.float64(2677.94418), np.float64(2864.8084000000003)), 19: (np.float64(1529.4857), np.float64(1618.44008)), 21: (np.float64(4656.012790000001), np.float64(4756.08958)), 22: (np.float64(6052.0), np.float64(6052.0)), 23: (np.float64(2163.8071800000002), np.float64(2239.0955599999998)), 24: (np.float64(3589.75531), np.float64(3709.0717099999997)), 25: (np.float64(1717.97791), np.float64(1798.36825)), 26: (np.float64(4899.20767), np.float64(5089.546069999999))} ) \n",
      "boot_times :  {1: (np.float64(1447.3127599999998), np.float64(1509.4048599999999)), 3: (np.float64(644.0), np.float64(644.0)), 4: (np.float64(1710.11013), np.float64(1799.67295)), 5: (np.float64(4111.64443), np.float64(4452.76964)), 6: (np.float64(7485.125999999999), np.float64(7931.48429)), 7: (np.float64(2487.53043), np.float64(2568.7986600000004)), 9: (np.float64(4450.26771), np.float64(4663.99319)), 10: (np.float64(1302.45605), np.float64(1335.8737299999998)), 11: (np.float64(3576.4448500000003), np.float64(3821.34793)), 12: (np.float64(3329.4814300000003), np.float64(3554.3457799999996)), 14: (np.float64(24281.0), np.float64(24281.0)), 15: (900, 900), 16: (np.float64(2944.92384), np.float64(3125.91392)), 18: (np.float64(2677.94418), np.float64(2864.8084000000003)), 19: (np.float64(1529.4857), np.float64(1618.44008)), 21: (np.float64(4656.012790000001), np.float64(4756.08958)), 22: (np.float64(6052.0), np.float64(6052.0)), 23: (np.float64(2163.8071800000002), np.float64(2239.0955599999998)), 24: (np.float64(3589.75531), np.float64(3709.0717099999997)), 25: (np.float64(1717.97791), np.float64(1798.36825)), 26: (np.float64(4899.20767), np.float64(5089.546069999999))}\n",
      " intertimes :  (np.float64(1710.11013), np.float64(1799.67295))\n",
      " duration   :  1754\n",
      "line 351...  estimate_duration : 4 \t sec:  1754\n",
      "boot_times :  {1: (np.float64(1447.3127599999998), np.float64(1509.4048599999999)), 3: (np.float64(644.0), np.float64(644.0)), 4: (np.float64(1710.11013), np.float64(1799.67295)), 5: (np.float64(4111.64443), np.float64(4452.76964)), 6: (np.float64(7485.125999999999), np.float64(7931.48429)), 7: (np.float64(2487.53043), np.float64(2568.7986600000004)), 9: (np.float64(4450.26771), np.float64(4663.99319)), 10: (np.float64(1302.45605), np.float64(1335.8737299999998)), 11: (np.float64(3576.4448500000003), np.float64(3821.34793)), 12: (np.float64(3329.4814300000003), np.float64(3554.3457799999996)), 14: (np.float64(24281.0), np.float64(24281.0)), 15: (900, 900), 16: (np.float64(2944.92384), np.float64(3125.91392)), 18: (np.float64(2677.94418), np.float64(2864.8084000000003)), 19: (np.float64(1529.4857), np.float64(1618.44008)), 21: (np.float64(4656.012790000001), np.float64(4756.08958)), 22: (np.float64(6052.0), np.float64(6052.0)), 23: (np.float64(2163.8071800000002), np.float64(2239.0955599999998)), 24: (np.float64(3589.75531), np.float64(3709.0717099999997)), 25: (np.float64(1717.97791), np.float64(1798.36825)), 26: (np.float64(4899.20767), np.float64(5089.546069999999))}\n",
      " intertimes :  (np.float64(2677.94418), np.float64(2864.8084000000003))\n",
      " duration   :  2771\n",
      "line 351...  estimate_duration : 18 \t sec:  2771\n",
      "line 352...  total duration [4, 18]  4525 / 75 min \n",
      "LINE:389 (iter: 17) -- predict_mask([model], '[4, 18]' ->  '4525 < 13446 sec' ?)\n",
      "\n",
      "\n",
      "-----------------\n",
      "line 379 bert_test_city[ Delh ] (iter: 18) -- predict_ mask([model], '[4, 18]')\n",
      "LINE 309, model.predict( to_predict=[['4', '18']] ) \n",
      "LINE 315  predseq => [4, 18],  maskpos => 1\n",
      "-- predict_ mask_pos ( <model>, seq= [4, 18], maskpos= 1  )\n",
      "line 240 ... seq: [4, 18]\n",
      "      seq :  [4, 18]\n",
      "LINE 256 -- model.predict( to_predict=['4,[MASK],18'] )\n"
     ]
    },
    {
     "data": {
      "application/vnd.jupyter.widget-view+json": {
       "model_id": "6725b2a657c2427f98ca00b65d7cfc51",
       "version_major": 2,
       "version_minor": 0
      },
      "text/plain": [
       "0it [00:00, ?it/s]"
      ]
     },
     "metadata": {},
     "output_type": "display_data"
    },
    {
     "data": {
      "application/vnd.jupyter.widget-view+json": {
       "model_id": "88d74f5f27964553b2ae1787b93e824a",
       "version_major": 2,
       "version_minor": 0
      },
      "text/plain": [
       "  0%|          | 0/1 [00:00<?, ?it/s]"
      ]
     },
     "metadata": {},
     "output_type": "display_data"
    },
    {
     "name": "stdout",
     "output_type": "stream",
     "text": [
      "  seq     -> [4, 18]\n",
      "  amax    -> 12\n",
      "  amaxval -> 0.738299548625946\n",
      "maskpos   => 1\n",
      "--> predict_ mask_pos (model, '[4, 18]', 1 ) --- [4, 12, 18] \n",
      "LINE 317  result: nextpoi:12 nextval:0.738299548625946 unmasked_seq:[4, 18]\n",
      "  POSSIBLE: 0.738299548625946 -> [4, 18] [4, 18]\n",
      "line 381 bert_test_city[ Delh ] (iter: 18) -- predict_ mask([model], '[4, 18]')\n",
      "line 382 nextpoi:12, maskpos:1, nextval:0.738299548625946, unmasked_seq:[4, 18]\n",
      "line 336... estimate_duration( pois ) : [4, 18] ) \n",
      "line 337... boot_times : {1: (np.float64(1447.3127599999998), np.float64(1509.4048599999999)), 3: (np.float64(644.0), np.float64(644.0)), 4: (np.float64(1710.11013), np.float64(1799.67295)), 5: (np.float64(4111.64443), np.float64(4452.76964)), 6: (np.float64(7485.125999999999), np.float64(7931.48429)), 7: (np.float64(2487.53043), np.float64(2568.7986600000004)), 9: (np.float64(4450.26771), np.float64(4663.99319)), 10: (np.float64(1302.45605), np.float64(1335.8737299999998)), 11: (np.float64(3576.4448500000003), np.float64(3821.34793)), 12: (np.float64(3329.4814300000003), np.float64(3554.3457799999996)), 14: (np.float64(24281.0), np.float64(24281.0)), 15: (900, 900), 16: (np.float64(2944.92384), np.float64(3125.91392)), 18: (np.float64(2677.94418), np.float64(2864.8084000000003)), 19: (np.float64(1529.4857), np.float64(1618.44008)), 21: (np.float64(4656.012790000001), np.float64(4756.08958)), 22: (np.float64(6052.0), np.float64(6052.0)), 23: (np.float64(2163.8071800000002), np.float64(2239.0955599999998)), 24: (np.float64(3589.75531), np.float64(3709.0717099999997)), 25: (np.float64(1717.97791), np.float64(1798.36825)), 26: (np.float64(4899.20767), np.float64(5089.546069999999))} ) \n",
      "boot_times :  {1: (np.float64(1447.3127599999998), np.float64(1509.4048599999999)), 3: (np.float64(644.0), np.float64(644.0)), 4: (np.float64(1710.11013), np.float64(1799.67295)), 5: (np.float64(4111.64443), np.float64(4452.76964)), 6: (np.float64(7485.125999999999), np.float64(7931.48429)), 7: (np.float64(2487.53043), np.float64(2568.7986600000004)), 9: (np.float64(4450.26771), np.float64(4663.99319)), 10: (np.float64(1302.45605), np.float64(1335.8737299999998)), 11: (np.float64(3576.4448500000003), np.float64(3821.34793)), 12: (np.float64(3329.4814300000003), np.float64(3554.3457799999996)), 14: (np.float64(24281.0), np.float64(24281.0)), 15: (900, 900), 16: (np.float64(2944.92384), np.float64(3125.91392)), 18: (np.float64(2677.94418), np.float64(2864.8084000000003)), 19: (np.float64(1529.4857), np.float64(1618.44008)), 21: (np.float64(4656.012790000001), np.float64(4756.08958)), 22: (np.float64(6052.0), np.float64(6052.0)), 23: (np.float64(2163.8071800000002), np.float64(2239.0955599999998)), 24: (np.float64(3589.75531), np.float64(3709.0717099999997)), 25: (np.float64(1717.97791), np.float64(1798.36825)), 26: (np.float64(4899.20767), np.float64(5089.546069999999))}\n",
      " intertimes :  (np.float64(1710.11013), np.float64(1799.67295))\n",
      " duration   :  1754\n",
      "line 351...  estimate_duration : 4 \t sec:  1754\n",
      "boot_times :  {1: (np.float64(1447.3127599999998), np.float64(1509.4048599999999)), 3: (np.float64(644.0), np.float64(644.0)), 4: (np.float64(1710.11013), np.float64(1799.67295)), 5: (np.float64(4111.64443), np.float64(4452.76964)), 6: (np.float64(7485.125999999999), np.float64(7931.48429)), 7: (np.float64(2487.53043), np.float64(2568.7986600000004)), 9: (np.float64(4450.26771), np.float64(4663.99319)), 10: (np.float64(1302.45605), np.float64(1335.8737299999998)), 11: (np.float64(3576.4448500000003), np.float64(3821.34793)), 12: (np.float64(3329.4814300000003), np.float64(3554.3457799999996)), 14: (np.float64(24281.0), np.float64(24281.0)), 15: (900, 900), 16: (np.float64(2944.92384), np.float64(3125.91392)), 18: (np.float64(2677.94418), np.float64(2864.8084000000003)), 19: (np.float64(1529.4857), np.float64(1618.44008)), 21: (np.float64(4656.012790000001), np.float64(4756.08958)), 22: (np.float64(6052.0), np.float64(6052.0)), 23: (np.float64(2163.8071800000002), np.float64(2239.0955599999998)), 24: (np.float64(3589.75531), np.float64(3709.0717099999997)), 25: (np.float64(1717.97791), np.float64(1798.36825)), 26: (np.float64(4899.20767), np.float64(5089.546069999999))}\n",
      " intertimes :  (np.float64(2677.94418), np.float64(2864.8084000000003))\n",
      " duration   :  2771\n",
      "line 351...  estimate_duration : 18 \t sec:  2771\n",
      "line 352...  total duration [4, 18]  4525 / 75 min \n",
      "LINE:389 (iter: 18) -- predict_mask([model], '[4, 18]' ->  '4525 < 13446 sec' ?)\n",
      "\n",
      "\n",
      "-----------------\n",
      "line 379 bert_test_city[ Delh ] (iter: 19) -- predict_ mask([model], '[4, 18]')\n",
      "LINE 309, model.predict( to_predict=[['4', '18']] ) \n",
      "LINE 315  predseq => [4, 18],  maskpos => 1\n",
      "-- predict_ mask_pos ( <model>, seq= [4, 18], maskpos= 1  )\n",
      "line 240 ... seq: [4, 18]\n",
      "      seq :  [4, 18]\n",
      "LINE 256 -- model.predict( to_predict=['4,[MASK],18'] )\n"
     ]
    },
    {
     "data": {
      "application/vnd.jupyter.widget-view+json": {
       "model_id": "f2f05d2ab95541f0b24bfb67337b627e",
       "version_major": 2,
       "version_minor": 0
      },
      "text/plain": [
       "0it [00:00, ?it/s]"
      ]
     },
     "metadata": {},
     "output_type": "display_data"
    },
    {
     "data": {
      "application/vnd.jupyter.widget-view+json": {
       "model_id": "1ac57c8355954fdfb3e71ece3a57d81a",
       "version_major": 2,
       "version_minor": 0
      },
      "text/plain": [
       "  0%|          | 0/1 [00:00<?, ?it/s]"
      ]
     },
     "metadata": {},
     "output_type": "display_data"
    },
    {
     "name": "stdout",
     "output_type": "stream",
     "text": [
      "  seq     -> [4, 18]\n",
      "  amax    -> 12\n",
      "  amaxval -> 0.738299548625946\n",
      "maskpos   => 1\n",
      "--> predict_ mask_pos (model, '[4, 18]', 1 ) --- [4, 12, 18] \n",
      "LINE 317  result: nextpoi:12 nextval:0.738299548625946 unmasked_seq:[4, 18]\n",
      "  POSSIBLE: 0.738299548625946 -> [4, 18] [4, 18]\n",
      "line 381 bert_test_city[ Delh ] (iter: 19) -- predict_ mask([model], '[4, 18]')\n",
      "line 382 nextpoi:12, maskpos:1, nextval:0.738299548625946, unmasked_seq:[4, 18]\n",
      "line 336... estimate_duration( pois ) : [4, 18] ) \n",
      "line 337... boot_times : {1: (np.float64(1447.3127599999998), np.float64(1509.4048599999999)), 3: (np.float64(644.0), np.float64(644.0)), 4: (np.float64(1710.11013), np.float64(1799.67295)), 5: (np.float64(4111.64443), np.float64(4452.76964)), 6: (np.float64(7485.125999999999), np.float64(7931.48429)), 7: (np.float64(2487.53043), np.float64(2568.7986600000004)), 9: (np.float64(4450.26771), np.float64(4663.99319)), 10: (np.float64(1302.45605), np.float64(1335.8737299999998)), 11: (np.float64(3576.4448500000003), np.float64(3821.34793)), 12: (np.float64(3329.4814300000003), np.float64(3554.3457799999996)), 14: (np.float64(24281.0), np.float64(24281.0)), 15: (900, 900), 16: (np.float64(2944.92384), np.float64(3125.91392)), 18: (np.float64(2677.94418), np.float64(2864.8084000000003)), 19: (np.float64(1529.4857), np.float64(1618.44008)), 21: (np.float64(4656.012790000001), np.float64(4756.08958)), 22: (np.float64(6052.0), np.float64(6052.0)), 23: (np.float64(2163.8071800000002), np.float64(2239.0955599999998)), 24: (np.float64(3589.75531), np.float64(3709.0717099999997)), 25: (np.float64(1717.97791), np.float64(1798.36825)), 26: (np.float64(4899.20767), np.float64(5089.546069999999))} ) \n",
      "boot_times :  {1: (np.float64(1447.3127599999998), np.float64(1509.4048599999999)), 3: (np.float64(644.0), np.float64(644.0)), 4: (np.float64(1710.11013), np.float64(1799.67295)), 5: (np.float64(4111.64443), np.float64(4452.76964)), 6: (np.float64(7485.125999999999), np.float64(7931.48429)), 7: (np.float64(2487.53043), np.float64(2568.7986600000004)), 9: (np.float64(4450.26771), np.float64(4663.99319)), 10: (np.float64(1302.45605), np.float64(1335.8737299999998)), 11: (np.float64(3576.4448500000003), np.float64(3821.34793)), 12: (np.float64(3329.4814300000003), np.float64(3554.3457799999996)), 14: (np.float64(24281.0), np.float64(24281.0)), 15: (900, 900), 16: (np.float64(2944.92384), np.float64(3125.91392)), 18: (np.float64(2677.94418), np.float64(2864.8084000000003)), 19: (np.float64(1529.4857), np.float64(1618.44008)), 21: (np.float64(4656.012790000001), np.float64(4756.08958)), 22: (np.float64(6052.0), np.float64(6052.0)), 23: (np.float64(2163.8071800000002), np.float64(2239.0955599999998)), 24: (np.float64(3589.75531), np.float64(3709.0717099999997)), 25: (np.float64(1717.97791), np.float64(1798.36825)), 26: (np.float64(4899.20767), np.float64(5089.546069999999))}\n",
      " intertimes :  (np.float64(1710.11013), np.float64(1799.67295))\n",
      " duration   :  1754\n",
      "line 351...  estimate_duration : 4 \t sec:  1754\n",
      "boot_times :  {1: (np.float64(1447.3127599999998), np.float64(1509.4048599999999)), 3: (np.float64(644.0), np.float64(644.0)), 4: (np.float64(1710.11013), np.float64(1799.67295)), 5: (np.float64(4111.64443), np.float64(4452.76964)), 6: (np.float64(7485.125999999999), np.float64(7931.48429)), 7: (np.float64(2487.53043), np.float64(2568.7986600000004)), 9: (np.float64(4450.26771), np.float64(4663.99319)), 10: (np.float64(1302.45605), np.float64(1335.8737299999998)), 11: (np.float64(3576.4448500000003), np.float64(3821.34793)), 12: (np.float64(3329.4814300000003), np.float64(3554.3457799999996)), 14: (np.float64(24281.0), np.float64(24281.0)), 15: (900, 900), 16: (np.float64(2944.92384), np.float64(3125.91392)), 18: (np.float64(2677.94418), np.float64(2864.8084000000003)), 19: (np.float64(1529.4857), np.float64(1618.44008)), 21: (np.float64(4656.012790000001), np.float64(4756.08958)), 22: (np.float64(6052.0), np.float64(6052.0)), 23: (np.float64(2163.8071800000002), np.float64(2239.0955599999998)), 24: (np.float64(3589.75531), np.float64(3709.0717099999997)), 25: (np.float64(1717.97791), np.float64(1798.36825)), 26: (np.float64(4899.20767), np.float64(5089.546069999999))}\n",
      " intertimes :  (np.float64(2677.94418), np.float64(2864.8084000000003))\n",
      " duration   :  2771\n",
      "line 351...  estimate_duration : 18 \t sec:  2771\n",
      "line 352...  total duration [4, 18]  4525 / 75 min \n",
      "LINE:389 (iter: 19) -- predict_mask([model], '[4, 18]' ->  '4525 < 13446 sec' ?)\n",
      "\n",
      "\n",
      "-----------------\n",
      "line 379 bert_test_city[ Delh ] (iter: 20) -- predict_ mask([model], '[4, 18]')\n",
      "LINE 309, model.predict( to_predict=[['4', '18']] ) \n",
      "LINE 315  predseq => [4, 18],  maskpos => 1\n",
      "-- predict_ mask_pos ( <model>, seq= [4, 18], maskpos= 1  )\n",
      "line 240 ... seq: [4, 18]\n",
      "      seq :  [4, 18]\n",
      "LINE 256 -- model.predict( to_predict=['4,[MASK],18'] )\n"
     ]
    },
    {
     "data": {
      "application/vnd.jupyter.widget-view+json": {
       "model_id": "ffab8fc29bae41ca8c52957db09ccae7",
       "version_major": 2,
       "version_minor": 0
      },
      "text/plain": [
       "0it [00:00, ?it/s]"
      ]
     },
     "metadata": {},
     "output_type": "display_data"
    },
    {
     "data": {
      "application/vnd.jupyter.widget-view+json": {
       "model_id": "84ae989fe33f43e8b72dfba64801fab7",
       "version_major": 2,
       "version_minor": 0
      },
      "text/plain": [
       "  0%|          | 0/1 [00:00<?, ?it/s]"
      ]
     },
     "metadata": {},
     "output_type": "display_data"
    },
    {
     "name": "stdout",
     "output_type": "stream",
     "text": [
      "  seq     -> [4, 18]\n",
      "  amax    -> 12\n",
      "  amaxval -> 0.738299548625946\n",
      "maskpos   => 1\n",
      "--> predict_ mask_pos (model, '[4, 18]', 1 ) --- [4, 12, 18] \n",
      "LINE 317  result: nextpoi:12 nextval:0.738299548625946 unmasked_seq:[4, 18]\n",
      "  POSSIBLE: 0.738299548625946 -> [4, 18] [4, 18]\n",
      "line 381 bert_test_city[ Delh ] (iter: 20) -- predict_ mask([model], '[4, 18]')\n",
      "line 382 nextpoi:12, maskpos:1, nextval:0.738299548625946, unmasked_seq:[4, 18]\n",
      "line 336... estimate_duration( pois ) : [4, 18] ) \n",
      "line 337... boot_times : {1: (np.float64(1447.3127599999998), np.float64(1509.4048599999999)), 3: (np.float64(644.0), np.float64(644.0)), 4: (np.float64(1710.11013), np.float64(1799.67295)), 5: (np.float64(4111.64443), np.float64(4452.76964)), 6: (np.float64(7485.125999999999), np.float64(7931.48429)), 7: (np.float64(2487.53043), np.float64(2568.7986600000004)), 9: (np.float64(4450.26771), np.float64(4663.99319)), 10: (np.float64(1302.45605), np.float64(1335.8737299999998)), 11: (np.float64(3576.4448500000003), np.float64(3821.34793)), 12: (np.float64(3329.4814300000003), np.float64(3554.3457799999996)), 14: (np.float64(24281.0), np.float64(24281.0)), 15: (900, 900), 16: (np.float64(2944.92384), np.float64(3125.91392)), 18: (np.float64(2677.94418), np.float64(2864.8084000000003)), 19: (np.float64(1529.4857), np.float64(1618.44008)), 21: (np.float64(4656.012790000001), np.float64(4756.08958)), 22: (np.float64(6052.0), np.float64(6052.0)), 23: (np.float64(2163.8071800000002), np.float64(2239.0955599999998)), 24: (np.float64(3589.75531), np.float64(3709.0717099999997)), 25: (np.float64(1717.97791), np.float64(1798.36825)), 26: (np.float64(4899.20767), np.float64(5089.546069999999))} ) \n",
      "boot_times :  {1: (np.float64(1447.3127599999998), np.float64(1509.4048599999999)), 3: (np.float64(644.0), np.float64(644.0)), 4: (np.float64(1710.11013), np.float64(1799.67295)), 5: (np.float64(4111.64443), np.float64(4452.76964)), 6: (np.float64(7485.125999999999), np.float64(7931.48429)), 7: (np.float64(2487.53043), np.float64(2568.7986600000004)), 9: (np.float64(4450.26771), np.float64(4663.99319)), 10: (np.float64(1302.45605), np.float64(1335.8737299999998)), 11: (np.float64(3576.4448500000003), np.float64(3821.34793)), 12: (np.float64(3329.4814300000003), np.float64(3554.3457799999996)), 14: (np.float64(24281.0), np.float64(24281.0)), 15: (900, 900), 16: (np.float64(2944.92384), np.float64(3125.91392)), 18: (np.float64(2677.94418), np.float64(2864.8084000000003)), 19: (np.float64(1529.4857), np.float64(1618.44008)), 21: (np.float64(4656.012790000001), np.float64(4756.08958)), 22: (np.float64(6052.0), np.float64(6052.0)), 23: (np.float64(2163.8071800000002), np.float64(2239.0955599999998)), 24: (np.float64(3589.75531), np.float64(3709.0717099999997)), 25: (np.float64(1717.97791), np.float64(1798.36825)), 26: (np.float64(4899.20767), np.float64(5089.546069999999))}\n",
      " intertimes :  (np.float64(1710.11013), np.float64(1799.67295))\n",
      " duration   :  1754\n",
      "line 351...  estimate_duration : 4 \t sec:  1754\n",
      "boot_times :  {1: (np.float64(1447.3127599999998), np.float64(1509.4048599999999)), 3: (np.float64(644.0), np.float64(644.0)), 4: (np.float64(1710.11013), np.float64(1799.67295)), 5: (np.float64(4111.64443), np.float64(4452.76964)), 6: (np.float64(7485.125999999999), np.float64(7931.48429)), 7: (np.float64(2487.53043), np.float64(2568.7986600000004)), 9: (np.float64(4450.26771), np.float64(4663.99319)), 10: (np.float64(1302.45605), np.float64(1335.8737299999998)), 11: (np.float64(3576.4448500000003), np.float64(3821.34793)), 12: (np.float64(3329.4814300000003), np.float64(3554.3457799999996)), 14: (np.float64(24281.0), np.float64(24281.0)), 15: (900, 900), 16: (np.float64(2944.92384), np.float64(3125.91392)), 18: (np.float64(2677.94418), np.float64(2864.8084000000003)), 19: (np.float64(1529.4857), np.float64(1618.44008)), 21: (np.float64(4656.012790000001), np.float64(4756.08958)), 22: (np.float64(6052.0), np.float64(6052.0)), 23: (np.float64(2163.8071800000002), np.float64(2239.0955599999998)), 24: (np.float64(3589.75531), np.float64(3709.0717099999997)), 25: (np.float64(1717.97791), np.float64(1798.36825)), 26: (np.float64(4899.20767), np.float64(5089.546069999999))}\n",
      " intertimes :  (np.float64(2677.94418), np.float64(2864.8084000000003))\n",
      " duration   :  2771\n",
      "line 351...  estimate_duration : 18 \t sec:  2771\n",
      "line 352...  total duration [4, 18]  4525 / 75 min \n",
      "LINE:389 (iter: 20) -- predict_mask([model], '[4, 18]' ->  '4525 < 13446 sec' ?)\n",
      "\n",
      "\n",
      "-----------------\n",
      "line 379 bert_test_city[ Delh ] (iter: 21) -- predict_ mask([model], '[4, 18]')\n",
      "LINE 309, model.predict( to_predict=[['4', '18']] ) \n",
      "LINE 315  predseq => [4, 18],  maskpos => 1\n",
      "-- predict_ mask_pos ( <model>, seq= [4, 18], maskpos= 1  )\n",
      "line 240 ... seq: [4, 18]\n",
      "      seq :  [4, 18]\n",
      "LINE 256 -- model.predict( to_predict=['4,[MASK],18'] )\n"
     ]
    },
    {
     "data": {
      "application/vnd.jupyter.widget-view+json": {
       "model_id": "839f5e78b4d340b6ac2d7be94252a0ec",
       "version_major": 2,
       "version_minor": 0
      },
      "text/plain": [
       "0it [00:00, ?it/s]"
      ]
     },
     "metadata": {},
     "output_type": "display_data"
    },
    {
     "data": {
      "application/vnd.jupyter.widget-view+json": {
       "model_id": "558b642a8cb542b392f6b7d4835d3c5f",
       "version_major": 2,
       "version_minor": 0
      },
      "text/plain": [
       "  0%|          | 0/1 [00:00<?, ?it/s]"
      ]
     },
     "metadata": {},
     "output_type": "display_data"
    },
    {
     "name": "stdout",
     "output_type": "stream",
     "text": [
      "  seq     -> [4, 18]\n",
      "  amax    -> 12\n",
      "  amaxval -> 0.738299548625946\n",
      "maskpos   => 1\n",
      "--> predict_ mask_pos (model, '[4, 18]', 1 ) --- [4, 12, 18] \n",
      "LINE 317  result: nextpoi:12 nextval:0.738299548625946 unmasked_seq:[4, 18]\n",
      "  POSSIBLE: 0.738299548625946 -> [4, 18] [4, 18]\n",
      "line 381 bert_test_city[ Delh ] (iter: 21) -- predict_ mask([model], '[4, 18]')\n",
      "line 382 nextpoi:12, maskpos:1, nextval:0.738299548625946, unmasked_seq:[4, 18]\n",
      "line 336... estimate_duration( pois ) : [4, 18] ) \n",
      "line 337... boot_times : {1: (np.float64(1447.3127599999998), np.float64(1509.4048599999999)), 3: (np.float64(644.0), np.float64(644.0)), 4: (np.float64(1710.11013), np.float64(1799.67295)), 5: (np.float64(4111.64443), np.float64(4452.76964)), 6: (np.float64(7485.125999999999), np.float64(7931.48429)), 7: (np.float64(2487.53043), np.float64(2568.7986600000004)), 9: (np.float64(4450.26771), np.float64(4663.99319)), 10: (np.float64(1302.45605), np.float64(1335.8737299999998)), 11: (np.float64(3576.4448500000003), np.float64(3821.34793)), 12: (np.float64(3329.4814300000003), np.float64(3554.3457799999996)), 14: (np.float64(24281.0), np.float64(24281.0)), 15: (900, 900), 16: (np.float64(2944.92384), np.float64(3125.91392)), 18: (np.float64(2677.94418), np.float64(2864.8084000000003)), 19: (np.float64(1529.4857), np.float64(1618.44008)), 21: (np.float64(4656.012790000001), np.float64(4756.08958)), 22: (np.float64(6052.0), np.float64(6052.0)), 23: (np.float64(2163.8071800000002), np.float64(2239.0955599999998)), 24: (np.float64(3589.75531), np.float64(3709.0717099999997)), 25: (np.float64(1717.97791), np.float64(1798.36825)), 26: (np.float64(4899.20767), np.float64(5089.546069999999))} ) \n",
      "boot_times :  {1: (np.float64(1447.3127599999998), np.float64(1509.4048599999999)), 3: (np.float64(644.0), np.float64(644.0)), 4: (np.float64(1710.11013), np.float64(1799.67295)), 5: (np.float64(4111.64443), np.float64(4452.76964)), 6: (np.float64(7485.125999999999), np.float64(7931.48429)), 7: (np.float64(2487.53043), np.float64(2568.7986600000004)), 9: (np.float64(4450.26771), np.float64(4663.99319)), 10: (np.float64(1302.45605), np.float64(1335.8737299999998)), 11: (np.float64(3576.4448500000003), np.float64(3821.34793)), 12: (np.float64(3329.4814300000003), np.float64(3554.3457799999996)), 14: (np.float64(24281.0), np.float64(24281.0)), 15: (900, 900), 16: (np.float64(2944.92384), np.float64(3125.91392)), 18: (np.float64(2677.94418), np.float64(2864.8084000000003)), 19: (np.float64(1529.4857), np.float64(1618.44008)), 21: (np.float64(4656.012790000001), np.float64(4756.08958)), 22: (np.float64(6052.0), np.float64(6052.0)), 23: (np.float64(2163.8071800000002), np.float64(2239.0955599999998)), 24: (np.float64(3589.75531), np.float64(3709.0717099999997)), 25: (np.float64(1717.97791), np.float64(1798.36825)), 26: (np.float64(4899.20767), np.float64(5089.546069999999))}\n",
      " intertimes :  (np.float64(1710.11013), np.float64(1799.67295))\n",
      " duration   :  1754\n",
      "line 351...  estimate_duration : 4 \t sec:  1754\n",
      "boot_times :  {1: (np.float64(1447.3127599999998), np.float64(1509.4048599999999)), 3: (np.float64(644.0), np.float64(644.0)), 4: (np.float64(1710.11013), np.float64(1799.67295)), 5: (np.float64(4111.64443), np.float64(4452.76964)), 6: (np.float64(7485.125999999999), np.float64(7931.48429)), 7: (np.float64(2487.53043), np.float64(2568.7986600000004)), 9: (np.float64(4450.26771), np.float64(4663.99319)), 10: (np.float64(1302.45605), np.float64(1335.8737299999998)), 11: (np.float64(3576.4448500000003), np.float64(3821.34793)), 12: (np.float64(3329.4814300000003), np.float64(3554.3457799999996)), 14: (np.float64(24281.0), np.float64(24281.0)), 15: (900, 900), 16: (np.float64(2944.92384), np.float64(3125.91392)), 18: (np.float64(2677.94418), np.float64(2864.8084000000003)), 19: (np.float64(1529.4857), np.float64(1618.44008)), 21: (np.float64(4656.012790000001), np.float64(4756.08958)), 22: (np.float64(6052.0), np.float64(6052.0)), 23: (np.float64(2163.8071800000002), np.float64(2239.0955599999998)), 24: (np.float64(3589.75531), np.float64(3709.0717099999997)), 25: (np.float64(1717.97791), np.float64(1798.36825)), 26: (np.float64(4899.20767), np.float64(5089.546069999999))}\n",
      " intertimes :  (np.float64(2677.94418), np.float64(2864.8084000000003))\n",
      " duration   :  2771\n",
      "line 351...  estimate_duration : 18 \t sec:  2771\n",
      "line 352...  total duration [4, 18]  4525 / 75 min \n",
      "LINE:389 (iter: 21) -- predict_mask([model], '[4, 18]' ->  '4525 < 13446 sec' ?)\n",
      "\n",
      "\n",
      "-----------------\n",
      "line 379 bert_test_city[ Delh ] (iter: 22) -- predict_ mask([model], '[4, 18]')\n",
      "LINE 309, model.predict( to_predict=[['4', '18']] ) \n",
      "LINE 315  predseq => [4, 18],  maskpos => 1\n",
      "-- predict_ mask_pos ( <model>, seq= [4, 18], maskpos= 1  )\n",
      "line 240 ... seq: [4, 18]\n",
      "      seq :  [4, 18]\n",
      "LINE 256 -- model.predict( to_predict=['4,[MASK],18'] )\n"
     ]
    },
    {
     "data": {
      "application/vnd.jupyter.widget-view+json": {
       "model_id": "3bee5375c709476188f9948f413c71c0",
       "version_major": 2,
       "version_minor": 0
      },
      "text/plain": [
       "0it [00:00, ?it/s]"
      ]
     },
     "metadata": {},
     "output_type": "display_data"
    },
    {
     "data": {
      "application/vnd.jupyter.widget-view+json": {
       "model_id": "8492f77e3467499f87844bacb5ebcde4",
       "version_major": 2,
       "version_minor": 0
      },
      "text/plain": [
       "  0%|          | 0/1 [00:00<?, ?it/s]"
      ]
     },
     "metadata": {},
     "output_type": "display_data"
    },
    {
     "name": "stdout",
     "output_type": "stream",
     "text": [
      "  seq     -> [4, 18]\n",
      "  amax    -> 12\n",
      "  amaxval -> 0.738299548625946\n",
      "maskpos   => 1\n",
      "--> predict_ mask_pos (model, '[4, 18]', 1 ) --- [4, 12, 18] \n",
      "LINE 317  result: nextpoi:12 nextval:0.738299548625946 unmasked_seq:[4, 18]\n",
      "  POSSIBLE: 0.738299548625946 -> [4, 18] [4, 18]\n",
      "line 381 bert_test_city[ Delh ] (iter: 22) -- predict_ mask([model], '[4, 18]')\n",
      "line 382 nextpoi:12, maskpos:1, nextval:0.738299548625946, unmasked_seq:[4, 18]\n",
      "line 336... estimate_duration( pois ) : [4, 18] ) \n",
      "line 337... boot_times : {1: (np.float64(1447.3127599999998), np.float64(1509.4048599999999)), 3: (np.float64(644.0), np.float64(644.0)), 4: (np.float64(1710.11013), np.float64(1799.67295)), 5: (np.float64(4111.64443), np.float64(4452.76964)), 6: (np.float64(7485.125999999999), np.float64(7931.48429)), 7: (np.float64(2487.53043), np.float64(2568.7986600000004)), 9: (np.float64(4450.26771), np.float64(4663.99319)), 10: (np.float64(1302.45605), np.float64(1335.8737299999998)), 11: (np.float64(3576.4448500000003), np.float64(3821.34793)), 12: (np.float64(3329.4814300000003), np.float64(3554.3457799999996)), 14: (np.float64(24281.0), np.float64(24281.0)), 15: (900, 900), 16: (np.float64(2944.92384), np.float64(3125.91392)), 18: (np.float64(2677.94418), np.float64(2864.8084000000003)), 19: (np.float64(1529.4857), np.float64(1618.44008)), 21: (np.float64(4656.012790000001), np.float64(4756.08958)), 22: (np.float64(6052.0), np.float64(6052.0)), 23: (np.float64(2163.8071800000002), np.float64(2239.0955599999998)), 24: (np.float64(3589.75531), np.float64(3709.0717099999997)), 25: (np.float64(1717.97791), np.float64(1798.36825)), 26: (np.float64(4899.20767), np.float64(5089.546069999999))} ) \n",
      "boot_times :  {1: (np.float64(1447.3127599999998), np.float64(1509.4048599999999)), 3: (np.float64(644.0), np.float64(644.0)), 4: (np.float64(1710.11013), np.float64(1799.67295)), 5: (np.float64(4111.64443), np.float64(4452.76964)), 6: (np.float64(7485.125999999999), np.float64(7931.48429)), 7: (np.float64(2487.53043), np.float64(2568.7986600000004)), 9: (np.float64(4450.26771), np.float64(4663.99319)), 10: (np.float64(1302.45605), np.float64(1335.8737299999998)), 11: (np.float64(3576.4448500000003), np.float64(3821.34793)), 12: (np.float64(3329.4814300000003), np.float64(3554.3457799999996)), 14: (np.float64(24281.0), np.float64(24281.0)), 15: (900, 900), 16: (np.float64(2944.92384), np.float64(3125.91392)), 18: (np.float64(2677.94418), np.float64(2864.8084000000003)), 19: (np.float64(1529.4857), np.float64(1618.44008)), 21: (np.float64(4656.012790000001), np.float64(4756.08958)), 22: (np.float64(6052.0), np.float64(6052.0)), 23: (np.float64(2163.8071800000002), np.float64(2239.0955599999998)), 24: (np.float64(3589.75531), np.float64(3709.0717099999997)), 25: (np.float64(1717.97791), np.float64(1798.36825)), 26: (np.float64(4899.20767), np.float64(5089.546069999999))}\n",
      " intertimes :  (np.float64(1710.11013), np.float64(1799.67295))\n",
      " duration   :  1754\n",
      "line 351...  estimate_duration : 4 \t sec:  1754\n",
      "boot_times :  {1: (np.float64(1447.3127599999998), np.float64(1509.4048599999999)), 3: (np.float64(644.0), np.float64(644.0)), 4: (np.float64(1710.11013), np.float64(1799.67295)), 5: (np.float64(4111.64443), np.float64(4452.76964)), 6: (np.float64(7485.125999999999), np.float64(7931.48429)), 7: (np.float64(2487.53043), np.float64(2568.7986600000004)), 9: (np.float64(4450.26771), np.float64(4663.99319)), 10: (np.float64(1302.45605), np.float64(1335.8737299999998)), 11: (np.float64(3576.4448500000003), np.float64(3821.34793)), 12: (np.float64(3329.4814300000003), np.float64(3554.3457799999996)), 14: (np.float64(24281.0), np.float64(24281.0)), 15: (900, 900), 16: (np.float64(2944.92384), np.float64(3125.91392)), 18: (np.float64(2677.94418), np.float64(2864.8084000000003)), 19: (np.float64(1529.4857), np.float64(1618.44008)), 21: (np.float64(4656.012790000001), np.float64(4756.08958)), 22: (np.float64(6052.0), np.float64(6052.0)), 23: (np.float64(2163.8071800000002), np.float64(2239.0955599999998)), 24: (np.float64(3589.75531), np.float64(3709.0717099999997)), 25: (np.float64(1717.97791), np.float64(1798.36825)), 26: (np.float64(4899.20767), np.float64(5089.546069999999))}\n",
      " intertimes :  (np.float64(2677.94418), np.float64(2864.8084000000003))\n",
      " duration   :  2771\n",
      "line 351...  estimate_duration : 18 \t sec:  2771\n",
      "line 352...  total duration [4, 18]  4525 / 75 min \n",
      "LINE:389 (iter: 22) -- predict_mask([model], '[4, 18]' ->  '4525 < 13446 sec' ?)\n",
      "\n",
      "\n",
      "-----------------\n",
      "line 379 bert_test_city[ Delh ] (iter: 23) -- predict_ mask([model], '[4, 18]')\n",
      "LINE 309, model.predict( to_predict=[['4', '18']] ) \n",
      "LINE 315  predseq => [4, 18],  maskpos => 1\n",
      "-- predict_ mask_pos ( <model>, seq= [4, 18], maskpos= 1  )\n",
      "line 240 ... seq: [4, 18]\n",
      "      seq :  [4, 18]\n",
      "LINE 256 -- model.predict( to_predict=['4,[MASK],18'] )\n"
     ]
    },
    {
     "data": {
      "application/vnd.jupyter.widget-view+json": {
       "model_id": "b68a368bff65486c955c771b637dfa2d",
       "version_major": 2,
       "version_minor": 0
      },
      "text/plain": [
       "0it [00:00, ?it/s]"
      ]
     },
     "metadata": {},
     "output_type": "display_data"
    },
    {
     "data": {
      "application/vnd.jupyter.widget-view+json": {
       "model_id": "bcd80ff9e5254cb192313d8271c237e2",
       "version_major": 2,
       "version_minor": 0
      },
      "text/plain": [
       "  0%|          | 0/1 [00:00<?, ?it/s]"
      ]
     },
     "metadata": {},
     "output_type": "display_data"
    },
    {
     "name": "stdout",
     "output_type": "stream",
     "text": [
      "  seq     -> [4, 18]\n",
      "  amax    -> 12\n",
      "  amaxval -> 0.738299548625946\n",
      "maskpos   => 1\n",
      "--> predict_ mask_pos (model, '[4, 18]', 1 ) --- [4, 12, 18] \n",
      "LINE 317  result: nextpoi:12 nextval:0.738299548625946 unmasked_seq:[4, 18]\n",
      "  POSSIBLE: 0.738299548625946 -> [4, 18] [4, 18]\n",
      "line 381 bert_test_city[ Delh ] (iter: 23) -- predict_ mask([model], '[4, 18]')\n",
      "line 382 nextpoi:12, maskpos:1, nextval:0.738299548625946, unmasked_seq:[4, 18]\n",
      "line 336... estimate_duration( pois ) : [4, 18] ) \n",
      "line 337... boot_times : {1: (np.float64(1447.3127599999998), np.float64(1509.4048599999999)), 3: (np.float64(644.0), np.float64(644.0)), 4: (np.float64(1710.11013), np.float64(1799.67295)), 5: (np.float64(4111.64443), np.float64(4452.76964)), 6: (np.float64(7485.125999999999), np.float64(7931.48429)), 7: (np.float64(2487.53043), np.float64(2568.7986600000004)), 9: (np.float64(4450.26771), np.float64(4663.99319)), 10: (np.float64(1302.45605), np.float64(1335.8737299999998)), 11: (np.float64(3576.4448500000003), np.float64(3821.34793)), 12: (np.float64(3329.4814300000003), np.float64(3554.3457799999996)), 14: (np.float64(24281.0), np.float64(24281.0)), 15: (900, 900), 16: (np.float64(2944.92384), np.float64(3125.91392)), 18: (np.float64(2677.94418), np.float64(2864.8084000000003)), 19: (np.float64(1529.4857), np.float64(1618.44008)), 21: (np.float64(4656.012790000001), np.float64(4756.08958)), 22: (np.float64(6052.0), np.float64(6052.0)), 23: (np.float64(2163.8071800000002), np.float64(2239.0955599999998)), 24: (np.float64(3589.75531), np.float64(3709.0717099999997)), 25: (np.float64(1717.97791), np.float64(1798.36825)), 26: (np.float64(4899.20767), np.float64(5089.546069999999))} ) \n",
      "boot_times :  {1: (np.float64(1447.3127599999998), np.float64(1509.4048599999999)), 3: (np.float64(644.0), np.float64(644.0)), 4: (np.float64(1710.11013), np.float64(1799.67295)), 5: (np.float64(4111.64443), np.float64(4452.76964)), 6: (np.float64(7485.125999999999), np.float64(7931.48429)), 7: (np.float64(2487.53043), np.float64(2568.7986600000004)), 9: (np.float64(4450.26771), np.float64(4663.99319)), 10: (np.float64(1302.45605), np.float64(1335.8737299999998)), 11: (np.float64(3576.4448500000003), np.float64(3821.34793)), 12: (np.float64(3329.4814300000003), np.float64(3554.3457799999996)), 14: (np.float64(24281.0), np.float64(24281.0)), 15: (900, 900), 16: (np.float64(2944.92384), np.float64(3125.91392)), 18: (np.float64(2677.94418), np.float64(2864.8084000000003)), 19: (np.float64(1529.4857), np.float64(1618.44008)), 21: (np.float64(4656.012790000001), np.float64(4756.08958)), 22: (np.float64(6052.0), np.float64(6052.0)), 23: (np.float64(2163.8071800000002), np.float64(2239.0955599999998)), 24: (np.float64(3589.75531), np.float64(3709.0717099999997)), 25: (np.float64(1717.97791), np.float64(1798.36825)), 26: (np.float64(4899.20767), np.float64(5089.546069999999))}\n",
      " intertimes :  (np.float64(1710.11013), np.float64(1799.67295))\n",
      " duration   :  1754\n",
      "line 351...  estimate_duration : 4 \t sec:  1754\n",
      "boot_times :  {1: (np.float64(1447.3127599999998), np.float64(1509.4048599999999)), 3: (np.float64(644.0), np.float64(644.0)), 4: (np.float64(1710.11013), np.float64(1799.67295)), 5: (np.float64(4111.64443), np.float64(4452.76964)), 6: (np.float64(7485.125999999999), np.float64(7931.48429)), 7: (np.float64(2487.53043), np.float64(2568.7986600000004)), 9: (np.float64(4450.26771), np.float64(4663.99319)), 10: (np.float64(1302.45605), np.float64(1335.8737299999998)), 11: (np.float64(3576.4448500000003), np.float64(3821.34793)), 12: (np.float64(3329.4814300000003), np.float64(3554.3457799999996)), 14: (np.float64(24281.0), np.float64(24281.0)), 15: (900, 900), 16: (np.float64(2944.92384), np.float64(3125.91392)), 18: (np.float64(2677.94418), np.float64(2864.8084000000003)), 19: (np.float64(1529.4857), np.float64(1618.44008)), 21: (np.float64(4656.012790000001), np.float64(4756.08958)), 22: (np.float64(6052.0), np.float64(6052.0)), 23: (np.float64(2163.8071800000002), np.float64(2239.0955599999998)), 24: (np.float64(3589.75531), np.float64(3709.0717099999997)), 25: (np.float64(1717.97791), np.float64(1798.36825)), 26: (np.float64(4899.20767), np.float64(5089.546069999999))}\n",
      " intertimes :  (np.float64(2677.94418), np.float64(2864.8084000000003))\n",
      " duration   :  2771\n",
      "line 351...  estimate_duration : 18 \t sec:  2771\n",
      "line 352...  total duration [4, 18]  4525 / 75 min \n",
      "LINE:389 (iter: 23) -- predict_mask([model], '[4, 18]' ->  '4525 < 13446 sec' ?)\n",
      "\n",
      "\n",
      "-----------------\n",
      "line 379 bert_test_city[ Delh ] (iter: 24) -- predict_ mask([model], '[4, 18]')\n",
      "LINE 309, model.predict( to_predict=[['4', '18']] ) \n",
      "LINE 315  predseq => [4, 18],  maskpos => 1\n",
      "-- predict_ mask_pos ( <model>, seq= [4, 18], maskpos= 1  )\n",
      "line 240 ... seq: [4, 18]\n",
      "      seq :  [4, 18]\n",
      "LINE 256 -- model.predict( to_predict=['4,[MASK],18'] )\n"
     ]
    },
    {
     "data": {
      "application/vnd.jupyter.widget-view+json": {
       "model_id": "9b1893003181454c8d2435b2b161a486",
       "version_major": 2,
       "version_minor": 0
      },
      "text/plain": [
       "0it [00:00, ?it/s]"
      ]
     },
     "metadata": {},
     "output_type": "display_data"
    },
    {
     "data": {
      "application/vnd.jupyter.widget-view+json": {
       "model_id": "f6f7c162bf1b474eabdbe7409256fe6b",
       "version_major": 2,
       "version_minor": 0
      },
      "text/plain": [
       "  0%|          | 0/1 [00:00<?, ?it/s]"
      ]
     },
     "metadata": {},
     "output_type": "display_data"
    },
    {
     "name": "stdout",
     "output_type": "stream",
     "text": [
      "  seq     -> [4, 18]\n",
      "  amax    -> 12\n",
      "  amaxval -> 0.738299548625946\n",
      "maskpos   => 1\n",
      "--> predict_ mask_pos (model, '[4, 18]', 1 ) --- [4, 12, 18] \n",
      "LINE 317  result: nextpoi:12 nextval:0.738299548625946 unmasked_seq:[4, 18]\n",
      "  POSSIBLE: 0.738299548625946 -> [4, 18] [4, 18]\n",
      "line 381 bert_test_city[ Delh ] (iter: 24) -- predict_ mask([model], '[4, 18]')\n",
      "line 382 nextpoi:12, maskpos:1, nextval:0.738299548625946, unmasked_seq:[4, 18]\n",
      "line 336... estimate_duration( pois ) : [4, 18] ) \n",
      "line 337... boot_times : {1: (np.float64(1447.3127599999998), np.float64(1509.4048599999999)), 3: (np.float64(644.0), np.float64(644.0)), 4: (np.float64(1710.11013), np.float64(1799.67295)), 5: (np.float64(4111.64443), np.float64(4452.76964)), 6: (np.float64(7485.125999999999), np.float64(7931.48429)), 7: (np.float64(2487.53043), np.float64(2568.7986600000004)), 9: (np.float64(4450.26771), np.float64(4663.99319)), 10: (np.float64(1302.45605), np.float64(1335.8737299999998)), 11: (np.float64(3576.4448500000003), np.float64(3821.34793)), 12: (np.float64(3329.4814300000003), np.float64(3554.3457799999996)), 14: (np.float64(24281.0), np.float64(24281.0)), 15: (900, 900), 16: (np.float64(2944.92384), np.float64(3125.91392)), 18: (np.float64(2677.94418), np.float64(2864.8084000000003)), 19: (np.float64(1529.4857), np.float64(1618.44008)), 21: (np.float64(4656.012790000001), np.float64(4756.08958)), 22: (np.float64(6052.0), np.float64(6052.0)), 23: (np.float64(2163.8071800000002), np.float64(2239.0955599999998)), 24: (np.float64(3589.75531), np.float64(3709.0717099999997)), 25: (np.float64(1717.97791), np.float64(1798.36825)), 26: (np.float64(4899.20767), np.float64(5089.546069999999))} ) \n",
      "boot_times :  {1: (np.float64(1447.3127599999998), np.float64(1509.4048599999999)), 3: (np.float64(644.0), np.float64(644.0)), 4: (np.float64(1710.11013), np.float64(1799.67295)), 5: (np.float64(4111.64443), np.float64(4452.76964)), 6: (np.float64(7485.125999999999), np.float64(7931.48429)), 7: (np.float64(2487.53043), np.float64(2568.7986600000004)), 9: (np.float64(4450.26771), np.float64(4663.99319)), 10: (np.float64(1302.45605), np.float64(1335.8737299999998)), 11: (np.float64(3576.4448500000003), np.float64(3821.34793)), 12: (np.float64(3329.4814300000003), np.float64(3554.3457799999996)), 14: (np.float64(24281.0), np.float64(24281.0)), 15: (900, 900), 16: (np.float64(2944.92384), np.float64(3125.91392)), 18: (np.float64(2677.94418), np.float64(2864.8084000000003)), 19: (np.float64(1529.4857), np.float64(1618.44008)), 21: (np.float64(4656.012790000001), np.float64(4756.08958)), 22: (np.float64(6052.0), np.float64(6052.0)), 23: (np.float64(2163.8071800000002), np.float64(2239.0955599999998)), 24: (np.float64(3589.75531), np.float64(3709.0717099999997)), 25: (np.float64(1717.97791), np.float64(1798.36825)), 26: (np.float64(4899.20767), np.float64(5089.546069999999))}\n",
      " intertimes :  (np.float64(1710.11013), np.float64(1799.67295))\n",
      " duration   :  1754\n",
      "line 351...  estimate_duration : 4 \t sec:  1754\n",
      "boot_times :  {1: (np.float64(1447.3127599999998), np.float64(1509.4048599999999)), 3: (np.float64(644.0), np.float64(644.0)), 4: (np.float64(1710.11013), np.float64(1799.67295)), 5: (np.float64(4111.64443), np.float64(4452.76964)), 6: (np.float64(7485.125999999999), np.float64(7931.48429)), 7: (np.float64(2487.53043), np.float64(2568.7986600000004)), 9: (np.float64(4450.26771), np.float64(4663.99319)), 10: (np.float64(1302.45605), np.float64(1335.8737299999998)), 11: (np.float64(3576.4448500000003), np.float64(3821.34793)), 12: (np.float64(3329.4814300000003), np.float64(3554.3457799999996)), 14: (np.float64(24281.0), np.float64(24281.0)), 15: (900, 900), 16: (np.float64(2944.92384), np.float64(3125.91392)), 18: (np.float64(2677.94418), np.float64(2864.8084000000003)), 19: (np.float64(1529.4857), np.float64(1618.44008)), 21: (np.float64(4656.012790000001), np.float64(4756.08958)), 22: (np.float64(6052.0), np.float64(6052.0)), 23: (np.float64(2163.8071800000002), np.float64(2239.0955599999998)), 24: (np.float64(3589.75531), np.float64(3709.0717099999997)), 25: (np.float64(1717.97791), np.float64(1798.36825)), 26: (np.float64(4899.20767), np.float64(5089.546069999999))}\n",
      " intertimes :  (np.float64(2677.94418), np.float64(2864.8084000000003))\n",
      " duration   :  2771\n",
      "line 351...  estimate_duration : 18 \t sec:  2771\n",
      "line 352...  total duration [4, 18]  4525 / 75 min \n",
      "LINE:389 (iter: 24) -- predict_mask([model], '[4, 18]' ->  '4525 < 13446 sec' ?)\n",
      "\n",
      "\n",
      "-----------------\n",
      "line 379 bert_test_city[ Delh ] (iter: 25) -- predict_ mask([model], '[4, 18]')\n",
      "LINE 309, model.predict( to_predict=[['4', '18']] ) \n",
      "LINE 315  predseq => [4, 18],  maskpos => 1\n",
      "-- predict_ mask_pos ( <model>, seq= [4, 18], maskpos= 1  )\n",
      "line 240 ... seq: [4, 18]\n",
      "      seq :  [4, 18]\n",
      "LINE 256 -- model.predict( to_predict=['4,[MASK],18'] )\n"
     ]
    },
    {
     "data": {
      "application/vnd.jupyter.widget-view+json": {
       "model_id": "e25afb1b2dcb4995856ae801546715fc",
       "version_major": 2,
       "version_minor": 0
      },
      "text/plain": [
       "0it [00:00, ?it/s]"
      ]
     },
     "metadata": {},
     "output_type": "display_data"
    },
    {
     "data": {
      "application/vnd.jupyter.widget-view+json": {
       "model_id": "add9370ef27f46a4b1301fe115051bb6",
       "version_major": 2,
       "version_minor": 0
      },
      "text/plain": [
       "  0%|          | 0/1 [00:00<?, ?it/s]"
      ]
     },
     "metadata": {},
     "output_type": "display_data"
    },
    {
     "name": "stdout",
     "output_type": "stream",
     "text": [
      "  seq     -> [4, 18]\n",
      "  amax    -> 12\n",
      "  amaxval -> 0.738299548625946\n",
      "maskpos   => 1\n",
      "--> predict_ mask_pos (model, '[4, 18]', 1 ) --- [4, 12, 18] \n",
      "LINE 317  result: nextpoi:12 nextval:0.738299548625946 unmasked_seq:[4, 18]\n",
      "  POSSIBLE: 0.738299548625946 -> [4, 18] [4, 18]\n",
      "line 381 bert_test_city[ Delh ] (iter: 25) -- predict_ mask([model], '[4, 18]')\n",
      "line 382 nextpoi:12, maskpos:1, nextval:0.738299548625946, unmasked_seq:[4, 18]\n",
      "line 336... estimate_duration( pois ) : [4, 18] ) \n",
      "line 337... boot_times : {1: (np.float64(1447.3127599999998), np.float64(1509.4048599999999)), 3: (np.float64(644.0), np.float64(644.0)), 4: (np.float64(1710.11013), np.float64(1799.67295)), 5: (np.float64(4111.64443), np.float64(4452.76964)), 6: (np.float64(7485.125999999999), np.float64(7931.48429)), 7: (np.float64(2487.53043), np.float64(2568.7986600000004)), 9: (np.float64(4450.26771), np.float64(4663.99319)), 10: (np.float64(1302.45605), np.float64(1335.8737299999998)), 11: (np.float64(3576.4448500000003), np.float64(3821.34793)), 12: (np.float64(3329.4814300000003), np.float64(3554.3457799999996)), 14: (np.float64(24281.0), np.float64(24281.0)), 15: (900, 900), 16: (np.float64(2944.92384), np.float64(3125.91392)), 18: (np.float64(2677.94418), np.float64(2864.8084000000003)), 19: (np.float64(1529.4857), np.float64(1618.44008)), 21: (np.float64(4656.012790000001), np.float64(4756.08958)), 22: (np.float64(6052.0), np.float64(6052.0)), 23: (np.float64(2163.8071800000002), np.float64(2239.0955599999998)), 24: (np.float64(3589.75531), np.float64(3709.0717099999997)), 25: (np.float64(1717.97791), np.float64(1798.36825)), 26: (np.float64(4899.20767), np.float64(5089.546069999999))} ) \n",
      "boot_times :  {1: (np.float64(1447.3127599999998), np.float64(1509.4048599999999)), 3: (np.float64(644.0), np.float64(644.0)), 4: (np.float64(1710.11013), np.float64(1799.67295)), 5: (np.float64(4111.64443), np.float64(4452.76964)), 6: (np.float64(7485.125999999999), np.float64(7931.48429)), 7: (np.float64(2487.53043), np.float64(2568.7986600000004)), 9: (np.float64(4450.26771), np.float64(4663.99319)), 10: (np.float64(1302.45605), np.float64(1335.8737299999998)), 11: (np.float64(3576.4448500000003), np.float64(3821.34793)), 12: (np.float64(3329.4814300000003), np.float64(3554.3457799999996)), 14: (np.float64(24281.0), np.float64(24281.0)), 15: (900, 900), 16: (np.float64(2944.92384), np.float64(3125.91392)), 18: (np.float64(2677.94418), np.float64(2864.8084000000003)), 19: (np.float64(1529.4857), np.float64(1618.44008)), 21: (np.float64(4656.012790000001), np.float64(4756.08958)), 22: (np.float64(6052.0), np.float64(6052.0)), 23: (np.float64(2163.8071800000002), np.float64(2239.0955599999998)), 24: (np.float64(3589.75531), np.float64(3709.0717099999997)), 25: (np.float64(1717.97791), np.float64(1798.36825)), 26: (np.float64(4899.20767), np.float64(5089.546069999999))}\n",
      " intertimes :  (np.float64(1710.11013), np.float64(1799.67295))\n",
      " duration   :  1754\n",
      "line 351...  estimate_duration : 4 \t sec:  1754\n",
      "boot_times :  {1: (np.float64(1447.3127599999998), np.float64(1509.4048599999999)), 3: (np.float64(644.0), np.float64(644.0)), 4: (np.float64(1710.11013), np.float64(1799.67295)), 5: (np.float64(4111.64443), np.float64(4452.76964)), 6: (np.float64(7485.125999999999), np.float64(7931.48429)), 7: (np.float64(2487.53043), np.float64(2568.7986600000004)), 9: (np.float64(4450.26771), np.float64(4663.99319)), 10: (np.float64(1302.45605), np.float64(1335.8737299999998)), 11: (np.float64(3576.4448500000003), np.float64(3821.34793)), 12: (np.float64(3329.4814300000003), np.float64(3554.3457799999996)), 14: (np.float64(24281.0), np.float64(24281.0)), 15: (900, 900), 16: (np.float64(2944.92384), np.float64(3125.91392)), 18: (np.float64(2677.94418), np.float64(2864.8084000000003)), 19: (np.float64(1529.4857), np.float64(1618.44008)), 21: (np.float64(4656.012790000001), np.float64(4756.08958)), 22: (np.float64(6052.0), np.float64(6052.0)), 23: (np.float64(2163.8071800000002), np.float64(2239.0955599999998)), 24: (np.float64(3589.75531), np.float64(3709.0717099999997)), 25: (np.float64(1717.97791), np.float64(1798.36825)), 26: (np.float64(4899.20767), np.float64(5089.546069999999))}\n",
      " intertimes :  (np.float64(2677.94418), np.float64(2864.8084000000003))\n",
      " duration   :  2771\n",
      "line 351...  estimate_duration : 18 \t sec:  2771\n",
      "line 352...  total duration [4, 18]  4525 / 75 min \n",
      "LINE:389 (iter: 25) -- predict_mask([model], '[4, 18]' ->  '4525 < 13446 sec' ?)\n",
      " (seqID:434) ->  history : [ 4  9  7 18]\n",
      " (seqID:434) ->  predseq : [4, 18]\n",
      " (seqID:434) => recall:    50.0 %\n",
      " (seqID:434) => precision: 100.0 %\n",
      " (seqID:434) => f1: 66.66666666666666 %\t recall: 50.0 \t precision: 100.0\n"
     ]
    },
    {
     "ename": "NameError",
     "evalue": "name 'bert_test_city' is not defined",
     "output_type": "error",
     "traceback": [
      "\u001b[1;31m---------------------------------------------------------------------------\u001b[0m",
      "\u001b[1;31mNameError\u001b[0m                                 Traceback (most recent call last)",
      "Cell \u001b[1;32mIn[4], line 15\u001b[0m\n\u001b[0;32m     12\u001b[0m model \u001b[38;5;241m=\u001b[39m bertseq2seq_train_city(city, pois, userVisits, testVisits, boot_times, epochs)\n\u001b[0;32m     14\u001b[0m \u001b[38;5;66;03m# Test the model to get recommendations and evaluation summary\u001b[39;00m\n\u001b[1;32m---> 15\u001b[0m summary \u001b[38;5;241m=\u001b[39m \u001b[43mbert_test_city\u001b[49m(city, pois, model, testVisits, boot_times)\n\u001b[0;32m     17\u001b[0m \u001b[38;5;66;03m# Assuming summary contains 'actual' and 'predicted' keys for evaluation\u001b[39;00m\n\u001b[0;32m     18\u001b[0m actual_POIs \u001b[38;5;241m=\u001b[39m summary[\u001b[38;5;124m'\u001b[39m\u001b[38;5;124mactual\u001b[39m\u001b[38;5;124m'\u001b[39m]  \u001b[38;5;66;03m# Replace with the correct key from summary if different\u001b[39;00m\n",
      "\u001b[1;31mNameError\u001b[0m: name 'bert_test_city' is not defined"
     ]
    }
   ],
   "source": [
    "from Bert_POI_seq2seq import load_files, bertseq2seq_train_city\n",
    "from sklearn.metrics import accuracy_score, precision_score, recall_score, f1_score\n",
    "\n",
    "# Specify the city and epochs\n",
    "city = \"Delh\" \n",
    "epochs = 2  \n",
    "\n",
    "# Load data for the specified city\n",
    "pois, userVisits, testVisits, boot_times = load_files(city)\n",
    "\n",
    "# Train the sequence-to-sequence model with all required arguments\n",
    "model = bertseq2seq_train_city(city, pois, userVisits, testVisits, boot_times, epochs)\n",
    "\n",
    "# Test the model to get recommendations and evaluation summary\n",
    "summary = bert_test_city(city, pois, model, testVisits, boot_times)\n",
    "\n",
    "# Assuming summary contains 'actual' and 'predicted' keys for evaluation\n",
    "actual_POIs = summary['actual']  # Replace with the correct key from summary if different\n",
    "predicted_POIs = summary['predicted']  # Replace with the correct key from summary if different\n",
    "\n",
    "# Calculate the performance metrics\n",
    "accuracy = accuracy_score(actual_POIs, predicted_POIs)\n",
    "precision = precision_score(actual_POIs, predicted_POIs, average='weighted')\n",
    "recall = recall_score(actual_POIs, predicted_POIs, average='weighted')\n",
    "f1 = f1_score(actual_POIs, predicted_POIs, average='weighted')\n",
    "\n",
    "# Print the evaluation metrics\n",
    "print(f'Accuracy: {accuracy}')\n",
    "print(f'Precision: {precision}')\n",
    "print(f'Recall: {recall}')\n",
    "print(f'F1 Score: {f1}')"
   ]
  },
  {
   "cell_type": "code",
   "execution_count": null,
   "id": "de20f128-d258-4378-8d7c-4e49ea2cf1ae",
   "metadata": {},
   "outputs": [],
   "source": []
  },
  {
   "cell_type": "code",
   "execution_count": null,
   "id": "e8dc9a45-9b41-4288-81c4-18733aff42c2",
   "metadata": {},
   "outputs": [],
   "source": []
  }
 ],
 "metadata": {
  "kernelspec": {
   "display_name": "Python 3 (ipykernel)",
   "language": "python",
   "name": "python3"
  },
  "language_info": {
   "codemirror_mode": {
    "name": "ipython",
    "version": 3
   },
   "file_extension": ".py",
   "mimetype": "text/x-python",
   "name": "python",
   "nbconvert_exporter": "python",
   "pygments_lexer": "ipython3",
   "version": "3.12.4"
  }
 },
 "nbformat": 4,
 "nbformat_minor": 5
}
